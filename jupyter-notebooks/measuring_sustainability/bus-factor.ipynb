{
 "cells": [
  {
   "attachments": {},
   "cell_type": "markdown",
   "metadata": {},
   "source": [
    "## Bus Factor: How high is the risk to a project should the most active people leave?\n",
    "\n",
    "Bus factor quantifies the amount of contributors a project can afford to lose before it stalls by hypothetically having these people get run over a bus. Typically, it is the smallest number of people that make up 50% of contributions. \n",
    "\n",
    "In this notebook, we analyze bus factor according to a user-inputted percent of contributions with the option to parameterize by a time window and step size. We explore contributors including but not limited to individuals **1) making commits, 2) creating issues, and 3) creating, reviewing, and engaging in conversation around PRs**.\n",
    "\n",
    "**Note:** In the notebook, we use the Ansible repository as an example but our analyses can be replicated with any GitHub repository."
   ]
  },
  {
   "attachments": {},
   "cell_type": "markdown",
   "metadata": {},
   "source": [
    "### Table of Contents\n",
    "- [1. Connect to Augur database](#connect-to-augur-database)\n",
    "- [2. Query data](#query-data)\n",
    "- [3. Calculate bus factor](#calculate-bus-factor)\n",
    "- [4. Bus factor by number of commits](#bus-factor-by-number-of-commits)\n",
    "- [5. Bus factor by number of issues](#bus-factor-by-number-of-issues)\n",
    "- [6. Bus factor by number of PRs](#bus-factor-by-number-of-prs)\n",
    "- [7. Conclusion](#conclusion)"
   ]
  },
  {
   "cell_type": "code",
   "execution_count": 1,
   "metadata": {},
   "outputs": [],
   "source": [
    "!pip install -q sqlalchemy"
   ]
  },
  {
   "cell_type": "code",
   "execution_count": 2,
   "metadata": {},
   "outputs": [],
   "source": [
    "# import the required libraries and packages\n",
    "import sqlalchemy as salc\n",
    "import json\n",
    "import os\n",
    "\n",
    "import psycopg2\n",
    "import pandas as pd \n",
    "import numpy as np\n",
    "from scipy import stats\n",
    "\n",
    "import datetime as dt\n",
    "from dateutil.relativedelta import relativedelta\n",
    "\n",
    "import plotly.express as px\n",
    "from plotly.subplots import make_subplots\n",
    "import plotly.graph_objects as go\n",
    "\n",
    "import random\n",
    "\n",
    "import warnings\n",
    "warnings.filterwarnings('ignore')"
   ]
  },
  {
   "attachments": {},
   "cell_type": "markdown",
   "metadata": {},
   "source": [
    "## Connect to Augur database"
   ]
  },
  {
   "cell_type": "code",
   "execution_count": 3,
   "metadata": {},
   "outputs": [],
   "source": [
    "# connect to db\n",
    "import json\n",
    "import os\n",
    "\n",
    "paths = [\"../../comm_cage.json\", \"comm_cage.json\", \"../../config.json\", \"../config.json\", \"config.json\"]\n",
    "\n",
    "for path in paths:\n",
    "    if os.path.exists(path):\n",
    "        with open(path) as config_file:\n",
    "            config = json.load(config_file)\n",
    "        break\n",
    "else:\n",
    "    raise FileNotFoundError(f\"None of the config files found: {paths}\")\n",
    "        \n",
    "database_connection_string = 'postgresql+psycopg2://{}:{}@{}:{}/{}'.format(config['user'], config['password'], config['host'], config['port'], config['database'])\n",
    "\n",
    "dbschema='augur_data'\n",
    "engine = salc.create_engine(\n",
    "    database_connection_string,\n",
    "    connect_args={'options': '-csearch_path={}'.format(dbschema)})"
   ]
  },
  {
   "attachments": {},
   "cell_type": "markdown",
   "metadata": {},
   "source": [
    "## Query data\n",
    "Let's first define some functions that will help us organize the data in a data frame, remove contributors that are potential bots, and count the number of contributions each individual has made.  "
   ]
  },
  {
   "cell_type": "code",
   "execution_count": 4,
   "metadata": {},
   "outputs": [],
   "source": [
    "def get_df(repo_query):\n",
    "    '''\n",
    "    :param repo_query: A string representing a SQL statement\n",
    "    \n",
    "    returns a DataFrame where the columns are contrb_id, their contribution type, and the commit date \n",
    "    '''\n",
    "    df = pd.read_sql_query(repo_query, con=engine.connect())\n",
    "    df = df.reset_index()\n",
    "    if 'date' in df.columns:\n",
    "        df['date'] = pd.to_datetime(df['date'])\n",
    "    df.drop('index', axis=1, inplace=True)\n",
    "    return df"
   ]
  },
  {
   "cell_type": "code",
   "execution_count": 5,
   "metadata": {},
   "outputs": [],
   "source": [
    "def filter_rows(df, patterns=['bot'], colname='email'):\n",
    "    '''\n",
    "    :param df: A DataFrame to screen column values out of\n",
    "    :param patterns: A list of strings or regular expression, patterns to be screened out\n",
    "    :param colname: A string representing the name of the column to screen patterns out of\n",
    "\n",
    "    returns a DataFrame with columns that matched, and column used to match, dropped.\n",
    "    '''\n",
    "    # filter for rows in df where the column value contains any of the specifed patterns\n",
    "    return df[~df[colname].isin(patterns)]\n"
   ]
  },
  {
   "cell_type": "code",
   "execution_count": 6,
   "metadata": {},
   "outputs": [],
   "source": [
    "def count_cntrbs(df, contribution_type, patterns=['bot'], colname='email', ascending=False):\n",
    "    '''\n",
    "    :param df: A DataFrame \n",
    "    :param contribution_type: A string indicating the type of contribution\n",
    "    :param patterns: A list representing of strings or regular expression, patterns to be screened out\n",
    "    :param colname: A string representing the name of column to screen patterns out of\n",
    "    :param descending: A boolean indicating the order in which the returned df columns are sorted according to bus factor, \n",
    "                      by default it is set to False which corresponds to descending order\n",
    "\n",
    "    returns a DataFrame of cntrb_id's and a count of each of their contributions, sorted\n",
    "    '''\n",
    "    # remove potential bots\n",
    "    df = filter_rows(df, patterns, colname)\n",
    "    # count the number of contributions per contributor \n",
    "    df = (df.groupby('cntrb_id')[contribution_type].count()).to_frame()\n",
    "    # sort rows according to amount of contributions\n",
    "    df.sort_values(by=contribution_type, ascending=ascending, inplace=True)\n",
    "    df = df.reset_index()\n",
    "    return df"
   ]
  },
  {
   "attachments": {},
   "cell_type": "markdown",
   "metadata": {},
   "source": [
    "## Calculate bus factor\n",
    "\n",
    "While the bus factor is typically defined using 50% as threshold for the percent of contributors a project can lose before it stalls, we're interested in a range of thresholds. In the following function `calc_bus_factor`, we've added a parameter `threshold` to do so.\n",
    "\n",
    "Additionally, we're interested in counting the number of outliers i.e individuals who make contributions significantly above average. In our implementation, we define outliers as any contributors with contributions that are 2 or more standard deviations above the mean number of commits."
   ]
  },
  {
   "cell_type": "code",
   "execution_count": 7,
   "metadata": {},
   "outputs": [],
   "source": [
    "def calc_bus_factor(df, contribution_type, threshold):\n",
    "    '''\n",
    "    :param df: A DataFrame of cntrb_id's and contributions, sorted in descending order of contributions\n",
    "    :param contribution_type: A String indicating the activity of interest\n",
    "    :param threshold: A double indicating the cut off threshold for bus factor\n",
    "\n",
    "    A contributor is ranked by how large of a proportion of all work they did - \n",
    "    if someone authored 350 of 1000 commits, for instance, they'll account for 35% \n",
    "    of the commits made. The list of percent contributions is ranked in descending order. \n",
    "    The ordered list is greedily processed such that the smallest list of contributors is \n",
    "    found that accounts for threshold percent of the work done for a given contribution type.\n",
    "   \n",
    "    returns the bus factor, cntrb_id's and number of outliers for the given contribution type\n",
    "    '''\n",
    "    # identify and count outliers which we define as 2 standard deviations or more above from the mean\n",
    "    num_outliers = len(df[(stats.zscore(df[contribution_type]) > 2)])\n",
    "  \n",
    "    # calculate total number of contributions\n",
    "    t_cntrbs = df[contribution_type].sum()\n",
    "\n",
    "    # initilize empty list of to store contibutor ids for those who make up the bus factor\n",
    "    cntrb_ids = []\n",
    "    # initialize cumulative percent of contributions\n",
    "    cum_per = 0\n",
    "\n",
    "    # add column name cntrbs to calculate the ratio of activity to the total amount of said activity\n",
    "    df[\"cntrbs\"] = df[contribution_type] / t_cntrbs\n",
    "    df = df.reset_index()\n",
    "    \n",
    "    # iterate through each row in df and create a running sum of percent contributions\n",
    "    for _, row in df.iterrows():\n",
    "        cum_per += row['cntrbs']\n",
    "        cntrb_ids.append(row['cntrb_id']) # add contributor id to list \n",
    "        # if the cumulative percent of contributions is greater than or equal to the threshold, break\n",
    "        if cum_per  >= threshold:\n",
    "            break\n",
    "    \n",
    "    # calculate the bus factor\n",
    "    bus_factor = len(cntrb_ids)\n",
    "    return bus_factor, cntrb_ids, num_outliers"
   ]
  },
  {
   "attachments": {},
   "cell_type": "markdown",
   "metadata": {},
   "source": [
    "The bus factor can fluctuate over the lifetime of the project. Thus, we're interested in the analyzing the bus factor in a specific window of time and seeing how it evolves over different periods of time. We prioritize the most recent information so we create sliding windows from the end date up to and including the start date. If there is any remaining time between the start and end date, we calculate the bus factor for that slice of time, even if it is less than the window width."
   ]
  },
  {
   "cell_type": "code",
   "execution_count": 8,
   "metadata": {},
   "outputs": [],
   "source": [
    "def bus_factor_by_windows(df, contribution_type, window_width, step_size, threshold, start_date=None, end_date=None):\n",
    "    ''' \n",
    "    :param df: A DataFrame of cntrb_id's, contributions, and dates\n",
    "    :param contribution_type: A String indicating the activity of interest\n",
    "    :param window_width: An integer representing the window in months for which the bus factor is calculated. \n",
    "    :param step_size:  An integer representing how many months the sliding window advances each iteration\n",
    "    :param threshold: A double indicating the cut off threshold for bus factor\n",
    "    :param start_date: A string representing start date of the interval, by default \n",
    "    :param end_date: A string representing the end data of the interval\n",
    "    \n",
    "    returns a DataFrame of period to, period from, cntrb_id, and bus factor for the specified window_width and step_size\n",
    "    '''\n",
    "    # if the start date and end date are null, set them to the first and last commit date\n",
    "    if start_date == None:\n",
    "        start_date = str(min(df['date']).date())\n",
    "       \n",
    "    if end_date == None:\n",
    "        end_date = str(max(df['date']).date())\n",
    "    \n",
    "    start_date = dt.datetime.strptime(start_date, \"%Y-%m-%d\")\n",
    "    end_date = dt.datetime.strptime(end_date, \"%Y-%m-%d\")\n",
    "    \n",
    "    # if the window width is greater than time spanned by start date and end date, raise ValueError\n",
    "    # convert the difference between the end date and start date into months\n",
    "    delta_year = (end_date.year - start_date.year) \n",
    "    delta_month = (delta_year * 12) + (end_date.month - start_date.month)\n",
    "    if window_width > delta_month:\n",
    "         raise ValueError('The window width cannot be greater than the time spanned by the start and end date.')\n",
    "    \n",
    "    # if the step size is greater than window width, raise ValueError\n",
    "    if step_size > window_width:\n",
    "        raise ValueError('The step size cannot be greater than the window width.')\n",
    "     \n",
    "    window_width=relativedelta(months=window_width)\n",
    "    step_size=relativedelta(months=step_size)\n",
    "\n",
    "    bfs=[]\n",
    "    cntrb_ids = []\n",
    "    period_from = []\n",
    "    period_to = [] \n",
    "\n",
    "    # calculate bus factor for each window, starting from the end date\n",
    "    while True:\n",
    "        period_from.append((end_date - window_width).strftime('%Y-%m-%d'))\n",
    "        period_to.append(end_date.strftime('%Y-%m-%d'))\n",
    "\n",
    "        # index df such that its rows are between the end date - window width and end date\n",
    "        mask = (df['date'] >= end_date - window_width) & (df['date'] <= end_date)\n",
    "        count_cntrbs_window = count_cntrbs(df.loc[mask], contribution_type)\n",
    "\n",
    "        # calculate bus factor\n",
    "        bus_factor, cntrb_id, num_outliers = calc_bus_factor(count_cntrbs_window, contribution_type, threshold)\n",
    "        \n",
    "        bfs.append(bus_factor)\n",
    "        \n",
    "        # shift the end_date by the step size\n",
    "        end_date -= step_size\n",
    "        \n",
    "        # get the bus factor for the remaining slice, even if it is smaller than the window width\n",
    "        # set flag to indicate if the remaining slice has not been calculated yet\n",
    "        remaining_slice = False\n",
    "        if end_date - window_width <= start_date:\n",
    "            # calculate the remaining time between the current end date and start date, which will be the new window width\n",
    "            last_window_width = end_date - start_date\n",
    "            period_from.append((end_date - last_window_width).strftime('%Y-%m-%d'))\n",
    "            period_to.append(end_date.strftime('%Y-%m-%d'))\n",
    "\n",
    "            # index df such that its rows are betweeen the end_date - window_width and end date\n",
    "            remaining_mask = (df['date'] >= end_date - last_window_width) & (df['date'] <= end_date) \n",
    "            count_cntrbs_last_window = count_cntrbs(df.loc[remaining_mask], contribution_type)\n",
    "            # calculate bus factor for the remaining slice\n",
    "            bus_factor, cntrb_id, num_outliers = calc_bus_factor(count_cntrbs_last_window, contribution_type, threshold)\n",
    "            bfs.append(bus_factor)\n",
    "            # set flag to True, indicating that the bus factor for the remaining slice has been calculated\n",
    "            remaining_slice = True\n",
    "\n",
    "        # exit loop if the remaining slice has been calculated\n",
    "        if remaining_slice:\n",
    "            break\n",
    "        \n",
    "    # create a dataframe with period to, period from, bus factor, and cntrb_ids as columns\n",
    "    df = pd.DataFrame(list(zip(period_from, period_to, bfs)), columns = ['period_from', 'period_to', 'bus_factor'])\n",
    "    return df"
   ]
  },
  {
   "attachments": {},
   "cell_type": "markdown",
   "metadata": {},
   "source": [
    "We often visualize data to get a better of understanding of it. Let's plot a line chart depicting the data generated by `bus_factor_by_windows`."
   ]
  },
  {
   "cell_type": "code",
   "execution_count": 9,
   "metadata": {},
   "outputs": [],
   "source": [
    "def plot_line_graph(df, title, xlabel, ylabel, step_size):\n",
    "    '''\n",
    "    :param df: A DataFrame that has period_from and bus_factor as its columns\n",
    "    :param title: A String describing the context of the plot\n",
    "    :param xlabel: A String assigned to the x-axis label\n",
    "    :param ylabel: A String assigned to the y-axis label\n",
    "    :param step_size: An integer representing how many months the sliding window advances each iteration\n",
    "\n",
    "    returns a line graph of bus factor vs time\n",
    "    '''\n",
    "    fig = px.line(df, x=\"period_from\", y=\"bus_factor\", custom_data=[\"period_to\"], text=\"bus_factor\", width=800, height=500)\n",
    "    \n",
    "    fig.update_xaxes(fixedrange=True, tickformat=\"%B %Y\", tickangle=45, dtick=f\"M{step_size}\")\n",
    "\n",
    "    start_date = min(df['period_from'])\n",
    "    fig.update_layout(title={'text':title,'x':0.5, 'xanchor':'center'},\n",
    "                   xaxis_title=xlabel,\n",
    "                   xaxis=dict(tick0=start_date),\n",
    "                   yaxis_title=ylabel \n",
    "                )\n",
    "    \n",
    "    hovertemplate=\"<br>\".join([\"period from: %{x: %m-%d}\", \"period to: %{customdata[0]: %m-%d}\"])\n",
    "    fig.update_traces(textposition=\"top right\", hovertemplate=hovertemplate, line_color=\"lightgreen\")\n",
    "\n",
    "    fig.show()"
   ]
  },
  {
   "attachments": {},
   "cell_type": "markdown",
   "metadata": {},
   "source": [
    "Now that we have all of our functions defined, let's put them to practice!"
   ]
  },
  {
   "attachments": {},
   "cell_type": "markdown",
   "metadata": {},
   "source": [
    "## Bus factor by number of commits"
   ]
  },
  {
   "cell_type": "code",
   "execution_count": 12,
   "metadata": {},
   "outputs": [
    {
     "data": {
      "application/vnd.jupyter.widget-view+json": {
       "model_id": "0087c435bacd44c3a28f705e056172cc",
       "version_major": 2,
       "version_minor": 0
      },
      "text/plain": [
       "VBox(children=(Text(value='augur', description='Repo name:', placeholder='Enter repository name'), Text(value=…"
      ]
     },
     "metadata": {},
     "output_type": "display_data"
    }
   ],
   "source": [
    "import ipywidgets as widgets\n",
    "from IPython.display import display, clear_output\n",
    "\n",
    "repo_name_w = widgets.Text(\n",
    "    value='augur',\n",
    "    placeholder='Enter repository name',\n",
    "    description='Repo name:',\n",
    ")\n",
    "repo_statement_w = widgets.Text(\n",
    "    value='[1]',\n",
    "    placeholder='Enter repo statement (e.g. [28336])',\n",
    "    description='Statement:',\n",
    ")\n",
    "submit_btn = widgets.Button(description='Use these', button_style='primary')\n",
    "out = widgets.Output()\n",
    "\n",
    "def on_submit(_):\n",
    "    with out:\n",
    "        clear_output()\n",
    "        repo_name = repo_name_w.value.strip()\n",
    "        repo_statement = repo_statement_w.value.strip(\"[]\")\n",
    "        # store for later cells\n",
    "        globals()['repo_name'] = repo_name\n",
    "        globals()['repo_statement'] = repo_statement\n",
    "        print(f\"✅ Repo name: {repo_name}\")\n",
    "        print(f\"✅ Repo statement: {repo_statement}\")\n",
    "\n",
    "submit_btn.on_click(on_submit)\n",
    "display(widgets.VBox([repo_name_w, repo_statement_w, submit_btn, out]))"
   ]
  },
  {
   "cell_type": "code",
   "execution_count": 13,
   "metadata": {},
   "outputs": [],
   "source": [
    "#repo_name = 'Ansible'\n",
    "#repo_statement = str([28336])\n",
    "#repo_statement = repo_statement[1:-1]\n",
    "\n",
    "repo_query = salc.sql.text(f\"\"\"\n",
    "                SELECT\n",
    "                   DISTINCT c.cmt_commit_hash AS commit,\n",
    "                   ca.cntrb_id, \n",
    "                   c.cmt_author_email AS email,\n",
    "                   c.cmt_author_date AS date        \n",
    "                FROM\n",
    "                    contributors_aliases ca\n",
    "                JOIN \n",
    "                    commits c \n",
    "                ON \n",
    "                    c.cmt_committer_email = ca.alias_email\n",
    "                WHERE\n",
    "                    c.repo_id in({repo_statement})\n",
    "               \"\"\")"
   ]
  },
  {
   "cell_type": "code",
   "execution_count": 14,
   "metadata": {},
   "outputs": [
    {
     "data": {
      "text/html": [
       "<div>\n",
       "<style scoped>\n",
       "    .dataframe tbody tr th:only-of-type {\n",
       "        vertical-align: middle;\n",
       "    }\n",
       "\n",
       "    .dataframe tbody tr th {\n",
       "        vertical-align: top;\n",
       "    }\n",
       "\n",
       "    .dataframe thead th {\n",
       "        text-align: right;\n",
       "    }\n",
       "</style>\n",
       "<table border=\"1\" class=\"dataframe\">\n",
       "  <thead>\n",
       "    <tr style=\"text-align: right;\">\n",
       "      <th></th>\n",
       "      <th>commit</th>\n",
       "      <th>cntrb_id</th>\n",
       "      <th>email</th>\n",
       "      <th>date</th>\n",
       "    </tr>\n",
       "  </thead>\n",
       "  <tbody>\n",
       "    <tr>\n",
       "      <th>0</th>\n",
       "      <td>01c88187ea792cb2080620b2a6b8c8e6d45f05bd</td>\n",
       "      <td>0103aa24-2600-0000-0000-000000000000</td>\n",
       "      <td>61482022+ABrain7710@users.noreply.github.com</td>\n",
       "      <td>2022-07-19</td>\n",
       "    </tr>\n",
       "    <tr>\n",
       "      <th>1</th>\n",
       "      <td>7f983e61df14914040a908f00a859fe5373d00ff</td>\n",
       "      <td>0103aa24-2600-0000-0000-000000000000</td>\n",
       "      <td>61482022+ABrain7710@users.noreply.github.com</td>\n",
       "      <td>2022-07-25</td>\n",
       "    </tr>\n",
       "    <tr>\n",
       "      <th>2</th>\n",
       "      <td>fcc59cc107d86ab7360631cb37e8a76bdd7a048c</td>\n",
       "      <td>0101e100-7300-0000-0000-000000000000</td>\n",
       "      <td>ccarterlandis@pm.me</td>\n",
       "      <td>2020-01-17</td>\n",
       "    </tr>\n",
       "    <tr>\n",
       "      <th>3</th>\n",
       "      <td>b0ed5181e6a1e7dd1362b25cfe8181721d7a1299</td>\n",
       "      <td>010177f7-2400-0000-0000-000000000000</td>\n",
       "      <td>imilarsky@gmail.com</td>\n",
       "      <td>2022-06-23</td>\n",
       "    </tr>\n",
       "    <tr>\n",
       "      <th>4</th>\n",
       "      <td>f74ad33a2228d4e17df64ca2449058f36d218de6</td>\n",
       "      <td>0102b055-e200-0000-0000-000000000000</td>\n",
       "      <td>michaelwoodruffdev@gmail.com</td>\n",
       "      <td>2020-02-01</td>\n",
       "    </tr>\n",
       "  </tbody>\n",
       "</table>\n",
       "</div>"
      ],
      "text/plain": [
       "                                     commit  \\\n",
       "0  01c88187ea792cb2080620b2a6b8c8e6d45f05bd   \n",
       "1  7f983e61df14914040a908f00a859fe5373d00ff   \n",
       "2  fcc59cc107d86ab7360631cb37e8a76bdd7a048c   \n",
       "3  b0ed5181e6a1e7dd1362b25cfe8181721d7a1299   \n",
       "4  f74ad33a2228d4e17df64ca2449058f36d218de6   \n",
       "\n",
       "                               cntrb_id  \\\n",
       "0  0103aa24-2600-0000-0000-000000000000   \n",
       "1  0103aa24-2600-0000-0000-000000000000   \n",
       "2  0101e100-7300-0000-0000-000000000000   \n",
       "3  010177f7-2400-0000-0000-000000000000   \n",
       "4  0102b055-e200-0000-0000-000000000000   \n",
       "\n",
       "                                          email       date  \n",
       "0  61482022+ABrain7710@users.noreply.github.com 2022-07-19  \n",
       "1  61482022+ABrain7710@users.noreply.github.com 2022-07-25  \n",
       "2                           ccarterlandis@pm.me 2020-01-17  \n",
       "3                           imilarsky@gmail.com 2022-06-23  \n",
       "4                  michaelwoodruffdev@gmail.com 2020-02-01  "
      ]
     },
     "metadata": {},
     "output_type": "display_data"
    }
   ],
   "source": [
    "# organize commits data in a DataFrame\n",
    "conn_commits = get_df(repo_query)\n",
    "display(conn_commits.head())"
   ]
  },
  {
   "cell_type": "code",
   "execution_count": 15,
   "metadata": {},
   "outputs": [
    {
     "data": {
      "text/html": [
       "<div>\n",
       "<style scoped>\n",
       "    .dataframe tbody tr th:only-of-type {\n",
       "        vertical-align: middle;\n",
       "    }\n",
       "\n",
       "    .dataframe tbody tr th {\n",
       "        vertical-align: top;\n",
       "    }\n",
       "\n",
       "    .dataframe thead th {\n",
       "        text-align: right;\n",
       "    }\n",
       "</style>\n",
       "<table border=\"1\" class=\"dataframe\">\n",
       "  <thead>\n",
       "    <tr style=\"text-align: right;\">\n",
       "      <th></th>\n",
       "      <th>cntrb_id</th>\n",
       "      <th>commit</th>\n",
       "    </tr>\n",
       "  </thead>\n",
       "  <tbody>\n",
       "    <tr>\n",
       "      <th>0</th>\n",
       "      <td>010005cb-c700-0000-0000-000000000000</td>\n",
       "      <td>2906</td>\n",
       "    </tr>\n",
       "    <tr>\n",
       "      <th>1</th>\n",
       "      <td>01012f1b-7f00-0000-0000-000000000000</td>\n",
       "      <td>2470</td>\n",
       "    </tr>\n",
       "    <tr>\n",
       "      <th>2</th>\n",
       "      <td>010177f7-2400-0000-0000-000000000000</td>\n",
       "      <td>1618</td>\n",
       "    </tr>\n",
       "    <tr>\n",
       "      <th>3</th>\n",
       "      <td>0103aa24-2600-0000-0000-000000000000</td>\n",
       "      <td>1407</td>\n",
       "    </tr>\n",
       "    <tr>\n",
       "      <th>4</th>\n",
       "      <td>01013cd8-ae00-0000-0000-000000000000</td>\n",
       "      <td>839</td>\n",
       "    </tr>\n",
       "  </tbody>\n",
       "</table>\n",
       "</div>"
      ],
      "text/plain": [
       "                               cntrb_id  commit\n",
       "0  010005cb-c700-0000-0000-000000000000    2906\n",
       "1  01012f1b-7f00-0000-0000-000000000000    2470\n",
       "2  010177f7-2400-0000-0000-000000000000    1618\n",
       "3  0103aa24-2600-0000-0000-000000000000    1407\n",
       "4  01013cd8-ae00-0000-0000-000000000000     839"
      ]
     },
     "metadata": {},
     "output_type": "display_data"
    }
   ],
   "source": [
    "# count the number of commits per contributor and order the rows from most to least number of commits\n",
    "commits = count_cntrbs(df=conn_commits, contribution_type='commit', patterns=['bot'], colname='email')\n",
    "# display the top 5 most active contributors\n",
    "display(commits.head())"
   ]
  },
  {
   "cell_type": "code",
   "execution_count": 16,
   "metadata": {},
   "outputs": [
    {
     "name": "stdout",
     "output_type": "stream",
     "text": [
      "The bus factor in terms of number of commits for augur is 3.\n",
      "Of the total number of contributors, 4 were identified as outliers.\n"
     ]
    }
   ],
   "source": [
    "bf_commits, cntrb_ids, num_outliers = calc_bus_factor(df=commits, contribution_type='commit', threshold=0.50)\n",
    "print(f'The bus factor in terms of number of commits for {repo_name} is {bf_commits}.\\nOf the total number of contributors, {num_outliers} were identified as outliers.')"
   ]
  },
  {
   "attachments": {},
   "cell_type": "markdown",
   "metadata": {},
   "source": [
    "Now let's analyze how the bus factor has evolved over the entire lifetime of the Ansible by taking window sizes of 6 months and sliding by a step size of 4 months."
   ]
  },
  {
   "cell_type": "code",
   "execution_count": 17,
   "metadata": {},
   "outputs": [
    {
     "data": {
      "text/html": [
       "<div>\n",
       "<style scoped>\n",
       "    .dataframe tbody tr th:only-of-type {\n",
       "        vertical-align: middle;\n",
       "    }\n",
       "\n",
       "    .dataframe tbody tr th {\n",
       "        vertical-align: top;\n",
       "    }\n",
       "\n",
       "    .dataframe thead th {\n",
       "        text-align: right;\n",
       "    }\n",
       "</style>\n",
       "<table border=\"1\" class=\"dataframe\">\n",
       "  <thead>\n",
       "    <tr style=\"text-align: right;\">\n",
       "      <th></th>\n",
       "      <th>period_from</th>\n",
       "      <th>period_to</th>\n",
       "      <th>bus_factor</th>\n",
       "    </tr>\n",
       "  </thead>\n",
       "  <tbody>\n",
       "    <tr>\n",
       "      <th>0</th>\n",
       "      <td>2024-11-07</td>\n",
       "      <td>2025-05-07</td>\n",
       "      <td>2</td>\n",
       "    </tr>\n",
       "    <tr>\n",
       "      <th>1</th>\n",
       "      <td>2024-07-07</td>\n",
       "      <td>2025-01-07</td>\n",
       "      <td>2</td>\n",
       "    </tr>\n",
       "    <tr>\n",
       "      <th>2</th>\n",
       "      <td>2024-03-07</td>\n",
       "      <td>2024-09-07</td>\n",
       "      <td>2</td>\n",
       "    </tr>\n",
       "    <tr>\n",
       "      <th>3</th>\n",
       "      <td>2023-11-07</td>\n",
       "      <td>2024-05-07</td>\n",
       "      <td>2</td>\n",
       "    </tr>\n",
       "    <tr>\n",
       "      <th>4</th>\n",
       "      <td>2023-07-07</td>\n",
       "      <td>2024-01-07</td>\n",
       "      <td>2</td>\n",
       "    </tr>\n",
       "  </tbody>\n",
       "</table>\n",
       "</div>"
      ],
      "text/plain": [
       "  period_from   period_to  bus_factor\n",
       "0  2024-11-07  2025-05-07           2\n",
       "1  2024-07-07  2025-01-07           2\n",
       "2  2024-03-07  2024-09-07           2\n",
       "3  2023-11-07  2024-05-07           2\n",
       "4  2023-07-07  2024-01-07           2"
      ]
     },
     "metadata": {},
     "output_type": "display_data"
    }
   ],
   "source": [
    "commits_bf_by_windows = bus_factor_by_windows(df=conn_commits, contribution_type='commit', window_width=6, step_size=4, threshold=0.5)\n",
    "display(commits_bf_by_windows.head())"
   ]
  },
  {
   "attachments": {},
   "cell_type": "markdown",
   "metadata": {},
   "source": [
    "In order to get a better sense of how the bus factor has evolved overtime, let's plot a line graph!"
   ]
  },
  {
   "cell_type": "code",
   "execution_count": 18,
   "metadata": {},
   "outputs": [
    {
     "data": {
      "application/vnd.plotly.v1+json": {
       "config": {
        "plotlyServerURL": "https://plot.ly"
       },
       "data": [
        {
         "customdata": [
          [
           "2025-05-07"
          ],
          [
           "2025-01-07"
          ],
          [
           "2024-09-07"
          ],
          [
           "2024-05-07"
          ],
          [
           "2024-01-07"
          ],
          [
           "2023-09-07"
          ],
          [
           "2023-05-07"
          ],
          [
           "2023-01-07"
          ],
          [
           "2022-09-07"
          ],
          [
           "2022-05-07"
          ],
          [
           "2022-01-07"
          ],
          [
           "2021-09-07"
          ],
          [
           "2021-05-07"
          ],
          [
           "2021-01-07"
          ],
          [
           "2020-09-07"
          ],
          [
           "2020-05-07"
          ],
          [
           "2020-01-07"
          ],
          [
           "2019-09-07"
          ],
          [
           "2019-05-07"
          ],
          [
           "2019-01-07"
          ],
          [
           "2018-09-07"
          ],
          [
           "2018-05-07"
          ],
          [
           "2018-01-07"
          ],
          [
           "2017-09-07"
          ],
          [
           "2017-05-07"
          ]
         ],
         "hovertemplate": "period from: %{x: %m-%d}<br>period to: %{customdata[0]: %m-%d}",
         "legendgroup": "",
         "line": {
          "color": "lightgreen",
          "dash": "solid"
         },
         "marker": {
          "symbol": "circle"
         },
         "mode": "lines+markers+text",
         "name": "",
         "orientation": "v",
         "showlegend": false,
         "text": {
          "bdata": "AAAAAAAAAEAAAAAAAAAAQAAAAAAAAABAAAAAAAAAAEAAAAAAAAAAQAAAAAAAAABAAAAAAAAAAEAAAAAAAAAAQAAAAAAAAABAAAAAAAAAAEAAAAAAAADwPwAAAAAAAABAAAAAAAAA8D8AAAAAAAAAQAAAAAAAAABAAAAAAAAACEAAAAAAAAAAQAAAAAAAAAhAAAAAAAAAAEAAAAAAAAAAQAAAAAAAAABAAAAAAAAA8D8AAAAAAADwPwAAAAAAAABAAAAAAAAAAEA=",
          "dtype": "f8"
         },
         "textposition": "top right",
         "type": "scatter",
         "x": [
          "2024-11-07",
          "2024-07-07",
          "2024-03-07",
          "2023-11-07",
          "2023-07-07",
          "2023-03-07",
          "2022-11-07",
          "2022-07-07",
          "2022-03-07",
          "2021-11-07",
          "2021-07-07",
          "2021-03-07",
          "2020-11-07",
          "2020-07-07",
          "2020-03-07",
          "2019-11-07",
          "2019-07-07",
          "2019-03-07",
          "2018-11-07",
          "2018-07-07",
          "2018-03-07",
          "2017-11-07",
          "2017-07-07",
          "2017-03-07",
          "2017-01-05"
         ],
         "xaxis": "x",
         "y": {
          "bdata": "AgICAgICAgICAgECAQICAwIDAgICAQECAg==",
          "dtype": "i1"
         },
         "yaxis": "y"
        }
       ],
       "layout": {
        "height": 500,
        "legend": {
         "tracegroupgap": 0
        },
        "margin": {
         "t": 60
        },
        "template": {
         "data": {
          "bar": [
           {
            "error_x": {
             "color": "#2a3f5f"
            },
            "error_y": {
             "color": "#2a3f5f"
            },
            "marker": {
             "line": {
              "color": "#E5ECF6",
              "width": 0.5
             },
             "pattern": {
              "fillmode": "overlay",
              "size": 10,
              "solidity": 0.2
             }
            },
            "type": "bar"
           }
          ],
          "barpolar": [
           {
            "marker": {
             "line": {
              "color": "#E5ECF6",
              "width": 0.5
             },
             "pattern": {
              "fillmode": "overlay",
              "size": 10,
              "solidity": 0.2
             }
            },
            "type": "barpolar"
           }
          ],
          "carpet": [
           {
            "aaxis": {
             "endlinecolor": "#2a3f5f",
             "gridcolor": "white",
             "linecolor": "white",
             "minorgridcolor": "white",
             "startlinecolor": "#2a3f5f"
            },
            "baxis": {
             "endlinecolor": "#2a3f5f",
             "gridcolor": "white",
             "linecolor": "white",
             "minorgridcolor": "white",
             "startlinecolor": "#2a3f5f"
            },
            "type": "carpet"
           }
          ],
          "choropleth": [
           {
            "colorbar": {
             "outlinewidth": 0,
             "ticks": ""
            },
            "type": "choropleth"
           }
          ],
          "contour": [
           {
            "colorbar": {
             "outlinewidth": 0,
             "ticks": ""
            },
            "colorscale": [
             [
              0,
              "#0d0887"
             ],
             [
              0.1111111111111111,
              "#46039f"
             ],
             [
              0.2222222222222222,
              "#7201a8"
             ],
             [
              0.3333333333333333,
              "#9c179e"
             ],
             [
              0.4444444444444444,
              "#bd3786"
             ],
             [
              0.5555555555555556,
              "#d8576b"
             ],
             [
              0.6666666666666666,
              "#ed7953"
             ],
             [
              0.7777777777777778,
              "#fb9f3a"
             ],
             [
              0.8888888888888888,
              "#fdca26"
             ],
             [
              1,
              "#f0f921"
             ]
            ],
            "type": "contour"
           }
          ],
          "contourcarpet": [
           {
            "colorbar": {
             "outlinewidth": 0,
             "ticks": ""
            },
            "type": "contourcarpet"
           }
          ],
          "heatmap": [
           {
            "colorbar": {
             "outlinewidth": 0,
             "ticks": ""
            },
            "colorscale": [
             [
              0,
              "#0d0887"
             ],
             [
              0.1111111111111111,
              "#46039f"
             ],
             [
              0.2222222222222222,
              "#7201a8"
             ],
             [
              0.3333333333333333,
              "#9c179e"
             ],
             [
              0.4444444444444444,
              "#bd3786"
             ],
             [
              0.5555555555555556,
              "#d8576b"
             ],
             [
              0.6666666666666666,
              "#ed7953"
             ],
             [
              0.7777777777777778,
              "#fb9f3a"
             ],
             [
              0.8888888888888888,
              "#fdca26"
             ],
             [
              1,
              "#f0f921"
             ]
            ],
            "type": "heatmap"
           }
          ],
          "histogram": [
           {
            "marker": {
             "pattern": {
              "fillmode": "overlay",
              "size": 10,
              "solidity": 0.2
             }
            },
            "type": "histogram"
           }
          ],
          "histogram2d": [
           {
            "colorbar": {
             "outlinewidth": 0,
             "ticks": ""
            },
            "colorscale": [
             [
              0,
              "#0d0887"
             ],
             [
              0.1111111111111111,
              "#46039f"
             ],
             [
              0.2222222222222222,
              "#7201a8"
             ],
             [
              0.3333333333333333,
              "#9c179e"
             ],
             [
              0.4444444444444444,
              "#bd3786"
             ],
             [
              0.5555555555555556,
              "#d8576b"
             ],
             [
              0.6666666666666666,
              "#ed7953"
             ],
             [
              0.7777777777777778,
              "#fb9f3a"
             ],
             [
              0.8888888888888888,
              "#fdca26"
             ],
             [
              1,
              "#f0f921"
             ]
            ],
            "type": "histogram2d"
           }
          ],
          "histogram2dcontour": [
           {
            "colorbar": {
             "outlinewidth": 0,
             "ticks": ""
            },
            "colorscale": [
             [
              0,
              "#0d0887"
             ],
             [
              0.1111111111111111,
              "#46039f"
             ],
             [
              0.2222222222222222,
              "#7201a8"
             ],
             [
              0.3333333333333333,
              "#9c179e"
             ],
             [
              0.4444444444444444,
              "#bd3786"
             ],
             [
              0.5555555555555556,
              "#d8576b"
             ],
             [
              0.6666666666666666,
              "#ed7953"
             ],
             [
              0.7777777777777778,
              "#fb9f3a"
             ],
             [
              0.8888888888888888,
              "#fdca26"
             ],
             [
              1,
              "#f0f921"
             ]
            ],
            "type": "histogram2dcontour"
           }
          ],
          "mesh3d": [
           {
            "colorbar": {
             "outlinewidth": 0,
             "ticks": ""
            },
            "type": "mesh3d"
           }
          ],
          "parcoords": [
           {
            "line": {
             "colorbar": {
              "outlinewidth": 0,
              "ticks": ""
             }
            },
            "type": "parcoords"
           }
          ],
          "pie": [
           {
            "automargin": true,
            "type": "pie"
           }
          ],
          "scatter": [
           {
            "fillpattern": {
             "fillmode": "overlay",
             "size": 10,
             "solidity": 0.2
            },
            "type": "scatter"
           }
          ],
          "scatter3d": [
           {
            "line": {
             "colorbar": {
              "outlinewidth": 0,
              "ticks": ""
             }
            },
            "marker": {
             "colorbar": {
              "outlinewidth": 0,
              "ticks": ""
             }
            },
            "type": "scatter3d"
           }
          ],
          "scattercarpet": [
           {
            "marker": {
             "colorbar": {
              "outlinewidth": 0,
              "ticks": ""
             }
            },
            "type": "scattercarpet"
           }
          ],
          "scattergeo": [
           {
            "marker": {
             "colorbar": {
              "outlinewidth": 0,
              "ticks": ""
             }
            },
            "type": "scattergeo"
           }
          ],
          "scattergl": [
           {
            "marker": {
             "colorbar": {
              "outlinewidth": 0,
              "ticks": ""
             }
            },
            "type": "scattergl"
           }
          ],
          "scattermap": [
           {
            "marker": {
             "colorbar": {
              "outlinewidth": 0,
              "ticks": ""
             }
            },
            "type": "scattermap"
           }
          ],
          "scattermapbox": [
           {
            "marker": {
             "colorbar": {
              "outlinewidth": 0,
              "ticks": ""
             }
            },
            "type": "scattermapbox"
           }
          ],
          "scatterpolar": [
           {
            "marker": {
             "colorbar": {
              "outlinewidth": 0,
              "ticks": ""
             }
            },
            "type": "scatterpolar"
           }
          ],
          "scatterpolargl": [
           {
            "marker": {
             "colorbar": {
              "outlinewidth": 0,
              "ticks": ""
             }
            },
            "type": "scatterpolargl"
           }
          ],
          "scatterternary": [
           {
            "marker": {
             "colorbar": {
              "outlinewidth": 0,
              "ticks": ""
             }
            },
            "type": "scatterternary"
           }
          ],
          "surface": [
           {
            "colorbar": {
             "outlinewidth": 0,
             "ticks": ""
            },
            "colorscale": [
             [
              0,
              "#0d0887"
             ],
             [
              0.1111111111111111,
              "#46039f"
             ],
             [
              0.2222222222222222,
              "#7201a8"
             ],
             [
              0.3333333333333333,
              "#9c179e"
             ],
             [
              0.4444444444444444,
              "#bd3786"
             ],
             [
              0.5555555555555556,
              "#d8576b"
             ],
             [
              0.6666666666666666,
              "#ed7953"
             ],
             [
              0.7777777777777778,
              "#fb9f3a"
             ],
             [
              0.8888888888888888,
              "#fdca26"
             ],
             [
              1,
              "#f0f921"
             ]
            ],
            "type": "surface"
           }
          ],
          "table": [
           {
            "cells": {
             "fill": {
              "color": "#EBF0F8"
             },
             "line": {
              "color": "white"
             }
            },
            "header": {
             "fill": {
              "color": "#C8D4E3"
             },
             "line": {
              "color": "white"
             }
            },
            "type": "table"
           }
          ]
         },
         "layout": {
          "annotationdefaults": {
           "arrowcolor": "#2a3f5f",
           "arrowhead": 0,
           "arrowwidth": 1
          },
          "autotypenumbers": "strict",
          "coloraxis": {
           "colorbar": {
            "outlinewidth": 0,
            "ticks": ""
           }
          },
          "colorscale": {
           "diverging": [
            [
             0,
             "#8e0152"
            ],
            [
             0.1,
             "#c51b7d"
            ],
            [
             0.2,
             "#de77ae"
            ],
            [
             0.3,
             "#f1b6da"
            ],
            [
             0.4,
             "#fde0ef"
            ],
            [
             0.5,
             "#f7f7f7"
            ],
            [
             0.6,
             "#e6f5d0"
            ],
            [
             0.7,
             "#b8e186"
            ],
            [
             0.8,
             "#7fbc41"
            ],
            [
             0.9,
             "#4d9221"
            ],
            [
             1,
             "#276419"
            ]
           ],
           "sequential": [
            [
             0,
             "#0d0887"
            ],
            [
             0.1111111111111111,
             "#46039f"
            ],
            [
             0.2222222222222222,
             "#7201a8"
            ],
            [
             0.3333333333333333,
             "#9c179e"
            ],
            [
             0.4444444444444444,
             "#bd3786"
            ],
            [
             0.5555555555555556,
             "#d8576b"
            ],
            [
             0.6666666666666666,
             "#ed7953"
            ],
            [
             0.7777777777777778,
             "#fb9f3a"
            ],
            [
             0.8888888888888888,
             "#fdca26"
            ],
            [
             1,
             "#f0f921"
            ]
           ],
           "sequentialminus": [
            [
             0,
             "#0d0887"
            ],
            [
             0.1111111111111111,
             "#46039f"
            ],
            [
             0.2222222222222222,
             "#7201a8"
            ],
            [
             0.3333333333333333,
             "#9c179e"
            ],
            [
             0.4444444444444444,
             "#bd3786"
            ],
            [
             0.5555555555555556,
             "#d8576b"
            ],
            [
             0.6666666666666666,
             "#ed7953"
            ],
            [
             0.7777777777777778,
             "#fb9f3a"
            ],
            [
             0.8888888888888888,
             "#fdca26"
            ],
            [
             1,
             "#f0f921"
            ]
           ]
          },
          "colorway": [
           "#636efa",
           "#EF553B",
           "#00cc96",
           "#ab63fa",
           "#FFA15A",
           "#19d3f3",
           "#FF6692",
           "#B6E880",
           "#FF97FF",
           "#FECB52"
          ],
          "font": {
           "color": "#2a3f5f"
          },
          "geo": {
           "bgcolor": "white",
           "lakecolor": "white",
           "landcolor": "#E5ECF6",
           "showlakes": true,
           "showland": true,
           "subunitcolor": "white"
          },
          "hoverlabel": {
           "align": "left"
          },
          "hovermode": "closest",
          "mapbox": {
           "style": "light"
          },
          "paper_bgcolor": "white",
          "plot_bgcolor": "#E5ECF6",
          "polar": {
           "angularaxis": {
            "gridcolor": "white",
            "linecolor": "white",
            "ticks": ""
           },
           "bgcolor": "#E5ECF6",
           "radialaxis": {
            "gridcolor": "white",
            "linecolor": "white",
            "ticks": ""
           }
          },
          "scene": {
           "xaxis": {
            "backgroundcolor": "#E5ECF6",
            "gridcolor": "white",
            "gridwidth": 2,
            "linecolor": "white",
            "showbackground": true,
            "ticks": "",
            "zerolinecolor": "white"
           },
           "yaxis": {
            "backgroundcolor": "#E5ECF6",
            "gridcolor": "white",
            "gridwidth": 2,
            "linecolor": "white",
            "showbackground": true,
            "ticks": "",
            "zerolinecolor": "white"
           },
           "zaxis": {
            "backgroundcolor": "#E5ECF6",
            "gridcolor": "white",
            "gridwidth": 2,
            "linecolor": "white",
            "showbackground": true,
            "ticks": "",
            "zerolinecolor": "white"
           }
          },
          "shapedefaults": {
           "line": {
            "color": "#2a3f5f"
           }
          },
          "ternary": {
           "aaxis": {
            "gridcolor": "white",
            "linecolor": "white",
            "ticks": ""
           },
           "baxis": {
            "gridcolor": "white",
            "linecolor": "white",
            "ticks": ""
           },
           "bgcolor": "#E5ECF6",
           "caxis": {
            "gridcolor": "white",
            "linecolor": "white",
            "ticks": ""
           }
          },
          "title": {
           "x": 0.05
          },
          "xaxis": {
           "automargin": true,
           "gridcolor": "white",
           "linecolor": "white",
           "ticks": "",
           "title": {
            "standoff": 15
           },
           "zerolinecolor": "white",
           "zerolinewidth": 2
          },
          "yaxis": {
           "automargin": true,
           "gridcolor": "white",
           "linecolor": "white",
           "ticks": "",
           "title": {
            "standoff": 15
           },
           "zerolinecolor": "white",
           "zerolinewidth": 2
          }
         }
        },
        "title": {
         "text": "Bus Factor of Commits in 6 Month Periods",
         "x": 0.5,
         "xanchor": "center"
        },
        "width": 800,
        "xaxis": {
         "anchor": "y",
         "domain": [
          0,
          1
         ],
         "dtick": "M4",
         "fixedrange": true,
         "tick0": "2017-01-05",
         "tickangle": 45,
         "tickformat": "%B %Y",
         "title": {
          "text": "Timeline (stepsize = 4 months)"
         }
        },
        "yaxis": {
         "anchor": "x",
         "domain": [
          0,
          1
         ],
         "title": {
          "text": "Bus Factor"
         }
        }
       }
      },
      "image/png": "[encoded data removed]"
     },
     "metadata": {},
     "output_type": "display_data"
    }
   ],
   "source": [
    "plot_line_graph(df=commits_bf_by_windows, \n",
    "               title='Bus Factor of Commits in 6 Month Periods', \n",
    "               xlabel='Timeline (stepsize = 4 months)',\n",
    "               ylabel='Bus Factor', \n",
    "               step_size=4)"
   ]
  },
  {
   "attachments": {},
   "cell_type": "markdown",
   "metadata": {},
   "source": [
    "Now that we've analyzed the bus factor for one type of contribution to a project, let's explore others. Not only are contributors individuals who have directly committed to the project but also those who have contributed by creating issues."
   ]
  },
  {
   "attachments": {},
   "cell_type": "markdown",
   "metadata": {},
   "source": [
    "## Bus factor by number of issues"
   ]
  },
  {
   "attachments": {},
   "cell_type": "markdown",
   "metadata": {},
   "source": [
    "Let's analyze the bus factor for the number of issues created."
   ]
  },
  {
   "cell_type": "code",
   "execution_count": 19,
   "metadata": {},
   "outputs": [
    {
     "data": {
      "text/html": [
       "<div>\n",
       "<style scoped>\n",
       "    .dataframe tbody tr th:only-of-type {\n",
       "        vertical-align: middle;\n",
       "    }\n",
       "\n",
       "    .dataframe tbody tr th {\n",
       "        vertical-align: top;\n",
       "    }\n",
       "\n",
       "    .dataframe thead th {\n",
       "        text-align: right;\n",
       "    }\n",
       "</style>\n",
       "<table border=\"1\" class=\"dataframe\">\n",
       "  <thead>\n",
       "    <tr style=\"text-align: right;\">\n",
       "      <th></th>\n",
       "      <th>issue</th>\n",
       "      <th>cntrb_id</th>\n",
       "      <th>email</th>\n",
       "      <th>date</th>\n",
       "    </tr>\n",
       "  </thead>\n",
       "  <tbody>\n",
       "    <tr>\n",
       "      <th>0</th>\n",
       "      <td>31212</td>\n",
       "      <td>0103aa24-2600-0000-0000-000000000000</td>\n",
       "      <td>61482022+ABrain7710@users.noreply.github.com</td>\n",
       "      <td>2023-04-25 13:45:30</td>\n",
       "    </tr>\n",
       "    <tr>\n",
       "      <th>1</th>\n",
       "      <td>31212</td>\n",
       "      <td>0103aa24-2600-0000-0000-000000000000</td>\n",
       "      <td>andrewbrain2019@gmail.com</td>\n",
       "      <td>2023-04-25 13:45:30</td>\n",
       "    </tr>\n",
       "    <tr>\n",
       "      <th>2</th>\n",
       "      <td>31213</td>\n",
       "      <td>0103aa24-2600-0000-0000-000000000000</td>\n",
       "      <td>61482022+ABrain7710@users.noreply.github.com</td>\n",
       "      <td>2023-04-21 21:53:02</td>\n",
       "    </tr>\n",
       "    <tr>\n",
       "      <th>3</th>\n",
       "      <td>31213</td>\n",
       "      <td>0103aa24-2600-0000-0000-000000000000</td>\n",
       "      <td>andrewbrain2019@gmail.com</td>\n",
       "      <td>2023-04-21 21:53:02</td>\n",
       "    </tr>\n",
       "    <tr>\n",
       "      <th>4</th>\n",
       "      <td>31214</td>\n",
       "      <td>0103aa24-2600-0000-0000-000000000000</td>\n",
       "      <td>61482022+ABrain7710@users.noreply.github.com</td>\n",
       "      <td>2023-04-21 19:21:37</td>\n",
       "    </tr>\n",
       "  </tbody>\n",
       "</table>\n",
       "</div>"
      ],
      "text/plain": [
       "   issue                              cntrb_id  \\\n",
       "0  31212  0103aa24-2600-0000-0000-000000000000   \n",
       "1  31212  0103aa24-2600-0000-0000-000000000000   \n",
       "2  31213  0103aa24-2600-0000-0000-000000000000   \n",
       "3  31213  0103aa24-2600-0000-0000-000000000000   \n",
       "4  31214  0103aa24-2600-0000-0000-000000000000   \n",
       "\n",
       "                                          email                date  \n",
       "0  61482022+ABrain7710@users.noreply.github.com 2023-04-25 13:45:30  \n",
       "1                     andrewbrain2019@gmail.com 2023-04-25 13:45:30  \n",
       "2  61482022+ABrain7710@users.noreply.github.com 2023-04-21 21:53:02  \n",
       "3                     andrewbrain2019@gmail.com 2023-04-21 21:53:02  \n",
       "4  61482022+ABrain7710@users.noreply.github.com 2023-04-21 19:21:37  "
      ]
     },
     "metadata": {},
     "output_type": "display_data"
    }
   ],
   "source": [
    "issues_query = salc.sql.text(f\"\"\"\n",
    "                SELECT\n",
    "                    DISTINCT i.issue_id AS issue,\n",
    "                    i.reporter_id AS cntrb_id,\n",
    "                    ca.alias_email as email,\n",
    "                    i.created_at AS date\n",
    "                FROM\n",
    "                    issues i, \n",
    "                    contributors_aliases ca\n",
    "                WHERE\n",
    "                    i.repo_id in({repo_statement}) AND\n",
    "                    i.reporter_id = ca.cntrb_id\n",
    "               \"\"\")\n",
    "\n",
    "conn_issues = get_df(issues_query)\n",
    "display(conn_issues.head())"
   ]
  },
  {
   "cell_type": "code",
   "execution_count": 20,
   "metadata": {},
   "outputs": [
    {
     "data": {
      "text/html": [
       "<div>\n",
       "<style scoped>\n",
       "    .dataframe tbody tr th:only-of-type {\n",
       "        vertical-align: middle;\n",
       "    }\n",
       "\n",
       "    .dataframe tbody tr th {\n",
       "        vertical-align: top;\n",
       "    }\n",
       "\n",
       "    .dataframe thead th {\n",
       "        text-align: right;\n",
       "    }\n",
       "</style>\n",
       "<table border=\"1\" class=\"dataframe\">\n",
       "  <thead>\n",
       "    <tr style=\"text-align: right;\">\n",
       "      <th></th>\n",
       "      <th>cntrb_id</th>\n",
       "      <th>issue</th>\n",
       "    </tr>\n",
       "  </thead>\n",
       "  <tbody>\n",
       "    <tr>\n",
       "      <th>0</th>\n",
       "      <td>010005cb-c700-0000-0000-000000000000</td>\n",
       "      <td>2177</td>\n",
       "    </tr>\n",
       "    <tr>\n",
       "      <th>1</th>\n",
       "      <td>0101e100-7300-0000-0000-000000000000</td>\n",
       "      <td>136</td>\n",
       "    </tr>\n",
       "    <tr>\n",
       "      <th>2</th>\n",
       "      <td>0102d4dd-e200-0000-0000-000000000000</td>\n",
       "      <td>102</td>\n",
       "    </tr>\n",
       "    <tr>\n",
       "      <th>3</th>\n",
       "      <td>010001c1-ca00-0000-0000-000000000000</td>\n",
       "      <td>68</td>\n",
       "    </tr>\n",
       "    <tr>\n",
       "      <th>4</th>\n",
       "      <td>01021550-ba00-0000-0000-000000000000</td>\n",
       "      <td>58</td>\n",
       "    </tr>\n",
       "  </tbody>\n",
       "</table>\n",
       "</div>"
      ],
      "text/plain": [
       "                               cntrb_id  issue\n",
       "0  010005cb-c700-0000-0000-000000000000   2177\n",
       "1  0101e100-7300-0000-0000-000000000000    136\n",
       "2  0102d4dd-e200-0000-0000-000000000000    102\n",
       "3  010001c1-ca00-0000-0000-000000000000     68\n",
       "4  01021550-ba00-0000-0000-000000000000     58"
      ]
     },
     "metadata": {},
     "output_type": "display_data"
    }
   ],
   "source": [
    "issues_created = count_cntrbs(df=conn_issues, contribution_type='issue')\n",
    "display(issues_created.head())"
   ]
  },
  {
   "cell_type": "code",
   "execution_count": 21,
   "metadata": {},
   "outputs": [
    {
     "name": "stdout",
     "output_type": "stream",
     "text": [
      "The bus factor in terms of number of issues created for augur is 1.\n",
      "Of the total number of contributors, 1 were identified as outliers.\n"
     ]
    }
   ],
   "source": [
    "bf_issues, cntrb_ids, num_outliers = calc_bus_factor(issues_created, contribution_type='issue', threshold=0.50)\n",
    "print(f'The bus factor in terms of number of issues created for {repo_name} is {bf_issues}.\\nOf the total number of contributors, {num_outliers} were identified as outliers.')"
   ]
  },
  {
   "attachments": {},
   "cell_type": "markdown",
   "metadata": {},
   "source": [
    "Similar to the previous analysis, we performed on the number of commits, let's calculate the bus factor for issues created in windows of 6 months with a step size of 4 months over the entire lifetime of Ansible and plot it."
   ]
  },
  {
   "cell_type": "code",
   "execution_count": 22,
   "metadata": {},
   "outputs": [
    {
     "data": {
      "text/html": [
       "<div>\n",
       "<style scoped>\n",
       "    .dataframe tbody tr th:only-of-type {\n",
       "        vertical-align: middle;\n",
       "    }\n",
       "\n",
       "    .dataframe tbody tr th {\n",
       "        vertical-align: top;\n",
       "    }\n",
       "\n",
       "    .dataframe thead th {\n",
       "        text-align: right;\n",
       "    }\n",
       "</style>\n",
       "<table border=\"1\" class=\"dataframe\">\n",
       "  <thead>\n",
       "    <tr style=\"text-align: right;\">\n",
       "      <th></th>\n",
       "      <th>period_from</th>\n",
       "      <th>period_to</th>\n",
       "      <th>bus_factor</th>\n",
       "    </tr>\n",
       "  </thead>\n",
       "  <tbody>\n",
       "    <tr>\n",
       "      <th>0</th>\n",
       "      <td>2024-12-13</td>\n",
       "      <td>2025-06-13</td>\n",
       "      <td>2</td>\n",
       "    </tr>\n",
       "    <tr>\n",
       "      <th>1</th>\n",
       "      <td>2024-08-13</td>\n",
       "      <td>2025-02-13</td>\n",
       "      <td>1</td>\n",
       "    </tr>\n",
       "    <tr>\n",
       "      <th>2</th>\n",
       "      <td>2024-04-13</td>\n",
       "      <td>2024-10-13</td>\n",
       "      <td>1</td>\n",
       "    </tr>\n",
       "    <tr>\n",
       "      <th>3</th>\n",
       "      <td>2023-12-13</td>\n",
       "      <td>2024-06-13</td>\n",
       "      <td>3</td>\n",
       "    </tr>\n",
       "    <tr>\n",
       "      <th>4</th>\n",
       "      <td>2023-08-13</td>\n",
       "      <td>2024-02-13</td>\n",
       "      <td>1</td>\n",
       "    </tr>\n",
       "  </tbody>\n",
       "</table>\n",
       "</div>"
      ],
      "text/plain": [
       "  period_from   period_to  bus_factor\n",
       "0  2024-12-13  2025-06-13           2\n",
       "1  2024-08-13  2025-02-13           1\n",
       "2  2024-04-13  2024-10-13           1\n",
       "3  2023-12-13  2024-06-13           3\n",
       "4  2023-08-13  2024-02-13           1"
      ]
     },
     "metadata": {},
     "output_type": "display_data"
    }
   ],
   "source": [
    "issue_bf_by_windows = bus_factor_by_windows(df=conn_issues, contribution_type='issue', window_width=6, step_size=4, threshold=0.5)\n",
    "display(issue_bf_by_windows.head())"
   ]
  },
  {
   "cell_type": "code",
   "execution_count": 23,
   "metadata": {},
   "outputs": [
    {
     "data": {
      "application/vnd.plotly.v1+json": {
       "config": {
        "plotlyServerURL": "https://plot.ly"
       },
       "data": [
        {
         "customdata": [
          [
           "2025-06-13"
          ],
          [
           "2025-02-13"
          ],
          [
           "2024-10-13"
          ],
          [
           "2024-06-13"
          ],
          [
           "2024-02-13"
          ],
          [
           "2023-10-13"
          ],
          [
           "2023-06-13"
          ],
          [
           "2023-02-13"
          ],
          [
           "2022-10-13"
          ],
          [
           "2022-06-13"
          ],
          [
           "2022-02-13"
          ],
          [
           "2021-10-13"
          ],
          [
           "2021-06-13"
          ],
          [
           "2021-02-13"
          ],
          [
           "2020-10-13"
          ],
          [
           "2020-06-13"
          ],
          [
           "2020-02-13"
          ],
          [
           "2019-10-13"
          ],
          [
           "2019-06-13"
          ],
          [
           "2019-02-13"
          ],
          [
           "2018-10-13"
          ],
          [
           "2018-06-13"
          ],
          [
           "2018-02-13"
          ],
          [
           "2017-10-13"
          ],
          [
           "2017-06-13"
          ]
         ],
         "hovertemplate": "period from: %{x: %m-%d}<br>period to: %{customdata[0]: %m-%d}",
         "legendgroup": "",
         "line": {
          "color": "lightgreen",
          "dash": "solid"
         },
         "marker": {
          "symbol": "circle"
         },
         "mode": "lines+markers+text",
         "name": "",
         "orientation": "v",
         "showlegend": false,
         "text": {
          "bdata": "AAAAAAAAAEAAAAAAAADwPwAAAAAAAPA/AAAAAAAACEAAAAAAAADwPwAAAAAAAABAAAAAAAAA8D8AAAAAAADwPwAAAAAAAABAAAAAAAAAAEAAAAAAAADwPwAAAAAAAPA/AAAAAAAA8D8AAAAAAADwPwAAAAAAAABAAAAAAAAA8D8AAAAAAADwPwAAAAAAAPA/AAAAAAAA8D8AAAAAAAAAQAAAAAAAAPA/AAAAAAAA8D8AAAAAAADwPwAAAAAAAPA/AAAAAAAAAEA=",
          "dtype": "f8"
         },
         "textposition": "top right",
         "type": "scatter",
         "x": [
          "2024-12-13",
          "2024-08-13",
          "2024-04-13",
          "2023-12-13",
          "2023-08-13",
          "2023-04-13",
          "2022-12-13",
          "2022-08-13",
          "2022-04-13",
          "2021-12-13",
          "2021-08-13",
          "2021-04-13",
          "2020-12-13",
          "2020-08-13",
          "2020-04-13",
          "2019-12-13",
          "2019-08-13",
          "2019-04-13",
          "2018-12-13",
          "2018-08-13",
          "2018-04-13",
          "2017-12-13",
          "2017-08-13",
          "2017-04-13",
          "2017-01-20"
         ],
         "xaxis": "x",
         "y": {
          "bdata": "AgEBAwECAQECAgEBAQECAQEBAQIBAQEBAg==",
          "dtype": "i1"
         },
         "yaxis": "y"
        }
       ],
       "layout": {
        "height": 500,
        "legend": {
         "tracegroupgap": 0
        },
        "margin": {
         "t": 60
        },
        "template": {
         "data": {
          "bar": [
           {
            "error_x": {
             "color": "#2a3f5f"
            },
            "error_y": {
             "color": "#2a3f5f"
            },
            "marker": {
             "line": {
              "color": "#E5ECF6",
              "width": 0.5
             },
             "pattern": {
              "fillmode": "overlay",
              "size": 10,
              "solidity": 0.2
             }
            },
            "type": "bar"
           }
          ],
          "barpolar": [
           {
            "marker": {
             "line": {
              "color": "#E5ECF6",
              "width": 0.5
             },
             "pattern": {
              "fillmode": "overlay",
              "size": 10,
              "solidity": 0.2
             }
            },
            "type": "barpolar"
           }
          ],
          "carpet": [
           {
            "aaxis": {
             "endlinecolor": "#2a3f5f",
             "gridcolor": "white",
             "linecolor": "white",
             "minorgridcolor": "white",
             "startlinecolor": "#2a3f5f"
            },
            "baxis": {
             "endlinecolor": "#2a3f5f",
             "gridcolor": "white",
             "linecolor": "white",
             "minorgridcolor": "white",
             "startlinecolor": "#2a3f5f"
            },
            "type": "carpet"
           }
          ],
          "choropleth": [
           {
            "colorbar": {
             "outlinewidth": 0,
             "ticks": ""
            },
            "type": "choropleth"
           }
          ],
          "contour": [
           {
            "colorbar": {
             "outlinewidth": 0,
             "ticks": ""
            },
            "colorscale": [
             [
              0,
              "#0d0887"
             ],
             [
              0.1111111111111111,
              "#46039f"
             ],
             [
              0.2222222222222222,
              "#7201a8"
             ],
             [
              0.3333333333333333,
              "#9c179e"
             ],
             [
              0.4444444444444444,
              "#bd3786"
             ],
             [
              0.5555555555555556,
              "#d8576b"
             ],
             [
              0.6666666666666666,
              "#ed7953"
             ],
             [
              0.7777777777777778,
              "#fb9f3a"
             ],
             [
              0.8888888888888888,
              "#fdca26"
             ],
             [
              1,
              "#f0f921"
             ]
            ],
            "type": "contour"
           }
          ],
          "contourcarpet": [
           {
            "colorbar": {
             "outlinewidth": 0,
             "ticks": ""
            },
            "type": "contourcarpet"
           }
          ],
          "heatmap": [
           {
            "colorbar": {
             "outlinewidth": 0,
             "ticks": ""
            },
            "colorscale": [
             [
              0,
              "#0d0887"
             ],
             [
              0.1111111111111111,
              "#46039f"
             ],
             [
              0.2222222222222222,
              "#7201a8"
             ],
             [
              0.3333333333333333,
              "#9c179e"
             ],
             [
              0.4444444444444444,
              "#bd3786"
             ],
             [
              0.5555555555555556,
              "#d8576b"
             ],
             [
              0.6666666666666666,
              "#ed7953"
             ],
             [
              0.7777777777777778,
              "#fb9f3a"
             ],
             [
              0.8888888888888888,
              "#fdca26"
             ],
             [
              1,
              "#f0f921"
             ]
            ],
            "type": "heatmap"
           }
          ],
          "histogram": [
           {
            "marker": {
             "pattern": {
              "fillmode": "overlay",
              "size": 10,
              "solidity": 0.2
             }
            },
            "type": "histogram"
           }
          ],
          "histogram2d": [
           {
            "colorbar": {
             "outlinewidth": 0,
             "ticks": ""
            },
            "colorscale": [
             [
              0,
              "#0d0887"
             ],
             [
              0.1111111111111111,
              "#46039f"
             ],
             [
              0.2222222222222222,
              "#7201a8"
             ],
             [
              0.3333333333333333,
              "#9c179e"
             ],
             [
              0.4444444444444444,
              "#bd3786"
             ],
             [
              0.5555555555555556,
              "#d8576b"
             ],
             [
              0.6666666666666666,
              "#ed7953"
             ],
             [
              0.7777777777777778,
              "#fb9f3a"
             ],
             [
              0.8888888888888888,
              "#fdca26"
             ],
             [
              1,
              "#f0f921"
             ]
            ],
            "type": "histogram2d"
           }
          ],
          "histogram2dcontour": [
           {
            "colorbar": {
             "outlinewidth": 0,
             "ticks": ""
            },
            "colorscale": [
             [
              0,
              "#0d0887"
             ],
             [
              0.1111111111111111,
              "#46039f"
             ],
             [
              0.2222222222222222,
              "#7201a8"
             ],
             [
              0.3333333333333333,
              "#9c179e"
             ],
             [
              0.4444444444444444,
              "#bd3786"
             ],
             [
              0.5555555555555556,
              "#d8576b"
             ],
             [
              0.6666666666666666,
              "#ed7953"
             ],
             [
              0.7777777777777778,
              "#fb9f3a"
             ],
             [
              0.8888888888888888,
              "#fdca26"
             ],
             [
              1,
              "#f0f921"
             ]
            ],
            "type": "histogram2dcontour"
           }
          ],
          "mesh3d": [
           {
            "colorbar": {
             "outlinewidth": 0,
             "ticks": ""
            },
            "type": "mesh3d"
           }
          ],
          "parcoords": [
           {
            "line": {
             "colorbar": {
              "outlinewidth": 0,
              "ticks": ""
             }
            },
            "type": "parcoords"
           }
          ],
          "pie": [
           {
            "automargin": true,
            "type": "pie"
           }
          ],
          "scatter": [
           {
            "fillpattern": {
             "fillmode": "overlay",
             "size": 10,
             "solidity": 0.2
            },
            "type": "scatter"
           }
          ],
          "scatter3d": [
           {
            "line": {
             "colorbar": {
              "outlinewidth": 0,
              "ticks": ""
             }
            },
            "marker": {
             "colorbar": {
              "outlinewidth": 0,
              "ticks": ""
             }
            },
            "type": "scatter3d"
           }
          ],
          "scattercarpet": [
           {
            "marker": {
             "colorbar": {
              "outlinewidth": 0,
              "ticks": ""
             }
            },
            "type": "scattercarpet"
           }
          ],
          "scattergeo": [
           {
            "marker": {
             "colorbar": {
              "outlinewidth": 0,
              "ticks": ""
             }
            },
            "type": "scattergeo"
           }
          ],
          "scattergl": [
           {
            "marker": {
             "colorbar": {
              "outlinewidth": 0,
              "ticks": ""
             }
            },
            "type": "scattergl"
           }
          ],
          "scattermap": [
           {
            "marker": {
             "colorbar": {
              "outlinewidth": 0,
              "ticks": ""
             }
            },
            "type": "scattermap"
           }
          ],
          "scattermapbox": [
           {
            "marker": {
             "colorbar": {
              "outlinewidth": 0,
              "ticks": ""
             }
            },
            "type": "scattermapbox"
           }
          ],
          "scatterpolar": [
           {
            "marker": {
             "colorbar": {
              "outlinewidth": 0,
              "ticks": ""
             }
            },
            "type": "scatterpolar"
           }
          ],
          "scatterpolargl": [
           {
            "marker": {
             "colorbar": {
              "outlinewidth": 0,
              "ticks": ""
             }
            },
            "type": "scatterpolargl"
           }
          ],
          "scatterternary": [
           {
            "marker": {
             "colorbar": {
              "outlinewidth": 0,
              "ticks": ""
             }
            },
            "type": "scatterternary"
           }
          ],
          "surface": [
           {
            "colorbar": {
             "outlinewidth": 0,
             "ticks": ""
            },
            "colorscale": [
             [
              0,
              "#0d0887"
             ],
             [
              0.1111111111111111,
              "#46039f"
             ],
             [
              0.2222222222222222,
              "#7201a8"
             ],
             [
              0.3333333333333333,
              "#9c179e"
             ],
             [
              0.4444444444444444,
              "#bd3786"
             ],
             [
              0.5555555555555556,
              "#d8576b"
             ],
             [
              0.6666666666666666,
              "#ed7953"
             ],
             [
              0.7777777777777778,
              "#fb9f3a"
             ],
             [
              0.8888888888888888,
              "#fdca26"
             ],
             [
              1,
              "#f0f921"
             ]
            ],
            "type": "surface"
           }
          ],
          "table": [
           {
            "cells": {
             "fill": {
              "color": "#EBF0F8"
             },
             "line": {
              "color": "white"
             }
            },
            "header": {
             "fill": {
              "color": "#C8D4E3"
             },
             "line": {
              "color": "white"
             }
            },
            "type": "table"
           }
          ]
         },
         "layout": {
          "annotationdefaults": {
           "arrowcolor": "#2a3f5f",
           "arrowhead": 0,
           "arrowwidth": 1
          },
          "autotypenumbers": "strict",
          "coloraxis": {
           "colorbar": {
            "outlinewidth": 0,
            "ticks": ""
           }
          },
          "colorscale": {
           "diverging": [
            [
             0,
             "#8e0152"
            ],
            [
             0.1,
             "#c51b7d"
            ],
            [
             0.2,
             "#de77ae"
            ],
            [
             0.3,
             "#f1b6da"
            ],
            [
             0.4,
             "#fde0ef"
            ],
            [
             0.5,
             "#f7f7f7"
            ],
            [
             0.6,
             "#e6f5d0"
            ],
            [
             0.7,
             "#b8e186"
            ],
            [
             0.8,
             "#7fbc41"
            ],
            [
             0.9,
             "#4d9221"
            ],
            [
             1,
             "#276419"
            ]
           ],
           "sequential": [
            [
             0,
             "#0d0887"
            ],
            [
             0.1111111111111111,
             "#46039f"
            ],
            [
             0.2222222222222222,
             "#7201a8"
            ],
            [
             0.3333333333333333,
             "#9c179e"
            ],
            [
             0.4444444444444444,
             "#bd3786"
            ],
            [
             0.5555555555555556,
             "#d8576b"
            ],
            [
             0.6666666666666666,
             "#ed7953"
            ],
            [
             0.7777777777777778,
             "#fb9f3a"
            ],
            [
             0.8888888888888888,
             "#fdca26"
            ],
            [
             1,
             "#f0f921"
            ]
           ],
           "sequentialminus": [
            [
             0,
             "#0d0887"
            ],
            [
             0.1111111111111111,
             "#46039f"
            ],
            [
             0.2222222222222222,
             "#7201a8"
            ],
            [
             0.3333333333333333,
             "#9c179e"
            ],
            [
             0.4444444444444444,
             "#bd3786"
            ],
            [
             0.5555555555555556,
             "#d8576b"
            ],
            [
             0.6666666666666666,
             "#ed7953"
            ],
            [
             0.7777777777777778,
             "#fb9f3a"
            ],
            [
             0.8888888888888888,
             "#fdca26"
            ],
            [
             1,
             "#f0f921"
            ]
           ]
          },
          "colorway": [
           "#636efa",
           "#EF553B",
           "#00cc96",
           "#ab63fa",
           "#FFA15A",
           "#19d3f3",
           "#FF6692",
           "#B6E880",
           "#FF97FF",
           "#FECB52"
          ],
          "font": {
           "color": "#2a3f5f"
          },
          "geo": {
           "bgcolor": "white",
           "lakecolor": "white",
           "landcolor": "#E5ECF6",
           "showlakes": true,
           "showland": true,
           "subunitcolor": "white"
          },
          "hoverlabel": {
           "align": "left"
          },
          "hovermode": "closest",
          "mapbox": {
           "style": "light"
          },
          "paper_bgcolor": "white",
          "plot_bgcolor": "#E5ECF6",
          "polar": {
           "angularaxis": {
            "gridcolor": "white",
            "linecolor": "white",
            "ticks": ""
           },
           "bgcolor": "#E5ECF6",
           "radialaxis": {
            "gridcolor": "white",
            "linecolor": "white",
            "ticks": ""
           }
          },
          "scene": {
           "xaxis": {
            "backgroundcolor": "#E5ECF6",
            "gridcolor": "white",
            "gridwidth": 2,
            "linecolor": "white",
            "showbackground": true,
            "ticks": "",
            "zerolinecolor": "white"
           },
           "yaxis": {
            "backgroundcolor": "#E5ECF6",
            "gridcolor": "white",
            "gridwidth": 2,
            "linecolor": "white",
            "showbackground": true,
            "ticks": "",
            "zerolinecolor": "white"
           },
           "zaxis": {
            "backgroundcolor": "#E5ECF6",
            "gridcolor": "white",
            "gridwidth": 2,
            "linecolor": "white",
            "showbackground": true,
            "ticks": "",
            "zerolinecolor": "white"
           }
          },
          "shapedefaults": {
           "line": {
            "color": "#2a3f5f"
           }
          },
          "ternary": {
           "aaxis": {
            "gridcolor": "white",
            "linecolor": "white",
            "ticks": ""
           },
           "baxis": {
            "gridcolor": "white",
            "linecolor": "white",
            "ticks": ""
           },
           "bgcolor": "#E5ECF6",
           "caxis": {
            "gridcolor": "white",
            "linecolor": "white",
            "ticks": ""
           }
          },
          "title": {
           "x": 0.05
          },
          "xaxis": {
           "automargin": true,
           "gridcolor": "white",
           "linecolor": "white",
           "ticks": "",
           "title": {
            "standoff": 15
           },
           "zerolinecolor": "white",
           "zerolinewidth": 2
          },
          "yaxis": {
           "automargin": true,
           "gridcolor": "white",
           "linecolor": "white",
           "ticks": "",
           "title": {
            "standoff": 15
           },
           "zerolinecolor": "white",
           "zerolinewidth": 2
          }
         }
        },
        "title": {
         "text": "Bus Factor of Issues Created in 6 Month Windows",
         "x": 0.5,
         "xanchor": "center"
        },
        "width": 800,
        "xaxis": {
         "anchor": "y",
         "domain": [
          0,
          1
         ],
         "dtick": "M4",
         "fixedrange": true,
         "tick0": "2017-01-20",
         "tickangle": 45,
         "tickformat": "%B %Y",
         "title": {
          "text": "Timeline (stepsize = 4 months)"
         }
        },
        "yaxis": {
         "anchor": "x",
         "domain": [
          0,
          1
         ],
         "title": {
          "text": "Bus Factor"
         }
        }
       }
      },
      "image/png": "[encoded data removed]"
     },
     "metadata": {},
     "output_type": "display_data"
    }
   ],
   "source": [
    "plot_line_graph(df=issue_bf_by_windows, \n",
    "               title='Bus Factor of Issues Created in 6 Month Windows',\n",
    "               xlabel='Timeline (stepsize = 4 months)', \n",
    "               ylabel='Bus Factor', \n",
    "               step_size=4)"
   ]
  },
  {
   "attachments": {},
   "cell_type": "markdown",
   "metadata": {},
   "source": [
    "We can further extend our notion of bus factor by number of PRs. Here we calculate bus factor seperately for contributors who have created PRs, contributors who have reviewed PRs, and individuals who have contributed to conversation around PRs."
   ]
  },
  {
   "attachments": {},
   "cell_type": "markdown",
   "metadata": {},
   "source": [
    "## Bus factor by number of PRs\n",
    "- Created PRs\n",
    "- Reviewed PRs\n",
    "- Made comments"
   ]
  },
  {
   "cell_type": "code",
   "execution_count": 24,
   "metadata": {},
   "outputs": [
    {
     "data": {
      "text/html": [
       "<div>\n",
       "<style scoped>\n",
       "    .dataframe tbody tr th:only-of-type {\n",
       "        vertical-align: middle;\n",
       "    }\n",
       "\n",
       "    .dataframe tbody tr th {\n",
       "        vertical-align: top;\n",
       "    }\n",
       "\n",
       "    .dataframe thead th {\n",
       "        text-align: right;\n",
       "    }\n",
       "</style>\n",
       "<table border=\"1\" class=\"dataframe\">\n",
       "  <thead>\n",
       "    <tr style=\"text-align: right;\">\n",
       "      <th></th>\n",
       "      <th>pr</th>\n",
       "      <th>cntrb_id</th>\n",
       "      <th>email</th>\n",
       "      <th>date</th>\n",
       "    </tr>\n",
       "  </thead>\n",
       "  <tbody>\n",
       "    <tr>\n",
       "      <th>0</th>\n",
       "      <td>25918</td>\n",
       "      <td>0103aa24-2600-0000-0000-000000000000</td>\n",
       "      <td>61482022+ABrain7710@users.noreply.github.com</td>\n",
       "      <td>2023-04-28 21:04:09</td>\n",
       "    </tr>\n",
       "    <tr>\n",
       "      <th>1</th>\n",
       "      <td>25918</td>\n",
       "      <td>0103aa24-2600-0000-0000-000000000000</td>\n",
       "      <td>andrewbrain2019@gmail.com</td>\n",
       "      <td>2023-04-28 21:04:09</td>\n",
       "    </tr>\n",
       "    <tr>\n",
       "      <th>2</th>\n",
       "      <td>25919</td>\n",
       "      <td>010177f7-2400-0000-0000-000000000000</td>\n",
       "      <td>imilarsky@gmail.com</td>\n",
       "      <td>2023-04-28 19:00:31</td>\n",
       "    </tr>\n",
       "    <tr>\n",
       "      <th>3</th>\n",
       "      <td>25919</td>\n",
       "      <td>010177f7-2400-0000-0000-000000000000</td>\n",
       "      <td>isaac@isaac-suse.dhcp.missouri.edu</td>\n",
       "      <td>2023-04-28 19:00:31</td>\n",
       "    </tr>\n",
       "    <tr>\n",
       "      <th>4</th>\n",
       "      <td>25919</td>\n",
       "      <td>010177f7-2400-0000-0000-000000000000</td>\n",
       "      <td>isaac.milarsky@cms.hhs.gov</td>\n",
       "      <td>2023-04-28 19:00:31</td>\n",
       "    </tr>\n",
       "  </tbody>\n",
       "</table>\n",
       "</div>"
      ],
      "text/plain": [
       "      pr                              cntrb_id  \\\n",
       "0  25918  0103aa24-2600-0000-0000-000000000000   \n",
       "1  25918  0103aa24-2600-0000-0000-000000000000   \n",
       "2  25919  010177f7-2400-0000-0000-000000000000   \n",
       "3  25919  010177f7-2400-0000-0000-000000000000   \n",
       "4  25919  010177f7-2400-0000-0000-000000000000   \n",
       "\n",
       "                                          email                date  \n",
       "0  61482022+ABrain7710@users.noreply.github.com 2023-04-28 21:04:09  \n",
       "1                     andrewbrain2019@gmail.com 2023-04-28 21:04:09  \n",
       "2                           imilarsky@gmail.com 2023-04-28 19:00:31  \n",
       "3            isaac@isaac-suse.dhcp.missouri.edu 2023-04-28 19:00:31  \n",
       "4                    isaac.milarsky@cms.hhs.gov 2023-04-28 19:00:31  "
      ]
     },
     "metadata": {},
     "output_type": "display_data"
    }
   ],
   "source": [
    "pr_create_query = salc.sql.text(f\"\"\"\n",
    "                    SELECT \n",
    "                        DISTINCT pr.pull_request_id as pr, \n",
    "                        pr.pr_augur_contributor_id AS cntrb_id, \n",
    "                        ca.alias_email as email, \n",
    "                        pr.pr_created_at as date\n",
    "                    FROM\n",
    "                        repo r,\n",
    "                        pull_requests pr, \n",
    "                        contributors_aliases ca\n",
    "                    WHERE\n",
    "                        r.repo_id in({repo_statement}) AND\n",
    "                        pr.repo_id = r.repo_id AND\n",
    "                        pr.pr_augur_contributor_id = ca.cntrb_id\n",
    "            \"\"\")\n",
    "\n",
    "conn_pr_created = get_df(pr_create_query)\n",
    "display(conn_pr_created.head())"
   ]
  },
  {
   "cell_type": "code",
   "execution_count": 25,
   "metadata": {},
   "outputs": [
    {
     "data": {
      "text/html": [
       "<div>\n",
       "<style scoped>\n",
       "    .dataframe tbody tr th:only-of-type {\n",
       "        vertical-align: middle;\n",
       "    }\n",
       "\n",
       "    .dataframe tbody tr th {\n",
       "        vertical-align: top;\n",
       "    }\n",
       "\n",
       "    .dataframe thead th {\n",
       "        text-align: right;\n",
       "    }\n",
       "</style>\n",
       "<table border=\"1\" class=\"dataframe\">\n",
       "  <thead>\n",
       "    <tr style=\"text-align: right;\">\n",
       "      <th></th>\n",
       "      <th>cntrb_id</th>\n",
       "      <th>pr</th>\n",
       "    </tr>\n",
       "  </thead>\n",
       "  <tbody>\n",
       "    <tr>\n",
       "      <th>0</th>\n",
       "      <td>010005cb-c700-0000-0000-000000000000</td>\n",
       "      <td>5355</td>\n",
       "    </tr>\n",
       "    <tr>\n",
       "      <th>1</th>\n",
       "      <td>010177f7-2400-0000-0000-000000000000</td>\n",
       "      <td>820</td>\n",
       "    </tr>\n",
       "    <tr>\n",
       "      <th>2</th>\n",
       "      <td>0103aa24-2600-0000-0000-000000000000</td>\n",
       "      <td>478</td>\n",
       "    </tr>\n",
       "    <tr>\n",
       "      <th>3</th>\n",
       "      <td>0101e100-7300-0000-0000-000000000000</td>\n",
       "      <td>376</td>\n",
       "    </tr>\n",
       "    <tr>\n",
       "      <th>4</th>\n",
       "      <td>0102f65a-0500-0000-0000-000000000000</td>\n",
       "      <td>274</td>\n",
       "    </tr>\n",
       "  </tbody>\n",
       "</table>\n",
       "</div>"
      ],
      "text/plain": [
       "                               cntrb_id    pr\n",
       "0  010005cb-c700-0000-0000-000000000000  5355\n",
       "1  010177f7-2400-0000-0000-000000000000   820\n",
       "2  0103aa24-2600-0000-0000-000000000000   478\n",
       "3  0101e100-7300-0000-0000-000000000000   376\n",
       "4  0102f65a-0500-0000-0000-000000000000   274"
      ]
     },
     "metadata": {},
     "output_type": "display_data"
    }
   ],
   "source": [
    "pr_created = count_cntrbs(df=conn_pr_created, contribution_type='pr')\n",
    "display(pr_created.head())"
   ]
  },
  {
   "cell_type": "code",
   "execution_count": 26,
   "metadata": {},
   "outputs": [
    {
     "name": "stdout",
     "output_type": "stream",
     "text": [
      "The bus factor in terms of contributors who created PRs augur is 1.\n",
      "Of the total number of contributors, 1 were identified as outliers.\n"
     ]
    }
   ],
   "source": [
    "bf_pr_created, cntrb_ids, num_outliers = calc_bus_factor(df=pr_created, contribution_type='pr', threshold=0.50)\n",
    "print(f'The bus factor in terms of contributors who created PRs {repo_name} is {bf_pr_created}.\\nOf the total number of contributors, {num_outliers} were identified as outliers.')"
   ]
  },
  {
   "cell_type": "code",
   "execution_count": 27,
   "metadata": {},
   "outputs": [
    {
     "data": {
      "text/html": [
       "<div>\n",
       "<style scoped>\n",
       "    .dataframe tbody tr th:only-of-type {\n",
       "        vertical-align: middle;\n",
       "    }\n",
       "\n",
       "    .dataframe tbody tr th {\n",
       "        vertical-align: top;\n",
       "    }\n",
       "\n",
       "    .dataframe thead th {\n",
       "        text-align: right;\n",
       "    }\n",
       "</style>\n",
       "<table border=\"1\" class=\"dataframe\">\n",
       "  <thead>\n",
       "    <tr style=\"text-align: right;\">\n",
       "      <th></th>\n",
       "      <th>period_from</th>\n",
       "      <th>period_to</th>\n",
       "      <th>bus_factor</th>\n",
       "    </tr>\n",
       "  </thead>\n",
       "  <tbody>\n",
       "    <tr>\n",
       "      <th>0</th>\n",
       "      <td>2024-12-14</td>\n",
       "      <td>2025-06-14</td>\n",
       "      <td>1</td>\n",
       "    </tr>\n",
       "    <tr>\n",
       "      <th>1</th>\n",
       "      <td>2024-08-14</td>\n",
       "      <td>2025-02-14</td>\n",
       "      <td>1</td>\n",
       "    </tr>\n",
       "    <tr>\n",
       "      <th>2</th>\n",
       "      <td>2024-04-14</td>\n",
       "      <td>2024-10-14</td>\n",
       "      <td>1</td>\n",
       "    </tr>\n",
       "    <tr>\n",
       "      <th>3</th>\n",
       "      <td>2023-12-14</td>\n",
       "      <td>2024-06-14</td>\n",
       "      <td>1</td>\n",
       "    </tr>\n",
       "    <tr>\n",
       "      <th>4</th>\n",
       "      <td>2023-08-14</td>\n",
       "      <td>2024-02-14</td>\n",
       "      <td>1</td>\n",
       "    </tr>\n",
       "  </tbody>\n",
       "</table>\n",
       "</div>"
      ],
      "text/plain": [
       "  period_from   period_to  bus_factor\n",
       "0  2024-12-14  2025-06-14           1\n",
       "1  2024-08-14  2025-02-14           1\n",
       "2  2024-04-14  2024-10-14           1\n",
       "3  2023-12-14  2024-06-14           1\n",
       "4  2023-08-14  2024-02-14           1"
      ]
     },
     "metadata": {},
     "output_type": "display_data"
    }
   ],
   "source": [
    "pr_created_bf_by_windows = bus_factor_by_windows(df=conn_pr_created, contribution_type='pr', window_width=6, step_size=4, threshold=0.5)\n",
    "display(pr_created_bf_by_windows.head())"
   ]
  },
  {
   "cell_type": "code",
   "execution_count": 28,
   "metadata": {},
   "outputs": [
    {
     "data": {
      "application/vnd.plotly.v1+json": {
       "config": {
        "plotlyServerURL": "https://plot.ly"
       },
       "data": [
        {
         "customdata": [
          [
           "2025-06-14"
          ],
          [
           "2025-02-14"
          ],
          [
           "2024-10-14"
          ],
          [
           "2024-06-14"
          ],
          [
           "2024-02-14"
          ],
          [
           "2023-10-14"
          ],
          [
           "2023-06-14"
          ],
          [
           "2023-02-14"
          ],
          [
           "2022-10-14"
          ],
          [
           "2022-06-14"
          ],
          [
           "2022-02-14"
          ],
          [
           "2021-10-14"
          ],
          [
           "2021-06-14"
          ],
          [
           "2021-02-14"
          ],
          [
           "2020-10-14"
          ],
          [
           "2020-06-14"
          ],
          [
           "2020-02-14"
          ],
          [
           "2019-10-14"
          ],
          [
           "2019-06-14"
          ],
          [
           "2019-02-14"
          ],
          [
           "2018-10-14"
          ],
          [
           "2018-06-14"
          ],
          [
           "2018-02-14"
          ],
          [
           "2017-10-14"
          ],
          [
           "2017-06-14"
          ]
         ],
         "hovertemplate": "period from: %{x: %m-%d}<br>period to: %{customdata[0]: %m-%d}",
         "legendgroup": "",
         "line": {
          "color": "lightgreen",
          "dash": "solid"
         },
         "marker": {
          "symbol": "circle"
         },
         "mode": "lines+markers+text",
         "name": "",
         "orientation": "v",
         "showlegend": false,
         "text": {
          "bdata": "AAAAAAAA8D8AAAAAAADwPwAAAAAAAPA/AAAAAAAA8D8AAAAAAADwPwAAAAAAAABAAAAAAAAAAEAAAAAAAADwPwAAAAAAAPA/AAAAAAAAAEAAAAAAAADwPwAAAAAAAPA/AAAAAAAA8D8AAAAAAADwPwAAAAAAAPA/AAAAAAAAAEAAAAAAAADwPwAAAAAAAABAAAAAAAAAAEAAAAAAAAAAQAAAAAAAAPA/AAAAAAAAAEAAAAAAAADwPwAAAAAAAPA/AAAAAAAAAEA=",
          "dtype": "f8"
         },
         "textposition": "top right",
         "type": "scatter",
         "x": [
          "2024-12-14",
          "2024-08-14",
          "2024-04-14",
          "2023-12-14",
          "2023-08-14",
          "2023-04-14",
          "2022-12-14",
          "2022-08-14",
          "2022-04-14",
          "2021-12-14",
          "2021-08-14",
          "2021-04-14",
          "2020-12-14",
          "2020-08-14",
          "2020-04-14",
          "2019-12-14",
          "2019-08-14",
          "2019-04-14",
          "2018-12-14",
          "2018-08-14",
          "2018-04-14",
          "2017-12-14",
          "2017-08-14",
          "2017-04-14",
          "2017-01-23"
         ],
         "xaxis": "x",
         "y": {
          "bdata": "AQEBAQECAgEBAgEBAQEBAgECAgIBAgEBAg==",
          "dtype": "i1"
         },
         "yaxis": "y"
        }
       ],
       "layout": {
        "height": 500,
        "legend": {
         "tracegroupgap": 0
        },
        "margin": {
         "t": 60
        },
        "template": {
         "data": {
          "bar": [
           {
            "error_x": {
             "color": "#2a3f5f"
            },
            "error_y": {
             "color": "#2a3f5f"
            },
            "marker": {
             "line": {
              "color": "#E5ECF6",
              "width": 0.5
             },
             "pattern": {
              "fillmode": "overlay",
              "size": 10,
              "solidity": 0.2
             }
            },
            "type": "bar"
           }
          ],
          "barpolar": [
           {
            "marker": {
             "line": {
              "color": "#E5ECF6",
              "width": 0.5
             },
             "pattern": {
              "fillmode": "overlay",
              "size": 10,
              "solidity": 0.2
             }
            },
            "type": "barpolar"
           }
          ],
          "carpet": [
           {
            "aaxis": {
             "endlinecolor": "#2a3f5f",
             "gridcolor": "white",
             "linecolor": "white",
             "minorgridcolor": "white",
             "startlinecolor": "#2a3f5f"
            },
            "baxis": {
             "endlinecolor": "#2a3f5f",
             "gridcolor": "white",
             "linecolor": "white",
             "minorgridcolor": "white",
             "startlinecolor": "#2a3f5f"
            },
            "type": "carpet"
           }
          ],
          "choropleth": [
           {
            "colorbar": {
             "outlinewidth": 0,
             "ticks": ""
            },
            "type": "choropleth"
           }
          ],
          "contour": [
           {
            "colorbar": {
             "outlinewidth": 0,
             "ticks": ""
            },
            "colorscale": [
             [
              0,
              "#0d0887"
             ],
             [
              0.1111111111111111,
              "#46039f"
             ],
             [
              0.2222222222222222,
              "#7201a8"
             ],
             [
              0.3333333333333333,
              "#9c179e"
             ],
             [
              0.4444444444444444,
              "#bd3786"
             ],
             [
              0.5555555555555556,
              "#d8576b"
             ],
             [
              0.6666666666666666,
              "#ed7953"
             ],
             [
              0.7777777777777778,
              "#fb9f3a"
             ],
             [
              0.8888888888888888,
              "#fdca26"
             ],
             [
              1,
              "#f0f921"
             ]
            ],
            "type": "contour"
           }
          ],
          "contourcarpet": [
           {
            "colorbar": {
             "outlinewidth": 0,
             "ticks": ""
            },
            "type": "contourcarpet"
           }
          ],
          "heatmap": [
           {
            "colorbar": {
             "outlinewidth": 0,
             "ticks": ""
            },
            "colorscale": [
             [
              0,
              "#0d0887"
             ],
             [
              0.1111111111111111,
              "#46039f"
             ],
             [
              0.2222222222222222,
              "#7201a8"
             ],
             [
              0.3333333333333333,
              "#9c179e"
             ],
             [
              0.4444444444444444,
              "#bd3786"
             ],
             [
              0.5555555555555556,
              "#d8576b"
             ],
             [
              0.6666666666666666,
              "#ed7953"
             ],
             [
              0.7777777777777778,
              "#fb9f3a"
             ],
             [
              0.8888888888888888,
              "#fdca26"
             ],
             [
              1,
              "#f0f921"
             ]
            ],
            "type": "heatmap"
           }
          ],
          "histogram": [
           {
            "marker": {
             "pattern": {
              "fillmode": "overlay",
              "size": 10,
              "solidity": 0.2
             }
            },
            "type": "histogram"
           }
          ],
          "histogram2d": [
           {
            "colorbar": {
             "outlinewidth": 0,
             "ticks": ""
            },
            "colorscale": [
             [
              0,
              "#0d0887"
             ],
             [
              0.1111111111111111,
              "#46039f"
             ],
             [
              0.2222222222222222,
              "#7201a8"
             ],
             [
              0.3333333333333333,
              "#9c179e"
             ],
             [
              0.4444444444444444,
              "#bd3786"
             ],
             [
              0.5555555555555556,
              "#d8576b"
             ],
             [
              0.6666666666666666,
              "#ed7953"
             ],
             [
              0.7777777777777778,
              "#fb9f3a"
             ],
             [
              0.8888888888888888,
              "#fdca26"
             ],
             [
              1,
              "#f0f921"
             ]
            ],
            "type": "histogram2d"
           }
          ],
          "histogram2dcontour": [
           {
            "colorbar": {
             "outlinewidth": 0,
             "ticks": ""
            },
            "colorscale": [
             [
              0,
              "#0d0887"
             ],
             [
              0.1111111111111111,
              "#46039f"
             ],
             [
              0.2222222222222222,
              "#7201a8"
             ],
             [
              0.3333333333333333,
              "#9c179e"
             ],
             [
              0.4444444444444444,
              "#bd3786"
             ],
             [
              0.5555555555555556,
              "#d8576b"
             ],
             [
              0.6666666666666666,
              "#ed7953"
             ],
             [
              0.7777777777777778,
              "#fb9f3a"
             ],
             [
              0.8888888888888888,
              "#fdca26"
             ],
             [
              1,
              "#f0f921"
             ]
            ],
            "type": "histogram2dcontour"
           }
          ],
          "mesh3d": [
           {
            "colorbar": {
             "outlinewidth": 0,
             "ticks": ""
            },
            "type": "mesh3d"
           }
          ],
          "parcoords": [
           {
            "line": {
             "colorbar": {
              "outlinewidth": 0,
              "ticks": ""
             }
            },
            "type": "parcoords"
           }
          ],
          "pie": [
           {
            "automargin": true,
            "type": "pie"
           }
          ],
          "scatter": [
           {
            "fillpattern": {
             "fillmode": "overlay",
             "size": 10,
             "solidity": 0.2
            },
            "type": "scatter"
           }
          ],
          "scatter3d": [
           {
            "line": {
             "colorbar": {
              "outlinewidth": 0,
              "ticks": ""
             }
            },
            "marker": {
             "colorbar": {
              "outlinewidth": 0,
              "ticks": ""
             }
            },
            "type": "scatter3d"
           }
          ],
          "scattercarpet": [
           {
            "marker": {
             "colorbar": {
              "outlinewidth": 0,
              "ticks": ""
             }
            },
            "type": "scattercarpet"
           }
          ],
          "scattergeo": [
           {
            "marker": {
             "colorbar": {
              "outlinewidth": 0,
              "ticks": ""
             }
            },
            "type": "scattergeo"
           }
          ],
          "scattergl": [
           {
            "marker": {
             "colorbar": {
              "outlinewidth": 0,
              "ticks": ""
             }
            },
            "type": "scattergl"
           }
          ],
          "scattermap": [
           {
            "marker": {
             "colorbar": {
              "outlinewidth": 0,
              "ticks": ""
             }
            },
            "type": "scattermap"
           }
          ],
          "scattermapbox": [
           {
            "marker": {
             "colorbar": {
              "outlinewidth": 0,
              "ticks": ""
             }
            },
            "type": "scattermapbox"
           }
          ],
          "scatterpolar": [
           {
            "marker": {
             "colorbar": {
              "outlinewidth": 0,
              "ticks": ""
             }
            },
            "type": "scatterpolar"
           }
          ],
          "scatterpolargl": [
           {
            "marker": {
             "colorbar": {
              "outlinewidth": 0,
              "ticks": ""
             }
            },
            "type": "scatterpolargl"
           }
          ],
          "scatterternary": [
           {
            "marker": {
             "colorbar": {
              "outlinewidth": 0,
              "ticks": ""
             }
            },
            "type": "scatterternary"
           }
          ],
          "surface": [
           {
            "colorbar": {
             "outlinewidth": 0,
             "ticks": ""
            },
            "colorscale": [
             [
              0,
              "#0d0887"
             ],
             [
              0.1111111111111111,
              "#46039f"
             ],
             [
              0.2222222222222222,
              "#7201a8"
             ],
             [
              0.3333333333333333,
              "#9c179e"
             ],
             [
              0.4444444444444444,
              "#bd3786"
             ],
             [
              0.5555555555555556,
              "#d8576b"
             ],
             [
              0.6666666666666666,
              "#ed7953"
             ],
             [
              0.7777777777777778,
              "#fb9f3a"
             ],
             [
              0.8888888888888888,
              "#fdca26"
             ],
             [
              1,
              "#f0f921"
             ]
            ],
            "type": "surface"
           }
          ],
          "table": [
           {
            "cells": {
             "fill": {
              "color": "#EBF0F8"
             },
             "line": {
              "color": "white"
             }
            },
            "header": {
             "fill": {
              "color": "#C8D4E3"
             },
             "line": {
              "color": "white"
             }
            },
            "type": "table"
           }
          ]
         },
         "layout": {
          "annotationdefaults": {
           "arrowcolor": "#2a3f5f",
           "arrowhead": 0,
           "arrowwidth": 1
          },
          "autotypenumbers": "strict",
          "coloraxis": {
           "colorbar": {
            "outlinewidth": 0,
            "ticks": ""
           }
          },
          "colorscale": {
           "diverging": [
            [
             0,
             "#8e0152"
            ],
            [
             0.1,
             "#c51b7d"
            ],
            [
             0.2,
             "#de77ae"
            ],
            [
             0.3,
             "#f1b6da"
            ],
            [
             0.4,
             "#fde0ef"
            ],
            [
             0.5,
             "#f7f7f7"
            ],
            [
             0.6,
             "#e6f5d0"
            ],
            [
             0.7,
             "#b8e186"
            ],
            [
             0.8,
             "#7fbc41"
            ],
            [
             0.9,
             "#4d9221"
            ],
            [
             1,
             "#276419"
            ]
           ],
           "sequential": [
            [
             0,
             "#0d0887"
            ],
            [
             0.1111111111111111,
             "#46039f"
            ],
            [
             0.2222222222222222,
             "#7201a8"
            ],
            [
             0.3333333333333333,
             "#9c179e"
            ],
            [
             0.4444444444444444,
             "#bd3786"
            ],
            [
             0.5555555555555556,
             "#d8576b"
            ],
            [
             0.6666666666666666,
             "#ed7953"
            ],
            [
             0.7777777777777778,
             "#fb9f3a"
            ],
            [
             0.8888888888888888,
             "#fdca26"
            ],
            [
             1,
             "#f0f921"
            ]
           ],
           "sequentialminus": [
            [
             0,
             "#0d0887"
            ],
            [
             0.1111111111111111,
             "#46039f"
            ],
            [
             0.2222222222222222,
             "#7201a8"
            ],
            [
             0.3333333333333333,
             "#9c179e"
            ],
            [
             0.4444444444444444,
             "#bd3786"
            ],
            [
             0.5555555555555556,
             "#d8576b"
            ],
            [
             0.6666666666666666,
             "#ed7953"
            ],
            [
             0.7777777777777778,
             "#fb9f3a"
            ],
            [
             0.8888888888888888,
             "#fdca26"
            ],
            [
             1,
             "#f0f921"
            ]
           ]
          },
          "colorway": [
           "#636efa",
           "#EF553B",
           "#00cc96",
           "#ab63fa",
           "#FFA15A",
           "#19d3f3",
           "#FF6692",
           "#B6E880",
           "#FF97FF",
           "#FECB52"
          ],
          "font": {
           "color": "#2a3f5f"
          },
          "geo": {
           "bgcolor": "white",
           "lakecolor": "white",
           "landcolor": "#E5ECF6",
           "showlakes": true,
           "showland": true,
           "subunitcolor": "white"
          },
          "hoverlabel": {
           "align": "left"
          },
          "hovermode": "closest",
          "mapbox": {
           "style": "light"
          },
          "paper_bgcolor": "white",
          "plot_bgcolor": "#E5ECF6",
          "polar": {
           "angularaxis": {
            "gridcolor": "white",
            "linecolor": "white",
            "ticks": ""
           },
           "bgcolor": "#E5ECF6",
           "radialaxis": {
            "gridcolor": "white",
            "linecolor": "white",
            "ticks": ""
           }
          },
          "scene": {
           "xaxis": {
            "backgroundcolor": "#E5ECF6",
            "gridcolor": "white",
            "gridwidth": 2,
            "linecolor": "white",
            "showbackground": true,
            "ticks": "",
            "zerolinecolor": "white"
           },
           "yaxis": {
            "backgroundcolor": "#E5ECF6",
            "gridcolor": "white",
            "gridwidth": 2,
            "linecolor": "white",
            "showbackground": true,
            "ticks": "",
            "zerolinecolor": "white"
           },
           "zaxis": {
            "backgroundcolor": "#E5ECF6",
            "gridcolor": "white",
            "gridwidth": 2,
            "linecolor": "white",
            "showbackground": true,
            "ticks": "",
            "zerolinecolor": "white"
           }
          },
          "shapedefaults": {
           "line": {
            "color": "#2a3f5f"
           }
          },
          "ternary": {
           "aaxis": {
            "gridcolor": "white",
            "linecolor": "white",
            "ticks": ""
           },
           "baxis": {
            "gridcolor": "white",
            "linecolor": "white",
            "ticks": ""
           },
           "bgcolor": "#E5ECF6",
           "caxis": {
            "gridcolor": "white",
            "linecolor": "white",
            "ticks": ""
           }
          },
          "title": {
           "x": 0.05
          },
          "xaxis": {
           "automargin": true,
           "gridcolor": "white",
           "linecolor": "white",
           "ticks": "",
           "title": {
            "standoff": 15
           },
           "zerolinecolor": "white",
           "zerolinewidth": 2
          },
          "yaxis": {
           "automargin": true,
           "gridcolor": "white",
           "linecolor": "white",
           "ticks": "",
           "title": {
            "standoff": 15
           },
           "zerolinecolor": "white",
           "zerolinewidth": 2
          }
         }
        },
        "title": {
         "text": "Bus Factor of PRs Created in 6 Month Windows",
         "x": 0.5,
         "xanchor": "center"
        },
        "width": 800,
        "xaxis": {
         "anchor": "y",
         "domain": [
          0,
          1
         ],
         "dtick": "M4",
         "fixedrange": true,
         "tick0": "2017-01-23",
         "tickangle": 45,
         "tickformat": "%B %Y",
         "title": {
          "text": "Timeline (step size = 4 months)"
         }
        },
        "yaxis": {
         "anchor": "x",
         "domain": [
          0,
          1
         ],
         "title": {
          "text": "Bus Factor"
         }
        }
       }
      },
      "image/png": "[encoded data removed]"
     },
     "metadata": {},
     "output_type": "display_data"
    }
   ],
   "source": [
    "plot_line_graph(df=pr_created_bf_by_windows, \n",
    "               title='Bus Factor of PRs Created in 6 Month Windows',\n",
    "               xlabel='Timeline (step size = 4 months)', \n",
    "               ylabel='Bus Factor', \n",
    "               step_size=4)"
   ]
  },
  {
   "attachments": {},
   "cell_type": "markdown",
   "metadata": {},
   "source": [
    "Let's repeat the process for reviewers."
   ]
  },
  {
   "cell_type": "code",
   "execution_count": 29,
   "metadata": {},
   "outputs": [
    {
     "data": {
      "text/html": [
       "<div>\n",
       "<style scoped>\n",
       "    .dataframe tbody tr th:only-of-type {\n",
       "        vertical-align: middle;\n",
       "    }\n",
       "\n",
       "    .dataframe tbody tr th {\n",
       "        vertical-align: top;\n",
       "    }\n",
       "\n",
       "    .dataframe thead th {\n",
       "        text-align: right;\n",
       "    }\n",
       "</style>\n",
       "<table border=\"1\" class=\"dataframe\">\n",
       "  <thead>\n",
       "    <tr style=\"text-align: right;\">\n",
       "      <th></th>\n",
       "      <th>pr</th>\n",
       "      <th>cntrb_id</th>\n",
       "      <th>email</th>\n",
       "      <th>date</th>\n",
       "    </tr>\n",
       "  </thead>\n",
       "  <tbody>\n",
       "    <tr>\n",
       "      <th>0</th>\n",
       "      <td>27670</td>\n",
       "      <td>01000a03-5000-0000-0000-000000000000</td>\n",
       "      <td>mattgermonprez@Matts-MacBook-Pro-2.local</td>\n",
       "      <td>2017-01-23 20:06:27</td>\n",
       "    </tr>\n",
       "    <tr>\n",
       "      <th>1</th>\n",
       "      <td>27670</td>\n",
       "      <td>01000a03-5000-0000-0000-000000000000</td>\n",
       "      <td>germonprez@gmail.com</td>\n",
       "      <td>2017-01-23 20:06:27</td>\n",
       "    </tr>\n",
       "    <tr>\n",
       "      <th>2</th>\n",
       "      <td>27670</td>\n",
       "      <td>01000a03-5000-0000-0000-000000000000</td>\n",
       "      <td>mattgermonprez@Matts-MacBook-Pro-2.local</td>\n",
       "      <td>2017-01-23 20:06:27</td>\n",
       "    </tr>\n",
       "    <tr>\n",
       "      <th>3</th>\n",
       "      <td>27670</td>\n",
       "      <td>01000a03-5000-0000-0000-000000000000</td>\n",
       "      <td>germonprez@gmail.com</td>\n",
       "      <td>2017-01-23 20:06:27</td>\n",
       "    </tr>\n",
       "    <tr>\n",
       "      <th>4</th>\n",
       "      <td>27670</td>\n",
       "      <td>01000cc1-1000-0000-0000-000000000000</td>\n",
       "      <td>derek@howderek.com</td>\n",
       "      <td>2017-01-23 20:49:42</td>\n",
       "    </tr>\n",
       "  </tbody>\n",
       "</table>\n",
       "</div>"
      ],
      "text/plain": [
       "      pr                              cntrb_id  \\\n",
       "0  27670  01000a03-5000-0000-0000-000000000000   \n",
       "1  27670  01000a03-5000-0000-0000-000000000000   \n",
       "2  27670  01000a03-5000-0000-0000-000000000000   \n",
       "3  27670  01000a03-5000-0000-0000-000000000000   \n",
       "4  27670  01000cc1-1000-0000-0000-000000000000   \n",
       "\n",
       "                                      email                date  \n",
       "0  mattgermonprez@Matts-MacBook-Pro-2.local 2017-01-23 20:06:27  \n",
       "1                      germonprez@gmail.com 2017-01-23 20:06:27  \n",
       "2  mattgermonprez@Matts-MacBook-Pro-2.local 2017-01-23 20:06:27  \n",
       "3                      germonprez@gmail.com 2017-01-23 20:06:27  \n",
       "4                        derek@howderek.com 2017-01-23 20:49:42  "
      ]
     },
     "metadata": {},
     "output_type": "display_data"
    }
   ],
   "source": [
    "pr_review_query = salc.sql.text(f\"\"\"\n",
    "                    SELECT \n",
    "                        pre.pull_request_id as pr, \n",
    "                        pre.cntrb_id, \n",
    "                        ca.alias_email as email, \n",
    "                        pre.created_at as date\n",
    "                    FROM\n",
    "                        repo r,\n",
    "                        pull_request_events pre,  \n",
    "                        contributors_aliases ca\n",
    "                    WHERE\n",
    "                        r.repo_id in({repo_statement}) AND\n",
    "                        r.repo_id = pre.repo_id AND\n",
    "                        pre.cntrb_id = ca.cntrb_id \n",
    "            \"\"\")\n",
    "\n",
    "conn_pr_review = get_df(pr_review_query)\n",
    "display(conn_pr_review.head())"
   ]
  },
  {
   "cell_type": "code",
   "execution_count": 30,
   "metadata": {},
   "outputs": [
    {
     "data": {
      "text/html": [
       "<div>\n",
       "<style scoped>\n",
       "    .dataframe tbody tr th:only-of-type {\n",
       "        vertical-align: middle;\n",
       "    }\n",
       "\n",
       "    .dataframe tbody tr th {\n",
       "        vertical-align: top;\n",
       "    }\n",
       "\n",
       "    .dataframe thead th {\n",
       "        text-align: right;\n",
       "    }\n",
       "</style>\n",
       "<table border=\"1\" class=\"dataframe\">\n",
       "  <thead>\n",
       "    <tr style=\"text-align: right;\">\n",
       "      <th></th>\n",
       "      <th>cntrb_id</th>\n",
       "      <th>pr</th>\n",
       "    </tr>\n",
       "  </thead>\n",
       "  <tbody>\n",
       "    <tr>\n",
       "      <th>0</th>\n",
       "      <td>010005cb-c700-0000-0000-000000000000</td>\n",
       "      <td>47145</td>\n",
       "    </tr>\n",
       "    <tr>\n",
       "      <th>1</th>\n",
       "      <td>0101e100-7300-0000-0000-000000000000</td>\n",
       "      <td>6536</td>\n",
       "    </tr>\n",
       "    <tr>\n",
       "      <th>2</th>\n",
       "      <td>010177f7-2400-0000-0000-000000000000</td>\n",
       "      <td>2965</td>\n",
       "    </tr>\n",
       "    <tr>\n",
       "      <th>3</th>\n",
       "      <td>0103aa24-2600-0000-0000-000000000000</td>\n",
       "      <td>2278</td>\n",
       "    </tr>\n",
       "    <tr>\n",
       "      <th>4</th>\n",
       "      <td>01013cd8-ae00-0000-0000-000000000000</td>\n",
       "      <td>1842</td>\n",
       "    </tr>\n",
       "  </tbody>\n",
       "</table>\n",
       "</div>"
      ],
      "text/plain": [
       "                               cntrb_id     pr\n",
       "0  010005cb-c700-0000-0000-000000000000  47145\n",
       "1  0101e100-7300-0000-0000-000000000000   6536\n",
       "2  010177f7-2400-0000-0000-000000000000   2965\n",
       "3  0103aa24-2600-0000-0000-000000000000   2278\n",
       "4  01013cd8-ae00-0000-0000-000000000000   1842"
      ]
     },
     "metadata": {},
     "output_type": "display_data"
    }
   ],
   "source": [
    "pr_reviewed = count_cntrbs(conn_pr_review, contribution_type='pr')\n",
    "display(pr_reviewed.head())"
   ]
  },
  {
   "cell_type": "code",
   "execution_count": 31,
   "metadata": {},
   "outputs": [
    {
     "name": "stdout",
     "output_type": "stream",
     "text": [
      "The bus factor in terms of reviewers who reviewed PRs for augur is 1.\n",
      "Of the total number of contributors, 1 were identified as outliers.\n"
     ]
    }
   ],
   "source": [
    "bf_pr_reviwed, cntrb_ids, num_outliers = calc_bus_factor(pr_reviewed, contribution_type='pr', threshold=0.50)\n",
    "print(f'The bus factor in terms of reviewers who reviewed PRs for {repo_name} is {bf_pr_reviwed}.\\nOf the total number of contributors, {num_outliers} were identified as outliers.')"
   ]
  },
  {
   "cell_type": "code",
   "execution_count": 32,
   "metadata": {},
   "outputs": [
    {
     "data": {
      "text/html": [
       "<div>\n",
       "<style scoped>\n",
       "    .dataframe tbody tr th:only-of-type {\n",
       "        vertical-align: middle;\n",
       "    }\n",
       "\n",
       "    .dataframe tbody tr th {\n",
       "        vertical-align: top;\n",
       "    }\n",
       "\n",
       "    .dataframe thead th {\n",
       "        text-align: right;\n",
       "    }\n",
       "</style>\n",
       "<table border=\"1\" class=\"dataframe\">\n",
       "  <thead>\n",
       "    <tr style=\"text-align: right;\">\n",
       "      <th></th>\n",
       "      <th>period_from</th>\n",
       "      <th>period_to</th>\n",
       "      <th>bus_factor</th>\n",
       "    </tr>\n",
       "  </thead>\n",
       "  <tbody>\n",
       "    <tr>\n",
       "      <th>0</th>\n",
       "      <td>2024-12-14</td>\n",
       "      <td>2025-06-14</td>\n",
       "      <td>1</td>\n",
       "    </tr>\n",
       "    <tr>\n",
       "      <th>1</th>\n",
       "      <td>2024-08-14</td>\n",
       "      <td>2025-02-14</td>\n",
       "      <td>1</td>\n",
       "    </tr>\n",
       "    <tr>\n",
       "      <th>2</th>\n",
       "      <td>2024-04-14</td>\n",
       "      <td>2024-10-14</td>\n",
       "      <td>1</td>\n",
       "    </tr>\n",
       "    <tr>\n",
       "      <th>3</th>\n",
       "      <td>2023-12-14</td>\n",
       "      <td>2024-06-14</td>\n",
       "      <td>1</td>\n",
       "    </tr>\n",
       "    <tr>\n",
       "      <th>4</th>\n",
       "      <td>2023-08-14</td>\n",
       "      <td>2024-02-14</td>\n",
       "      <td>1</td>\n",
       "    </tr>\n",
       "  </tbody>\n",
       "</table>\n",
       "</div>"
      ],
      "text/plain": [
       "  period_from   period_to  bus_factor\n",
       "0  2024-12-14  2025-06-14           1\n",
       "1  2024-08-14  2025-02-14           1\n",
       "2  2024-04-14  2024-10-14           1\n",
       "3  2023-12-14  2024-06-14           1\n",
       "4  2023-08-14  2024-02-14           1"
      ]
     },
     "metadata": {},
     "output_type": "display_data"
    }
   ],
   "source": [
    "pr_reviewed_bf_by_windows = bus_factor_by_windows(conn_pr_review, contribution_type='pr', threshold=0.50, window_width=6, step_size=4)\n",
    "display(pr_reviewed_bf_by_windows.head())"
   ]
  },
  {
   "cell_type": "code",
   "execution_count": 33,
   "metadata": {},
   "outputs": [
    {
     "data": {
      "application/vnd.plotly.v1+json": {
       "config": {
        "plotlyServerURL": "https://plot.ly"
       },
       "data": [
        {
         "customdata": [
          [
           "2025-06-14"
          ],
          [
           "2025-02-14"
          ],
          [
           "2024-10-14"
          ],
          [
           "2024-06-14"
          ],
          [
           "2024-02-14"
          ],
          [
           "2023-10-14"
          ],
          [
           "2023-06-14"
          ],
          [
           "2023-02-14"
          ],
          [
           "2022-10-14"
          ],
          [
           "2022-06-14"
          ],
          [
           "2022-02-14"
          ],
          [
           "2021-10-14"
          ],
          [
           "2021-06-14"
          ],
          [
           "2021-02-14"
          ],
          [
           "2020-10-14"
          ],
          [
           "2020-06-14"
          ],
          [
           "2020-02-14"
          ],
          [
           "2019-10-14"
          ],
          [
           "2019-06-14"
          ],
          [
           "2019-02-14"
          ],
          [
           "2018-10-14"
          ],
          [
           "2018-06-14"
          ],
          [
           "2018-02-14"
          ],
          [
           "2017-10-14"
          ],
          [
           "2017-06-14"
          ]
         ],
         "hovertemplate": "period from: %{x: %m-%d}<br>period to: %{customdata[0]: %m-%d}",
         "legendgroup": "",
         "line": {
          "color": "lightgreen",
          "dash": "solid"
         },
         "marker": {
          "symbol": "circle"
         },
         "mode": "lines+markers+text",
         "name": "",
         "orientation": "v",
         "showlegend": false,
         "text": {
          "bdata": "AAAAAAAA8D8AAAAAAADwPwAAAAAAAPA/AAAAAAAA8D8AAAAAAADwPwAAAAAAAPA/AAAAAAAA8D8AAAAAAADwPwAAAAAAAPA/AAAAAAAA8D8AAAAAAADwPwAAAAAAAPA/AAAAAAAA8D8AAAAAAADwPwAAAAAAAPA/AAAAAAAAAEAAAAAAAADwPwAAAAAAAPA/AAAAAAAA8D8AAAAAAADwPwAAAAAAAPA/AAAAAAAA8D8AAAAAAADwPwAAAAAAAPA/AAAAAAAAAEA=",
          "dtype": "f8"
         },
         "textposition": "top right",
         "type": "scatter",
         "x": [
          "2024-12-14",
          "2024-08-14",
          "2024-04-14",
          "2023-12-14",
          "2023-08-14",
          "2023-04-14",
          "2022-12-14",
          "2022-08-14",
          "2022-04-14",
          "2021-12-14",
          "2021-08-14",
          "2021-04-14",
          "2020-12-14",
          "2020-08-14",
          "2020-04-14",
          "2019-12-14",
          "2019-08-14",
          "2019-04-14",
          "2018-12-14",
          "2018-08-14",
          "2018-04-14",
          "2017-12-14",
          "2017-08-14",
          "2017-04-14",
          "2017-01-23"
         ],
         "xaxis": "x",
         "y": {
          "bdata": "AQEBAQEBAQEBAQEBAQEBAgEBAQEBAQEBAg==",
          "dtype": "i1"
         },
         "yaxis": "y"
        }
       ],
       "layout": {
        "height": 500,
        "legend": {
         "tracegroupgap": 0
        },
        "margin": {
         "t": 60
        },
        "template": {
         "data": {
          "bar": [
           {
            "error_x": {
             "color": "#2a3f5f"
            },
            "error_y": {
             "color": "#2a3f5f"
            },
            "marker": {
             "line": {
              "color": "#E5ECF6",
              "width": 0.5
             },
             "pattern": {
              "fillmode": "overlay",
              "size": 10,
              "solidity": 0.2
             }
            },
            "type": "bar"
           }
          ],
          "barpolar": [
           {
            "marker": {
             "line": {
              "color": "#E5ECF6",
              "width": 0.5
             },
             "pattern": {
              "fillmode": "overlay",
              "size": 10,
              "solidity": 0.2
             }
            },
            "type": "barpolar"
           }
          ],
          "carpet": [
           {
            "aaxis": {
             "endlinecolor": "#2a3f5f",
             "gridcolor": "white",
             "linecolor": "white",
             "minorgridcolor": "white",
             "startlinecolor": "#2a3f5f"
            },
            "baxis": {
             "endlinecolor": "#2a3f5f",
             "gridcolor": "white",
             "linecolor": "white",
             "minorgridcolor": "white",
             "startlinecolor": "#2a3f5f"
            },
            "type": "carpet"
           }
          ],
          "choropleth": [
           {
            "colorbar": {
             "outlinewidth": 0,
             "ticks": ""
            },
            "type": "choropleth"
           }
          ],
          "contour": [
           {
            "colorbar": {
             "outlinewidth": 0,
             "ticks": ""
            },
            "colorscale": [
             [
              0,
              "#0d0887"
             ],
             [
              0.1111111111111111,
              "#46039f"
             ],
             [
              0.2222222222222222,
              "#7201a8"
             ],
             [
              0.3333333333333333,
              "#9c179e"
             ],
             [
              0.4444444444444444,
              "#bd3786"
             ],
             [
              0.5555555555555556,
              "#d8576b"
             ],
             [
              0.6666666666666666,
              "#ed7953"
             ],
             [
              0.7777777777777778,
              "#fb9f3a"
             ],
             [
              0.8888888888888888,
              "#fdca26"
             ],
             [
              1,
              "#f0f921"
             ]
            ],
            "type": "contour"
           }
          ],
          "contourcarpet": [
           {
            "colorbar": {
             "outlinewidth": 0,
             "ticks": ""
            },
            "type": "contourcarpet"
           }
          ],
          "heatmap": [
           {
            "colorbar": {
             "outlinewidth": 0,
             "ticks": ""
            },
            "colorscale": [
             [
              0,
              "#0d0887"
             ],
             [
              0.1111111111111111,
              "#46039f"
             ],
             [
              0.2222222222222222,
              "#7201a8"
             ],
             [
              0.3333333333333333,
              "#9c179e"
             ],
             [
              0.4444444444444444,
              "#bd3786"
             ],
             [
              0.5555555555555556,
              "#d8576b"
             ],
             [
              0.6666666666666666,
              "#ed7953"
             ],
             [
              0.7777777777777778,
              "#fb9f3a"
             ],
             [
              0.8888888888888888,
              "#fdca26"
             ],
             [
              1,
              "#f0f921"
             ]
            ],
            "type": "heatmap"
           }
          ],
          "histogram": [
           {
            "marker": {
             "pattern": {
              "fillmode": "overlay",
              "size": 10,
              "solidity": 0.2
             }
            },
            "type": "histogram"
           }
          ],
          "histogram2d": [
           {
            "colorbar": {
             "outlinewidth": 0,
             "ticks": ""
            },
            "colorscale": [
             [
              0,
              "#0d0887"
             ],
             [
              0.1111111111111111,
              "#46039f"
             ],
             [
              0.2222222222222222,
              "#7201a8"
             ],
             [
              0.3333333333333333,
              "#9c179e"
             ],
             [
              0.4444444444444444,
              "#bd3786"
             ],
             [
              0.5555555555555556,
              "#d8576b"
             ],
             [
              0.6666666666666666,
              "#ed7953"
             ],
             [
              0.7777777777777778,
              "#fb9f3a"
             ],
             [
              0.8888888888888888,
              "#fdca26"
             ],
             [
              1,
              "#f0f921"
             ]
            ],
            "type": "histogram2d"
           }
          ],
          "histogram2dcontour": [
           {
            "colorbar": {
             "outlinewidth": 0,
             "ticks": ""
            },
            "colorscale": [
             [
              0,
              "#0d0887"
             ],
             [
              0.1111111111111111,
              "#46039f"
             ],
             [
              0.2222222222222222,
              "#7201a8"
             ],
             [
              0.3333333333333333,
              "#9c179e"
             ],
             [
              0.4444444444444444,
              "#bd3786"
             ],
             [
              0.5555555555555556,
              "#d8576b"
             ],
             [
              0.6666666666666666,
              "#ed7953"
             ],
             [
              0.7777777777777778,
              "#fb9f3a"
             ],
             [
              0.8888888888888888,
              "#fdca26"
             ],
             [
              1,
              "#f0f921"
             ]
            ],
            "type": "histogram2dcontour"
           }
          ],
          "mesh3d": [
           {
            "colorbar": {
             "outlinewidth": 0,
             "ticks": ""
            },
            "type": "mesh3d"
           }
          ],
          "parcoords": [
           {
            "line": {
             "colorbar": {
              "outlinewidth": 0,
              "ticks": ""
             }
            },
            "type": "parcoords"
           }
          ],
          "pie": [
           {
            "automargin": true,
            "type": "pie"
           }
          ],
          "scatter": [
           {
            "fillpattern": {
             "fillmode": "overlay",
             "size": 10,
             "solidity": 0.2
            },
            "type": "scatter"
           }
          ],
          "scatter3d": [
           {
            "line": {
             "colorbar": {
              "outlinewidth": 0,
              "ticks": ""
             }
            },
            "marker": {
             "colorbar": {
              "outlinewidth": 0,
              "ticks": ""
             }
            },
            "type": "scatter3d"
           }
          ],
          "scattercarpet": [
           {
            "marker": {
             "colorbar": {
              "outlinewidth": 0,
              "ticks": ""
             }
            },
            "type": "scattercarpet"
           }
          ],
          "scattergeo": [
           {
            "marker": {
             "colorbar": {
              "outlinewidth": 0,
              "ticks": ""
             }
            },
            "type": "scattergeo"
           }
          ],
          "scattergl": [
           {
            "marker": {
             "colorbar": {
              "outlinewidth": 0,
              "ticks": ""
             }
            },
            "type": "scattergl"
           }
          ],
          "scattermap": [
           {
            "marker": {
             "colorbar": {
              "outlinewidth": 0,
              "ticks": ""
             }
            },
            "type": "scattermap"
           }
          ],
          "scattermapbox": [
           {
            "marker": {
             "colorbar": {
              "outlinewidth": 0,
              "ticks": ""
             }
            },
            "type": "scattermapbox"
           }
          ],
          "scatterpolar": [
           {
            "marker": {
             "colorbar": {
              "outlinewidth": 0,
              "ticks": ""
             }
            },
            "type": "scatterpolar"
           }
          ],
          "scatterpolargl": [
           {
            "marker": {
             "colorbar": {
              "outlinewidth": 0,
              "ticks": ""
             }
            },
            "type": "scatterpolargl"
           }
          ],
          "scatterternary": [
           {
            "marker": {
             "colorbar": {
              "outlinewidth": 0,
              "ticks": ""
             }
            },
            "type": "scatterternary"
           }
          ],
          "surface": [
           {
            "colorbar": {
             "outlinewidth": 0,
             "ticks": ""
            },
            "colorscale": [
             [
              0,
              "#0d0887"
             ],
             [
              0.1111111111111111,
              "#46039f"
             ],
             [
              0.2222222222222222,
              "#7201a8"
             ],
             [
              0.3333333333333333,
              "#9c179e"
             ],
             [
              0.4444444444444444,
              "#bd3786"
             ],
             [
              0.5555555555555556,
              "#d8576b"
             ],
             [
              0.6666666666666666,
              "#ed7953"
             ],
             [
              0.7777777777777778,
              "#fb9f3a"
             ],
             [
              0.8888888888888888,
              "#fdca26"
             ],
             [
              1,
              "#f0f921"
             ]
            ],
            "type": "surface"
           }
          ],
          "table": [
           {
            "cells": {
             "fill": {
              "color": "#EBF0F8"
             },
             "line": {
              "color": "white"
             }
            },
            "header": {
             "fill": {
              "color": "#C8D4E3"
             },
             "line": {
              "color": "white"
             }
            },
            "type": "table"
           }
          ]
         },
         "layout": {
          "annotationdefaults": {
           "arrowcolor": "#2a3f5f",
           "arrowhead": 0,
           "arrowwidth": 1
          },
          "autotypenumbers": "strict",
          "coloraxis": {
           "colorbar": {
            "outlinewidth": 0,
            "ticks": ""
           }
          },
          "colorscale": {
           "diverging": [
            [
             0,
             "#8e0152"
            ],
            [
             0.1,
             "#c51b7d"
            ],
            [
             0.2,
             "#de77ae"
            ],
            [
             0.3,
             "#f1b6da"
            ],
            [
             0.4,
             "#fde0ef"
            ],
            [
             0.5,
             "#f7f7f7"
            ],
            [
             0.6,
             "#e6f5d0"
            ],
            [
             0.7,
             "#b8e186"
            ],
            [
             0.8,
             "#7fbc41"
            ],
            [
             0.9,
             "#4d9221"
            ],
            [
             1,
             "#276419"
            ]
           ],
           "sequential": [
            [
             0,
             "#0d0887"
            ],
            [
             0.1111111111111111,
             "#46039f"
            ],
            [
             0.2222222222222222,
             "#7201a8"
            ],
            [
             0.3333333333333333,
             "#9c179e"
            ],
            [
             0.4444444444444444,
             "#bd3786"
            ],
            [
             0.5555555555555556,
             "#d8576b"
            ],
            [
             0.6666666666666666,
             "#ed7953"
            ],
            [
             0.7777777777777778,
             "#fb9f3a"
            ],
            [
             0.8888888888888888,
             "#fdca26"
            ],
            [
             1,
             "#f0f921"
            ]
           ],
           "sequentialminus": [
            [
             0,
             "#0d0887"
            ],
            [
             0.1111111111111111,
             "#46039f"
            ],
            [
             0.2222222222222222,
             "#7201a8"
            ],
            [
             0.3333333333333333,
             "#9c179e"
            ],
            [
             0.4444444444444444,
             "#bd3786"
            ],
            [
             0.5555555555555556,
             "#d8576b"
            ],
            [
             0.6666666666666666,
             "#ed7953"
            ],
            [
             0.7777777777777778,
             "#fb9f3a"
            ],
            [
             0.8888888888888888,
             "#fdca26"
            ],
            [
             1,
             "#f0f921"
            ]
           ]
          },
          "colorway": [
           "#636efa",
           "#EF553B",
           "#00cc96",
           "#ab63fa",
           "#FFA15A",
           "#19d3f3",
           "#FF6692",
           "#B6E880",
           "#FF97FF",
           "#FECB52"
          ],
          "font": {
           "color": "#2a3f5f"
          },
          "geo": {
           "bgcolor": "white",
           "lakecolor": "white",
           "landcolor": "#E5ECF6",
           "showlakes": true,
           "showland": true,
           "subunitcolor": "white"
          },
          "hoverlabel": {
           "align": "left"
          },
          "hovermode": "closest",
          "mapbox": {
           "style": "light"
          },
          "paper_bgcolor": "white",
          "plot_bgcolor": "#E5ECF6",
          "polar": {
           "angularaxis": {
            "gridcolor": "white",
            "linecolor": "white",
            "ticks": ""
           },
           "bgcolor": "#E5ECF6",
           "radialaxis": {
            "gridcolor": "white",
            "linecolor": "white",
            "ticks": ""
           }
          },
          "scene": {
           "xaxis": {
            "backgroundcolor": "#E5ECF6",
            "gridcolor": "white",
            "gridwidth": 2,
            "linecolor": "white",
            "showbackground": true,
            "ticks": "",
            "zerolinecolor": "white"
           },
           "yaxis": {
            "backgroundcolor": "#E5ECF6",
            "gridcolor": "white",
            "gridwidth": 2,
            "linecolor": "white",
            "showbackground": true,
            "ticks": "",
            "zerolinecolor": "white"
           },
           "zaxis": {
            "backgroundcolor": "#E5ECF6",
            "gridcolor": "white",
            "gridwidth": 2,
            "linecolor": "white",
            "showbackground": true,
            "ticks": "",
            "zerolinecolor": "white"
           }
          },
          "shapedefaults": {
           "line": {
            "color": "#2a3f5f"
           }
          },
          "ternary": {
           "aaxis": {
            "gridcolor": "white",
            "linecolor": "white",
            "ticks": ""
           },
           "baxis": {
            "gridcolor": "white",
            "linecolor": "white",
            "ticks": ""
           },
           "bgcolor": "#E5ECF6",
           "caxis": {
            "gridcolor": "white",
            "linecolor": "white",
            "ticks": ""
           }
          },
          "title": {
           "x": 0.05
          },
          "xaxis": {
           "automargin": true,
           "gridcolor": "white",
           "linecolor": "white",
           "ticks": "",
           "title": {
            "standoff": 15
           },
           "zerolinecolor": "white",
           "zerolinewidth": 2
          },
          "yaxis": {
           "automargin": true,
           "gridcolor": "white",
           "linecolor": "white",
           "ticks": "",
           "title": {
            "standoff": 15
           },
           "zerolinecolor": "white",
           "zerolinewidth": 2
          }
         }
        },
        "title": {
         "text": "Bus Factor of PR Reviews in 6 Month Windows",
         "x": 0.5,
         "xanchor": "center"
        },
        "width": 800,
        "xaxis": {
         "anchor": "y",
         "domain": [
          0,
          1
         ],
         "dtick": "M4",
         "fixedrange": true,
         "tick0": "2017-01-23",
         "tickangle": 45,
         "tickformat": "%B %Y",
         "title": {
          "text": "Timeline (stepsize = 4 months)"
         }
        },
        "yaxis": {
         "anchor": "x",
         "domain": [
          0,
          1
         ],
         "title": {
          "text": "Bus Factor"
         }
        }
       }
      }
     },
     "metadata": {},
     "output_type": "display_data"
    }
   ],
   "source": [
    "plot_line_graph(df=pr_reviewed_bf_by_windows, \n",
    "               title='Bus Factor of PR Reviews in 6 Month Windows',\n",
    "               xlabel='Timeline (stepsize = 4 months)',\n",
    "               ylabel='Bus Factor', \n",
    "               step_size=4)"
   ]
  },
  {
   "attachments": {},
   "cell_type": "markdown",
   "metadata": {},
   "source": [
    "Not only are contributors who created and reviewed PRs integral to the health of a project. Oftentimes, commenters help facilitate the process of merging PRs by providing feedback. Thus, we are also interested in their contributions. "
   ]
  },
  {
   "cell_type": "code",
   "execution_count": 34,
   "metadata": {},
   "outputs": [
    {
     "data": {
      "text/html": [
       "<div>\n",
       "<style scoped>\n",
       "    .dataframe tbody tr th:only-of-type {\n",
       "        vertical-align: middle;\n",
       "    }\n",
       "\n",
       "    .dataframe tbody tr th {\n",
       "        vertical-align: top;\n",
       "    }\n",
       "\n",
       "    .dataframe thead th {\n",
       "        text-align: right;\n",
       "    }\n",
       "</style>\n",
       "<table border=\"1\" class=\"dataframe\">\n",
       "  <thead>\n",
       "    <tr style=\"text-align: right;\">\n",
       "      <th></th>\n",
       "      <th>pr_msg</th>\n",
       "      <th>comment_text</th>\n",
       "      <th>cntrb_id</th>\n",
       "      <th>email</th>\n",
       "      <th>date</th>\n",
       "    </tr>\n",
       "  </thead>\n",
       "  <tbody>\n",
       "    <tr>\n",
       "      <th>0</th>\n",
       "      <td>230467</td>\n",
       "      <td>@germonprez What is wrong with the pip install...</td>\n",
       "      <td>01000cc1-1000-0000-0000-000000000000</td>\n",
       "      <td>derek@howderek.com</td>\n",
       "      <td>2017-01-23 20:06:27</td>\n",
       "    </tr>\n",
       "    <tr>\n",
       "      <th>1</th>\n",
       "      <td>230467</td>\n",
       "      <td>@germonprez What is wrong with the pip install...</td>\n",
       "      <td>01000cc1-1000-0000-0000-000000000000</td>\n",
       "      <td>doombreakr@gmail.com</td>\n",
       "      <td>2017-01-23 20:06:27</td>\n",
       "    </tr>\n",
       "    <tr>\n",
       "      <th>2</th>\n",
       "      <td>230468</td>\n",
       "      <td>Nothing wrong with it. Happy to change. \\r\\n\\r...</td>\n",
       "      <td>01000a03-5000-0000-0000-000000000000</td>\n",
       "      <td>germonprez@gmail.com</td>\n",
       "      <td>2017-01-23 20:48:39</td>\n",
       "    </tr>\n",
       "    <tr>\n",
       "      <th>3</th>\n",
       "      <td>230468</td>\n",
       "      <td>Nothing wrong with it. Happy to change. \\r\\n\\r...</td>\n",
       "      <td>01000a03-5000-0000-0000-000000000000</td>\n",
       "      <td>mattgermonprez@Matts-MacBook-Pro-2.local</td>\n",
       "      <td>2017-01-23 20:48:39</td>\n",
       "    </tr>\n",
       "    <tr>\n",
       "      <th>4</th>\n",
       "      <td>230469</td>\n",
       "      <td>@germonprez Sounds good!</td>\n",
       "      <td>01000cc1-1000-0000-0000-000000000000</td>\n",
       "      <td>derek@howderek.com</td>\n",
       "      <td>2017-01-23 20:49:48</td>\n",
       "    </tr>\n",
       "  </tbody>\n",
       "</table>\n",
       "</div>"
      ],
      "text/plain": [
       "   pr_msg                                       comment_text  \\\n",
       "0  230467  @germonprez What is wrong with the pip install...   \n",
       "1  230467  @germonprez What is wrong with the pip install...   \n",
       "2  230468  Nothing wrong with it. Happy to change. \\r\\n\\r...   \n",
       "3  230468  Nothing wrong with it. Happy to change. \\r\\n\\r...   \n",
       "4  230469                           @germonprez Sounds good!   \n",
       "\n",
       "                               cntrb_id  \\\n",
       "0  01000cc1-1000-0000-0000-000000000000   \n",
       "1  01000cc1-1000-0000-0000-000000000000   \n",
       "2  01000a03-5000-0000-0000-000000000000   \n",
       "3  01000a03-5000-0000-0000-000000000000   \n",
       "4  01000cc1-1000-0000-0000-000000000000   \n",
       "\n",
       "                                      email                date  \n",
       "0                        derek@howderek.com 2017-01-23 20:06:27  \n",
       "1                      doombreakr@gmail.com 2017-01-23 20:06:27  \n",
       "2                      germonprez@gmail.com 2017-01-23 20:48:39  \n",
       "3  mattgermonprez@Matts-MacBook-Pro-2.local 2017-01-23 20:48:39  \n",
       "4                        derek@howderek.com 2017-01-23 20:49:48  "
      ]
     },
     "metadata": {},
     "output_type": "display_data"
    }
   ],
   "source": [
    "pr_comments_query = salc.sql.text(f\"\"\"     \n",
    "                SELECT            \n",
    "                    DISTINCT prm.pr_msg_ref_id AS pr_msg,\n",
    "\t\t\t\t\tm.msg_text comment_text, \n",
    "                    m.cntrb_id,\n",
    "                    ca.alias_email as email, \n",
    "                    m.msg_timestamp as date\n",
    "                FROM\n",
    "                \trepo r,\n",
    "                    pull_requests pr,\n",
    "                    pull_request_message_ref prm, \n",
    "                    message m, \n",
    "                    contributors_aliases ca\n",
    "                WHERE\n",
    "                \tm.msg_id = prm.msg_id AND\n",
    "                    prm.pull_request_id = pr.pull_request_id AND\n",
    "                \tpr.repo_id = r.repo_id AND\n",
    "                    r.repo_id = \\'{repo_statement}\\' AND \n",
    "                    ca.cntrb_id = m.cntrb_id\n",
    "        \"\"\"\n",
    "                                \n",
    "    )\n",
    "conn_pr_comments = get_df(pr_comments_query)\n",
    "display(conn_pr_comments.head())"
   ]
  },
  {
   "cell_type": "code",
   "execution_count": 35,
   "metadata": {},
   "outputs": [
    {
     "data": {
      "text/html": [
       "<div>\n",
       "<style scoped>\n",
       "    .dataframe tbody tr th:only-of-type {\n",
       "        vertical-align: middle;\n",
       "    }\n",
       "\n",
       "    .dataframe tbody tr th {\n",
       "        vertical-align: top;\n",
       "    }\n",
       "\n",
       "    .dataframe thead th {\n",
       "        text-align: right;\n",
       "    }\n",
       "</style>\n",
       "<table border=\"1\" class=\"dataframe\">\n",
       "  <thead>\n",
       "    <tr style=\"text-align: right;\">\n",
       "      <th></th>\n",
       "      <th>cntrb_id</th>\n",
       "      <th>pr_msg</th>\n",
       "    </tr>\n",
       "  </thead>\n",
       "  <tbody>\n",
       "    <tr>\n",
       "      <th>0</th>\n",
       "      <td>010005cb-c700-0000-0000-000000000000</td>\n",
       "      <td>1974</td>\n",
       "    </tr>\n",
       "    <tr>\n",
       "      <th>1</th>\n",
       "      <td>0101e100-7300-0000-0000-000000000000</td>\n",
       "      <td>436</td>\n",
       "    </tr>\n",
       "    <tr>\n",
       "      <th>2</th>\n",
       "      <td>0102f65a-0500-0000-0000-000000000000</td>\n",
       "      <td>192</td>\n",
       "    </tr>\n",
       "    <tr>\n",
       "      <th>3</th>\n",
       "      <td>010177f7-2400-0000-0000-000000000000</td>\n",
       "      <td>140</td>\n",
       "    </tr>\n",
       "    <tr>\n",
       "      <th>4</th>\n",
       "      <td>0100b728-7300-0000-0000-000000000000</td>\n",
       "      <td>63</td>\n",
       "    </tr>\n",
       "  </tbody>\n",
       "</table>\n",
       "</div>"
      ],
      "text/plain": [
       "                               cntrb_id  pr_msg\n",
       "0  010005cb-c700-0000-0000-000000000000    1974\n",
       "1  0101e100-7300-0000-0000-000000000000     436\n",
       "2  0102f65a-0500-0000-0000-000000000000     192\n",
       "3  010177f7-2400-0000-0000-000000000000     140\n",
       "4  0100b728-7300-0000-0000-000000000000      63"
      ]
     },
     "metadata": {},
     "output_type": "display_data"
    }
   ],
   "source": [
    "pr_comments = count_cntrbs(conn_pr_comments,'pr_msg' )\n",
    "pr_comments.rename(columns={'pr_msg_ref_id':'pr_msg'})\n",
    "display(pr_comments.head())"
   ]
  },
  {
   "cell_type": "code",
   "execution_count": 36,
   "metadata": {},
   "outputs": [
    {
     "name": "stdout",
     "output_type": "stream",
     "text": [
      "The bus factor in terms of number of comments on PRs for augur is 1.\n",
      "Of the total number of contributors, 1 were identified as outliers.\n"
     ]
    }
   ],
   "source": [
    "bf_pr_comments, cntrb_ids, num_outliers = calc_bus_factor(pr_comments,contribution_type='pr_msg', threshold=0.50)\n",
    "print(f'The bus factor in terms of number of comments on PRs for {repo_name} is {bf_pr_comments}.\\nOf the total number of contributors, {num_outliers} were identified as outliers.')"
   ]
  },
  {
   "cell_type": "code",
   "execution_count": 37,
   "metadata": {},
   "outputs": [
    {
     "data": {
      "text/html": [
       "<div>\n",
       "<style scoped>\n",
       "    .dataframe tbody tr th:only-of-type {\n",
       "        vertical-align: middle;\n",
       "    }\n",
       "\n",
       "    .dataframe tbody tr th {\n",
       "        vertical-align: top;\n",
       "    }\n",
       "\n",
       "    .dataframe thead th {\n",
       "        text-align: right;\n",
       "    }\n",
       "</style>\n",
       "<table border=\"1\" class=\"dataframe\">\n",
       "  <thead>\n",
       "    <tr style=\"text-align: right;\">\n",
       "      <th></th>\n",
       "      <th>period_from</th>\n",
       "      <th>period_to</th>\n",
       "      <th>bus_factor</th>\n",
       "    </tr>\n",
       "  </thead>\n",
       "  <tbody>\n",
       "    <tr>\n",
       "      <th>0</th>\n",
       "      <td>2024-12-14</td>\n",
       "      <td>2025-06-14</td>\n",
       "      <td>1</td>\n",
       "    </tr>\n",
       "    <tr>\n",
       "      <th>1</th>\n",
       "      <td>2024-08-14</td>\n",
       "      <td>2025-02-14</td>\n",
       "      <td>1</td>\n",
       "    </tr>\n",
       "    <tr>\n",
       "      <th>2</th>\n",
       "      <td>2024-04-14</td>\n",
       "      <td>2024-10-14</td>\n",
       "      <td>1</td>\n",
       "    </tr>\n",
       "    <tr>\n",
       "      <th>3</th>\n",
       "      <td>2023-12-14</td>\n",
       "      <td>2024-06-14</td>\n",
       "      <td>1</td>\n",
       "    </tr>\n",
       "    <tr>\n",
       "      <th>4</th>\n",
       "      <td>2023-08-14</td>\n",
       "      <td>2024-02-14</td>\n",
       "      <td>1</td>\n",
       "    </tr>\n",
       "  </tbody>\n",
       "</table>\n",
       "</div>"
      ],
      "text/plain": [
       "  period_from   period_to  bus_factor\n",
       "0  2024-12-14  2025-06-14           1\n",
       "1  2024-08-14  2025-02-14           1\n",
       "2  2024-04-14  2024-10-14           1\n",
       "3  2023-12-14  2024-06-14           1\n",
       "4  2023-08-14  2024-02-14           1"
      ]
     },
     "metadata": {},
     "output_type": "display_data"
    }
   ],
   "source": [
    "pr_comments_bf_by_windows = bus_factor_by_windows(df=conn_pr_created, contribution_type='pr', window_width=6, step_size=4, threshold=0.5)\n",
    "display(pr_comments_bf_by_windows.head())"
   ]
  },
  {
   "cell_type": "code",
   "execution_count": 38,
   "metadata": {},
   "outputs": [
    {
     "data": {
      "application/vnd.plotly.v1+json": {
       "config": {
        "plotlyServerURL": "https://plot.ly"
       },
       "data": [
        {
         "customdata": [
          [
           "2025-06-14"
          ],
          [
           "2025-02-14"
          ],
          [
           "2024-10-14"
          ],
          [
           "2024-06-14"
          ],
          [
           "2024-02-14"
          ],
          [
           "2023-10-14"
          ],
          [
           "2023-06-14"
          ],
          [
           "2023-02-14"
          ],
          [
           "2022-10-14"
          ],
          [
           "2022-06-14"
          ],
          [
           "2022-02-14"
          ],
          [
           "2021-10-14"
          ],
          [
           "2021-06-14"
          ],
          [
           "2021-02-14"
          ],
          [
           "2020-10-14"
          ],
          [
           "2020-06-14"
          ],
          [
           "2020-02-14"
          ],
          [
           "2019-10-14"
          ],
          [
           "2019-06-14"
          ],
          [
           "2019-02-14"
          ],
          [
           "2018-10-14"
          ],
          [
           "2018-06-14"
          ],
          [
           "2018-02-14"
          ],
          [
           "2017-10-14"
          ],
          [
           "2017-06-14"
          ]
         ],
         "hovertemplate": "period from: %{x: %m-%d}<br>period to: %{customdata[0]: %m-%d}",
         "legendgroup": "",
         "line": {
          "color": "lightgreen",
          "dash": "solid"
         },
         "marker": {
          "symbol": "circle"
         },
         "mode": "lines+markers+text",
         "name": "",
         "orientation": "v",
         "showlegend": false,
         "text": {
          "bdata": "AAAAAAAA8D8AAAAAAADwPwAAAAAAAPA/AAAAAAAA8D8AAAAAAADwPwAAAAAAAABAAAAAAAAAAEAAAAAAAADwPwAAAAAAAPA/AAAAAAAAAEAAAAAAAADwPwAAAAAAAPA/AAAAAAAA8D8AAAAAAADwPwAAAAAAAPA/AAAAAAAAAEAAAAAAAADwPwAAAAAAAABAAAAAAAAAAEAAAAAAAAAAQAAAAAAAAPA/AAAAAAAAAEAAAAAAAADwPwAAAAAAAPA/AAAAAAAAAEA=",
          "dtype": "f8"
         },
         "textposition": "top right",
         "type": "scatter",
         "x": [
          "2024-12-14",
          "2024-08-14",
          "2024-04-14",
          "2023-12-14",
          "2023-08-14",
          "2023-04-14",
          "2022-12-14",
          "2022-08-14",
          "2022-04-14",
          "2021-12-14",
          "2021-08-14",
          "2021-04-14",
          "2020-12-14",
          "2020-08-14",
          "2020-04-14",
          "2019-12-14",
          "2019-08-14",
          "2019-04-14",
          "2018-12-14",
          "2018-08-14",
          "2018-04-14",
          "2017-12-14",
          "2017-08-14",
          "2017-04-14",
          "2017-01-23"
         ],
         "xaxis": "x",
         "y": {
          "bdata": "AQEBAQECAgEBAgEBAQEBAgECAgIBAgEBAg==",
          "dtype": "i1"
         },
         "yaxis": "y"
        }
       ],
       "layout": {
        "height": 500,
        "legend": {
         "tracegroupgap": 0
        },
        "margin": {
         "t": 60
        },
        "template": {
         "data": {
          "bar": [
           {
            "error_x": {
             "color": "#2a3f5f"
            },
            "error_y": {
             "color": "#2a3f5f"
            },
            "marker": {
             "line": {
              "color": "#E5ECF6",
              "width": 0.5
             },
             "pattern": {
              "fillmode": "overlay",
              "size": 10,
              "solidity": 0.2
             }
            },
            "type": "bar"
           }
          ],
          "barpolar": [
           {
            "marker": {
             "line": {
              "color": "#E5ECF6",
              "width": 0.5
             },
             "pattern": {
              "fillmode": "overlay",
              "size": 10,
              "solidity": 0.2
             }
            },
            "type": "barpolar"
           }
          ],
          "carpet": [
           {
            "aaxis": {
             "endlinecolor": "#2a3f5f",
             "gridcolor": "white",
             "linecolor": "white",
             "minorgridcolor": "white",
             "startlinecolor": "#2a3f5f"
            },
            "baxis": {
             "endlinecolor": "#2a3f5f",
             "gridcolor": "white",
             "linecolor": "white",
             "minorgridcolor": "white",
             "startlinecolor": "#2a3f5f"
            },
            "type": "carpet"
           }
          ],
          "choropleth": [
           {
            "colorbar": {
             "outlinewidth": 0,
             "ticks": ""
            },
            "type": "choropleth"
           }
          ],
          "contour": [
           {
            "colorbar": {
             "outlinewidth": 0,
             "ticks": ""
            },
            "colorscale": [
             [
              0,
              "#0d0887"
             ],
             [
              0.1111111111111111,
              "#46039f"
             ],
             [
              0.2222222222222222,
              "#7201a8"
             ],
             [
              0.3333333333333333,
              "#9c179e"
             ],
             [
              0.4444444444444444,
              "#bd3786"
             ],
             [
              0.5555555555555556,
              "#d8576b"
             ],
             [
              0.6666666666666666,
              "#ed7953"
             ],
             [
              0.7777777777777778,
              "#fb9f3a"
             ],
             [
              0.8888888888888888,
              "#fdca26"
             ],
             [
              1,
              "#f0f921"
             ]
            ],
            "type": "contour"
           }
          ],
          "contourcarpet": [
           {
            "colorbar": {
             "outlinewidth": 0,
             "ticks": ""
            },
            "type": "contourcarpet"
           }
          ],
          "heatmap": [
           {
            "colorbar": {
             "outlinewidth": 0,
             "ticks": ""
            },
            "colorscale": [
             [
              0,
              "#0d0887"
             ],
             [
              0.1111111111111111,
              "#46039f"
             ],
             [
              0.2222222222222222,
              "#7201a8"
             ],
             [
              0.3333333333333333,
              "#9c179e"
             ],
             [
              0.4444444444444444,
              "#bd3786"
             ],
             [
              0.5555555555555556,
              "#d8576b"
             ],
             [
              0.6666666666666666,
              "#ed7953"
             ],
             [
              0.7777777777777778,
              "#fb9f3a"
             ],
             [
              0.8888888888888888,
              "#fdca26"
             ],
             [
              1,
              "#f0f921"
             ]
            ],
            "type": "heatmap"
           }
          ],
          "histogram": [
           {
            "marker": {
             "pattern": {
              "fillmode": "overlay",
              "size": 10,
              "solidity": 0.2
             }
            },
            "type": "histogram"
           }
          ],
          "histogram2d": [
           {
            "colorbar": {
             "outlinewidth": 0,
             "ticks": ""
            },
            "colorscale": [
             [
              0,
              "#0d0887"
             ],
             [
              0.1111111111111111,
              "#46039f"
             ],
             [
              0.2222222222222222,
              "#7201a8"
             ],
             [
              0.3333333333333333,
              "#9c179e"
             ],
             [
              0.4444444444444444,
              "#bd3786"
             ],
             [
              0.5555555555555556,
              "#d8576b"
             ],
             [
              0.6666666666666666,
              "#ed7953"
             ],
             [
              0.7777777777777778,
              "#fb9f3a"
             ],
             [
              0.8888888888888888,
              "#fdca26"
             ],
             [
              1,
              "#f0f921"
             ]
            ],
            "type": "histogram2d"
           }
          ],
          "histogram2dcontour": [
           {
            "colorbar": {
             "outlinewidth": 0,
             "ticks": ""
            },
            "colorscale": [
             [
              0,
              "#0d0887"
             ],
             [
              0.1111111111111111,
              "#46039f"
             ],
             [
              0.2222222222222222,
              "#7201a8"
             ],
             [
              0.3333333333333333,
              "#9c179e"
             ],
             [
              0.4444444444444444,
              "#bd3786"
             ],
             [
              0.5555555555555556,
              "#d8576b"
             ],
             [
              0.6666666666666666,
              "#ed7953"
             ],
             [
              0.7777777777777778,
              "#fb9f3a"
             ],
             [
              0.8888888888888888,
              "#fdca26"
             ],
             [
              1,
              "#f0f921"
             ]
            ],
            "type": "histogram2dcontour"
           }
          ],
          "mesh3d": [
           {
            "colorbar": {
             "outlinewidth": 0,
             "ticks": ""
            },
            "type": "mesh3d"
           }
          ],
          "parcoords": [
           {
            "line": {
             "colorbar": {
              "outlinewidth": 0,
              "ticks": ""
             }
            },
            "type": "parcoords"
           }
          ],
          "pie": [
           {
            "automargin": true,
            "type": "pie"
           }
          ],
          "scatter": [
           {
            "fillpattern": {
             "fillmode": "overlay",
             "size": 10,
             "solidity": 0.2
            },
            "type": "scatter"
           }
          ],
          "scatter3d": [
           {
            "line": {
             "colorbar": {
              "outlinewidth": 0,
              "ticks": ""
             }
            },
            "marker": {
             "colorbar": {
              "outlinewidth": 0,
              "ticks": ""
             }
            },
            "type": "scatter3d"
           }
          ],
          "scattercarpet": [
           {
            "marker": {
             "colorbar": {
              "outlinewidth": 0,
              "ticks": ""
             }
            },
            "type": "scattercarpet"
           }
          ],
          "scattergeo": [
           {
            "marker": {
             "colorbar": {
              "outlinewidth": 0,
              "ticks": ""
             }
            },
            "type": "scattergeo"
           }
          ],
          "scattergl": [
           {
            "marker": {
             "colorbar": {
              "outlinewidth": 0,
              "ticks": ""
             }
            },
            "type": "scattergl"
           }
          ],
          "scattermap": [
           {
            "marker": {
             "colorbar": {
              "outlinewidth": 0,
              "ticks": ""
             }
            },
            "type": "scattermap"
           }
          ],
          "scattermapbox": [
           {
            "marker": {
             "colorbar": {
              "outlinewidth": 0,
              "ticks": ""
             }
            },
            "type": "scattermapbox"
           }
          ],
          "scatterpolar": [
           {
            "marker": {
             "colorbar": {
              "outlinewidth": 0,
              "ticks": ""
             }
            },
            "type": "scatterpolar"
           }
          ],
          "scatterpolargl": [
           {
            "marker": {
             "colorbar": {
              "outlinewidth": 0,
              "ticks": ""
             }
            },
            "type": "scatterpolargl"
           }
          ],
          "scatterternary": [
           {
            "marker": {
             "colorbar": {
              "outlinewidth": 0,
              "ticks": ""
             }
            },
            "type": "scatterternary"
           }
          ],
          "surface": [
           {
            "colorbar": {
             "outlinewidth": 0,
             "ticks": ""
            },
            "colorscale": [
             [
              0,
              "#0d0887"
             ],
             [
              0.1111111111111111,
              "#46039f"
             ],
             [
              0.2222222222222222,
              "#7201a8"
             ],
             [
              0.3333333333333333,
              "#9c179e"
             ],
             [
              0.4444444444444444,
              "#bd3786"
             ],
             [
              0.5555555555555556,
              "#d8576b"
             ],
             [
              0.6666666666666666,
              "#ed7953"
             ],
             [
              0.7777777777777778,
              "#fb9f3a"
             ],
             [
              0.8888888888888888,
              "#fdca26"
             ],
             [
              1,
              "#f0f921"
             ]
            ],
            "type": "surface"
           }
          ],
          "table": [
           {
            "cells": {
             "fill": {
              "color": "#EBF0F8"
             },
             "line": {
              "color": "white"
             }
            },
            "header": {
             "fill": {
              "color": "#C8D4E3"
             },
             "line": {
              "color": "white"
             }
            },
            "type": "table"
           }
          ]
         },
         "layout": {
          "annotationdefaults": {
           "arrowcolor": "#2a3f5f",
           "arrowhead": 0,
           "arrowwidth": 1
          },
          "autotypenumbers": "strict",
          "coloraxis": {
           "colorbar": {
            "outlinewidth": 0,
            "ticks": ""
           }
          },
          "colorscale": {
           "diverging": [
            [
             0,
             "#8e0152"
            ],
            [
             0.1,
             "#c51b7d"
            ],
            [
             0.2,
             "#de77ae"
            ],
            [
             0.3,
             "#f1b6da"
            ],
            [
             0.4,
             "#fde0ef"
            ],
            [
             0.5,
             "#f7f7f7"
            ],
            [
             0.6,
             "#e6f5d0"
            ],
            [
             0.7,
             "#b8e186"
            ],
            [
             0.8,
             "#7fbc41"
            ],
            [
             0.9,
             "#4d9221"
            ],
            [
             1,
             "#276419"
            ]
           ],
           "sequential": [
            [
             0,
             "#0d0887"
            ],
            [
             0.1111111111111111,
             "#46039f"
            ],
            [
             0.2222222222222222,
             "#7201a8"
            ],
            [
             0.3333333333333333,
             "#9c179e"
            ],
            [
             0.4444444444444444,
             "#bd3786"
            ],
            [
             0.5555555555555556,
             "#d8576b"
            ],
            [
             0.6666666666666666,
             "#ed7953"
            ],
            [
             0.7777777777777778,
             "#fb9f3a"
            ],
            [
             0.8888888888888888,
             "#fdca26"
            ],
            [
             1,
             "#f0f921"
            ]
           ],
           "sequentialminus": [
            [
             0,
             "#0d0887"
            ],
            [
             0.1111111111111111,
             "#46039f"
            ],
            [
             0.2222222222222222,
             "#7201a8"
            ],
            [
             0.3333333333333333,
             "#9c179e"
            ],
            [
             0.4444444444444444,
             "#bd3786"
            ],
            [
             0.5555555555555556,
             "#d8576b"
            ],
            [
             0.6666666666666666,
             "#ed7953"
            ],
            [
             0.7777777777777778,
             "#fb9f3a"
            ],
            [
             0.8888888888888888,
             "#fdca26"
            ],
            [
             1,
             "#f0f921"
            ]
           ]
          },
          "colorway": [
           "#636efa",
           "#EF553B",
           "#00cc96",
           "#ab63fa",
           "#FFA15A",
           "#19d3f3",
           "#FF6692",
           "#B6E880",
           "#FF97FF",
           "#FECB52"
          ],
          "font": {
           "color": "#2a3f5f"
          },
          "geo": {
           "bgcolor": "white",
           "lakecolor": "white",
           "landcolor": "#E5ECF6",
           "showlakes": true,
           "showland": true,
           "subunitcolor": "white"
          },
          "hoverlabel": {
           "align": "left"
          },
          "hovermode": "closest",
          "mapbox": {
           "style": "light"
          },
          "paper_bgcolor": "white",
          "plot_bgcolor": "#E5ECF6",
          "polar": {
           "angularaxis": {
            "gridcolor": "white",
            "linecolor": "white",
            "ticks": ""
           },
           "bgcolor": "#E5ECF6",
           "radialaxis": {
            "gridcolor": "white",
            "linecolor": "white",
            "ticks": ""
           }
          },
          "scene": {
           "xaxis": {
            "backgroundcolor": "#E5ECF6",
            "gridcolor": "white",
            "gridwidth": 2,
            "linecolor": "white",
            "showbackground": true,
            "ticks": "",
            "zerolinecolor": "white"
           },
           "yaxis": {
            "backgroundcolor": "#E5ECF6",
            "gridcolor": "white",
            "gridwidth": 2,
            "linecolor": "white",
            "showbackground": true,
            "ticks": "",
            "zerolinecolor": "white"
           },
           "zaxis": {
            "backgroundcolor": "#E5ECF6",
            "gridcolor": "white",
            "gridwidth": 2,
            "linecolor": "white",
            "showbackground": true,
            "ticks": "",
            "zerolinecolor": "white"
           }
          },
          "shapedefaults": {
           "line": {
            "color": "#2a3f5f"
           }
          },
          "ternary": {
           "aaxis": {
            "gridcolor": "white",
            "linecolor": "white",
            "ticks": ""
           },
           "baxis": {
            "gridcolor": "white",
            "linecolor": "white",
            "ticks": ""
           },
           "bgcolor": "#E5ECF6",
           "caxis": {
            "gridcolor": "white",
            "linecolor": "white",
            "ticks": ""
           }
          },
          "title": {
           "x": 0.05
          },
          "xaxis": {
           "automargin": true,
           "gridcolor": "white",
           "linecolor": "white",
           "ticks": "",
           "title": {
            "standoff": 15
           },
           "zerolinecolor": "white",
           "zerolinewidth": 2
          },
          "yaxis": {
           "automargin": true,
           "gridcolor": "white",
           "linecolor": "white",
           "ticks": "",
           "title": {
            "standoff": 15
           },
           "zerolinecolor": "white",
           "zerolinewidth": 2
          }
         }
        },
        "title": {
         "text": "Bus Factor of PR Comments in 6 Month Windows",
         "x": 0.5,
         "xanchor": "center"
        },
        "width": 800,
        "xaxis": {
         "anchor": "y",
         "domain": [
          0,
          1
         ],
         "dtick": "M4",
         "fixedrange": true,
         "tick0": "2017-01-23",
         "tickangle": 45,
         "tickformat": "%B %Y",
         "title": {
          "text": "Timeline (step size = 4 months)"
         }
        },
        "yaxis": {
         "anchor": "x",
         "domain": [
          0,
          1
         ],
         "title": {
          "text": "Bus Factor"
         }
        }
       }
      }
     },
     "metadata": {},
     "output_type": "display_data"
    }
   ],
   "source": [
    "plot_line_graph(df=pr_comments_bf_by_windows, \n",
    "               title='Bus Factor of PR Comments in 6 Month Windows', \n",
    "               xlabel='Timeline (step size = 4 months)',\n",
    "               ylabel='Bus Factor', \n",
    "               step_size=4)"
   ]
  },
  {
   "attachments": {},
   "cell_type": "markdown",
   "metadata": {},
   "source": [
    "## Conclusion\n",
    "Up until this point, we've been analyzing each perspective on bus factor individually. Let's compare the top 10 contributors from each perspective to see if there's a trend in the most active contributors. We can do this by plotting a pie chart for each perspective."
   ]
  },
  {
   "cell_type": "code",
   "execution_count": 39,
   "metadata": {},
   "outputs": [],
   "source": [
    "def get_top_k(df,k):\n",
    "    \"\"\"\n",
    "    :param df: A DataFrame resulting from the count_cntrbs function\n",
    "    :param k: An integer \n",
    "    \n",
    "    returns a DataFrame of the top k contributors and their contributions \n",
    "    and the remaining contributors and their contributions\n",
    "    \"\"\"\n",
    "    # index df to get first k rows and remove 'cntrbs' column\n",
    "    top_k = df.iloc[:k, :2]\n",
    "    # convert cntrb_id from type UUID to String\n",
    "    top_k['cntrb_id'] = top_k['cntrb_id'].apply(lambda x: str(x).split('-')[0])\n",
    "    \n",
    "    # sort by alpha-numeric order to make it easier to map colors to contibutors\n",
    "    top_k = top_k.sort_values(by='cntrb_id')\n",
    "    \n",
    "    t_sum = df.iloc[:,1].sum() # get the number of total contributions \n",
    "    top_k_sum = top_k.iloc[:,1].sum() # get the number of total top k contributions\n",
    "    \n",
    "    # calculate the remaining contributions by taking the the difference of t_sum and top_k_sum\n",
    "    top_k.loc[len(top_k.index)] = ['other', t_sum - top_k_sum ]\n",
    "   \n",
    "    return top_k"
   ]
  },
  {
   "cell_type": "markdown",
   "metadata": {},
   "source": [
    "We want to easily be able to compare the top contributors accross the different perpectives in our visualization. Let's create a dictionary mapping each unqiue contributor to a color. "
   ]
  },
  {
   "cell_type": "code",
   "execution_count": 40,
   "metadata": {},
   "outputs": [],
   "source": [
    "def create_color_map(top_k_set):\n",
    "    '''\n",
    "    :param top_k_set: A list of DataFrames with top contibutors according to each perspective\n",
    "\n",
    "    returns a list mapping unique contributors to unique colors\n",
    "    '''\n",
    "    # get all unique contributors\n",
    "    cntrb_id_set = pd.concat(top_k_set).iloc[:, 0]\n",
    "    cntrb_id_set = [*set(list(cntrb_id_set))]\n",
    "\n",
    "    # intialize list to store all colours\n",
    "    colors = []\n",
    "\n",
    "    # generate colors for each contributor\n",
    "    for _ in range(len(cntrb_id_set)):\n",
    "        r = random.randint(0,255)\n",
    "        g = random.randint(0,255)\n",
    "        b = random.randint(0,255)\n",
    "\n",
    "        colors.append(f'rgb{r,g,b}')\n",
    "\n",
    "    return colors"
   ]
  },
  {
   "cell_type": "markdown",
   "metadata": {},
   "source": [
    "Let's get the top 10 contributors and the number of their contributions for each contribution type. All the remaining number of contributions will correspond to the cntrb_id \"other\"."
   ]
  },
  {
   "cell_type": "code",
   "execution_count": 41,
   "metadata": {},
   "outputs": [
    {
     "data": {
      "text/html": [
       "<div>\n",
       "<style scoped>\n",
       "    .dataframe tbody tr th:only-of-type {\n",
       "        vertical-align: middle;\n",
       "    }\n",
       "\n",
       "    .dataframe tbody tr th {\n",
       "        vertical-align: top;\n",
       "    }\n",
       "\n",
       "    .dataframe thead th {\n",
       "        text-align: right;\n",
       "    }\n",
       "</style>\n",
       "<table border=\"1\" class=\"dataframe\">\n",
       "  <thead>\n",
       "    <tr style=\"text-align: right;\">\n",
       "      <th></th>\n",
       "      <th>cntrb_id</th>\n",
       "      <th>commit</th>\n",
       "    </tr>\n",
       "  </thead>\n",
       "  <tbody>\n",
       "    <tr>\n",
       "      <th>0</th>\n",
       "      <td>010005cb</td>\n",
       "      <td>2906</td>\n",
       "    </tr>\n",
       "    <tr>\n",
       "      <th>6</th>\n",
       "      <td>01000cc1</td>\n",
       "      <td>351</td>\n",
       "    </tr>\n",
       "    <tr>\n",
       "      <th>7</th>\n",
       "      <td>0100b728</td>\n",
       "      <td>192</td>\n",
       "    </tr>\n",
       "    <tr>\n",
       "      <th>9</th>\n",
       "      <td>0100f37d</td>\n",
       "      <td>130</td>\n",
       "    </tr>\n",
       "    <tr>\n",
       "      <th>1</th>\n",
       "      <td>01012f1b</td>\n",
       "      <td>2470</td>\n",
       "    </tr>\n",
       "    <tr>\n",
       "      <th>4</th>\n",
       "      <td>01013cd8</td>\n",
       "      <td>839</td>\n",
       "    </tr>\n",
       "    <tr>\n",
       "      <th>8</th>\n",
       "      <td>010153aa</td>\n",
       "      <td>147</td>\n",
       "    </tr>\n",
       "    <tr>\n",
       "      <th>2</th>\n",
       "      <td>010177f7</td>\n",
       "      <td>1618</td>\n",
       "    </tr>\n",
       "    <tr>\n",
       "      <th>5</th>\n",
       "      <td>0101e100</td>\n",
       "      <td>831</td>\n",
       "    </tr>\n",
       "    <tr>\n",
       "      <th>3</th>\n",
       "      <td>0103aa24</td>\n",
       "      <td>1407</td>\n",
       "    </tr>\n",
       "    <tr>\n",
       "      <th>10</th>\n",
       "      <td>other</td>\n",
       "      <td>1010</td>\n",
       "    </tr>\n",
       "  </tbody>\n",
       "</table>\n",
       "</div>"
      ],
      "text/plain": [
       "    cntrb_id  commit\n",
       "0   010005cb    2906\n",
       "6   01000cc1     351\n",
       "7   0100b728     192\n",
       "9   0100f37d     130\n",
       "1   01012f1b    2470\n",
       "4   01013cd8     839\n",
       "8   010153aa     147\n",
       "2   010177f7    1618\n",
       "5   0101e100     831\n",
       "3   0103aa24    1407\n",
       "10     other    1010"
      ]
     },
     "metadata": {},
     "output_type": "display_data"
    }
   ],
   "source": [
    "# get the top 10 contributors for each contribution type\n",
    "top_10_commits = get_top_k(commits, 10)\n",
    "top_10_issues = get_top_k(issues_created, 10)\n",
    "top_10_prs_created = get_top_k(pr_created, 10)\n",
    "top_10_prs_reviewed = get_top_k(pr_reviewed, 10)\n",
    "top_10_pr_comments = get_top_k(pr_comments, 10)\n",
    "\n",
    "display(top_10_commits)"
   ]
  },
  {
   "cell_type": "code",
   "execution_count": 42,
   "metadata": {},
   "outputs": [
    {
     "data": {
      "application/vnd.plotly.v1+json": {
       "config": {
        "plotlyServerURL": "https://plot.ly"
       },
       "data": [
        {
         "domain": {
          "x": [
           0,
           0.45
          ],
          "y": [
           0.7333333333333333,
           1
          ]
         },
         "hole": 0.6,
         "hoverinfo": "label+percent",
         "labels": [
          "010005cb",
          "01000cc1",
          "0100b728",
          "0100f37d",
          "01012f1b",
          "01013cd8",
          "010153aa",
          "010177f7",
          "0101e100",
          "0103aa24",
          "other"
         ],
         "marker": {
          "colors": [
           "rgb(133, 174, 198)",
           "rgb(87, 144, 121)",
           "rgb(140, 85, 32)",
           "rgb(17, 54, 220)",
           "rgb(168, 182, 183)",
           "rgb(189, 187, 86)",
           "rgb(244, 161, 76)",
           "rgb(62, 9, 224)",
           "rgb(1, 61, 236)",
           "rgb(91, 237, 156)",
           "rgb(27, 161, 199)",
           "rgb(216, 194, 149)",
           "rgb(2, 162, 11)",
           "rgb(22, 70, 255)",
           "rgb(252, 12, 145)",
           "rgb(234, 121, 29)",
           "rgb(154, 129, 203)",
           "rgb(170, 188, 182)",
           "rgb(74, 183, 204)",
           "rgb(218, 36, 118)",
           "rgb(138, 70, 40)",
           "rgb(43, 108, 162)",
           "rgb(207, 103, 227)",
           "rgb(109, 233, 249)"
          ]
         },
         "textinfo": "label",
         "textposition": "outside",
         "type": "pie",
         "values": [
          2906,
          351,
          192,
          130,
          2470,
          839,
          147,
          1618,
          831,
          1407,
          1010
         ]
        },
        {
         "domain": {
          "x": [
           0,
           0.45
          ],
          "y": [
           0.7333333333333333,
           1
          ]
         },
         "hole": 0.6,
         "hoverinfo": "label+percent",
         "labels": [
          "010005cb",
          "01000cc1",
          "0100b728",
          "0100f37d",
          "01012f1b",
          "01013cd8",
          "010153aa",
          "010177f7",
          "0101e100",
          "0103aa24",
          "other"
         ],
         "textinfo": "percent",
         "textposition": "inside",
         "type": "pie",
         "values": [
          2906,
          351,
          192,
          130,
          2470,
          839,
          147,
          1618,
          831,
          1407,
          1010
         ]
        },
        {
         "domain": {
          "x": [
           0.55,
           1
          ],
          "y": [
           0.7333333333333333,
           1
          ]
         },
         "hole": 0.6,
         "hoverinfo": "label+percent",
         "labels": [
          "010001c1",
          "010005cb",
          "01000a03",
          "01000cc1",
          "01007b13",
          "0101e100",
          "01021550",
          "0102d4dd",
          "0103283e",
          "0103aa24",
          "other"
         ],
         "marker": {
          "colors": [
           "rgb(133, 174, 198)",
           "rgb(87, 144, 121)",
           "rgb(140, 85, 32)",
           "rgb(17, 54, 220)",
           "rgb(168, 182, 183)",
           "rgb(189, 187, 86)",
           "rgb(244, 161, 76)",
           "rgb(62, 9, 224)",
           "rgb(1, 61, 236)",
           "rgb(91, 237, 156)",
           "rgb(27, 161, 199)",
           "rgb(216, 194, 149)",
           "rgb(2, 162, 11)",
           "rgb(22, 70, 255)",
           "rgb(252, 12, 145)",
           "rgb(234, 121, 29)",
           "rgb(154, 129, 203)",
           "rgb(170, 188, 182)",
           "rgb(74, 183, 204)",
           "rgb(218, 36, 118)",
           "rgb(138, 70, 40)",
           "rgb(43, 108, 162)",
           "rgb(207, 103, 227)",
           "rgb(109, 233, 249)"
          ]
         },
         "textinfo": "label",
         "textposition": "outside",
         "type": "pie",
         "values": [
          68,
          2177,
          32,
          28,
          48,
          136,
          58,
          102,
          25,
          38,
          385
         ]
        },
        {
         "domain": {
          "x": [
           0.55,
           1
          ],
          "y": [
           0.7333333333333333,
           1
          ]
         },
         "hole": 0.6,
         "hoverinfo": "label+percent",
         "labels": [
          "010001c1",
          "010005cb",
          "01000a03",
          "01000cc1",
          "01007b13",
          "0101e100",
          "01021550",
          "0102d4dd",
          "0103283e",
          "0103aa24",
          "other"
         ],
         "textinfo": "percent",
         "textposition": "inside",
         "type": "pie",
         "values": [
          68,
          2177,
          32,
          28,
          48,
          136,
          58,
          102,
          25,
          38,
          385
         ]
        },
        {
         "domain": {
          "x": [
           0,
           0.45
          ],
          "y": [
           0.36666666666666664,
           0.6333333333333333
          ]
         },
         "hole": 0.6,
         "hoverinfo": "label+percent",
         "labels": [
          "01000027",
          "01000383",
          "010005cb",
          "0100b728",
          "01013cd8",
          "010153aa",
          "010177f7",
          "0101e100",
          "0102f65a",
          "0103aa24",
          "other"
         ],
         "marker": {
          "colors": [
           "rgb(133, 174, 198)",
           "rgb(87, 144, 121)",
           "rgb(140, 85, 32)",
           "rgb(17, 54, 220)",
           "rgb(168, 182, 183)",
           "rgb(189, 187, 86)",
           "rgb(244, 161, 76)",
           "rgb(62, 9, 224)",
           "rgb(1, 61, 236)",
           "rgb(91, 237, 156)",
           "rgb(27, 161, 199)",
           "rgb(216, 194, 149)",
           "rgb(2, 162, 11)",
           "rgb(22, 70, 255)",
           "rgb(252, 12, 145)",
           "rgb(234, 121, 29)",
           "rgb(154, 129, 203)",
           "rgb(170, 188, 182)",
           "rgb(74, 183, 204)",
           "rgb(218, 36, 118)",
           "rgb(138, 70, 40)",
           "rgb(43, 108, 162)",
           "rgb(207, 103, 227)",
           "rgb(109, 233, 249)"
          ]
         },
         "textinfo": "label",
         "textposition": "outside",
         "type": "pie",
         "values": [
          172,
          116,
          5355,
          138,
          150,
          84,
          820,
          376,
          274,
          478,
          1002
         ]
        },
        {
         "domain": {
          "x": [
           0,
           0.45
          ],
          "y": [
           0.36666666666666664,
           0.6333333333333333
          ]
         },
         "hole": 0.6,
         "hoverinfo": "label+percent",
         "labels": [
          "01000027",
          "01000383",
          "010005cb",
          "0100b728",
          "01013cd8",
          "010153aa",
          "010177f7",
          "0101e100",
          "0102f65a",
          "0103aa24",
          "other"
         ],
         "textinfo": "percent",
         "textposition": "inside",
         "type": "pie",
         "values": [
          172,
          116,
          5355,
          138,
          150,
          84,
          820,
          376,
          274,
          478,
          1002
         ]
        },
        {
         "domain": {
          "x": [
           0.55,
           1
          ],
          "y": [
           0.36666666666666664,
           0.6333333333333333
          ]
         },
         "hole": 0.6,
         "hoverinfo": "label+percent",
         "labels": [
          "010005cb",
          "01000cc1",
          "01003f7a",
          "0100b728",
          "01013cd8",
          "010177f7",
          "0101e100",
          "01027f51",
          "0102f65a",
          "0103aa24",
          "other"
         ],
         "marker": {
          "colors": [
           "rgb(133, 174, 198)",
           "rgb(87, 144, 121)",
           "rgb(140, 85, 32)",
           "rgb(17, 54, 220)",
           "rgb(168, 182, 183)",
           "rgb(189, 187, 86)",
           "rgb(244, 161, 76)",
           "rgb(62, 9, 224)",
           "rgb(1, 61, 236)",
           "rgb(91, 237, 156)",
           "rgb(27, 161, 199)",
           "rgb(216, 194, 149)",
           "rgb(2, 162, 11)",
           "rgb(22, 70, 255)",
           "rgb(252, 12, 145)",
           "rgb(234, 121, 29)",
           "rgb(154, 129, 203)",
           "rgb(170, 188, 182)",
           "rgb(74, 183, 204)",
           "rgb(218, 36, 118)",
           "rgb(138, 70, 40)",
           "rgb(43, 108, 162)",
           "rgb(207, 103, 227)",
           "rgb(109, 233, 249)"
          ]
         },
         "textinfo": "label",
         "textposition": "outside",
         "type": "pie",
         "values": [
          47145,
          264,
          400,
          687,
          1842,
          2965,
          6536,
          372,
          1048,
          2278,
          3108
         ]
        },
        {
         "domain": {
          "x": [
           0.55,
           1
          ],
          "y": [
           0.36666666666666664,
           0.6333333333333333
          ]
         },
         "hole": 0.6,
         "hoverinfo": "label+percent",
         "labels": [
          "010005cb",
          "01000cc1",
          "01003f7a",
          "0100b728",
          "01013cd8",
          "010177f7",
          "0101e100",
          "01027f51",
          "0102f65a",
          "0103aa24",
          "other"
         ],
         "textinfo": "percent",
         "textposition": "inside",
         "type": "pie",
         "values": [
          47145,
          264,
          400,
          687,
          1842,
          2965,
          6536,
          372,
          1048,
          2278,
          3108
         ]
        },
        {
         "domain": {
          "x": [
           0,
           0.45
          ],
          "y": [
           0,
           0.26666666666666666
          ]
         },
         "hole": 0.6,
         "hoverinfo": "label+percent",
         "labels": [
          "01000383",
          "010005cb",
          "01000ca1",
          "0100b728",
          "01013cd8",
          "010177f7",
          "0101807a",
          "0101e100",
          "01021550",
          "0102f65a",
          "other"
         ],
         "marker": {
          "colors": [
           "rgb(133, 174, 198)",
           "rgb(87, 144, 121)",
           "rgb(140, 85, 32)",
           "rgb(17, 54, 220)",
           "rgb(168, 182, 183)",
           "rgb(189, 187, 86)",
           "rgb(244, 161, 76)",
           "rgb(62, 9, 224)",
           "rgb(1, 61, 236)",
           "rgb(91, 237, 156)",
           "rgb(27, 161, 199)",
           "rgb(216, 194, 149)",
           "rgb(2, 162, 11)",
           "rgb(22, 70, 255)",
           "rgb(252, 12, 145)",
           "rgb(234, 121, 29)",
           "rgb(154, 129, 203)",
           "rgb(170, 188, 182)",
           "rgb(74, 183, 204)",
           "rgb(218, 36, 118)",
           "rgb(138, 70, 40)",
           "rgb(43, 108, 162)",
           "rgb(207, 103, 227)",
           "rgb(109, 233, 249)"
          ]
         },
         "textinfo": "label",
         "textposition": "outside",
         "type": "pie",
         "values": [
          56,
          1974,
          54,
          63,
          62,
          140,
          53,
          436,
          52,
          192,
          596
         ]
        },
        {
         "domain": {
          "x": [
           0,
           0.45
          ],
          "y": [
           0,
           0.26666666666666666
          ]
         },
         "hole": 0.6,
         "hoverinfo": "label+percent",
         "labels": [
          "01000383",
          "010005cb",
          "01000ca1",
          "0100b728",
          "01013cd8",
          "010177f7",
          "0101807a",
          "0101e100",
          "01021550",
          "0102f65a",
          "other"
         ],
         "textinfo": "percent",
         "textposition": "inside",
         "type": "pie",
         "values": [
          56,
          1974,
          54,
          63,
          62,
          140,
          53,
          436,
          52,
          192,
          596
         ]
        }
       ],
       "layout": {
        "annotations": [
         {
          "font": {
           "size": 14
          },
          "showarrow": false,
          "text": "Commits",
          "x": 0.175,
          "y": 0.88
         },
         {
          "font": {
           "size": 14
          },
          "showarrow": false,
          "text": "Issues Created",
          "x": 0.85,
          "y": 0.88
         },
         {
          "font": {
           "size": 14
          },
          "showarrow": false,
          "text": "PRs Created",
          "x": 0.16,
          "y": 0.5
         },
         {
          "font": {
           "size": 14
          },
          "showarrow": false,
          "text": "PRs Reviewed",
          "x": 0.85,
          "y": 0.5
         },
         {
          "font": {
           "size": 14
          },
          "showarrow": false,
          "text": "PR Comments",
          "x": 0.15,
          "y": 0.12
         }
        ],
        "font": {
         "size": 11
        },
        "height": 950,
        "paper_bgcolor": "#e8f4f0",
        "showlegend": false,
        "template": {
         "data": {
          "bar": [
           {
            "error_x": {
             "color": "#2a3f5f"
            },
            "error_y": {
             "color": "#2a3f5f"
            },
            "marker": {
             "line": {
              "color": "#E5ECF6",
              "width": 0.5
             },
             "pattern": {
              "fillmode": "overlay",
              "size": 10,
              "solidity": 0.2
             }
            },
            "type": "bar"
           }
          ],
          "barpolar": [
           {
            "marker": {
             "line": {
              "color": "#E5ECF6",
              "width": 0.5
             },
             "pattern": {
              "fillmode": "overlay",
              "size": 10,
              "solidity": 0.2
             }
            },
            "type": "barpolar"
           }
          ],
          "carpet": [
           {
            "aaxis": {
             "endlinecolor": "#2a3f5f",
             "gridcolor": "white",
             "linecolor": "white",
             "minorgridcolor": "white",
             "startlinecolor": "#2a3f5f"
            },
            "baxis": {
             "endlinecolor": "#2a3f5f",
             "gridcolor": "white",
             "linecolor": "white",
             "minorgridcolor": "white",
             "startlinecolor": "#2a3f5f"
            },
            "type": "carpet"
           }
          ],
          "choropleth": [
           {
            "colorbar": {
             "outlinewidth": 0,
             "ticks": ""
            },
            "type": "choropleth"
           }
          ],
          "contour": [
           {
            "colorbar": {
             "outlinewidth": 0,
             "ticks": ""
            },
            "colorscale": [
             [
              0,
              "#0d0887"
             ],
             [
              0.1111111111111111,
              "#46039f"
             ],
             [
              0.2222222222222222,
              "#7201a8"
             ],
             [
              0.3333333333333333,
              "#9c179e"
             ],
             [
              0.4444444444444444,
              "#bd3786"
             ],
             [
              0.5555555555555556,
              "#d8576b"
             ],
             [
              0.6666666666666666,
              "#ed7953"
             ],
             [
              0.7777777777777778,
              "#fb9f3a"
             ],
             [
              0.8888888888888888,
              "#fdca26"
             ],
             [
              1,
              "#f0f921"
             ]
            ],
            "type": "contour"
           }
          ],
          "contourcarpet": [
           {
            "colorbar": {
             "outlinewidth": 0,
             "ticks": ""
            },
            "type": "contourcarpet"
           }
          ],
          "heatmap": [
           {
            "colorbar": {
             "outlinewidth": 0,
             "ticks": ""
            },
            "colorscale": [
             [
              0,
              "#0d0887"
             ],
             [
              0.1111111111111111,
              "#46039f"
             ],
             [
              0.2222222222222222,
              "#7201a8"
             ],
             [
              0.3333333333333333,
              "#9c179e"
             ],
             [
              0.4444444444444444,
              "#bd3786"
             ],
             [
              0.5555555555555556,
              "#d8576b"
             ],
             [
              0.6666666666666666,
              "#ed7953"
             ],
             [
              0.7777777777777778,
              "#fb9f3a"
             ],
             [
              0.8888888888888888,
              "#fdca26"
             ],
             [
              1,
              "#f0f921"
             ]
            ],
            "type": "heatmap"
           }
          ],
          "histogram": [
           {
            "marker": {
             "pattern": {
              "fillmode": "overlay",
              "size": 10,
              "solidity": 0.2
             }
            },
            "type": "histogram"
           }
          ],
          "histogram2d": [
           {
            "colorbar": {
             "outlinewidth": 0,
             "ticks": ""
            },
            "colorscale": [
             [
              0,
              "#0d0887"
             ],
             [
              0.1111111111111111,
              "#46039f"
             ],
             [
              0.2222222222222222,
              "#7201a8"
             ],
             [
              0.3333333333333333,
              "#9c179e"
             ],
             [
              0.4444444444444444,
              "#bd3786"
             ],
             [
              0.5555555555555556,
              "#d8576b"
             ],
             [
              0.6666666666666666,
              "#ed7953"
             ],
             [
              0.7777777777777778,
              "#fb9f3a"
             ],
             [
              0.8888888888888888,
              "#fdca26"
             ],
             [
              1,
              "#f0f921"
             ]
            ],
            "type": "histogram2d"
           }
          ],
          "histogram2dcontour": [
           {
            "colorbar": {
             "outlinewidth": 0,
             "ticks": ""
            },
            "colorscale": [
             [
              0,
              "#0d0887"
             ],
             [
              0.1111111111111111,
              "#46039f"
             ],
             [
              0.2222222222222222,
              "#7201a8"
             ],
             [
              0.3333333333333333,
              "#9c179e"
             ],
             [
              0.4444444444444444,
              "#bd3786"
             ],
             [
              0.5555555555555556,
              "#d8576b"
             ],
             [
              0.6666666666666666,
              "#ed7953"
             ],
             [
              0.7777777777777778,
              "#fb9f3a"
             ],
             [
              0.8888888888888888,
              "#fdca26"
             ],
             [
              1,
              "#f0f921"
             ]
            ],
            "type": "histogram2dcontour"
           }
          ],
          "mesh3d": [
           {
            "colorbar": {
             "outlinewidth": 0,
             "ticks": ""
            },
            "type": "mesh3d"
           }
          ],
          "parcoords": [
           {
            "line": {
             "colorbar": {
              "outlinewidth": 0,
              "ticks": ""
             }
            },
            "type": "parcoords"
           }
          ],
          "pie": [
           {
            "automargin": true,
            "type": "pie"
           }
          ],
          "scatter": [
           {
            "fillpattern": {
             "fillmode": "overlay",
             "size": 10,
             "solidity": 0.2
            },
            "type": "scatter"
           }
          ],
          "scatter3d": [
           {
            "line": {
             "colorbar": {
              "outlinewidth": 0,
              "ticks": ""
             }
            },
            "marker": {
             "colorbar": {
              "outlinewidth": 0,
              "ticks": ""
             }
            },
            "type": "scatter3d"
           }
          ],
          "scattercarpet": [
           {
            "marker": {
             "colorbar": {
              "outlinewidth": 0,
              "ticks": ""
             }
            },
            "type": "scattercarpet"
           }
          ],
          "scattergeo": [
           {
            "marker": {
             "colorbar": {
              "outlinewidth": 0,
              "ticks": ""
             }
            },
            "type": "scattergeo"
           }
          ],
          "scattergl": [
           {
            "marker": {
             "colorbar": {
              "outlinewidth": 0,
              "ticks": ""
             }
            },
            "type": "scattergl"
           }
          ],
          "scattermap": [
           {
            "marker": {
             "colorbar": {
              "outlinewidth": 0,
              "ticks": ""
             }
            },
            "type": "scattermap"
           }
          ],
          "scattermapbox": [
           {
            "marker": {
             "colorbar": {
              "outlinewidth": 0,
              "ticks": ""
             }
            },
            "type": "scattermapbox"
           }
          ],
          "scatterpolar": [
           {
            "marker": {
             "colorbar": {
              "outlinewidth": 0,
              "ticks": ""
             }
            },
            "type": "scatterpolar"
           }
          ],
          "scatterpolargl": [
           {
            "marker": {
             "colorbar": {
              "outlinewidth": 0,
              "ticks": ""
             }
            },
            "type": "scatterpolargl"
           }
          ],
          "scatterternary": [
           {
            "marker": {
             "colorbar": {
              "outlinewidth": 0,
              "ticks": ""
             }
            },
            "type": "scatterternary"
           }
          ],
          "surface": [
           {
            "colorbar": {
             "outlinewidth": 0,
             "ticks": ""
            },
            "colorscale": [
             [
              0,
              "#0d0887"
             ],
             [
              0.1111111111111111,
              "#46039f"
             ],
             [
              0.2222222222222222,
              "#7201a8"
             ],
             [
              0.3333333333333333,
              "#9c179e"
             ],
             [
              0.4444444444444444,
              "#bd3786"
             ],
             [
              0.5555555555555556,
              "#d8576b"
             ],
             [
              0.6666666666666666,
              "#ed7953"
             ],
             [
              0.7777777777777778,
              "#fb9f3a"
             ],
             [
              0.8888888888888888,
              "#fdca26"
             ],
             [
              1,
              "#f0f921"
             ]
            ],
            "type": "surface"
           }
          ],
          "table": [
           {
            "cells": {
             "fill": {
              "color": "#EBF0F8"
             },
             "line": {
              "color": "white"
             }
            },
            "header": {
             "fill": {
              "color": "#C8D4E3"
             },
             "line": {
              "color": "white"
             }
            },
            "type": "table"
           }
          ]
         },
         "layout": {
          "annotationdefaults": {
           "arrowcolor": "#2a3f5f",
           "arrowhead": 0,
           "arrowwidth": 1
          },
          "autotypenumbers": "strict",
          "coloraxis": {
           "colorbar": {
            "outlinewidth": 0,
            "ticks": ""
           }
          },
          "colorscale": {
           "diverging": [
            [
             0,
             "#8e0152"
            ],
            [
             0.1,
             "#c51b7d"
            ],
            [
             0.2,
             "#de77ae"
            ],
            [
             0.3,
             "#f1b6da"
            ],
            [
             0.4,
             "#fde0ef"
            ],
            [
             0.5,
             "#f7f7f7"
            ],
            [
             0.6,
             "#e6f5d0"
            ],
            [
             0.7,
             "#b8e186"
            ],
            [
             0.8,
             "#7fbc41"
            ],
            [
             0.9,
             "#4d9221"
            ],
            [
             1,
             "#276419"
            ]
           ],
           "sequential": [
            [
             0,
             "#0d0887"
            ],
            [
             0.1111111111111111,
             "#46039f"
            ],
            [
             0.2222222222222222,
             "#7201a8"
            ],
            [
             0.3333333333333333,
             "#9c179e"
            ],
            [
             0.4444444444444444,
             "#bd3786"
            ],
            [
             0.5555555555555556,
             "#d8576b"
            ],
            [
             0.6666666666666666,
             "#ed7953"
            ],
            [
             0.7777777777777778,
             "#fb9f3a"
            ],
            [
             0.8888888888888888,
             "#fdca26"
            ],
            [
             1,
             "#f0f921"
            ]
           ],
           "sequentialminus": [
            [
             0,
             "#0d0887"
            ],
            [
             0.1111111111111111,
             "#46039f"
            ],
            [
             0.2222222222222222,
             "#7201a8"
            ],
            [
             0.3333333333333333,
             "#9c179e"
            ],
            [
             0.4444444444444444,
             "#bd3786"
            ],
            [
             0.5555555555555556,
             "#d8576b"
            ],
            [
             0.6666666666666666,
             "#ed7953"
            ],
            [
             0.7777777777777778,
             "#fb9f3a"
            ],
            [
             0.8888888888888888,
             "#fdca26"
            ],
            [
             1,
             "#f0f921"
            ]
           ]
          },
          "colorway": [
           "#636efa",
           "#EF553B",
           "#00cc96",
           "#ab63fa",
           "#FFA15A",
           "#19d3f3",
           "#FF6692",
           "#B6E880",
           "#FF97FF",
           "#FECB52"
          ],
          "font": {
           "color": "#2a3f5f"
          },
          "geo": {
           "bgcolor": "white",
           "lakecolor": "white",
           "landcolor": "#E5ECF6",
           "showlakes": true,
           "showland": true,
           "subunitcolor": "white"
          },
          "hoverlabel": {
           "align": "left"
          },
          "hovermode": "closest",
          "mapbox": {
           "style": "light"
          },
          "paper_bgcolor": "white",
          "plot_bgcolor": "#E5ECF6",
          "polar": {
           "angularaxis": {
            "gridcolor": "white",
            "linecolor": "white",
            "ticks": ""
           },
           "bgcolor": "#E5ECF6",
           "radialaxis": {
            "gridcolor": "white",
            "linecolor": "white",
            "ticks": ""
           }
          },
          "scene": {
           "xaxis": {
            "backgroundcolor": "#E5ECF6",
            "gridcolor": "white",
            "gridwidth": 2,
            "linecolor": "white",
            "showbackground": true,
            "ticks": "",
            "zerolinecolor": "white"
           },
           "yaxis": {
            "backgroundcolor": "#E5ECF6",
            "gridcolor": "white",
            "gridwidth": 2,
            "linecolor": "white",
            "showbackground": true,
            "ticks": "",
            "zerolinecolor": "white"
           },
           "zaxis": {
            "backgroundcolor": "#E5ECF6",
            "gridcolor": "white",
            "gridwidth": 2,
            "linecolor": "white",
            "showbackground": true,
            "ticks": "",
            "zerolinecolor": "white"
           }
          },
          "shapedefaults": {
           "line": {
            "color": "#2a3f5f"
           }
          },
          "ternary": {
           "aaxis": {
            "gridcolor": "white",
            "linecolor": "white",
            "ticks": ""
           },
           "baxis": {
            "gridcolor": "white",
            "linecolor": "white",
            "ticks": ""
           },
           "bgcolor": "#E5ECF6",
           "caxis": {
            "gridcolor": "white",
            "linecolor": "white",
            "ticks": ""
           }
          },
          "title": {
           "x": 0.05
          },
          "xaxis": {
           "automargin": true,
           "gridcolor": "white",
           "linecolor": "white",
           "ticks": "",
           "title": {
            "standoff": 15
           },
           "zerolinecolor": "white",
           "zerolinewidth": 2
          },
          "yaxis": {
           "automargin": true,
           "gridcolor": "white",
           "linecolor": "white",
           "ticks": "",
           "title": {
            "standoff": 15
           },
           "zerolinecolor": "white",
           "zerolinewidth": 2
          }
         }
        },
        "title": {
         "text": "Top 10 Contributors to the augur Repository"
        },
        "width": 950
       }
      },
      "image/png": "[encoded data removed]"
     },
     "metadata": {},
     "output_type": "display_data"
    }
   ],
   "source": [
    "# store the top 10 in a list \n",
    "top_10_set = [top_10_commits, top_10_issues, top_10_prs_created, top_10_prs_reviewed, top_10_pr_comments]\n",
    "\n",
    "# generate legend colors\n",
    "colors=create_color_map(top_k_set=top_10_set)\n",
    "\n",
    "\n",
    "specs = [[{'type':'domain'}, {'type':'domain'}], \n",
    "         [{'type':'domain'}, {'type':'domain'}], \n",
    "         [{'type':'domain'}, {'type':'domain'}]]\n",
    "\n",
    "# assign how much space in the figure each donut chart takes up\n",
    "domains = [\n",
    "    {'x': [0.0, 0.5], 'y': [0.0, 0.33]},\n",
    "    {'x': [0.5, 1.0], 'y': [0.0, 0.33]},\n",
    "    {'x': [0.0, 0.5], 'y': [0.33, 0.66]},\n",
    "    {'x': [0.5, 1.0], 'y': [0.33, 0.66]},\n",
    "    {'x': [0.0, 0.5], 'y': [0.66, 1.0]}\n",
    "]\n",
    "\n",
    "fig = make_subplots(rows=3, cols=2, specs=specs, start_cell=\"top-left\")\n",
    "for i, df in enumerate(top_10_set):\n",
    "    row, col = (i // 2) + 1, (i % 2) + 1\n",
    "\n",
    "    common_props=dict(labels=list(df.iloc[:, 0]),values=list(df.iloc[:, 1]))\n",
    "    \n",
    "    fig.add_trace(go.Pie(\n",
    "        **common_props,\n",
    "        # name = subtitles[i],\n",
    "        domain = domains[i],\n",
    "        marker_colors=colors, \n",
    "        textinfo=\"label\",\n",
    "        textposition=\"outside\",\n",
    "        hole=.6), row=row, col=col)\n",
    "    \n",
    "    # display percent inside each wedge\n",
    "    fig.add_trace(go.Pie(\n",
    "        **common_props, \n",
    "        textinfo='percent',\n",
    "        textposition='inside',\n",
    "        hole=0.6), row=row, col=col)\n",
    "    \n",
    "fig.update_traces(hoverinfo='label+percent')\n",
    "\n",
    "fig.update_layout(height=950, width=950,\n",
    "                  title_text=f'Top 10 Contributors to the {repo_name} Repository',\n",
    "                  paper_bgcolor='#e8f4f0',\n",
    "                  annotations=[dict(text='Commits', x=0.175, y=0.88, font_size=14, showarrow=False),\n",
    "                  dict(text='Issues Created', x=0.85, y=0.88, font_size=14, showarrow=False),\n",
    "                  dict(text='PRs Created', x=0.16, y=0.50, font_size=14, showarrow=False), \n",
    "                  dict(text='PRs Reviewed', x=0.85, y=0.50, font_size=14, showarrow=False),\n",
    "                  dict(text='PR Comments', x=0.15, y=0.12, font_size=14, showarrow=False)],\n",
    "                  showlegend=False,\n",
    "                  font_size=11)\n",
    "\n",
    "fig = go.Figure(fig)\n",
    "\n",
    "fig.show()"
   ]
  },
  {
   "attachments": {},
   "cell_type": "markdown",
   "metadata": {},
   "source": [
    "We can observe a trend in active contibutors among all the different perspectives we analaysed. For example, the contributor with id 01000cc2 is in the top 3 of the most active contibutors in 3 out of 5 of them. We can make the same observation for the contributor with id 01000c4d. \n",
    "\n",
    "Additionally, there are some activities in which the number of contributions is more evenly distributed compared to others such as creating issues vs reviewing PRs. This aligns with our logic since any user can create an issue on a repository whereas only the maintainer can review PRs."
   ]
  },
  {
   "cell_type": "code",
   "execution_count": null,
   "metadata": {},
   "outputs": [],
   "source": []
  },
  {
   "cell_type": "code",
   "execution_count": null,
   "metadata": {},
   "outputs": [],
   "source": []
  },
  {
   "cell_type": "code",
   "execution_count": null,
   "metadata": {},
   "outputs": [],
   "source": []
  }
 ],
 "metadata": {
  "kernelspec": {
   "display_name": "Python 3 (ipykernel)",
   "language": "python",
   "name": "python3"
  },
  "language_info": {
   "codemirror_mode": {
    "name": "ipython",
    "version": 3
   },
   "file_extension": ".py",
   "mimetype": "text/x-python",
   "name": "python",
   "nbconvert_exporter": "python",
   "pygments_lexer": "ipython3",
   "version": "3.12.12"
  }
 },
 "nbformat": 4,
 "nbformat_minor": 4
}
