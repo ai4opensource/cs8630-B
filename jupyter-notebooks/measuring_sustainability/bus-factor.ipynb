{
 "cells": [
  {
   "attachments": {},
   "cell_type": "markdown",
   "metadata": {},
   "source": [
    "## Bus Factor: How high is the risk to a project should the most active people leave?\n",
    "\n",
    "Bus factor quantifies the amount of contributors a project can afford to lose before it stalls by hypothetically having these people get run over a bus. Typically, it is the smallest number of people that make up 50% of contributions. \n",
    "\n",
    "In this notebook, we analyze bus factor according to a user-inputted percent of contributions with the option to parameterize by a time window and step size. We explore contributors including but not limited to individuals **1) making commits, 2) creating issues, and 3) creating, reviewing, and engaging in conversation around PRs**.\n",
    "\n",
    "**Note:** In the notebook, we use the Ansible repository as an example but our analyses can be replicated with any GitHub repository."
   ]
  },
  {
   "attachments": {},
   "cell_type": "markdown",
   "metadata": {},
   "source": [
    "### Table of Contents\n",
    "- [1. Connect to Augur database](#connect-to-augur-database)\n",
    "- [2. Query data](#query-data)\n",
    "- [3. Calculate bus factor](#calculate-bus-factor)\n",
    "- [4. Bus factor by number of commits](#bus-factor-by-number-of-commits)\n",
    "- [5. Bus factor by number of issues](#bus-factor-by-number-of-issues)\n",
    "- [6. Bus factor by number of PRs](#bus-factor-by-number-of-prs)\n",
    "- [7. Conclusion](#conclusion)"
   ]
  },
  {
   "cell_type": "code",
   "execution_count": null,
   "metadata": {},
   "outputs": [],
   "source": [
    "!pip install -q sqlalchemy"
   ]
  },
  {
   "cell_type": "code",
   "execution_count": null,
   "metadata": {},
   "outputs": [],
   "source": [
    "# import the required libraries and packages\n",
    "import sqlalchemy as salc\n",
    "import json\n",
    "import os\n",
    "\n",
    "import psycopg2\n",
    "import pandas as pd \n",
    "import numpy as np\n",
    "from scipy import stats\n",
    "\n",
    "import datetime as dt\n",
    "from dateutil.relativedelta import relativedelta\n",
    "\n",
    "import plotly.express as px\n",
    "from plotly.subplots import make_subplots\n",
    "import plotly.graph_objects as go\n",
    "\n",
    "import random\n",
    "\n",
    "import warnings\n",
    "warnings.filterwarnings('ignore')"
   ]
  },
  {
   "attachments": {},
   "cell_type": "markdown",
   "metadata": {},
   "source": [
    "## Connect to Augur database"
   ]
  },
  {
   "cell_type": "code",
   "execution_count": null,
   "metadata": {},
   "outputs": [],
   "source": [
    "# connect to db\n",
    "import json\n",
    "import os\n",
    "\n",
    "paths = [\"../../comm_cage.json\", \"comm_cage.json\", \"../../config.json\", \"../config.json\", \"config.json\"]\n",
    "\n",
    "for path in paths:\n",
    "    if os.path.exists(path):\n",
    "        with open(path) as config_file:\n",
    "            config = json.load(config_file)\n",
    "        break\n",
    "else:\n",
    "    raise FileNotFoundError(f\"None of the config files found: {paths}\")\n",
    "        \n",
    "database_connection_string = 'postgresql+psycopg2://{}:{}@{}:{}/{}'.format(config['user'], config['password'], config['host'], config['port'], config['database'])\n",
    "\n",
    "dbschema='augur_data'\n",
    "engine = salc.create_engine(\n",
    "    database_connection_string,\n",
    "    connect_args={'options': '-csearch_path={}'.format(dbschema)})"
   ]
  },
  {
   "attachments": {},
   "cell_type": "markdown",
   "metadata": {},
   "source": [
    "## Query data\n",
    "Let's first define some functions that will help us organize the data in a data frame, remove contributors that are potential bots, and count the number of contributions each individual has made.  "
   ]
  },
  {
   "cell_type": "code",
   "execution_count": null,
   "metadata": {},
   "outputs": [],
   "source": [
    "def get_df(repo_query):\n",
    "    '''\n",
    "    :param repo_query: A string representing a SQL statement\n",
    "    \n",
    "    returns a DataFrame where the columns are contrb_id, their contribution type, and the commit date \n",
    "    '''\n",
    "    df = pd.read_sql_query(repo_query, con=engine.connect())\n",
    "    df = df.reset_index()\n",
    "    if 'date' in df.columns:\n",
    "        df['date'] = pd.to_datetime(df['date'])\n",
    "    df.drop('index', axis=1, inplace=True)\n",
    "    return df"
   ]
  },
  {
   "cell_type": "code",
   "execution_count": null,
   "metadata": {},
   "outputs": [],
   "source": [
    "def filter_rows(df, patterns=['bot'], colname='email'):\n",
    "    '''\n",
    "    :param df: A DataFrame to screen column values out of\n",
    "    :param patterns: A list of strings or regular expression, patterns to be screened out\n",
    "    :param colname: A string representing the name of the column to screen patterns out of\n",
    "\n",
    "    returns a DataFrame with columns that matched, and column used to match, dropped.\n",
    "    '''\n",
    "    # filter for rows in df where the column value contains any of the specifed patterns\n",
    "    return df[~df[colname].isin(patterns)]\n"
   ]
  },
  {
   "cell_type": "code",
   "execution_count": null,
   "metadata": {},
   "outputs": [],
   "source": [
    "def count_cntrbs(df, contribution_type, patterns=['bot'], colname='email', ascending=False):\n",
    "    '''\n",
    "    :param df: A DataFrame \n",
    "    :param contribution_type: A string indicating the type of contribution\n",
    "    :param patterns: A list representing of strings or regular expression, patterns to be screened out\n",
    "    :param colname: A string representing the name of column to screen patterns out of\n",
    "    :param descending: A boolean indicating the order in which the returned df columns are sorted according to bus factor, \n",
    "                      by default it is set to False which corresponds to descending order\n",
    "\n",
    "    returns a DataFrame of cntrb_id's and a count of each of their contributions, sorted\n",
    "    '''\n",
    "    # remove potential bots\n",
    "    df = filter_rows(df, patterns, colname)\n",
    "    # count the number of contributions per contributor \n",
    "    df = (df.groupby('cntrb_id')[contribution_type].count()).to_frame()\n",
    "    # sort rows according to amount of contributions\n",
    "    df.sort_values(by=contribution_type, ascending=ascending, inplace=True)\n",
    "    df = df.reset_index()\n",
    "    return df"
   ]
  },
  {
   "attachments": {},
   "cell_type": "markdown",
   "metadata": {},
   "source": [
    "## Calculate bus factor\n",
    "\n",
    "While the bus factor is typically defined using 50% as threshold for the percent of contributors a project can lose before it stalls, we're interested in a range of thresholds. In the following function `calc_bus_factor`, we've added a parameter `threshold` to do so.\n",
    "\n",
    "Additionally, we're interested in counting the number of outliers i.e individuals who make contributions significantly above average. In our implementation, we define outliers as any contributors with contributions that are 2 or more standard deviations above the mean number of commits."
   ]
  },
  {
   "cell_type": "code",
   "execution_count": null,
   "metadata": {},
   "outputs": [],
   "source": [
    "def calc_bus_factor(df, contribution_type, threshold):\n",
    "    '''\n",
    "    :param df: A DataFrame of cntrb_id's and contributions, sorted in descending order of contributions\n",
    "    :param contribution_type: A String indicating the activity of interest\n",
    "    :param threshold: A double indicating the cut off threshold for bus factor\n",
    "\n",
    "    A contributor is ranked by how large of a proportion of all work they did - \n",
    "    if someone authored 350 of 1000 commits, for instance, they'll account for 35% \n",
    "    of the commits made. The list of percent contributions is ranked in descending order. \n",
    "    The ordered list is greedily processed such that the smallest list of contributors is \n",
    "    found that accounts for threshold percent of the work done for a given contribution type.\n",
    "   \n",
    "    returns the bus factor, cntrb_id's and number of outliers for the given contribution type\n",
    "    '''\n",
    "    # identify and count outliers which we define as 2 standard deviations or more above from the mean\n",
    "    num_outliers = len(df[(stats.zscore(df[contribution_type]) > 2)])\n",
    "  \n",
    "    # calculate total number of contributions\n",
    "    t_cntrbs = df[contribution_type].sum()\n",
    "\n",
    "    # initilize empty list of to store contibutor ids for those who make up the bus factor\n",
    "    cntrb_ids = []\n",
    "    # initialize cumulative percent of contributions\n",
    "    cum_per = 0\n",
    "\n",
    "    # add column name cntrbs to calculate the ratio of activity to the total amount of said activity\n",
    "    df[\"cntrbs\"] = df[contribution_type] / t_cntrbs\n",
    "    df = df.reset_index()\n",
    "    \n",
    "    # iterate through each row in df and create a running sum of percent contributions\n",
    "    for _, row in df.iterrows():\n",
    "        cum_per += row['cntrbs']\n",
    "        cntrb_ids.append(row['cntrb_id']) # add contributor id to list \n",
    "        # if the cumulative percent of contributions is greater than or equal to the threshold, break\n",
    "        if cum_per  >= threshold:\n",
    "            break\n",
    "    \n",
    "    # calculate the bus factor\n",
    "    bus_factor = len(cntrb_ids)\n",
    "    return bus_factor, cntrb_ids, num_outliers"
   ]
  },
  {
   "attachments": {},
   "cell_type": "markdown",
   "metadata": {},
   "source": [
    "The bus factor can fluctuate over the lifetime of the project. Thus, we're interested in the analyzing the bus factor in a specific window of time and seeing how it evolves over different periods of time. We prioritize the most recent information so we create sliding windows from the end date up to and including the start date. If there is any remaining time between the start and end date, we calculate the bus factor for that slice of time, even if it is less than the window width."
   ]
  },
  {
   "cell_type": "code",
   "execution_count": null,
   "metadata": {},
   "outputs": [],
   "source": [
    "def bus_factor_by_windows(df, contribution_type, window_width, step_size, threshold, start_date=None, end_date=None):\n",
    "    ''' \n",
    "    :param df: A DataFrame of cntrb_id's, contributions, and dates\n",
    "    :param contribution_type: A String indicating the activity of interest\n",
    "    :param window_width: An integer representing the window in months for which the bus factor is calculated. \n",
    "    :param step_size:  An integer representing how many months the sliding window advances each iteration\n",
    "    :param threshold: A double indicating the cut off threshold for bus factor\n",
    "    :param start_date: A string representing start date of the interval, by default \n",
    "    :param end_date: A string representing the end data of the interval\n",
    "    \n",
    "    returns a DataFrame of period to, period from, cntrb_id, and bus factor for the specified window_width and step_size\n",
    "    '''\n",
    "    # if the start date and end date are null, set them to the first and last commit date\n",
    "    if start_date == None:\n",
    "        start_date = str(min(df['date']).date())\n",
    "       \n",
    "    if end_date == None:\n",
    "        end_date = str(max(df['date']).date())\n",
    "    \n",
    "    start_date = dt.datetime.strptime(start_date, \"%Y-%m-%d\")\n",
    "    end_date = dt.datetime.strptime(end_date, \"%Y-%m-%d\")\n",
    "    \n",
    "    # if the window width is greater than time spanned by start date and end date, raise ValueError\n",
    "    # convert the difference between the end date and start date into months\n",
    "    delta_year = (end_date.year - start_date.year) \n",
    "    delta_month = (delta_year * 12) + (end_date.month - start_date.month)\n",
    "    if window_width > delta_month:\n",
    "         raise ValueError('The window width cannot be greater than the time spanned by the start and end date.')\n",
    "    \n",
    "    # if the step size is greater than window width, raise ValueError\n",
    "    if step_size > window_width:\n",
    "        raise ValueError('The step size cannot be greater than the window width.')\n",
    "     \n",
    "    window_width=relativedelta(months=window_width)\n",
    "    step_size=relativedelta(months=step_size)\n",
    "\n",
    "    bfs=[]\n",
    "    cntrb_ids = []\n",
    "    period_from = []\n",
    "    period_to = [] \n",
    "\n",
    "    # calculate bus factor for each window, starting from the end date\n",
    "    while True:\n",
    "        period_from.append((end_date - window_width).strftime('%Y-%m-%d'))\n",
    "        period_to.append(end_date.strftime('%Y-%m-%d'))\n",
    "\n",
    "        # index df such that its rows are between the end date - window width and end date\n",
    "        mask = (df['date'] >= end_date - window_width) & (df['date'] <= end_date)\n",
    "        count_cntrbs_window = count_cntrbs(df.loc[mask], contribution_type)\n",
    "\n",
    "        # calculate bus factor\n",
    "        bus_factor, cntrb_id, num_outliers = calc_bus_factor(count_cntrbs_window, contribution_type, threshold)\n",
    "        \n",
    "        bfs.append(bus_factor)\n",
    "        \n",
    "        # shift the end_date by the step size\n",
    "        end_date -= step_size\n",
    "        \n",
    "        # get the bus factor for the remaining slice, even if it is smaller than the window width\n",
    "        # set flag to indicate if the remaining slice has not been calculated yet\n",
    "        remaining_slice = False\n",
    "        if end_date - window_width <= start_date:\n",
    "            # calculate the remaining time between the current end date and start date, which will be the new window width\n",
    "            last_window_width = end_date - start_date\n",
    "            period_from.append((end_date - last_window_width).strftime('%Y-%m-%d'))\n",
    "            period_to.append(end_date.strftime('%Y-%m-%d'))\n",
    "\n",
    "            # index df such that its rows are betweeen the end_date - window_width and end date\n",
    "            remaining_mask = (df['date'] >= end_date - last_window_width) & (df['date'] <= end_date) \n",
    "            count_cntrbs_last_window = count_cntrbs(df.loc[remaining_mask], contribution_type)\n",
    "            # calculate bus factor for the remaining slice\n",
    "            bus_factor, cntrb_id, num_outliers = calc_bus_factor(count_cntrbs_last_window, contribution_type, threshold)\n",
    "            bfs.append(bus_factor)\n",
    "            # set flag to True, indicating that the bus factor for the remaining slice has been calculated\n",
    "            remaining_slice = True\n",
    "\n",
    "        # exit loop if the remaining slice has been calculated\n",
    "        if remaining_slice:\n",
    "            break\n",
    "        \n",
    "    # create a dataframe with period to, period from, bus factor, and cntrb_ids as columns\n",
    "    df = pd.DataFrame(list(zip(period_from, period_to, bfs)), columns = ['period_from', 'period_to', 'bus_factor'])\n",
    "    return df"
   ]
  },
  {
   "attachments": {},
   "cell_type": "markdown",
   "metadata": {},
   "source": [
    "We often visualize data to get a better of understanding of it. Let's plot a line chart depicting the data generated by `bus_factor_by_windows`."
   ]
  },
  {
   "cell_type": "code",
   "execution_count": null,
   "metadata": {},
   "outputs": [],
   "source": [
    "def plot_line_graph(df, title, xlabel, ylabel, step_size):\n",
    "    '''\n",
    "    :param df: A DataFrame that has period_from and bus_factor as its columns\n",
    "    :param title: A String describing the context of the plot\n",
    "    :param xlabel: A String assigned to the x-axis label\n",
    "    :param ylabel: A String assigned to the y-axis label\n",
    "    :param step_size: An integer representing how many months the sliding window advances each iteration\n",
    "\n",
    "    returns a line graph of bus factor vs time\n",
    "    '''\n",
    "    fig = px.line(df, x=\"period_from\", y=\"bus_factor\", custom_data=[\"period_to\"], text=\"bus_factor\", width=800, height=500)\n",
    "    \n",
    "    fig.update_xaxes(fixedrange=True, tickformat=\"%B %Y\", tickangle=45, dtick=f\"M{step_size}\")\n",
    "\n",
    "    start_date = min(df['period_from'])\n",
    "    fig.update_layout(title={'text':title,'x':0.5, 'xanchor':'center'},\n",
    "                   xaxis_title=xlabel,\n",
    "                   xaxis=dict(tick0=start_date),\n",
    "                   yaxis_title=ylabel \n",
    "                )\n",
    "    \n",
    "    hovertemplate=\"<br>\".join([\"period from: %{x: %m-%d}\", \"period to: %{customdata[0]: %m-%d}\"])\n",
    "    fig.update_traces(textposition=\"top right\", hovertemplate=hovertemplate, line_color=\"lightgreen\")\n",
    "\n",
    "    fig.show()"
   ]
  },
  {
   "attachments": {},
   "cell_type": "markdown",
   "metadata": {},
   "source": [
    "Now that we have all of our functions defined, let's put them to practice!"
   ]
  },
  {
   "attachments": {},
   "cell_type": "markdown",
   "metadata": {},
   "source": [
    "## Bus factor by number of commits"
   ]
  },
  {
   "cell_type": "code",
   "execution_count": null,
   "metadata": {},
   "outputs": [],
   "source": [
    "import ipywidgets as widgets\n",
    "from IPython.display import display, clear_output\n",
    "\n",
    "repo_name_w = widgets.Text(\n",
    "    value='augur',\n",
    "    placeholder='Enter repository name',\n",
    "    description='Repo name:',\n",
    ")\n",
    "repo_statement_w = widgets.Text(\n",
    "    value='[1]',\n",
    "    placeholder='Enter repo statement (e.g. [28336])',\n",
    "    description='Statement:',\n",
    ")\n",
    "submit_btn = widgets.Button(description='Use these', button_style='primary')\n",
    "out = widgets.Output()\n",
    "\n",
    "def on_submit(_):\n",
    "    with out:\n",
    "        clear_output()\n",
    "        repo_name = repo_name_w.value.strip()\n",
    "        repo_statement = repo_statement_w.value.strip(\"[]\")\n",
    "        # store for later cells\n",
    "        globals()['repo_name'] = repo_name\n",
    "        globals()['repo_statement'] = repo_statement\n",
    "        print(f\"✅ Repo name: {repo_name}\")\n",
    "        print(f\"✅ Repo statement: {repo_statement}\")\n",
    "\n",
    "submit_btn.on_click(on_submit)\n",
    "display(widgets.VBox([repo_name_w, repo_statement_w, submit_btn, out]))"
   ]
  },
  {
   "cell_type": "code",
   "execution_count": null,
   "metadata": {},
   "outputs": [],
   "source": [
    "#repo_name = 'Ansible'\n",
    "#repo_statement = str([28336])\n",
    "#repo_statement = repo_statement[1:-1]\n",
    "\n",
    "repo_query = salc.sql.text(f\"\"\"\n",
    "                SELECT\n",
    "                   DISTINCT c.cmt_commit_hash AS commit,\n",
    "                   ca.cntrb_id, \n",
    "                   c.cmt_author_email AS email,\n",
    "                   c.cmt_author_date AS date        \n",
    "                FROM\n",
    "                    contributors_aliases ca\n",
    "                JOIN \n",
    "                    commits c \n",
    "                ON \n",
    "                    c.cmt_committer_email = ca.alias_email\n",
    "                WHERE\n",
    "                    c.repo_id in({repo_statement})\n",
    "               \"\"\")"
   ]
  },
  {
   "cell_type": "code",
   "execution_count": null,
   "metadata": {},
   "outputs": [],
   "source": [
    "# organize commits data in a DataFrame\n",
    "conn_commits = get_df(repo_query)\n",
    "display(conn_commits.head())"
   ]
  },
  {
   "cell_type": "code",
   "execution_count": null,
   "metadata": {},
   "outputs": [],
   "source": [
    "# count the number of commits per contributor and order the rows from most to least number of commits\n",
    "commits = count_cntrbs(df=conn_commits, contribution_type='commit', patterns=['bot'], colname='email')\n",
    "# display the top 5 most active contributors\n",
    "display(commits.head())"
   ]
  },
  {
   "cell_type": "code",
   "execution_count": null,
   "metadata": {},
   "outputs": [],
   "source": [
    "bf_commits, cntrb_ids, num_outliers = calc_bus_factor(df=commits, contribution_type='commit', threshold=0.50)\n",
    "print(f'The bus factor in terms of number of commits for {repo_name} is {bf_commits}.\\nOf the total number of contributors, {num_outliers} were identified as outliers.')"
   ]
  },
  {
   "attachments": {},
   "cell_type": "markdown",
   "metadata": {},
   "source": [
    "Now let's analyze how the bus factor has evolved over the entire lifetime of the Ansible by taking window sizes of 6 months and sliding by a step size of 4 months."
   ]
  },
  {
   "cell_type": "code",
   "execution_count": null,
   "metadata": {},
   "outputs": [],
   "source": [
    "commits_bf_by_windows = bus_factor_by_windows(df=conn_commits, contribution_type='commit', window_width=6, step_size=4, threshold=0.5)\n",
    "display(commits_bf_by_windows.head())"
   ]
  },
  {
   "attachments": {},
   "cell_type": "markdown",
   "metadata": {},
   "source": [
    "In order to get a better sense of how the bus factor has evolved overtime, let's plot a line graph!"
   ]
  },
  {
   "cell_type": "code",
   "execution_count": null,
   "metadata": {},
   "outputs": [],
   "source": [
    "plot_line_graph(df=commits_bf_by_windows, \n",
    "               title='Bus Factor of Commits in 6 Month Periods', \n",
    "               xlabel='Timeline (stepsize = 4 months)',\n",
    "               ylabel='Bus Factor', \n",
    "               step_size=4)"
   ]
  },
  {
   "attachments": {},
   "cell_type": "markdown",
   "metadata": {},
   "source": [
    "Now that we've analyzed the bus factor for one type of contribution to a project, let's explore others. Not only are contributors individuals who have directly committed to the project but also those who have contributed by creating issues."
   ]
  },
  {
   "attachments": {},
   "cell_type": "markdown",
   "metadata": {},
   "source": [
    "## Bus factor by number of issues"
   ]
  },
  {
   "attachments": {},
   "cell_type": "markdown",
   "metadata": {},
   "source": [
    "Let's analyze the bus factor for the number of issues created."
   ]
  },
  {
   "cell_type": "code",
   "execution_count": null,
   "metadata": {},
   "outputs": [],
   "source": [
    "issues_query = salc.sql.text(f\"\"\"\n",
    "                SELECT\n",
    "                    DISTINCT i.issue_id AS issue,\n",
    "                    i.reporter_id AS cntrb_id,\n",
    "                    ca.alias_email as email,\n",
    "                    i.created_at AS date\n",
    "                FROM\n",
    "                    issues i, \n",
    "                    contributors_aliases ca\n",
    "                WHERE\n",
    "                    i.repo_id in({repo_statement}) AND\n",
    "                    i.reporter_id = ca.cntrb_id\n",
    "               \"\"\")\n",
    "\n",
    "conn_issues = get_df(issues_query)\n",
    "display(conn_issues.head())"
   ]
  },
  {
   "cell_type": "code",
   "execution_count": null,
   "metadata": {},
   "outputs": [],
   "source": [
    "issues_created = count_cntrbs(df=conn_issues, contribution_type='issue')\n",
    "display(issues_created.head())"
   ]
  },
  {
   "cell_type": "code",
   "execution_count": null,
   "metadata": {},
   "outputs": [],
   "source": [
    "bf_issues, cntrb_ids, num_outliers = calc_bus_factor(issues_created, contribution_type='issue', threshold=0.50)\n",
    "print(f'The bus factor in terms of number of issues created for {repo_name} is {bf_issues}.\\nOf the total number of contributors, {num_outliers} were identified as outliers.')"
   ]
  },
  {
   "attachments": {},
   "cell_type": "markdown",
   "metadata": {},
   "source": [
    "Similar to the previous analysis, we performed on the number of commits, let's calculate the bus factor for issues created in windows of 6 months with a step size of 4 months over the entire lifetime of Ansible and plot it."
   ]
  },
  {
   "cell_type": "code",
   "execution_count": null,
   "metadata": {},
   "outputs": [],
   "source": [
    "issue_bf_by_windows = bus_factor_by_windows(df=conn_issues, contribution_type='issue', window_width=6, step_size=4, threshold=0.5)\n",
    "display(issue_bf_by_windows.head())"
   ]
  },
  {
   "cell_type": "code",
   "execution_count": null,
   "metadata": {},
   "outputs": [],
   "source": [
    "plot_line_graph(df=issue_bf_by_windows, \n",
    "               title='Bus Factor of Issues Created in 6 Month Windows',\n",
    "               xlabel='Timeline (stepsize = 4 months)', \n",
    "               ylabel='Bus Factor', \n",
    "               step_size=4)"
   ]
  },
  {
   "attachments": {},
   "cell_type": "markdown",
   "metadata": {},
   "source": [
    "We can further extend our notion of bus factor by number of PRs. Here we calculate bus factor seperately for contributors who have created PRs, contributors who have reviewed PRs, and individuals who have contributed to conversation around PRs."
   ]
  },
  {
   "attachments": {},
   "cell_type": "markdown",
   "metadata": {},
   "source": [
    "## Bus factor by number of PRs\n",
    "- Created PRs\n",
    "- Reviewed PRs\n",
    "- Made comments"
   ]
  },
  {
   "cell_type": "code",
   "execution_count": null,
   "metadata": {},
   "outputs": [],
   "source": [
    "pr_create_query = salc.sql.text(f\"\"\"\n",
    "                    SELECT \n",
    "                        DISTINCT pr.pull_request_id as pr, \n",
    "                        pr.pr_augur_contributor_id AS cntrb_id, \n",
    "                        ca.alias_email as email, \n",
    "                        pr.pr_created_at as date\n",
    "                    FROM\n",
    "                        repo r,\n",
    "                        pull_requests pr, \n",
    "                        contributors_aliases ca\n",
    "                    WHERE\n",
    "                        r.repo_id in({repo_statement}) AND\n",
    "                        pr.repo_id = r.repo_id AND\n",
    "                        pr.pr_augur_contributor_id = ca.cntrb_id\n",
    "            \"\"\")\n",
    "\n",
    "conn_pr_created = get_df(pr_create_query)\n",
    "display(conn_pr_created.head())"
   ]
  },
  {
   "cell_type": "code",
   "execution_count": null,
   "metadata": {},
   "outputs": [],
   "source": [
    "pr_created = count_cntrbs(df=conn_pr_created, contribution_type='pr')\n",
    "display(pr_created.head())"
   ]
  },
  {
   "cell_type": "code",
   "execution_count": null,
   "metadata": {},
   "outputs": [],
   "source": [
    "bf_pr_created, cntrb_ids, num_outliers = calc_bus_factor(df=pr_created, contribution_type='pr', threshold=0.50)\n",
    "print(f'The bus factor in terms of contributors who created PRs {repo_name} is {bf_pr_created}.\\nOf the total number of contributors, {num_outliers} were identified as outliers.')"
   ]
  },
  {
   "cell_type": "code",
   "execution_count": null,
   "metadata": {},
   "outputs": [],
   "source": [
    "pr_created_bf_by_windows = bus_factor_by_windows(df=conn_pr_created, contribution_type='pr', window_width=6, step_size=4, threshold=0.5)\n",
    "display(pr_created_bf_by_windows.head())"
   ]
  },
  {
   "cell_type": "code",
   "execution_count": null,
   "metadata": {},
   "outputs": [],
   "source": [
    "plot_line_graph(df=pr_created_bf_by_windows, \n",
    "               title='Bus Factor of PRs Created in 6 Month Windows',\n",
    "               xlabel='Timeline (step size = 4 months)', \n",
    "               ylabel='Bus Factor', \n",
    "               step_size=4)"
   ]
  },
  {
   "attachments": {},
   "cell_type": "markdown",
   "metadata": {},
   "source": [
    "Let's repeat the process for reviewers."
   ]
  },
  {
   "cell_type": "code",
   "execution_count": null,
   "metadata": {},
   "outputs": [],
   "source": [
    "pr_review_query = salc.sql.text(f\"\"\"\n",
    "                    SELECT \n",
    "                        pre.pull_request_id as pr, \n",
    "                        pre.cntrb_id, \n",
    "                        ca.alias_email as email, \n",
    "                        pre.created_at as date\n",
    "                    FROM\n",
    "                        repo r,\n",
    "                        pull_request_events pre,  \n",
    "                        contributors_aliases ca\n",
    "                    WHERE\n",
    "                        r.repo_id in({repo_statement}) AND\n",
    "                        r.repo_id = pre.repo_id AND\n",
    "                        pre.cntrb_id = ca.cntrb_id \n",
    "            \"\"\")\n",
    "\n",
    "conn_pr_review = get_df(pr_review_query)\n",
    "display(conn_pr_review.head())"
   ]
  },
  {
   "cell_type": "code",
   "execution_count": null,
   "metadata": {},
   "outputs": [],
   "source": [
    "pr_reviewed = count_cntrbs(conn_pr_review, contribution_type='pr')\n",
    "display(pr_reviewed.head())"
   ]
  },
  {
   "cell_type": "code",
   "execution_count": null,
   "metadata": {},
   "outputs": [],
   "source": [
    "bf_pr_reviwed, cntrb_ids, num_outliers = calc_bus_factor(pr_reviewed, contribution_type='pr', threshold=0.50)\n",
    "print(f'The bus factor in terms of reviewers who reviewed PRs for {repo_name} is {bf_pr_reviwed}.\\nOf the total number of contributors, {num_outliers} were identified as outliers.')"
   ]
  },
  {
   "cell_type": "code",
   "execution_count": null,
   "metadata": {},
   "outputs": [],
   "source": [
    "pr_reviewed_bf_by_windows = bus_factor_by_windows(conn_pr_review, contribution_type='pr', threshold=0.50, window_width=6, step_size=4)\n",
    "display(pr_reviewed_bf_by_windows.head())"
   ]
  },
  {
   "cell_type": "code",
   "execution_count": null,
   "metadata": {},
   "outputs": [],
   "source": [
    "plot_line_graph(df=pr_reviewed_bf_by_windows, \n",
    "               title='Bus Factor of PR Reviews in 6 Month Windows',\n",
    "               xlabel='Timeline (stepsize = 4 months)',\n",
    "               ylabel='Bus Factor', \n",
    "               step_size=4)"
   ]
  },
  {
   "attachments": {},
   "cell_type": "markdown",
   "metadata": {},
   "source": [
    "Not only are contributors who created and reviewed PRs integral to the health of a project. Oftentimes, commenters help facilitate the process of merging PRs by providing feedback. Thus, we are also interested in their contributions. "
   ]
  },
  {
   "cell_type": "code",
   "execution_count": null,
   "metadata": {},
   "outputs": [],
   "source": [
    "pr_comments_query = salc.sql.text(f\"\"\"     \n",
    "                SELECT            \n",
    "                    DISTINCT prm.pr_msg_ref_id AS pr_msg,\n",
    "\t\t\t\t\tm.msg_text comment_text, \n",
    "                    m.cntrb_id,\n",
    "                    ca.alias_email as email, \n",
    "                    m.msg_timestamp as date\n",
    "                FROM\n",
    "                \trepo r,\n",
    "                    pull_requests pr,\n",
    "                    pull_request_message_ref prm, \n",
    "                    message m, \n",
    "                    contributors_aliases ca\n",
    "                WHERE\n",
    "                \tm.msg_id = prm.msg_id AND\n",
    "                    prm.pull_request_id = pr.pull_request_id AND\n",
    "                \tpr.repo_id = r.repo_id AND\n",
    "                    r.repo_id = \\'{repo_statement}\\' AND \n",
    "                    ca.cntrb_id = m.cntrb_id\n",
    "        \"\"\"\n",
    "                                \n",
    "    )\n",
    "conn_pr_comments = get_df(pr_comments_query)\n",
    "display(conn_pr_comments.head())"
   ]
  },
  {
   "cell_type": "code",
   "execution_count": null,
   "metadata": {},
   "outputs": [],
   "source": [
    "pr_comments = count_cntrbs(conn_pr_comments,'pr_msg' )\n",
    "pr_comments.rename(columns={'pr_msg_ref_id':'pr_msg'})\n",
    "display(pr_comments.head())"
   ]
  },
  {
   "cell_type": "code",
   "execution_count": null,
   "metadata": {},
   "outputs": [],
   "source": [
    "bf_pr_comments, cntrb_ids, num_outliers = calc_bus_factor(pr_comments,contribution_type='pr_msg', threshold=0.50)\n",
    "print(f'The bus factor in terms of number of comments on PRs for {repo_name} is {bf_pr_comments}.\\nOf the total number of contributors, {num_outliers} were identified as outliers.')"
   ]
  },
  {
   "cell_type": "code",
   "execution_count": null,
   "metadata": {},
   "outputs": [],
   "source": [
    "pr_comments_bf_by_windows = bus_factor_by_windows(df=conn_pr_created, contribution_type='pr', window_width=6, step_size=4, threshold=0.5)\n",
    "display(pr_comments_bf_by_windows.head())"
   ]
  },
  {
   "cell_type": "code",
   "execution_count": null,
   "metadata": {},
   "outputs": [],
   "source": [
    "plot_line_graph(df=pr_comments_bf_by_windows, \n",
    "               title='Bus Factor of PR Comments in 6 Month Windows', \n",
    "               xlabel='Timeline (step size = 4 months)',\n",
    "               ylabel='Bus Factor', \n",
    "               step_size=4)"
   ]
  },
  {
   "attachments": {},
   "cell_type": "markdown",
   "metadata": {},
   "source": [
    "## Conclusion\n",
    "Up until this point, we've been analyzing each perspective on bus factor individually. Let's compare the top 10 contributors from each perspective to see if there's a trend in the most active contributors. We can do this by plotting a pie chart for each perspective."
   ]
  },
  {
   "cell_type": "code",
   "execution_count": null,
   "metadata": {},
   "outputs": [],
   "source": [
    "def get_top_k(df,k):\n",
    "    \"\"\"\n",
    "    :param df: A DataFrame resulting from the count_cntrbs function\n",
    "    :param k: An integer \n",
    "    \n",
    "    returns a DataFrame of the top k contributors and their contributions \n",
    "    and the remaining contributors and their contributions\n",
    "    \"\"\"\n",
    "    # index df to get first k rows and remove 'cntrbs' column\n",
    "    top_k = df.iloc[:k, :2]\n",
    "    # convert cntrb_id from type UUID to String\n",
    "    top_k['cntrb_id'] = top_k['cntrb_id'].apply(lambda x: str(x).split('-')[0])\n",
    "    \n",
    "    # sort by alpha-numeric order to make it easier to map colors to contibutors\n",
    "    top_k = top_k.sort_values(by='cntrb_id')\n",
    "    \n",
    "    t_sum = df.iloc[:,1].sum() # get the number of total contributions \n",
    "    top_k_sum = top_k.iloc[:,1].sum() # get the number of total top k contributions\n",
    "    \n",
    "    # calculate the remaining contributions by taking the the difference of t_sum and top_k_sum\n",
    "    top_k.loc[len(top_k.index)] = ['other', t_sum - top_k_sum ]\n",
    "   \n",
    "    return top_k"
   ]
  },
  {
   "cell_type": "markdown",
   "metadata": {},
   "source": [
    "We want to easily be able to compare the top contributors accross the different perpectives in our visualization. Let's create a dictionary mapping each unqiue contributor to a color. "
   ]
  },
  {
   "cell_type": "code",
   "execution_count": null,
   "metadata": {},
   "outputs": [],
   "source": [
    "def create_color_map(top_k_set):\n",
    "    '''\n",
    "    :param top_k_set: A list of DataFrames with top contibutors according to each perspective\n",
    "\n",
    "    returns a list mapping unique contributors to unique colors\n",
    "    '''\n",
    "    # get all unique contributors\n",
    "    cntrb_id_set = pd.concat(top_k_set).iloc[:, 0]\n",
    "    cntrb_id_set = [*set(list(cntrb_id_set))]\n",
    "\n",
    "    # intialize list to store all colours\n",
    "    colors = []\n",
    "\n",
    "    # generate colors for each contributor\n",
    "    for _ in range(len(cntrb_id_set)):\n",
    "        r = random.randint(0,255)\n",
    "        g = random.randint(0,255)\n",
    "        b = random.randint(0,255)\n",
    "\n",
    "        colors.append(f'rgb{r,g,b}')\n",
    "\n",
    "    return colors"
   ]
  },
  {
   "cell_type": "markdown",
   "metadata": {},
   "source": [
    "Let's get the top 10 contributors and the number of their contributions for each contribution type. All the remaining number of contributions will correspond to the cntrb_id \"other\"."
   ]
  },
  {
   "cell_type": "code",
   "execution_count": null,
   "metadata": {},
   "outputs": [],
   "source": [
    "# get the top 10 contributors for each contribution type\n",
    "top_10_commits = get_top_k(commits, 10)\n",
    "top_10_issues = get_top_k(issues_created, 10)\n",
    "top_10_prs_created = get_top_k(pr_created, 10)\n",
    "top_10_prs_reviewed = get_top_k(pr_reviewed, 10)\n",
    "top_10_pr_comments = get_top_k(pr_comments, 10)\n",
    "\n",
    "display(top_10_commits)"
   ]
  },
  {
   "cell_type": "code",
   "execution_count": null,
   "metadata": {},
   "outputs": [],
   "source": [
    "# store the top 10 in a list \n",
    "top_10_set = [top_10_commits, top_10_issues, top_10_prs_created, top_10_prs_reviewed, top_10_pr_comments]\n",
    "\n",
    "# generate legend colors\n",
    "colors=create_color_map(top_k_set=top_10_set)\n",
    "\n",
    "\n",
    "specs = [[{'type':'domain'}, {'type':'domain'}], \n",
    "         [{'type':'domain'}, {'type':'domain'}], \n",
    "         [{'type':'domain'}, {'type':'domain'}]]\n",
    "\n",
    "# assign how much space in the figure each donut chart takes up\n",
    "domains = [\n",
    "    {'x': [0.0, 0.5], 'y': [0.0, 0.33]},\n",
    "    {'x': [0.5, 1.0], 'y': [0.0, 0.33]},\n",
    "    {'x': [0.0, 0.5], 'y': [0.33, 0.66]},\n",
    "    {'x': [0.5, 1.0], 'y': [0.33, 0.66]},\n",
    "    {'x': [0.0, 0.5], 'y': [0.66, 1.0]}\n",
    "]\n",
    "\n",
    "fig = make_subplots(rows=3, cols=2, specs=specs, start_cell=\"top-left\")\n",
    "for i, df in enumerate(top_10_set):\n",
    "    row, col = (i // 2) + 1, (i % 2) + 1\n",
    "\n",
    "    common_props=dict(labels=list(df.iloc[:, 0]),values=list(df.iloc[:, 1]))\n",
    "    \n",
    "    fig.add_trace(go.Pie(\n",
    "        **common_props,\n",
    "        # name = subtitles[i],\n",
    "        domain = domains[i],\n",
    "        marker_colors=colors, \n",
    "        textinfo=\"label\",\n",
    "        textposition=\"outside\",\n",
    "        hole=.6), row=row, col=col)\n",
    "    \n",
    "    # display percent inside each wedge\n",
    "    fig.add_trace(go.Pie(\n",
    "        **common_props, \n",
    "        textinfo='percent',\n",
    "        textposition='inside',\n",
    "        hole=0.6), row=row, col=col)\n",
    "    \n",
    "fig.update_traces(hoverinfo='label+percent')\n",
    "\n",
    "fig.update_layout(height=950, width=950,\n",
    "                  title_text=f'Top 10 Contributors to the {repo_name} Repository',\n",
    "                  paper_bgcolor='#e8f4f0',\n",
    "                  annotations=[dict(text='Commits', x=0.175, y=0.88, font_size=14, showarrow=False),\n",
    "                  dict(text='Issues Created', x=0.85, y=0.88, font_size=14, showarrow=False),\n",
    "                  dict(text='PRs Created', x=0.16, y=0.50, font_size=14, showarrow=False), \n",
    "                  dict(text='PRs Reviewed', x=0.85, y=0.50, font_size=14, showarrow=False),\n",
    "                  dict(text='PR Comments', x=0.15, y=0.12, font_size=14, showarrow=False)],\n",
    "                  showlegend=False,\n",
    "                  font_size=11)\n",
    "\n",
    "fig = go.Figure(fig)\n",
    "\n",
    "fig.show()"
   ]
  },
  {
   "attachments": {},
   "cell_type": "markdown",
   "metadata": {},
   "source": [
    "We can observe a trend in active contibutors among all the different perspectives we analaysed. For example, the contributor with id 01000cc2 is in the top 3 of the most active contibutors in 3 out of 5 of them. We can make the same observation for the contributor with id 01000c4d. \n",
    "\n",
    "Additionally, there are some activities in which the number of contributions is more evenly distributed compared to others such as creating issues vs reviewing PRs. This aligns with our logic since any user can create an issue on a repository whereas only the maintainer can review PRs."
   ]
  },
  {
   "cell_type": "code",
   "execution_count": null,
   "metadata": {},
   "outputs": [],
   "source": []
  },
  {
   "cell_type": "code",
   "execution_count": null,
   "metadata": {},
   "outputs": [],
   "source": []
  },
  {
   "cell_type": "code",
   "execution_count": null,
   "metadata": {},
   "outputs": [],
   "source": []
  }
 ],
 "metadata": {
  "kernelspec": {
   "display_name": "Python 3 (ipykernel)",
   "language": "python",
   "name": "python3"
  },
  "language_info": {
   "codemirror_mode": {
    "name": "ipython",
    "version": 3
   },
   "file_extension": ".py",
   "mimetype": "text/x-python",
   "name": "python",
   "nbconvert_exporter": "python",
   "pygments_lexer": "ipython3",
   "version": "3.12.12"
  }
 },
 "nbformat": 4,
 "nbformat_minor": 4
}
