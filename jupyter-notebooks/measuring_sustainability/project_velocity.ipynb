{
 "cells": [
  {
   "cell_type": "markdown",
   "id": "0c171295-95e9-4807-a417-0bcca77fd6b1",
   "metadata": {
    "tags": []
   },
   "source": [
    "# Project Velocity Discussion Notebook\n"
   ]
  },
  {
   "cell_type": "markdown",
   "id": "d9cb5516-a84a-4541-8191-b486fbfaef85",
   "metadata": {},
   "source": [
    "Project Velocity is defined in chaoss here: https://chaoss.community/kb/metric-project-velocity/ \n",
    "\n",
    "Discussed in the context of CNCF: https://www.cncf.io/blog/2017/06/05/30-highest-velocity-open-source-projects/\n",
    "\n",
    "In the general case the graph axises are definied as: <br>\n",
    "- X-Axis: Logarithmic scale for Code Changes\n",
    "- Y-Axis: Logarithmic scale of Sum of Number of Issues and Number of Review\n",
    "- Dot-size: Committers (we are using distinct contributors)\n",
    "- Dots are project\n",
    "\n",
    "Hover values from CNCF viz: <br>\n",
    "- Project Name \n",
    "- Num of Commits \n",
    "- Project Commit Authors\n",
    "- Size (square root of authors)"
   ]
  },
  {
   "cell_type": "markdown",
   "id": "ab5bd000-d728-4991-b92f-f727c078575a",
   "metadata": {},
   "source": [
    "This notebook does all of the preprocessing down to the visualization for we can try different strategies before putting it into 8Knot"
   ]
  },
  {
   "cell_type": "code",
   "execution_count": 1,
   "id": "92bae68a-53e5-47b6-93d1-7c93413517da",
   "metadata": {},
   "outputs": [],
   "source": [
    "import psycopg2\n",
    "import pandas as pd \n",
    "import sqlalchemy as salc\n",
    "import json\n",
    "import plotly.express as px\n",
    "import datetime as dt\n",
    "import plotly\n",
    "import math\n",
    "import os\n",
    "\n",
    "paths = [\"../../comm_cage.json\", \"comm_cage.json\", \"../../config.json\", \"../config.json\", \"config.json\", \"../../copy_cage-padres.json\"]\n",
    "\n",
    "for path in paths:\n",
    "    if os.path.exists(path):\n",
    "        with open(path) as config_file:\n",
    "            config = json.load(config_file)\n",
    "        break\n",
    "else:\n",
    "    raise FileNotFoundError(f\"None of the config files found: {paths}\")"
   ]
  },
  {
   "cell_type": "code",
   "execution_count": 2,
   "id": "ad165b59-9469-497e-811a-852064523b89",
   "metadata": {},
   "outputs": [],
   "source": [
    "database_connection_string = 'postgresql+psycopg2://{}:{}@{}:{}/{}'.format(config['user'], config['password'], config['host'], config['port'], config['database'])\n",
    "\n",
    "dbschema='augur_data'\n",
    "engine = salc.create_engine(\n",
    "    database_connection_string,\n",
    "    connect_args={'options': '-csearch_path={}'.format(dbschema)})"
   ]
  },
  {
   "cell_type": "markdown",
   "id": "bff2021c-f33d-45ce-b75e-7694215fe6d3",
   "metadata": {},
   "source": [
    "CNCF incubating projects to demo these visualizations on"
   ]
  },
  {
   "cell_type": "code",
   "execution_count": 3,
   "id": "816cc816-55b2-4e5c-a67b-690d16ba88d6",
   "metadata": {
    "tags": []
   },
   "outputs": [],
   "source": [
    "cncf_incubating = [\n",
    "    'https://github.com/cloud-custodian/cloud-custodian',\n",
    "    'https://github.com/kubeedge/kubeedge',\n",
    "    'https://github.com/dragonflyoss/Dragonfly2',\n",
    "    'https://github.com/cert-manager/cert-manager',\n",
    "    'https://github.com/falcosecurity/falco',\n",
    "    'https://github.com/in-toto/in-toto',\n",
    "    'https://github.com/kyverno/kyverno',\n",
    "    'https://github.com/notaryproject/notary',\n",
    "    'https://github.com/keycloak/keycloak',\n",
    "    'https://github.com/cubeFS/cubefs',\n",
    "    'https://github.com/longhorn/longhorn',\n",
    "    'https://github.com/cri-o/cri-o',\n",
    "    'https://github.com/cilium/cilium',\n",
    "    'https://github.com/containernetworking/cni',\n",
    "    'https://github.com/crossplane/crossplane',\n",
    "    'https://github.com/volcano-sh/volcano',\n",
    "    'https://github.com/grpc/grpc',\n",
    "    'https://github.com/projectcontour/contour',\n",
    "    'https://github.com/emissary-ingress/emissary',\n",
    "    'https://github.com/istio/istio',\n",
    "    'https://github.com/cloudevents/spec',\n",
    "    'https://github.com/nats-io/nats-server',\n",
    "    'https://github.com/backstage/backstage',\n",
    "    'https://github.com/buildpacks/pack',\n",
    "    'https://github.com/kubevela/kubevela',\n",
    "    'https://github.com/kubevirt/kubevirt',\n",
    "    'https://github.com/operator-framework/operator-sdk',\n",
    "    'https://github.com/keptn/keptn',\n",
    "    'https://github.com/openkruise/kruise',\n",
    "    'https://github.com/dapr/dapr',\n",
    "    'https://github.com/kedacore/keda',\n",
    "    'https://github.com/knative/community',\n",
    "    'https://github.com/cortexproject/cortex',\n",
    "    'https://github.com/OpenObservability/OpenMetrics',\n",
    "    'https://github.com/thanos-io/thanos',\n",
    "    'https://github.com/open-telemetry/community',\n",
    "    'https://github.com/chaos-mesh/chaos-mesh',\n",
    "    'https://github.com/litmuschaos/litmus'\n",
    "] "
   ]
  },
  {
   "cell_type": "markdown",
   "id": "9627cb1c-e411-4e4d-8f4b-12d58c6e22f9",
   "metadata": {},
   "source": [
    "Get repo_ids for augur data access "
   ]
  },
  {
   "cell_type": "code",
   "execution_count": 4,
   "id": "dab93bdc-9526-472b-8c78-f59ec808f98d",
   "metadata": {},
   "outputs": [
    {
     "name": "stdout",
     "output_type": "stream",
     "text": [
      "[150726, 165501, 191141, 191143, 191146, 191148, 191149, 191151, 191152, 191153, 191154, 191155, 191157, 191159, 191161, 191163, 191166, 191170, 191171, 191172, 191173, 191174, 191175, 215010]\n",
      "['volcano', 'istio', 'cilium', 'keda', 'keycloak', 'community', 'community', 'kruise', 'cortex', 'keptn', 'backstage', 'kyverno', 'kubeedge', 'falco', 'chaos-mesh', 'longhorn', 'litmus', 'grpc', 'spec', 'cloud-custodian', 'kubevela', 'dapr', 'in-toto', 'kubevirt']\n"
     ]
    }
   ],
   "source": [
    "url_query = str(cncf_incubating)\n",
    "url_query = url_query[1:-1]\n",
    "\n",
    "repo_query = salc.sql.text(f\"\"\"\n",
    "        SET SCHEMA 'augur_data';\n",
    "        SELECT DISTINCT\n",
    "            r.repo_id,\n",
    "            r.repo_name\n",
    "        FROM\n",
    "            repo r\n",
    "        JOIN repo_groups rg \n",
    "        ON r.repo_group_id = rg.repo_group_id\n",
    "        WHERE\n",
    "            r.repo_git in({url_query})\n",
    "        \"\"\")\n",
    "\n",
    "\n",
    "\n",
    "engine = salc.create_engine(\n",
    "    database_connection_string,\n",
    "    connect_args={'options': '-csearch_path={}'.format(dbschema)})\n",
    "\n",
    "with engine.connect() as conn:\n",
    "    rows = conn.execute(repo_query)\n",
    "    \n",
    "# t = engine.execute(repo_query)\n",
    "results = rows.all()\n",
    "\n",
    "#t = engine.execute(repo_query)\n",
    "# results = t.all()\n",
    "repo_ids = [ row[0] for row in results]\n",
    "repo_names = [ row[1] for row in results]\n",
    "print(repo_ids)\n",
    "print(repo_names)"
   ]
  },
  {
   "cell_type": "markdown",
   "id": "f9ea0118-0e61-4a3f-9994-65d5a65a3006",
   "metadata": {},
   "source": [
    "Query for contributions with related contributor information. This query gets the following contributor actions: \n",
    "- Commits \n",
    "- Issues: open, close, comment \n",
    "- Pull Requests: open, close, merge, review, comment\n"
   ]
  },
  {
   "cell_type": "code",
   "execution_count": 5,
   "id": "c7c59968-f7d0-4f9f-a469-93f7bd3bb828",
   "metadata": {},
   "outputs": [
    {
     "name": "stdout",
     "output_type": "stream",
     "text": [
      "150726, 165501, 191141, 191143, 191146, 191148, 191149, 191151, 191152, 191153, 191154, 191155, 191157, 191159, 191161, 191163, 191166, 191170, 191171, 191172, 191173, 191174, 191175, 215010\n"
     ]
    }
   ],
   "source": [
    "repo_statement = str(repo_ids)\n",
    "repo_statement = repo_statement[1:-1]\n",
    "print(repo_statement)\n",
    "\n",
    "contrib_query = salc.sql.text(f\"\"\"\n",
    "                SELECT\n",
    "                        repo_id as id,\n",
    "                        repo_name,\n",
    "                        cntrb_id,\n",
    "                        created_at,\n",
    "                        login,\n",
    "                        action,\n",
    "                        rank\n",
    "                    FROM\n",
    "                        augur_data.explorer_contributor_actions\n",
    "                    WHERE\n",
    "                        repo_id in({repo_statement})\n",
    "                \"\"\")\n",
    "df = pd.read_sql(contrib_query, con=engine)\n",
    "\n",
    "df = df.reset_index()\n",
    "df.drop(\"index\", axis=1, inplace=True)"
   ]
  },
  {
   "cell_type": "code",
   "execution_count": 6,
   "id": "67970ad6-a7fc-4905-a7f4-34781c290be4",
   "metadata": {},
   "outputs": [
    {
     "data": {
      "text/html": [
       "<div>\n",
       "<style scoped>\n",
       "    .dataframe tbody tr th:only-of-type {\n",
       "        vertical-align: middle;\n",
       "    }\n",
       "\n",
       "    .dataframe tbody tr th {\n",
       "        vertical-align: top;\n",
       "    }\n",
       "\n",
       "    .dataframe thead th {\n",
       "        text-align: right;\n",
       "    }\n",
       "</style>\n",
       "<table border=\"1\" class=\"dataframe\">\n",
       "  <thead>\n",
       "    <tr style=\"text-align: right;\">\n",
       "      <th></th>\n",
       "      <th>id</th>\n",
       "      <th>repo_name</th>\n",
       "      <th>cntrb_id</th>\n",
       "      <th>created_at</th>\n",
       "      <th>login</th>\n",
       "      <th>action</th>\n",
       "      <th>rank</th>\n",
       "    </tr>\n",
       "  </thead>\n",
       "  <tbody>\n",
       "    <tr>\n",
       "      <th>0</th>\n",
       "      <td>191170</td>\n",
       "      <td>grpc</td>\n",
       "      <td>01003fcc-8400-0000-0000-000000000000</td>\n",
       "      <td>2020-09-11 16:17:42-05:00</td>\n",
       "      <td>yashykt</td>\n",
       "      <td>pull_request_open</td>\n",
       "      <td>3662</td>\n",
       "    </tr>\n",
       "    <tr>\n",
       "      <th>1</th>\n",
       "      <td>165501</td>\n",
       "      <td>istio</td>\n",
       "      <td>01000983-5d00-0000-0000-000000000000</td>\n",
       "      <td>2025-06-02 20:02:53-05:00</td>\n",
       "      <td>howardjohn</td>\n",
       "      <td>pull_request_comment</td>\n",
       "      <td>33</td>\n",
       "    </tr>\n",
       "    <tr>\n",
       "      <th>2</th>\n",
       "      <td>165501</td>\n",
       "      <td>istio</td>\n",
       "      <td>0100175f-0e00-0000-0000-000000000000</td>\n",
       "      <td>2025-06-02 20:00:34-05:00</td>\n",
       "      <td>keithmattix</td>\n",
       "      <td>pull_request_comment</td>\n",
       "      <td>17</td>\n",
       "    </tr>\n",
       "    <tr>\n",
       "      <th>3</th>\n",
       "      <td>165501</td>\n",
       "      <td>istio</td>\n",
       "      <td>01000983-5d00-0000-0000-000000000000</td>\n",
       "      <td>2025-06-02 19:57:43-05:00</td>\n",
       "      <td>howardjohn</td>\n",
       "      <td>pull_request_comment</td>\n",
       "      <td>34</td>\n",
       "    </tr>\n",
       "    <tr>\n",
       "      <th>4</th>\n",
       "      <td>191159</td>\n",
       "      <td>falco</td>\n",
       "      <td>010a01df-6200-0000-0000-000000000000</td>\n",
       "      <td>2025-06-02 19:57:03-05:00</td>\n",
       "      <td>supertylerc</td>\n",
       "      <td>issue_comment</td>\n",
       "      <td>8</td>\n",
       "    </tr>\n",
       "    <tr>\n",
       "      <th>...</th>\n",
       "      <td>...</td>\n",
       "      <td>...</td>\n",
       "      <td>...</td>\n",
       "      <td>...</td>\n",
       "      <td>...</td>\n",
       "      <td>...</td>\n",
       "      <td>...</td>\n",
       "    </tr>\n",
       "    <tr>\n",
       "      <th>2271177</th>\n",
       "      <td>191146</td>\n",
       "      <td>keycloak</td>\n",
       "      <td>010012ad-1d00-0000-0000-000000000000</td>\n",
       "      <td>2014-05-22 07:33:14-05:00</td>\n",
       "      <td>mposolda</td>\n",
       "      <td>pull_request_open</td>\n",
       "      <td>9453</td>\n",
       "    </tr>\n",
       "    <tr>\n",
       "      <th>2271178</th>\n",
       "      <td>191146</td>\n",
       "      <td>keycloak</td>\n",
       "      <td>010012ad-1d00-0000-0000-000000000000</td>\n",
       "      <td>2014-04-29 09:14:06-05:00</td>\n",
       "      <td>mposolda</td>\n",
       "      <td>pull_request_open</td>\n",
       "      <td>9458</td>\n",
       "    </tr>\n",
       "    <tr>\n",
       "      <th>2271179</th>\n",
       "      <td>191146</td>\n",
       "      <td>keycloak</td>\n",
       "      <td>010012ad-1d00-0000-0000-000000000000</td>\n",
       "      <td>2014-03-27 15:30:46-05:00</td>\n",
       "      <td>mposolda</td>\n",
       "      <td>pull_request_open</td>\n",
       "      <td>9467</td>\n",
       "    </tr>\n",
       "    <tr>\n",
       "      <th>2271180</th>\n",
       "      <td>191146</td>\n",
       "      <td>keycloak</td>\n",
       "      <td>010012ad-1d00-0000-0000-000000000000</td>\n",
       "      <td>2014-03-10 09:34:40-05:00</td>\n",
       "      <td>mposolda</td>\n",
       "      <td>pull_request_open</td>\n",
       "      <td>9474</td>\n",
       "    </tr>\n",
       "    <tr>\n",
       "      <th>2271181</th>\n",
       "      <td>191146</td>\n",
       "      <td>keycloak</td>\n",
       "      <td>010012ad-1d00-0000-0000-000000000000</td>\n",
       "      <td>2014-03-07 12:50:17-06:00</td>\n",
       "      <td>mposolda</td>\n",
       "      <td>pull_request_open</td>\n",
       "      <td>9475</td>\n",
       "    </tr>\n",
       "  </tbody>\n",
       "</table>\n",
       "<p>2271182 rows × 7 columns</p>\n",
       "</div>"
      ],
      "text/plain": [
       "             id repo_name                              cntrb_id  \\\n",
       "0        191170      grpc  01003fcc-8400-0000-0000-000000000000   \n",
       "1        165501     istio  01000983-5d00-0000-0000-000000000000   \n",
       "2        165501     istio  0100175f-0e00-0000-0000-000000000000   \n",
       "3        165501     istio  01000983-5d00-0000-0000-000000000000   \n",
       "4        191159     falco  010a01df-6200-0000-0000-000000000000   \n",
       "...         ...       ...                                   ...   \n",
       "2271177  191146  keycloak  010012ad-1d00-0000-0000-000000000000   \n",
       "2271178  191146  keycloak  010012ad-1d00-0000-0000-000000000000   \n",
       "2271179  191146  keycloak  010012ad-1d00-0000-0000-000000000000   \n",
       "2271180  191146  keycloak  010012ad-1d00-0000-0000-000000000000   \n",
       "2271181  191146  keycloak  010012ad-1d00-0000-0000-000000000000   \n",
       "\n",
       "                        created_at        login                action  rank  \n",
       "0        2020-09-11 16:17:42-05:00      yashykt     pull_request_open  3662  \n",
       "1        2025-06-02 20:02:53-05:00   howardjohn  pull_request_comment    33  \n",
       "2        2025-06-02 20:00:34-05:00  keithmattix  pull_request_comment    17  \n",
       "3        2025-06-02 19:57:43-05:00   howardjohn  pull_request_comment    34  \n",
       "4        2025-06-02 19:57:03-05:00  supertylerc         issue_comment     8  \n",
       "...                            ...          ...                   ...   ...  \n",
       "2271177  2014-05-22 07:33:14-05:00     mposolda     pull_request_open  9453  \n",
       "2271178  2014-04-29 09:14:06-05:00     mposolda     pull_request_open  9458  \n",
       "2271179  2014-03-27 15:30:46-05:00     mposolda     pull_request_open  9467  \n",
       "2271180  2014-03-10 09:34:40-05:00     mposolda     pull_request_open  9474  \n",
       "2271181  2014-03-07 12:50:17-06:00     mposolda     pull_request_open  9475  \n",
       "\n",
       "[2271182 rows x 7 columns]"
      ]
     },
     "execution_count": 6,
     "metadata": {},
     "output_type": "execute_result"
    }
   ],
   "source": [
    "df"
   ]
  },
  {
   "cell_type": "markdown",
   "id": "aec58711-92c0-4fad-9b19-22d71fc659b7",
   "metadata": {},
   "source": [
    "df_cntrbs holds values for number of unique contributors in each repo"
   ]
  },
  {
   "cell_type": "code",
   "execution_count": 7,
   "id": "4f354ea9-766b-4bd9-a5ec-35073f4aa5ed",
   "metadata": {
    "tags": []
   },
   "outputs": [
    {
     "data": {
      "text/html": [
       "<div>\n",
       "<style scoped>\n",
       "    .dataframe tbody tr th:only-of-type {\n",
       "        vertical-align: middle;\n",
       "    }\n",
       "\n",
       "    .dataframe tbody tr th {\n",
       "        vertical-align: top;\n",
       "    }\n",
       "\n",
       "    .dataframe thead th {\n",
       "        text-align: right;\n",
       "    }\n",
       "</style>\n",
       "<table border=\"1\" class=\"dataframe\">\n",
       "  <thead>\n",
       "    <tr style=\"text-align: right;\">\n",
       "      <th></th>\n",
       "      <th>num_unique_contributors</th>\n",
       "    </tr>\n",
       "    <tr>\n",
       "      <th>repo_name</th>\n",
       "      <th></th>\n",
       "    </tr>\n",
       "  </thead>\n",
       "  <tbody>\n",
       "    <tr>\n",
       "      <th>backstage</th>\n",
       "      <td>4076</td>\n",
       "    </tr>\n",
       "    <tr>\n",
       "      <th>chaos-mesh</th>\n",
       "      <td>788</td>\n",
       "    </tr>\n",
       "    <tr>\n",
       "      <th>cilium</th>\n",
       "      <td>4192</td>\n",
       "    </tr>\n",
       "    <tr>\n",
       "      <th>cloud-custodian</th>\n",
       "      <td>1618</td>\n",
       "    </tr>\n",
       "    <tr>\n",
       "      <th>community</th>\n",
       "      <td>1245</td>\n",
       "    </tr>\n",
       "  </tbody>\n",
       "</table>\n",
       "</div>"
      ],
      "text/plain": [
       "                 num_unique_contributors\n",
       "repo_name                               \n",
       "backstage                           4076\n",
       "chaos-mesh                           788\n",
       "cilium                              4192\n",
       "cloud-custodian                     1618\n",
       "community                           1245"
      ]
     },
     "execution_count": 7,
     "metadata": {},
     "output_type": "execute_result"
    }
   ],
   "source": [
    "df_cntrbs = pd.DataFrame(df.groupby('repo_name')['cntrb_id'].nunique()).rename(columns={\"cntrb_id\": \"num_unique_contributors\"})\n",
    "df_cntrbs.head()"
   ]
  },
  {
   "cell_type": "markdown",
   "id": "ab10df59-ea0e-4f51-b654-44e7f9e1cff4",
   "metadata": {},
   "source": [
    "df_actions holds a transformed version of the df to have the actions as columns, repo_name as the index, and the row values as the corresponding counts "
   ]
  },
  {
   "cell_type": "code",
   "execution_count": 8,
   "id": "39e0807b-8dc5-41ce-b40c-59b8bb9661fb",
   "metadata": {},
   "outputs": [],
   "source": [
    "# group actions and repos to get the counts of the actions by repo \n",
    "df_actions = pd.DataFrame(df.groupby('repo_name')['action'].value_counts())\n",
    "df_actions = df_actions.rename(columns={\"action\": \"count\"}).reset_index()\n",
    "# pivot df to reformat the actions to be columns and repo_id to be rows \n",
    "df_actions = df_actions.pivot(index=\"repo_name\", columns=\"action\", values=\"count\")"
   ]
  },
  {
   "cell_type": "code",
   "execution_count": 9,
   "id": "6797704e-d642-4e09-98a5-116c68ebc0db",
   "metadata": {
    "tags": []
   },
   "outputs": [
    {
     "data": {
      "text/html": [
       "<div>\n",
       "<style scoped>\n",
       "    .dataframe tbody tr th:only-of-type {\n",
       "        vertical-align: middle;\n",
       "    }\n",
       "\n",
       "    .dataframe tbody tr th {\n",
       "        vertical-align: top;\n",
       "    }\n",
       "\n",
       "    .dataframe thead th {\n",
       "        text-align: right;\n",
       "    }\n",
       "</style>\n",
       "<table border=\"1\" class=\"dataframe\">\n",
       "  <thead>\n",
       "    <tr style=\"text-align: right;\">\n",
       "      <th>action</th>\n",
       "      <th>commit</th>\n",
       "      <th>issue_closed</th>\n",
       "      <th>issue_comment</th>\n",
       "      <th>issue_opened</th>\n",
       "      <th>pull_request_closed</th>\n",
       "      <th>pull_request_comment</th>\n",
       "      <th>pull_request_merged</th>\n",
       "      <th>pull_request_open</th>\n",
       "      <th>pull_request_review_APPROVED</th>\n",
       "      <th>pull_request_review_CHANGES_REQUESTED</th>\n",
       "      <th>pull_request_review_COMMENTED</th>\n",
       "      <th>pull_request_review_DISMISSED</th>\n",
       "    </tr>\n",
       "    <tr>\n",
       "      <th>repo_name</th>\n",
       "      <th></th>\n",
       "      <th></th>\n",
       "      <th></th>\n",
       "      <th></th>\n",
       "      <th></th>\n",
       "      <th></th>\n",
       "      <th></th>\n",
       "      <th></th>\n",
       "      <th></th>\n",
       "      <th></th>\n",
       "      <th></th>\n",
       "      <th></th>\n",
       "    </tr>\n",
       "  </thead>\n",
       "  <tbody>\n",
       "    <tr>\n",
       "      <th>backstage</th>\n",
       "      <td>NaN</td>\n",
       "      <td>6891.0</td>\n",
       "      <td>31704.0</td>\n",
       "      <td>6976.0</td>\n",
       "      <td>3708.0</td>\n",
       "      <td>52677.0</td>\n",
       "      <td>18554.0</td>\n",
       "      <td>22119.0</td>\n",
       "      <td>21409.0</td>\n",
       "      <td>1711.0</td>\n",
       "      <td>26860.0</td>\n",
       "      <td>155.0</td>\n",
       "    </tr>\n",
       "    <tr>\n",
       "      <th>chaos-mesh</th>\n",
       "      <td>39.0</td>\n",
       "      <td>1305.0</td>\n",
       "      <td>3788.0</td>\n",
       "      <td>1668.0</td>\n",
       "      <td>352.0</td>\n",
       "      <td>14241.0</td>\n",
       "      <td>2394.0</td>\n",
       "      <td>2774.0</td>\n",
       "      <td>4207.0</td>\n",
       "      <td>176.0</td>\n",
       "      <td>4711.0</td>\n",
       "      <td>348.0</td>\n",
       "    </tr>\n",
       "    <tr>\n",
       "      <th>cilium</th>\n",
       "      <td>37655.0</td>\n",
       "      <td>2587.0</td>\n",
       "      <td>37719.0</td>\n",
       "      <td>10855.0</td>\n",
       "      <td>1551.0</td>\n",
       "      <td>122710.0</td>\n",
       "      <td>6169.0</td>\n",
       "      <td>28991.0</td>\n",
       "      <td>40384.0</td>\n",
       "      <td>6100.0</td>\n",
       "      <td>43970.0</td>\n",
       "      <td>451.0</td>\n",
       "    </tr>\n",
       "    <tr>\n",
       "      <th>cloud-custodian</th>\n",
       "      <td>116.0</td>\n",
       "      <td>2968.0</td>\n",
       "      <td>6568.0</td>\n",
       "      <td>4397.0</td>\n",
       "      <td>1020.0</td>\n",
       "      <td>8034.0</td>\n",
       "      <td>4358.0</td>\n",
       "      <td>5561.0</td>\n",
       "      <td>3476.0</td>\n",
       "      <td>160.0</td>\n",
       "      <td>8191.0</td>\n",
       "      <td>55.0</td>\n",
       "    </tr>\n",
       "    <tr>\n",
       "      <th>community</th>\n",
       "      <td>281.0</td>\n",
       "      <td>1953.0</td>\n",
       "      <td>9264.0</td>\n",
       "      <td>2194.0</td>\n",
       "      <td>168.0</td>\n",
       "      <td>7082.0</td>\n",
       "      <td>2108.0</td>\n",
       "      <td>2400.0</td>\n",
       "      <td>2601.0</td>\n",
       "      <td>50.0</td>\n",
       "      <td>3035.0</td>\n",
       "      <td>7.0</td>\n",
       "    </tr>\n",
       "  </tbody>\n",
       "</table>\n",
       "</div>"
      ],
      "text/plain": [
       "action            commit  issue_closed  issue_comment  issue_opened  \\\n",
       "repo_name                                                             \n",
       "backstage            NaN        6891.0        31704.0        6976.0   \n",
       "chaos-mesh          39.0        1305.0         3788.0        1668.0   \n",
       "cilium           37655.0        2587.0        37719.0       10855.0   \n",
       "cloud-custodian    116.0        2968.0         6568.0        4397.0   \n",
       "community          281.0        1953.0         9264.0        2194.0   \n",
       "\n",
       "action           pull_request_closed  pull_request_comment  \\\n",
       "repo_name                                                    \n",
       "backstage                     3708.0               52677.0   \n",
       "chaos-mesh                     352.0               14241.0   \n",
       "cilium                        1551.0              122710.0   \n",
       "cloud-custodian               1020.0                8034.0   \n",
       "community                      168.0                7082.0   \n",
       "\n",
       "action           pull_request_merged  pull_request_open  \\\n",
       "repo_name                                                 \n",
       "backstage                    18554.0            22119.0   \n",
       "chaos-mesh                    2394.0             2774.0   \n",
       "cilium                        6169.0            28991.0   \n",
       "cloud-custodian               4358.0             5561.0   \n",
       "community                     2108.0             2400.0   \n",
       "\n",
       "action           pull_request_review_APPROVED  \\\n",
       "repo_name                                       \n",
       "backstage                             21409.0   \n",
       "chaos-mesh                             4207.0   \n",
       "cilium                                40384.0   \n",
       "cloud-custodian                        3476.0   \n",
       "community                              2601.0   \n",
       "\n",
       "action           pull_request_review_CHANGES_REQUESTED  \\\n",
       "repo_name                                                \n",
       "backstage                                       1711.0   \n",
       "chaos-mesh                                       176.0   \n",
       "cilium                                          6100.0   \n",
       "cloud-custodian                                  160.0   \n",
       "community                                         50.0   \n",
       "\n",
       "action           pull_request_review_COMMENTED  pull_request_review_DISMISSED  \n",
       "repo_name                                                                      \n",
       "backstage                              26860.0                          155.0  \n",
       "chaos-mesh                              4711.0                          348.0  \n",
       "cilium                                 43970.0                          451.0  \n",
       "cloud-custodian                         8191.0                           55.0  \n",
       "community                               3035.0                            7.0  "
      ]
     },
     "execution_count": 9,
     "metadata": {},
     "output_type": "execute_result"
    }
   ],
   "source": [
    "df_actions.head()"
   ]
  },
  {
   "cell_type": "markdown",
   "id": "06de4849-4ca2-4cc7-9658-fb68f07f832e",
   "metadata": {},
   "source": [
    "df_consolidated combines the actions and unique contributors and then specific columns for visualization use are added on "
   ]
  },
  {
   "cell_type": "code",
   "execution_count": 10,
   "id": "225828e3-c49a-4486-8232-59784281638c",
   "metadata": {
    "tags": []
   },
   "outputs": [],
   "source": [
    "df_consolidated = pd.concat([df_actions, df_cntrbs], axis=1).reset_index()"
   ]
  },
  {
   "cell_type": "code",
   "execution_count": 11,
   "id": "fe6ed034-93a7-4612-a4d1-a1752cdea0f6",
   "metadata": {},
   "outputs": [
    {
     "data": {
      "text/html": [
       "<div>\n",
       "<style scoped>\n",
       "    .dataframe tbody tr th:only-of-type {\n",
       "        vertical-align: middle;\n",
       "    }\n",
       "\n",
       "    .dataframe tbody tr th {\n",
       "        vertical-align: top;\n",
       "    }\n",
       "\n",
       "    .dataframe thead th {\n",
       "        text-align: right;\n",
       "    }\n",
       "</style>\n",
       "<table border=\"1\" class=\"dataframe\">\n",
       "  <thead>\n",
       "    <tr style=\"text-align: right;\">\n",
       "      <th></th>\n",
       "      <th>repo_name</th>\n",
       "      <th>commit</th>\n",
       "      <th>issue_closed</th>\n",
       "      <th>issue_comment</th>\n",
       "      <th>issue_opened</th>\n",
       "      <th>pull_request_closed</th>\n",
       "      <th>pull_request_comment</th>\n",
       "      <th>pull_request_merged</th>\n",
       "      <th>pull_request_open</th>\n",
       "      <th>pull_request_review_APPROVED</th>\n",
       "      <th>pull_request_review_CHANGES_REQUESTED</th>\n",
       "      <th>pull_request_review_COMMENTED</th>\n",
       "      <th>pull_request_review_DISMISSED</th>\n",
       "      <th>num_unique_contributors</th>\n",
       "    </tr>\n",
       "  </thead>\n",
       "  <tbody>\n",
       "    <tr>\n",
       "      <th>0</th>\n",
       "      <td>backstage</td>\n",
       "      <td>NaN</td>\n",
       "      <td>6891.0</td>\n",
       "      <td>31704.0</td>\n",
       "      <td>6976.0</td>\n",
       "      <td>3708.0</td>\n",
       "      <td>52677.0</td>\n",
       "      <td>18554.0</td>\n",
       "      <td>22119.0</td>\n",
       "      <td>21409.0</td>\n",
       "      <td>1711.0</td>\n",
       "      <td>26860.0</td>\n",
       "      <td>155.0</td>\n",
       "      <td>4076</td>\n",
       "    </tr>\n",
       "    <tr>\n",
       "      <th>1</th>\n",
       "      <td>chaos-mesh</td>\n",
       "      <td>39.0</td>\n",
       "      <td>1305.0</td>\n",
       "      <td>3788.0</td>\n",
       "      <td>1668.0</td>\n",
       "      <td>352.0</td>\n",
       "      <td>14241.0</td>\n",
       "      <td>2394.0</td>\n",
       "      <td>2774.0</td>\n",
       "      <td>4207.0</td>\n",
       "      <td>176.0</td>\n",
       "      <td>4711.0</td>\n",
       "      <td>348.0</td>\n",
       "      <td>788</td>\n",
       "    </tr>\n",
       "    <tr>\n",
       "      <th>2</th>\n",
       "      <td>cilium</td>\n",
       "      <td>37655.0</td>\n",
       "      <td>2587.0</td>\n",
       "      <td>37719.0</td>\n",
       "      <td>10855.0</td>\n",
       "      <td>1551.0</td>\n",
       "      <td>122710.0</td>\n",
       "      <td>6169.0</td>\n",
       "      <td>28991.0</td>\n",
       "      <td>40384.0</td>\n",
       "      <td>6100.0</td>\n",
       "      <td>43970.0</td>\n",
       "      <td>451.0</td>\n",
       "      <td>4192</td>\n",
       "    </tr>\n",
       "    <tr>\n",
       "      <th>3</th>\n",
       "      <td>cloud-custodian</td>\n",
       "      <td>116.0</td>\n",
       "      <td>2968.0</td>\n",
       "      <td>6568.0</td>\n",
       "      <td>4397.0</td>\n",
       "      <td>1020.0</td>\n",
       "      <td>8034.0</td>\n",
       "      <td>4358.0</td>\n",
       "      <td>5561.0</td>\n",
       "      <td>3476.0</td>\n",
       "      <td>160.0</td>\n",
       "      <td>8191.0</td>\n",
       "      <td>55.0</td>\n",
       "      <td>1618</td>\n",
       "    </tr>\n",
       "    <tr>\n",
       "      <th>4</th>\n",
       "      <td>community</td>\n",
       "      <td>281.0</td>\n",
       "      <td>1953.0</td>\n",
       "      <td>9264.0</td>\n",
       "      <td>2194.0</td>\n",
       "      <td>168.0</td>\n",
       "      <td>7082.0</td>\n",
       "      <td>2108.0</td>\n",
       "      <td>2400.0</td>\n",
       "      <td>2601.0</td>\n",
       "      <td>50.0</td>\n",
       "      <td>3035.0</td>\n",
       "      <td>7.0</td>\n",
       "      <td>1245</td>\n",
       "    </tr>\n",
       "  </tbody>\n",
       "</table>\n",
       "</div>"
      ],
      "text/plain": [
       "         repo_name   commit  issue_closed  issue_comment  issue_opened  \\\n",
       "0        backstage      NaN        6891.0        31704.0        6976.0   \n",
       "1       chaos-mesh     39.0        1305.0         3788.0        1668.0   \n",
       "2           cilium  37655.0        2587.0        37719.0       10855.0   \n",
       "3  cloud-custodian    116.0        2968.0         6568.0        4397.0   \n",
       "4        community    281.0        1953.0         9264.0        2194.0   \n",
       "\n",
       "   pull_request_closed  pull_request_comment  pull_request_merged  \\\n",
       "0               3708.0               52677.0              18554.0   \n",
       "1                352.0               14241.0               2394.0   \n",
       "2               1551.0              122710.0               6169.0   \n",
       "3               1020.0                8034.0               4358.0   \n",
       "4                168.0                7082.0               2108.0   \n",
       "\n",
       "   pull_request_open  pull_request_review_APPROVED  \\\n",
       "0            22119.0                       21409.0   \n",
       "1             2774.0                        4207.0   \n",
       "2            28991.0                       40384.0   \n",
       "3             5561.0                        3476.0   \n",
       "4             2400.0                        2601.0   \n",
       "\n",
       "   pull_request_review_CHANGES_REQUESTED  pull_request_review_COMMENTED  \\\n",
       "0                                 1711.0                        26860.0   \n",
       "1                                  176.0                         4711.0   \n",
       "2                                 6100.0                        43970.0   \n",
       "3                                  160.0                         8191.0   \n",
       "4                                   50.0                         3035.0   \n",
       "\n",
       "   pull_request_review_DISMISSED  num_unique_contributors  \n",
       "0                          155.0                     4076  \n",
       "1                          348.0                      788  \n",
       "2                          451.0                     4192  \n",
       "3                           55.0                     1618  \n",
       "4                            7.0                     1245  "
      ]
     },
     "execution_count": 11,
     "metadata": {},
     "output_type": "execute_result"
    }
   ],
   "source": [
    "df_consolidated.head()"
   ]
  },
  {
   "cell_type": "markdown",
   "id": "b56f8c4e-0496-416e-85e7-a163e3201840",
   "metadata": {},
   "source": [
    "## Part where discussion is needed "
   ]
  },
  {
   "cell_type": "markdown",
   "id": "589b08a9-1c64-40cf-b9ee-c217449e1973",
   "metadata": {},
   "source": [
    "The x and y axis are the atributes that we need to decide on. Choass defines them as the following:\n",
    "- X-Axis: Logarithmic scale for Code Changes\n",
    "- Y-Axis: Logarithmic scale of Sum of Number of Issues and Number of Reviews\n",
    "\n",
    "With the data we have lets figure out what the best aplication is for the most informative visualization "
   ]
  },
  {
   "cell_type": "code",
   "execution_count": 12,
   "id": "47e16045-f994-4661-9647-f636841fff2d",
   "metadata": {},
   "outputs": [],
   "source": [
    "df_consolidated[\"prs_opened+issues_closed\"] = df_consolidated[\"issue_closed\"] + df_consolidated[\"pull_request_open\"]\n",
    "df_consolidated[\"log_prs_o+issues_c\"] = df_consolidated[\"prs_opened+issues_closed\"].apply(math.log)\n",
    "df_consolidated[\"log_num_commits\"] = df_consolidated[\"commit\"].apply(math.log)\n",
    "df_consolidated[\"log_num_contrib\"] = df_consolidated[\"num_unique_contributors\"].apply(math.log)"
   ]
  },
  {
   "cell_type": "code",
   "execution_count": 13,
   "id": "63472c58-2189-4daf-b033-2926f334eaf1",
   "metadata": {
    "tags": []
   },
   "outputs": [
    {
     "data": {
      "text/html": [
       "<div>\n",
       "<style scoped>\n",
       "    .dataframe tbody tr th:only-of-type {\n",
       "        vertical-align: middle;\n",
       "    }\n",
       "\n",
       "    .dataframe tbody tr th {\n",
       "        vertical-align: top;\n",
       "    }\n",
       "\n",
       "    .dataframe thead th {\n",
       "        text-align: right;\n",
       "    }\n",
       "</style>\n",
       "<table border=\"1\" class=\"dataframe\">\n",
       "  <thead>\n",
       "    <tr style=\"text-align: right;\">\n",
       "      <th></th>\n",
       "      <th>repo_name</th>\n",
       "      <th>commit</th>\n",
       "      <th>issue_closed</th>\n",
       "      <th>issue_comment</th>\n",
       "      <th>issue_opened</th>\n",
       "      <th>pull_request_closed</th>\n",
       "      <th>pull_request_comment</th>\n",
       "      <th>pull_request_merged</th>\n",
       "      <th>pull_request_open</th>\n",
       "      <th>pull_request_review_APPROVED</th>\n",
       "      <th>pull_request_review_CHANGES_REQUESTED</th>\n",
       "      <th>pull_request_review_COMMENTED</th>\n",
       "      <th>pull_request_review_DISMISSED</th>\n",
       "      <th>num_unique_contributors</th>\n",
       "      <th>prs_opened+issues_closed</th>\n",
       "      <th>log_prs_o+issues_c</th>\n",
       "      <th>log_num_commits</th>\n",
       "      <th>log_num_contrib</th>\n",
       "    </tr>\n",
       "  </thead>\n",
       "  <tbody>\n",
       "    <tr>\n",
       "      <th>0</th>\n",
       "      <td>backstage</td>\n",
       "      <td>NaN</td>\n",
       "      <td>6891.0</td>\n",
       "      <td>31704.0</td>\n",
       "      <td>6976.0</td>\n",
       "      <td>3708.0</td>\n",
       "      <td>52677.0</td>\n",
       "      <td>18554.0</td>\n",
       "      <td>22119.0</td>\n",
       "      <td>21409.0</td>\n",
       "      <td>1711.0</td>\n",
       "      <td>26860.0</td>\n",
       "      <td>155.0</td>\n",
       "      <td>4076</td>\n",
       "      <td>29010.0</td>\n",
       "      <td>10.275396</td>\n",
       "      <td>NaN</td>\n",
       "      <td>8.312871</td>\n",
       "    </tr>\n",
       "    <tr>\n",
       "      <th>1</th>\n",
       "      <td>chaos-mesh</td>\n",
       "      <td>39.0</td>\n",
       "      <td>1305.0</td>\n",
       "      <td>3788.0</td>\n",
       "      <td>1668.0</td>\n",
       "      <td>352.0</td>\n",
       "      <td>14241.0</td>\n",
       "      <td>2394.0</td>\n",
       "      <td>2774.0</td>\n",
       "      <td>4207.0</td>\n",
       "      <td>176.0</td>\n",
       "      <td>4711.0</td>\n",
       "      <td>348.0</td>\n",
       "      <td>788</td>\n",
       "      <td>4079.0</td>\n",
       "      <td>8.313607</td>\n",
       "      <td>3.663562</td>\n",
       "      <td>6.669498</td>\n",
       "    </tr>\n",
       "    <tr>\n",
       "      <th>2</th>\n",
       "      <td>cilium</td>\n",
       "      <td>37655.0</td>\n",
       "      <td>2587.0</td>\n",
       "      <td>37719.0</td>\n",
       "      <td>10855.0</td>\n",
       "      <td>1551.0</td>\n",
       "      <td>122710.0</td>\n",
       "      <td>6169.0</td>\n",
       "      <td>28991.0</td>\n",
       "      <td>40384.0</td>\n",
       "      <td>6100.0</td>\n",
       "      <td>43970.0</td>\n",
       "      <td>451.0</td>\n",
       "      <td>4192</td>\n",
       "      <td>31578.0</td>\n",
       "      <td>10.360216</td>\n",
       "      <td>10.536221</td>\n",
       "      <td>8.340933</td>\n",
       "    </tr>\n",
       "    <tr>\n",
       "      <th>3</th>\n",
       "      <td>cloud-custodian</td>\n",
       "      <td>116.0</td>\n",
       "      <td>2968.0</td>\n",
       "      <td>6568.0</td>\n",
       "      <td>4397.0</td>\n",
       "      <td>1020.0</td>\n",
       "      <td>8034.0</td>\n",
       "      <td>4358.0</td>\n",
       "      <td>5561.0</td>\n",
       "      <td>3476.0</td>\n",
       "      <td>160.0</td>\n",
       "      <td>8191.0</td>\n",
       "      <td>55.0</td>\n",
       "      <td>1618</td>\n",
       "      <td>8529.0</td>\n",
       "      <td>9.051227</td>\n",
       "      <td>4.753590</td>\n",
       "      <td>7.388946</td>\n",
       "    </tr>\n",
       "    <tr>\n",
       "      <th>4</th>\n",
       "      <td>community</td>\n",
       "      <td>281.0</td>\n",
       "      <td>1953.0</td>\n",
       "      <td>9264.0</td>\n",
       "      <td>2194.0</td>\n",
       "      <td>168.0</td>\n",
       "      <td>7082.0</td>\n",
       "      <td>2108.0</td>\n",
       "      <td>2400.0</td>\n",
       "      <td>2601.0</td>\n",
       "      <td>50.0</td>\n",
       "      <td>3035.0</td>\n",
       "      <td>7.0</td>\n",
       "      <td>1245</td>\n",
       "      <td>4353.0</td>\n",
       "      <td>8.378621</td>\n",
       "      <td>5.638355</td>\n",
       "      <td>7.126891</td>\n",
       "    </tr>\n",
       "  </tbody>\n",
       "</table>\n",
       "</div>"
      ],
      "text/plain": [
       "         repo_name   commit  issue_closed  issue_comment  issue_opened  \\\n",
       "0        backstage      NaN        6891.0        31704.0        6976.0   \n",
       "1       chaos-mesh     39.0        1305.0         3788.0        1668.0   \n",
       "2           cilium  37655.0        2587.0        37719.0       10855.0   \n",
       "3  cloud-custodian    116.0        2968.0         6568.0        4397.0   \n",
       "4        community    281.0        1953.0         9264.0        2194.0   \n",
       "\n",
       "   pull_request_closed  pull_request_comment  pull_request_merged  \\\n",
       "0               3708.0               52677.0              18554.0   \n",
       "1                352.0               14241.0               2394.0   \n",
       "2               1551.0              122710.0               6169.0   \n",
       "3               1020.0                8034.0               4358.0   \n",
       "4                168.0                7082.0               2108.0   \n",
       "\n",
       "   pull_request_open  pull_request_review_APPROVED  \\\n",
       "0            22119.0                       21409.0   \n",
       "1             2774.0                        4207.0   \n",
       "2            28991.0                       40384.0   \n",
       "3             5561.0                        3476.0   \n",
       "4             2400.0                        2601.0   \n",
       "\n",
       "   pull_request_review_CHANGES_REQUESTED  pull_request_review_COMMENTED  \\\n",
       "0                                 1711.0                        26860.0   \n",
       "1                                  176.0                         4711.0   \n",
       "2                                 6100.0                        43970.0   \n",
       "3                                  160.0                         8191.0   \n",
       "4                                   50.0                         3035.0   \n",
       "\n",
       "   pull_request_review_DISMISSED  num_unique_contributors  \\\n",
       "0                          155.0                     4076   \n",
       "1                          348.0                      788   \n",
       "2                          451.0                     4192   \n",
       "3                           55.0                     1618   \n",
       "4                            7.0                     1245   \n",
       "\n",
       "   prs_opened+issues_closed  log_prs_o+issues_c  log_num_commits  \\\n",
       "0                   29010.0           10.275396              NaN   \n",
       "1                    4079.0            8.313607         3.663562   \n",
       "2                   31578.0           10.360216        10.536221   \n",
       "3                    8529.0            9.051227         4.753590   \n",
       "4                    4353.0            8.378621         5.638355   \n",
       "\n",
       "   log_num_contrib  \n",
       "0         8.312871  \n",
       "1         6.669498  \n",
       "2         8.340933  \n",
       "3         7.388946  \n",
       "4         7.126891  "
      ]
     },
     "execution_count": 13,
     "metadata": {},
     "output_type": "execute_result"
    }
   ],
   "source": [
    "df_consolidated.head()"
   ]
  },
  {
   "cell_type": "markdown",
   "id": "fd0a174c-e51a-42a5-b80f-c45c3d79e2eb",
   "metadata": {},
   "source": [
    "Visualization, more specific styling will be applied on 8Knot when axises are choosen "
   ]
  },
  {
   "cell_type": "code",
   "execution_count": 14,
   "id": "eb26e483-6a0c-4632-b3c8-69a432d280a3",
   "metadata": {},
   "outputs": [],
   "source": [
    "fig = px.scatter(df_consolidated, \n",
    "                 x=\"log_num_commits\", \n",
    "                 y=\"log_prs_o+issues_c\", \n",
    "                 color=\"repo_name\",\n",
    "                 size='log_num_contrib', \n",
    "                 hover_data=['repo_name'],\n",
    "                 title=\"Project Velocity\")"
   ]
  },
  {
   "cell_type": "code",
   "execution_count": 15,
   "id": "d06a4ace-e628-4aa6-b774-97a0403c6b5e",
   "metadata": {},
   "outputs": [
    {
     "data": {
      "application/vnd.plotly.v1+json": {
       "config": {
        "plotlyServerURL": "https://plot.ly"
       },
       "data": [
        {
         "customdata": [
          [
           "backstage"
          ]
         ],
         "hovertemplate": "repo_name=%{customdata[0]}<br>log_num_commits=%{x}<br>log_prs_o+issues_c=%{y}<br>log_num_contrib=%{marker.size}<extra></extra>",
         "legendgroup": "backstage",
         "marker": {
          "color": "#636efa",
          "size": {
           "bdata": "ZBztrTCgIEA=",
           "dtype": "f8"
          },
          "sizemode": "area",
          "sizeref": 0.022419079162917833,
          "symbol": "circle"
         },
         "mode": "markers",
         "name": "backstage",
         "orientation": "v",
         "showlegend": true,
         "type": "scatter",
         "x": {
          "bdata": "AAAAAAAA+H8=",
          "dtype": "f8"
         },
         "xaxis": "x",
         "y": {
          "bdata": "BFQ7sACNJEA=",
          "dtype": "f8"
         },
         "yaxis": "y"
        },
        {
         "customdata": [
          [
           "chaos-mesh"
          ]
         ],
         "hovertemplate": "repo_name=%{customdata[0]}<br>log_num_commits=%{x}<br>log_prs_o+issues_c=%{y}<br>log_num_contrib=%{marker.size}<extra></extra>",
         "legendgroup": "chaos-mesh",
         "marker": {
          "color": "#EF553B",
          "size": {
           "bdata": "PbJC6JCtGkA=",
           "dtype": "f8"
          },
          "sizemode": "area",
          "sizeref": 0.022419079162917833,
          "symbol": "circle"
         },
         "mode": "markers",
         "name": "chaos-mesh",
         "orientation": "v",
         "showlegend": true,
         "type": "scatter",
         "x": {
          "bdata": "1g2IaPlODUA=",
          "dtype": "f8"
         },
         "xaxis": "x",
         "y": {
          "bdata": "clJuHZGgIEA=",
          "dtype": "f8"
         },
         "yaxis": "y"
        },
        {
         "customdata": [
          [
           "cilium"
          ]
         ],
         "hovertemplate": "repo_name=%{customdata[0]}<br>log_num_commits=%{x}<br>log_prs_o+issues_c=%{y}<br>log_num_contrib=%{marker.size}<extra></extra>",
         "legendgroup": "cilium",
         "marker": {
          "color": "#00cc96",
          "size": {
           "bdata": "TJa/zI6uIEA=",
           "dtype": "f8"
          },
          "sizemode": "area",
          "sizeref": 0.022419079162917833,
          "symbol": "circle"
         },
         "mode": "markers",
         "name": "cilium",
         "orientation": "v",
         "showlegend": true,
         "type": "scatter",
         "x": {
          "bdata": "bcv4j4sSJUA=",
          "dtype": "f8"
         },
         "xaxis": "x",
         "y": {
          "bdata": "UdrAOW64JEA=",
          "dtype": "f8"
         },
         "yaxis": "y"
        },
        {
         "customdata": [
          [
           "cloud-custodian"
          ]
         ],
         "hovertemplate": "repo_name=%{customdata[0]}<br>log_num_commits=%{x}<br>log_prs_o+issues_c=%{y}<br>log_num_contrib=%{marker.size}<extra></extra>",
         "legendgroup": "cloud-custodian",
         "marker": {
          "color": "#ab63fa",
          "size": {
           "bdata": "SLbE4keOHUA=",
           "dtype": "f8"
          },
          "sizemode": "area",
          "sizeref": 0.022419079162917833,
          "symbol": "circle"
         },
         "mode": "markers",
         "name": "cloud-custodian",
         "orientation": "v",
         "showlegend": true,
         "type": "scatter",
         "x": {
          "bdata": "i42lJa0DE0A=",
          "dtype": "f8"
         },
         "xaxis": "x",
         "y": {
          "bdata": "Mg9SejoaIkA=",
          "dtype": "f8"
         },
         "yaxis": "y"
        },
        {
         "customdata": [
          [
           "community"
          ]
         ],
         "hovertemplate": "repo_name=%{customdata[0]}<br>log_num_commits=%{x}<br>log_prs_o+issues_c=%{y}<br>log_num_contrib=%{marker.size}<extra></extra>",
         "legendgroup": "community",
         "marker": {
          "color": "#FFA15A",
          "size": {
           "bdata": "kYgJqu+BHEA=",
           "dtype": "f8"
          },
          "sizemode": "area",
          "sizeref": 0.022419079162917833,
          "symbol": "circle"
         },
         "mode": "markers",
         "name": "community",
         "orientation": "v",
         "showlegend": true,
         "type": "scatter",
         "x": {
          "bdata": "Oiaw2KyNFkA=",
          "dtype": "f8"
         },
         "xaxis": "x",
         "y": {
          "bdata": "Mh83jdrBIEA=",
          "dtype": "f8"
         },
         "yaxis": "y"
        },
        {
         "customdata": [
          [
           "cortex"
          ]
         ],
         "hovertemplate": "repo_name=%{customdata[0]}<br>log_num_commits=%{x}<br>log_prs_o+issues_c=%{y}<br>log_num_contrib=%{marker.size}<extra></extra>",
         "legendgroup": "cortex",
         "marker": {
          "color": "#19d3f3",
          "size": {
           "bdata": "nu8sqRT1GkA=",
           "dtype": "f8"
          },
          "sizemode": "area",
          "sizeref": 0.022419079162917833,
          "symbol": "circle"
         },
         "mode": "markers",
         "name": "cortex",
         "orientation": "v",
         "showlegend": true,
         "type": "scatter",
         "x": {
          "bdata": "P9htH+VQIUA=",
          "dtype": "f8"
         },
         "xaxis": "x",
         "y": {
          "bdata": "my5yjeOnIUA=",
          "dtype": "f8"
         },
         "yaxis": "y"
        },
        {
         "customdata": [
          [
           "dapr"
          ]
         ],
         "hovertemplate": "repo_name=%{customdata[0]}<br>log_num_commits=%{x}<br>log_prs_o+issues_c=%{y}<br>log_num_contrib=%{marker.size}<extra></extra>",
         "legendgroup": "dapr",
         "marker": {
          "color": "#FF6692",
          "size": {
           "bdata": "LhsbIKtfHUA=",
           "dtype": "f8"
          },
          "sizemode": "area",
          "sizeref": 0.022419079162917833,
          "symbol": "circle"
         },
         "mode": "markers",
         "name": "dapr",
         "orientation": "v",
         "showlegend": true,
         "type": "scatter",
         "x": {
          "bdata": "dSmUk5KyEEA=",
          "dtype": "f8"
         },
         "xaxis": "x",
         "y": {
          "bdata": "fRM1mEItIkA=",
          "dtype": "f8"
         },
         "yaxis": "y"
        },
        {
         "customdata": [
          [
           "falco"
          ]
         ],
         "hovertemplate": "repo_name=%{customdata[0]}<br>log_num_commits=%{x}<br>log_prs_o+issues_c=%{y}<br>log_num_contrib=%{marker.size}<extra></extra>",
         "legendgroup": "falco",
         "marker": {
          "color": "#B6E880",
          "size": {
           "bdata": "fSZeu9kLG0A=",
           "dtype": "f8"
          },
          "sizemode": "area",
          "sizeref": 0.022419079162917833,
          "symbol": "circle"
         },
         "mode": "markers",
         "name": "falco",
         "orientation": "v",
         "showlegend": true,
         "type": "scatter",
         "x": {
          "bdata": "OMV/e566F0A=",
          "dtype": "f8"
         },
         "xaxis": "x",
         "y": {
          "bdata": "5+GgGlRvIEA=",
          "dtype": "f8"
         },
         "yaxis": "y"
        },
        {
         "customdata": [
          [
           "grpc"
          ]
         ],
         "hovertemplate": "repo_name=%{customdata[0]}<br>log_num_commits=%{x}<br>log_prs_o+issues_c=%{y}<br>log_num_contrib=%{marker.size}<extra></extra>",
         "legendgroup": "grpc",
         "marker": {
          "color": "#FF97FF",
          "size": {
           "bdata": "mfiNuUWZIUA=",
           "dtype": "f8"
          },
          "sizemode": "area",
          "sizeref": 0.022419079162917833,
          "symbol": "circle"
         },
         "mode": "markers",
         "name": "grpc",
         "orientation": "v",
         "showlegend": true,
         "type": "scatter",
         "x": {
          "bdata": "m9YL+aY1C0A=",
          "dtype": "f8"
         },
         "xaxis": "x",
         "y": {
          "bdata": "G+GjLZGSJEA=",
          "dtype": "f8"
         },
         "yaxis": "y"
        },
        {
         "customdata": [
          [
           "in-toto"
          ]
         ],
         "hovertemplate": "repo_name=%{customdata[0]}<br>log_num_commits=%{x}<br>log_prs_o+issues_c=%{y}<br>log_num_contrib=%{marker.size}<extra></extra>",
         "legendgroup": "in-toto",
         "marker": {
          "color": "#FECB52",
          "size": {
           "bdata": "vceH3/h/EkA=",
           "dtype": "f8"
          },
          "sizemode": "area",
          "sizeref": 0.022419079162917833,
          "symbol": "circle"
         },
         "mode": "markers",
         "name": "in-toto",
         "orientation": "v",
         "showlegend": true,
         "type": "scatter",
         "x": {
          "bdata": "sfIan3poE0A=",
          "dtype": "f8"
         },
         "xaxis": "x",
         "y": {
          "bdata": "B6aOUof9GkA=",
          "dtype": "f8"
         },
         "yaxis": "y"
        },
        {
         "customdata": [
          [
           "istio"
          ]
         ],
         "hovertemplate": "repo_name=%{customdata[0]}<br>log_num_commits=%{x}<br>log_prs_o+issues_c=%{y}<br>log_num_contrib=%{marker.size}<extra></extra>",
         "legendgroup": "istio",
         "marker": {
          "color": "#636efa",
          "size": {
           "bdata": "CO/oam3vIUA=",
           "dtype": "f8"
          },
          "sizemode": "area",
          "sizeref": 0.022419079162917833,
          "symbol": "circle"
         },
         "mode": "markers",
         "name": "istio",
         "orientation": "v",
         "showlegend": true,
         "type": "scatter",
         "x": {
          "bdata": "AAAAAAAA+H8=",
          "dtype": "f8"
         },
         "xaxis": "x",
         "y": {
          "bdata": "x4Hmfn3kJUA=",
          "dtype": "f8"
         },
         "yaxis": "y"
        },
        {
         "customdata": [
          [
           "keda"
          ]
         ],
         "hovertemplate": "repo_name=%{customdata[0]}<br>log_num_commits=%{x}<br>log_prs_o+issues_c=%{y}<br>log_num_contrib=%{marker.size}<extra></extra>",
         "legendgroup": "keda",
         "marker": {
          "color": "#EF553B",
          "size": {
           "bdata": "jBbyC7ycHUA=",
           "dtype": "f8"
          },
          "sizemode": "area",
          "sizeref": 0.022419079162917833,
          "symbol": "circle"
         },
         "mode": "markers",
         "name": "keda",
         "orientation": "v",
         "showlegend": true,
         "type": "scatter",
         "x": {
          "bdata": "AAAAAAAA+H8=",
          "dtype": "f8"
         },
         "xaxis": "x",
         "y": {
          "bdata": "w6piVzBZIUA=",
          "dtype": "f8"
         },
         "yaxis": "y"
        },
        {
         "customdata": [
          [
           "keptn"
          ]
         ],
         "hovertemplate": "repo_name=%{customdata[0]}<br>log_num_commits=%{x}<br>log_prs_o+issues_c=%{y}<br>log_num_contrib=%{marker.size}<extra></extra>",
         "legendgroup": "keptn",
         "marker": {
          "color": "#00cc96",
          "size": {
           "bdata": "YFlW+ZdrF0A=",
           "dtype": "f8"
          },
          "sizemode": "area",
          "sizeref": 0.022419079162917833,
          "symbol": "circle"
         },
         "mode": "markers",
         "name": "keptn",
         "orientation": "v",
         "showlegend": true,
         "type": "scatter",
         "x": {
          "bdata": "LIuyvFcVIkA=",
          "dtype": "f8"
         },
         "xaxis": "x",
         "y": {
          "bdata": "24k29DxmIkA=",
          "dtype": "f8"
         },
         "yaxis": "y"
        },
        {
         "customdata": [
          [
           "keycloak"
          ]
         ],
         "hovertemplate": "repo_name=%{customdata[0]}<br>log_num_commits=%{x}<br>log_prs_o+issues_c=%{y}<br>log_num_contrib=%{marker.size}<extra></extra>",
         "legendgroup": "keycloak",
         "marker": {
          "color": "#ab63fa",
          "size": {
           "bdata": "6JpGxuSLIUA=",
           "dtype": "f8"
          },
          "sizemode": "area",
          "sizeref": 0.022419079162917833,
          "symbol": "circle"
         },
         "mode": "markers",
         "name": "keycloak",
         "orientation": "v",
         "showlegend": true,
         "type": "scatter",
         "x": {
          "bdata": "AAAAAAAA+H8=",
          "dtype": "f8"
         },
         "xaxis": "x",
         "y": {
          "bdata": "L4NGv397JEA=",
          "dtype": "f8"
         },
         "yaxis": "y"
        },
        {
         "customdata": [
          [
           "kruise"
          ]
         ],
         "hovertemplate": "repo_name=%{customdata[0]}<br>log_num_commits=%{x}<br>log_prs_o+issues_c=%{y}<br>log_num_contrib=%{marker.size}<extra></extra>",
         "legendgroup": "kruise",
         "marker": {
          "color": "#FFA15A",
          "size": {
           "bdata": "SbtvF/MBGUA=",
           "dtype": "f8"
          },
          "sizemode": "area",
          "sizeref": 0.022419079162917833,
          "symbol": "circle"
         },
         "mode": "markers",
         "name": "kruise",
         "orientation": "v",
         "showlegend": true,
         "type": "scatter",
         "x": {
          "bdata": "LecbgAoEFEA=",
          "dtype": "f8"
         },
         "xaxis": "x",
         "y": {
          "bdata": "RWQFLVLDHkA=",
          "dtype": "f8"
         },
         "yaxis": "y"
        },
        {
         "customdata": [
          [
           "kubeedge"
          ]
         ],
         "hovertemplate": "repo_name=%{customdata[0]}<br>log_num_commits=%{x}<br>log_prs_o+issues_c=%{y}<br>log_num_contrib=%{marker.size}<extra></extra>",
         "legendgroup": "kubeedge",
         "marker": {
          "color": "#19d3f3",
          "size": {
           "bdata": "LwXQ0yCKHEA=",
           "dtype": "f8"
          },
          "sizemode": "area",
          "sizeref": 0.022419079162917833,
          "symbol": "circle"
         },
         "mode": "markers",
         "name": "kubeedge",
         "orientation": "v",
         "showlegend": true,
         "type": "scatter",
         "x": {
          "bdata": "AAAAAAAA+H8=",
          "dtype": "f8"
         },
         "xaxis": "x",
         "y": {
          "bdata": "PK3wSfZXIUA=",
          "dtype": "f8"
         },
         "yaxis": "y"
        },
        {
         "customdata": [
          [
           "kubevela"
          ]
         ],
         "hovertemplate": "repo_name=%{customdata[0]}<br>log_num_commits=%{x}<br>log_prs_o+issues_c=%{y}<br>log_num_contrib=%{marker.size}<extra></extra>",
         "legendgroup": "kubevela",
         "marker": {
          "color": "#FF6692",
          "size": {
           "bdata": "w3iWfp8WGkA=",
           "dtype": "f8"
          },
          "sizemode": "area",
          "sizeref": 0.022419079162917833,
          "symbol": "circle"
         },
         "mode": "markers",
         "name": "kubevela",
         "orientation": "v",
         "showlegend": true,
         "type": "scatter",
         "x": {
          "bdata": "xfMPU1pxDEA=",
          "dtype": "f8"
         },
         "xaxis": "x",
         "y": {
          "bdata": "5RlN5cB4IUA=",
          "dtype": "f8"
         },
         "yaxis": "y"
        },
        {
         "customdata": [
          [
           "kubevirt"
          ]
         ],
         "hovertemplate": "repo_name=%{customdata[0]}<br>log_num_commits=%{x}<br>log_prs_o+issues_c=%{y}<br>log_num_contrib=%{marker.size}<extra></extra>",
         "legendgroup": "kubevirt",
         "marker": {
          "color": "#B6E880",
          "size": {
           "bdata": "faJGs4+JHkA=",
           "dtype": "f8"
          },
          "sizemode": "area",
          "sizeref": 0.022419079162917833,
          "symbol": "circle"
         },
         "mode": "markers",
         "name": "kubevirt",
         "orientation": "v",
         "showlegend": true,
         "type": "scatter",
         "x": {
          "bdata": "TbFtQHoWJEA=",
          "dtype": "f8"
         },
         "xaxis": "x",
         "y": {
          "bdata": "lBQ8+eVZI0A=",
          "dtype": "f8"
         },
         "yaxis": "y"
        },
        {
         "customdata": [
          [
           "kyverno"
          ]
         ],
         "hovertemplate": "repo_name=%{customdata[0]}<br>log_num_commits=%{x}<br>log_prs_o+issues_c=%{y}<br>log_num_contrib=%{marker.size}<extra></extra>",
         "legendgroup": "kyverno",
         "marker": {
          "color": "#FF97FF",
          "size": {
           "bdata": "ZR34mbBZHUA=",
           "dtype": "f8"
          },
          "sizemode": "area",
          "sizeref": 0.022419079162917833,
          "symbol": "circle"
         },
         "mode": "markers",
         "name": "kyverno",
         "orientation": "v",
         "showlegend": true,
         "type": "scatter",
         "x": {
          "bdata": "AAAAAAAA+H8=",
          "dtype": "f8"
         },
         "xaxis": "x",
         "y": {
          "bdata": "l+GMAd7xIkA=",
          "dtype": "f8"
         },
         "yaxis": "y"
        },
        {
         "customdata": [
          [
           "litmus"
          ]
         ],
         "hovertemplate": "repo_name=%{customdata[0]}<br>log_num_commits=%{x}<br>log_prs_o+issues_c=%{y}<br>log_num_contrib=%{marker.size}<extra></extra>",
         "legendgroup": "litmus",
         "marker": {
          "color": "#FECB52",
          "size": {
           "bdata": "B9nPZNsCGkA=",
           "dtype": "f8"
          },
          "sizemode": "area",
          "sizeref": 0.022419079162917833,
          "symbol": "circle"
         },
         "mode": "markers",
         "name": "litmus",
         "orientation": "v",
         "showlegend": true,
         "type": "scatter",
         "x": {
          "bdata": "AAAAAAAA+H8=",
          "dtype": "f8"
         },
         "xaxis": "x",
         "y": {
          "bdata": "LLXWEmjyIEA=",
          "dtype": "f8"
         },
         "yaxis": "y"
        },
        {
         "customdata": [
          [
           "longhorn"
          ]
         ],
         "hovertemplate": "repo_name=%{customdata[0]}<br>log_num_commits=%{x}<br>log_prs_o+issues_c=%{y}<br>log_num_contrib=%{marker.size}<extra></extra>",
         "legendgroup": "longhorn",
         "marker": {
          "color": "#636efa",
          "size": {
           "bdata": "bu4WnesMHkA=",
           "dtype": "f8"
          },
          "sizemode": "area",
          "sizeref": 0.022419079162917833,
          "symbol": "circle"
         },
         "mode": "markers",
         "name": "longhorn",
         "orientation": "v",
         "showlegend": true,
         "type": "scatter",
         "x": {
          "bdata": "WEiPEOK/FEA=",
          "dtype": "f8"
         },
         "xaxis": "x",
         "y": {
          "bdata": "DBREYhJYIkA=",
          "dtype": "f8"
         },
         "yaxis": "y"
        },
        {
         "customdata": [
          [
           "spec"
          ]
         ],
         "hovertemplate": "repo_name=%{customdata[0]}<br>log_num_commits=%{x}<br>log_prs_o+issues_c=%{y}<br>log_num_contrib=%{marker.size}<extra></extra>",
         "legendgroup": "spec",
         "marker": {
          "color": "#EF553B",
          "size": {
           "bdata": "dfonr8nKF0A=",
           "dtype": "f8"
          },
          "sizemode": "area",
          "sizeref": 0.022419079162917833,
          "symbol": "circle"
         },
         "mode": "markers",
         "name": "spec",
         "orientation": "v",
         "showlegend": true,
         "type": "scatter",
         "x": {
          "bdata": "8/66WYIHEEA=",
          "dtype": "f8"
         },
         "xaxis": "x",
         "y": {
          "bdata": "8tI+k1XGHEA=",
          "dtype": "f8"
         },
         "yaxis": "y"
        },
        {
         "customdata": [
          [
           "volcano"
          ]
         ],
         "hovertemplate": "repo_name=%{customdata[0]}<br>log_num_commits=%{x}<br>log_prs_o+issues_c=%{y}<br>log_num_contrib=%{marker.size}<extra></extra>",
         "legendgroup": "volcano",
         "marker": {
          "color": "#00cc96",
          "size": {
           "bdata": "0WfESBkHG0A=",
           "dtype": "f8"
          },
          "sizemode": "area",
          "sizeref": 0.022419079162917833,
          "symbol": "circle"
         },
         "mode": "markers",
         "name": "volcano",
         "orientation": "v",
         "showlegend": true,
         "type": "scatter",
         "x": {
          "bdata": "AAAAAAAA+H8=",
          "dtype": "f8"
         },
         "xaxis": "x",
         "y": {
          "bdata": "oq3K1lXUIEA=",
          "dtype": "f8"
         },
         "yaxis": "y"
        }
       ],
       "layout": {
        "legend": {
         "itemsizing": "constant",
         "title": {
          "text": "repo_name"
         },
         "tracegroupgap": 0
        },
        "template": {
         "data": {
          "bar": [
           {
            "error_x": {
             "color": "#2a3f5f"
            },
            "error_y": {
             "color": "#2a3f5f"
            },
            "marker": {
             "line": {
              "color": "#E5ECF6",
              "width": 0.5
             },
             "pattern": {
              "fillmode": "overlay",
              "size": 10,
              "solidity": 0.2
             }
            },
            "type": "bar"
           }
          ],
          "barpolar": [
           {
            "marker": {
             "line": {
              "color": "#E5ECF6",
              "width": 0.5
             },
             "pattern": {
              "fillmode": "overlay",
              "size": 10,
              "solidity": 0.2
             }
            },
            "type": "barpolar"
           }
          ],
          "carpet": [
           {
            "aaxis": {
             "endlinecolor": "#2a3f5f",
             "gridcolor": "white",
             "linecolor": "white",
             "minorgridcolor": "white",
             "startlinecolor": "#2a3f5f"
            },
            "baxis": {
             "endlinecolor": "#2a3f5f",
             "gridcolor": "white",
             "linecolor": "white",
             "minorgridcolor": "white",
             "startlinecolor": "#2a3f5f"
            },
            "type": "carpet"
           }
          ],
          "choropleth": [
           {
            "colorbar": {
             "outlinewidth": 0,
             "ticks": ""
            },
            "type": "choropleth"
           }
          ],
          "contour": [
           {
            "colorbar": {
             "outlinewidth": 0,
             "ticks": ""
            },
            "colorscale": [
             [
              0,
              "#0d0887"
             ],
             [
              0.1111111111111111,
              "#46039f"
             ],
             [
              0.2222222222222222,
              "#7201a8"
             ],
             [
              0.3333333333333333,
              "#9c179e"
             ],
             [
              0.4444444444444444,
              "#bd3786"
             ],
             [
              0.5555555555555556,
              "#d8576b"
             ],
             [
              0.6666666666666666,
              "#ed7953"
             ],
             [
              0.7777777777777778,
              "#fb9f3a"
             ],
             [
              0.8888888888888888,
              "#fdca26"
             ],
             [
              1,
              "#f0f921"
             ]
            ],
            "type": "contour"
           }
          ],
          "contourcarpet": [
           {
            "colorbar": {
             "outlinewidth": 0,
             "ticks": ""
            },
            "type": "contourcarpet"
           }
          ],
          "heatmap": [
           {
            "colorbar": {
             "outlinewidth": 0,
             "ticks": ""
            },
            "colorscale": [
             [
              0,
              "#0d0887"
             ],
             [
              0.1111111111111111,
              "#46039f"
             ],
             [
              0.2222222222222222,
              "#7201a8"
             ],
             [
              0.3333333333333333,
              "#9c179e"
             ],
             [
              0.4444444444444444,
              "#bd3786"
             ],
             [
              0.5555555555555556,
              "#d8576b"
             ],
             [
              0.6666666666666666,
              "#ed7953"
             ],
             [
              0.7777777777777778,
              "#fb9f3a"
             ],
             [
              0.8888888888888888,
              "#fdca26"
             ],
             [
              1,
              "#f0f921"
             ]
            ],
            "type": "heatmap"
           }
          ],
          "histogram": [
           {
            "marker": {
             "pattern": {
              "fillmode": "overlay",
              "size": 10,
              "solidity": 0.2
             }
            },
            "type": "histogram"
           }
          ],
          "histogram2d": [
           {
            "colorbar": {
             "outlinewidth": 0,
             "ticks": ""
            },
            "colorscale": [
             [
              0,
              "#0d0887"
             ],
             [
              0.1111111111111111,
              "#46039f"
             ],
             [
              0.2222222222222222,
              "#7201a8"
             ],
             [
              0.3333333333333333,
              "#9c179e"
             ],
             [
              0.4444444444444444,
              "#bd3786"
             ],
             [
              0.5555555555555556,
              "#d8576b"
             ],
             [
              0.6666666666666666,
              "#ed7953"
             ],
             [
              0.7777777777777778,
              "#fb9f3a"
             ],
             [
              0.8888888888888888,
              "#fdca26"
             ],
             [
              1,
              "#f0f921"
             ]
            ],
            "type": "histogram2d"
           }
          ],
          "histogram2dcontour": [
           {
            "colorbar": {
             "outlinewidth": 0,
             "ticks": ""
            },
            "colorscale": [
             [
              0,
              "#0d0887"
             ],
             [
              0.1111111111111111,
              "#46039f"
             ],
             [
              0.2222222222222222,
              "#7201a8"
             ],
             [
              0.3333333333333333,
              "#9c179e"
             ],
             [
              0.4444444444444444,
              "#bd3786"
             ],
             [
              0.5555555555555556,
              "#d8576b"
             ],
             [
              0.6666666666666666,
              "#ed7953"
             ],
             [
              0.7777777777777778,
              "#fb9f3a"
             ],
             [
              0.8888888888888888,
              "#fdca26"
             ],
             [
              1,
              "#f0f921"
             ]
            ],
            "type": "histogram2dcontour"
           }
          ],
          "mesh3d": [
           {
            "colorbar": {
             "outlinewidth": 0,
             "ticks": ""
            },
            "type": "mesh3d"
           }
          ],
          "parcoords": [
           {
            "line": {
             "colorbar": {
              "outlinewidth": 0,
              "ticks": ""
             }
            },
            "type": "parcoords"
           }
          ],
          "pie": [
           {
            "automargin": true,
            "type": "pie"
           }
          ],
          "scatter": [
           {
            "fillpattern": {
             "fillmode": "overlay",
             "size": 10,
             "solidity": 0.2
            },
            "type": "scatter"
           }
          ],
          "scatter3d": [
           {
            "line": {
             "colorbar": {
              "outlinewidth": 0,
              "ticks": ""
             }
            },
            "marker": {
             "colorbar": {
              "outlinewidth": 0,
              "ticks": ""
             }
            },
            "type": "scatter3d"
           }
          ],
          "scattercarpet": [
           {
            "marker": {
             "colorbar": {
              "outlinewidth": 0,
              "ticks": ""
             }
            },
            "type": "scattercarpet"
           }
          ],
          "scattergeo": [
           {
            "marker": {
             "colorbar": {
              "outlinewidth": 0,
              "ticks": ""
             }
            },
            "type": "scattergeo"
           }
          ],
          "scattergl": [
           {
            "marker": {
             "colorbar": {
              "outlinewidth": 0,
              "ticks": ""
             }
            },
            "type": "scattergl"
           }
          ],
          "scattermap": [
           {
            "marker": {
             "colorbar": {
              "outlinewidth": 0,
              "ticks": ""
             }
            },
            "type": "scattermap"
           }
          ],
          "scattermapbox": [
           {
            "marker": {
             "colorbar": {
              "outlinewidth": 0,
              "ticks": ""
             }
            },
            "type": "scattermapbox"
           }
          ],
          "scatterpolar": [
           {
            "marker": {
             "colorbar": {
              "outlinewidth": 0,
              "ticks": ""
             }
            },
            "type": "scatterpolar"
           }
          ],
          "scatterpolargl": [
           {
            "marker": {
             "colorbar": {
              "outlinewidth": 0,
              "ticks": ""
             }
            },
            "type": "scatterpolargl"
           }
          ],
          "scatterternary": [
           {
            "marker": {
             "colorbar": {
              "outlinewidth": 0,
              "ticks": ""
             }
            },
            "type": "scatterternary"
           }
          ],
          "surface": [
           {
            "colorbar": {
             "outlinewidth": 0,
             "ticks": ""
            },
            "colorscale": [
             [
              0,
              "#0d0887"
             ],
             [
              0.1111111111111111,
              "#46039f"
             ],
             [
              0.2222222222222222,
              "#7201a8"
             ],
             [
              0.3333333333333333,
              "#9c179e"
             ],
             [
              0.4444444444444444,
              "#bd3786"
             ],
             [
              0.5555555555555556,
              "#d8576b"
             ],
             [
              0.6666666666666666,
              "#ed7953"
             ],
             [
              0.7777777777777778,
              "#fb9f3a"
             ],
             [
              0.8888888888888888,
              "#fdca26"
             ],
             [
              1,
              "#f0f921"
             ]
            ],
            "type": "surface"
           }
          ],
          "table": [
           {
            "cells": {
             "fill": {
              "color": "#EBF0F8"
             },
             "line": {
              "color": "white"
             }
            },
            "header": {
             "fill": {
              "color": "#C8D4E3"
             },
             "line": {
              "color": "white"
             }
            },
            "type": "table"
           }
          ]
         },
         "layout": {
          "annotationdefaults": {
           "arrowcolor": "#2a3f5f",
           "arrowhead": 0,
           "arrowwidth": 1
          },
          "autotypenumbers": "strict",
          "coloraxis": {
           "colorbar": {
            "outlinewidth": 0,
            "ticks": ""
           }
          },
          "colorscale": {
           "diverging": [
            [
             0,
             "#8e0152"
            ],
            [
             0.1,
             "#c51b7d"
            ],
            [
             0.2,
             "#de77ae"
            ],
            [
             0.3,
             "#f1b6da"
            ],
            [
             0.4,
             "#fde0ef"
            ],
            [
             0.5,
             "#f7f7f7"
            ],
            [
             0.6,
             "#e6f5d0"
            ],
            [
             0.7,
             "#b8e186"
            ],
            [
             0.8,
             "#7fbc41"
            ],
            [
             0.9,
             "#4d9221"
            ],
            [
             1,
             "#276419"
            ]
           ],
           "sequential": [
            [
             0,
             "#0d0887"
            ],
            [
             0.1111111111111111,
             "#46039f"
            ],
            [
             0.2222222222222222,
             "#7201a8"
            ],
            [
             0.3333333333333333,
             "#9c179e"
            ],
            [
             0.4444444444444444,
             "#bd3786"
            ],
            [
             0.5555555555555556,
             "#d8576b"
            ],
            [
             0.6666666666666666,
             "#ed7953"
            ],
            [
             0.7777777777777778,
             "#fb9f3a"
            ],
            [
             0.8888888888888888,
             "#fdca26"
            ],
            [
             1,
             "#f0f921"
            ]
           ],
           "sequentialminus": [
            [
             0,
             "#0d0887"
            ],
            [
             0.1111111111111111,
             "#46039f"
            ],
            [
             0.2222222222222222,
             "#7201a8"
            ],
            [
             0.3333333333333333,
             "#9c179e"
            ],
            [
             0.4444444444444444,
             "#bd3786"
            ],
            [
             0.5555555555555556,
             "#d8576b"
            ],
            [
             0.6666666666666666,
             "#ed7953"
            ],
            [
             0.7777777777777778,
             "#fb9f3a"
            ],
            [
             0.8888888888888888,
             "#fdca26"
            ],
            [
             1,
             "#f0f921"
            ]
           ]
          },
          "colorway": [
           "#636efa",
           "#EF553B",
           "#00cc96",
           "#ab63fa",
           "#FFA15A",
           "#19d3f3",
           "#FF6692",
           "#B6E880",
           "#FF97FF",
           "#FECB52"
          ],
          "font": {
           "color": "#2a3f5f"
          },
          "geo": {
           "bgcolor": "white",
           "lakecolor": "white",
           "landcolor": "#E5ECF6",
           "showlakes": true,
           "showland": true,
           "subunitcolor": "white"
          },
          "hoverlabel": {
           "align": "left"
          },
          "hovermode": "closest",
          "mapbox": {
           "style": "light"
          },
          "paper_bgcolor": "white",
          "plot_bgcolor": "#E5ECF6",
          "polar": {
           "angularaxis": {
            "gridcolor": "white",
            "linecolor": "white",
            "ticks": ""
           },
           "bgcolor": "#E5ECF6",
           "radialaxis": {
            "gridcolor": "white",
            "linecolor": "white",
            "ticks": ""
           }
          },
          "scene": {
           "xaxis": {
            "backgroundcolor": "#E5ECF6",
            "gridcolor": "white",
            "gridwidth": 2,
            "linecolor": "white",
            "showbackground": true,
            "ticks": "",
            "zerolinecolor": "white"
           },
           "yaxis": {
            "backgroundcolor": "#E5ECF6",
            "gridcolor": "white",
            "gridwidth": 2,
            "linecolor": "white",
            "showbackground": true,
            "ticks": "",
            "zerolinecolor": "white"
           },
           "zaxis": {
            "backgroundcolor": "#E5ECF6",
            "gridcolor": "white",
            "gridwidth": 2,
            "linecolor": "white",
            "showbackground": true,
            "ticks": "",
            "zerolinecolor": "white"
           }
          },
          "shapedefaults": {
           "line": {
            "color": "#2a3f5f"
           }
          },
          "ternary": {
           "aaxis": {
            "gridcolor": "white",
            "linecolor": "white",
            "ticks": ""
           },
           "baxis": {
            "gridcolor": "white",
            "linecolor": "white",
            "ticks": ""
           },
           "bgcolor": "#E5ECF6",
           "caxis": {
            "gridcolor": "white",
            "linecolor": "white",
            "ticks": ""
           }
          },
          "title": {
           "x": 0.05
          },
          "xaxis": {
           "automargin": true,
           "gridcolor": "white",
           "linecolor": "white",
           "ticks": "",
           "title": {
            "standoff": 15
           },
           "zerolinecolor": "white",
           "zerolinewidth": 2
          },
          "yaxis": {
           "automargin": true,
           "gridcolor": "white",
           "linecolor": "white",
           "ticks": "",
           "title": {
            "standoff": 15
           },
           "zerolinecolor": "white",
           "zerolinewidth": 2
          }
         }
        },
        "title": {
         "text": "Project Velocity"
        },
        "xaxis": {
         "anchor": "y",
         "domain": [
          0,
          1
         ],
         "title": {
          "text": "log_num_commits"
         }
        },
        "yaxis": {
         "anchor": "x",
         "domain": [
          0,
          1
         ],
         "title": {
          "text": "log_prs_o+issues_c"
         }
        }
       }
      }
     },
     "metadata": {},
     "output_type": "display_data"
    }
   ],
   "source": [
    "fig.show()"
   ]
  },
  {
   "cell_type": "markdown",
   "id": "aa779129-f1c8-4915-8ecb-ab47c6292f33",
   "metadata": {},
   "source": [
    "## Application of different strategies"
   ]
  },
  {
   "cell_type": "markdown",
   "id": "51303a53-57f8-4c2c-b9c2-f127c94a3c58",
   "metadata": {
    "tags": []
   },
   "source": [
    "Note: axis will be edited when implemented in dash as well as the ability to use a date range slider "
   ]
  },
  {
   "cell_type": "markdown",
   "id": "8e207ab7-e4fa-4143-8267-57f501a70b22",
   "metadata": {},
   "source": [
    "### 1: Y axis Total PR and Issues opened "
   ]
  },
  {
   "cell_type": "code",
   "execution_count": 16,
   "id": "95ae689c-ae8e-47ee-8d43-9553c19c1eb2",
   "metadata": {},
   "outputs": [],
   "source": [
    "df_consolidated[\"prs_open_plus_issues_open\"] = df_consolidated[\"issue_opened\"] + df_consolidated[\"pull_request_open\"]\n",
    "df_consolidated[\"log_prs_open+issues_open\"] = df_consolidated[\"prs_open_plus_issues_open\"].apply(math.log)"
   ]
  },
  {
   "cell_type": "markdown",
   "id": "305a2f4a-e08d-45c4-9f4c-f7fcca83f6ae",
   "metadata": {},
   "source": [
    "Visualization with logs"
   ]
  },
  {
   "cell_type": "code",
   "execution_count": 17,
   "id": "7db019c0-c705-464c-9613-7db5a76ea855",
   "metadata": {},
   "outputs": [],
   "source": [
    "fig = px.scatter(df_consolidated, \n",
    "                 x=\"log_num_commits\", \n",
    "                 y=\"log_prs_open+issues_open\", \n",
    "                 color=\"repo_name\",\n",
    "                 size='log_num_contrib', \n",
    "                 hover_data=['repo_name'],\n",
    "                 title=\"Project Velocity\")"
   ]
  },
  {
   "cell_type": "code",
   "execution_count": 18,
   "id": "efd2d796-2c57-47d0-a10f-1ac91596fd3e",
   "metadata": {
    "tags": []
   },
   "outputs": [
    {
     "data": {
      "application/vnd.plotly.v1+json": {
       "config": {
        "plotlyServerURL": "https://plot.ly"
       },
       "data": [
        {
         "customdata": [
          [
           "backstage"
          ]
         ],
         "hovertemplate": "repo_name=%{customdata[0]}<br>log_num_commits=%{x}<br>log_prs_open+issues_open=%{y}<br>log_num_contrib=%{marker.size}<extra></extra>",
         "legendgroup": "backstage",
         "marker": {
          "color": "#636efa",
          "size": {
           "bdata": "ZBztrTCgIEA=",
           "dtype": "f8"
          },
          "sizemode": "area",
          "sizeref": 0.022419079162917833,
          "symbol": "circle"
         },
         "mode": "markers",
         "name": "backstage",
         "orientation": "v",
         "showlegend": true,
         "type": "scatter",
         "x": {
          "bdata": "AAAAAAAA+H8=",
          "dtype": "f8"
         },
         "xaxis": "x",
         "y": {
          "bdata": "cVnGK4COJEA=",
          "dtype": "f8"
         },
         "yaxis": "y"
        },
        {
         "customdata": [
          [
           "chaos-mesh"
          ]
         ],
         "hovertemplate": "repo_name=%{customdata[0]}<br>log_num_commits=%{x}<br>log_prs_open+issues_open=%{y}<br>log_num_contrib=%{marker.size}<extra></extra>",
         "legendgroup": "chaos-mesh",
         "marker": {
          "color": "#EF553B",
          "size": {
           "bdata": "PbJC6JCtGkA=",
           "dtype": "f8"
          },
          "sizemode": "area",
          "sizeref": 0.022419079162917833,
          "symbol": "circle"
         },
         "mode": "markers",
         "name": "chaos-mesh",
         "orientation": "v",
         "showlegend": true,
         "type": "scatter",
         "x": {
          "bdata": "1g2IaPlODUA=",
          "dtype": "f8"
         },
         "xaxis": "x",
         "y": {
          "bdata": "vaDlYDfMIEA=",
          "dtype": "f8"
         },
         "yaxis": "y"
        },
        {
         "customdata": [
          [
           "cilium"
          ]
         ],
         "hovertemplate": "repo_name=%{customdata[0]}<br>log_num_commits=%{x}<br>log_prs_open+issues_open=%{y}<br>log_num_contrib=%{marker.size}<extra></extra>",
         "legendgroup": "cilium",
         "marker": {
          "color": "#00cc96",
          "size": {
           "bdata": "TJa/zI6uIEA=",
           "dtype": "f8"
          },
          "sizemode": "area",
          "sizeref": 0.022419079162917833,
          "symbol": "circle"
         },
         "mode": "markers",
         "name": "cilium",
         "orientation": "v",
         "showlegend": true,
         "type": "scatter",
         "x": {
          "bdata": "bcv4j4sSJUA=",
          "dtype": "f8"
         },
         "xaxis": "x",
         "y": {
          "bdata": "6WeygYAvJUA=",
          "dtype": "f8"
         },
         "yaxis": "y"
        },
        {
         "customdata": [
          [
           "cloud-custodian"
          ]
         ],
         "hovertemplate": "repo_name=%{customdata[0]}<br>log_num_commits=%{x}<br>log_prs_open+issues_open=%{y}<br>log_num_contrib=%{marker.size}<extra></extra>",
         "legendgroup": "cloud-custodian",
         "marker": {
          "color": "#ab63fa",
          "size": {
           "bdata": "SLbE4keOHUA=",
           "dtype": "f8"
          },
          "sizemode": "area",
          "sizeref": 0.022419079162917833,
          "symbol": "circle"
         },
         "mode": "markers",
         "name": "cloud-custodian",
         "orientation": "v",
         "showlegend": true,
         "type": "scatter",
         "x": {
          "bdata": "i42lJa0DE0A=",
          "dtype": "f8"
         },
         "xaxis": "x",
         "y": {
          "bdata": "7gNQEoppIkA=",
          "dtype": "f8"
         },
         "yaxis": "y"
        },
        {
         "customdata": [
          [
           "community"
          ]
         ],
         "hovertemplate": "repo_name=%{customdata[0]}<br>log_num_commits=%{x}<br>log_prs_open+issues_open=%{y}<br>log_num_contrib=%{marker.size}<extra></extra>",
         "legendgroup": "community",
         "marker": {
          "color": "#FFA15A",
          "size": {
           "bdata": "kYgJqu+BHEA=",
           "dtype": "f8"
          },
          "sizemode": "area",
          "sizeref": 0.022419079162917833,
          "symbol": "circle"
         },
         "mode": "markers",
         "name": "community",
         "orientation": "v",
         "showlegend": true,
         "type": "scatter",
         "x": {
          "bdata": "Oiaw2KyNFkA=",
          "dtype": "f8"
         },
         "xaxis": "x",
         "y": {
          "bdata": "VbsGenHdIEA=",
          "dtype": "f8"
         },
         "yaxis": "y"
        },
        {
         "customdata": [
          [
           "cortex"
          ]
         ],
         "hovertemplate": "repo_name=%{customdata[0]}<br>log_num_commits=%{x}<br>log_prs_open+issues_open=%{y}<br>log_num_contrib=%{marker.size}<extra></extra>",
         "legendgroup": "cortex",
         "marker": {
          "color": "#19d3f3",
          "size": {
           "bdata": "nu8sqRT1GkA=",
           "dtype": "f8"
          },
          "sizemode": "area",
          "sizeref": 0.022419079162917833,
          "symbol": "circle"
         },
         "mode": "markers",
         "name": "cortex",
         "orientation": "v",
         "showlegend": true,
         "type": "scatter",
         "x": {
          "bdata": "P9htH+VQIUA=",
          "dtype": "f8"
         },
         "xaxis": "x",
         "y": {
          "bdata": "xBCAlhyxIUA=",
          "dtype": "f8"
         },
         "yaxis": "y"
        },
        {
         "customdata": [
          [
           "dapr"
          ]
         ],
         "hovertemplate": "repo_name=%{customdata[0]}<br>log_num_commits=%{x}<br>log_prs_open+issues_open=%{y}<br>log_num_contrib=%{marker.size}<extra></extra>",
         "legendgroup": "dapr",
         "marker": {
          "color": "#FF6692",
          "size": {
           "bdata": "LhsbIKtfHUA=",
           "dtype": "f8"
          },
          "sizemode": "area",
          "sizeref": 0.022419079162917833,
          "symbol": "circle"
         },
         "mode": "markers",
         "name": "dapr",
         "orientation": "v",
         "showlegend": true,
         "type": "scatter",
         "x": {
          "bdata": "dSmUk5KyEEA=",
          "dtype": "f8"
         },
         "xaxis": "x",
         "y": {
          "bdata": "oJuoKPQtIkA=",
          "dtype": "f8"
         },
         "yaxis": "y"
        },
        {
         "customdata": [
          [
           "falco"
          ]
         ],
         "hovertemplate": "repo_name=%{customdata[0]}<br>log_num_commits=%{x}<br>log_prs_open+issues_open=%{y}<br>log_num_contrib=%{marker.size}<extra></extra>",
         "legendgroup": "falco",
         "marker": {
          "color": "#B6E880",
          "size": {
           "bdata": "fSZeu9kLG0A=",
           "dtype": "f8"
          },
          "sizemode": "area",
          "sizeref": 0.022419079162917833,
          "symbol": "circle"
         },
         "mode": "markers",
         "name": "falco",
         "orientation": "v",
         "showlegend": true,
         "type": "scatter",
         "x": {
          "bdata": "OMV/e566F0A=",
          "dtype": "f8"
         },
         "xaxis": "x",
         "y": {
          "bdata": "w8pscndgIEA=",
          "dtype": "f8"
         },
         "yaxis": "y"
        },
        {
         "customdata": [
          [
           "grpc"
          ]
         ],
         "hovertemplate": "repo_name=%{customdata[0]}<br>log_num_commits=%{x}<br>log_prs_open+issues_open=%{y}<br>log_num_contrib=%{marker.size}<extra></extra>",
         "legendgroup": "grpc",
         "marker": {
          "color": "#FF97FF",
          "size": {
           "bdata": "mfiNuUWZIUA=",
           "dtype": "f8"
          },
          "sizemode": "area",
          "sizeref": 0.022419079162917833,
          "symbol": "circle"
         },
         "mode": "markers",
         "name": "grpc",
         "orientation": "v",
         "showlegend": true,
         "type": "scatter",
         "x": {
          "bdata": "m9YL+aY1C0A=",
          "dtype": "f8"
         },
         "xaxis": "x",
         "y": {
          "bdata": "4qrbrzMsJUA=",
          "dtype": "f8"
         },
         "yaxis": "y"
        },
        {
         "customdata": [
          [
           "in-toto"
          ]
         ],
         "hovertemplate": "repo_name=%{customdata[0]}<br>log_num_commits=%{x}<br>log_prs_open+issues_open=%{y}<br>log_num_contrib=%{marker.size}<extra></extra>",
         "legendgroup": "in-toto",
         "marker": {
          "color": "#FECB52",
          "size": {
           "bdata": "vceH3/h/EkA=",
           "dtype": "f8"
          },
          "sizemode": "area",
          "sizeref": 0.022419079162917833,
          "symbol": "circle"
         },
         "mode": "markers",
         "name": "in-toto",
         "orientation": "v",
         "showlegend": true,
         "type": "scatter",
         "x": {
          "bdata": "sfIan3poE0A=",
          "dtype": "f8"
         },
         "xaxis": "x",
         "y": {
          "bdata": "gTWJ9TUqG0A=",
          "dtype": "f8"
         },
         "yaxis": "y"
        },
        {
         "customdata": [
          [
           "istio"
          ]
         ],
         "hovertemplate": "repo_name=%{customdata[0]}<br>log_num_commits=%{x}<br>log_prs_open+issues_open=%{y}<br>log_num_contrib=%{marker.size}<extra></extra>",
         "legendgroup": "istio",
         "marker": {
          "color": "#636efa",
          "size": {
           "bdata": "CO/oam3vIUA=",
           "dtype": "f8"
          },
          "sizemode": "area",
          "sizeref": 0.022419079162917833,
          "symbol": "circle"
         },
         "mode": "markers",
         "name": "istio",
         "orientation": "v",
         "showlegend": true,
         "type": "scatter",
         "x": {
          "bdata": "AAAAAAAA+H8=",
          "dtype": "f8"
         },
         "xaxis": "x",
         "y": {
          "bdata": "FHMG41HaJUA=",
          "dtype": "f8"
         },
         "yaxis": "y"
        },
        {
         "customdata": [
          [
           "keda"
          ]
         ],
         "hovertemplate": "repo_name=%{customdata[0]}<br>log_num_commits=%{x}<br>log_prs_open+issues_open=%{y}<br>log_num_contrib=%{marker.size}<extra></extra>",
         "legendgroup": "keda",
         "marker": {
          "color": "#EF553B",
          "size": {
           "bdata": "jBbyC7ycHUA=",
           "dtype": "f8"
          },
          "sizemode": "area",
          "sizeref": 0.022419079162917833,
          "symbol": "circle"
         },
         "mode": "markers",
         "name": "keda",
         "orientation": "v",
         "showlegend": true,
         "type": "scatter",
         "x": {
          "bdata": "AAAAAAAA+H8=",
          "dtype": "f8"
         },
         "xaxis": "x",
         "y": {
          "bdata": "8y8wpjlYIUA=",
          "dtype": "f8"
         },
         "yaxis": "y"
        },
        {
         "customdata": [
          [
           "keptn"
          ]
         ],
         "hovertemplate": "repo_name=%{customdata[0]}<br>log_num_commits=%{x}<br>log_prs_open+issues_open=%{y}<br>log_num_contrib=%{marker.size}<extra></extra>",
         "legendgroup": "keptn",
         "marker": {
          "color": "#00cc96",
          "size": {
           "bdata": "YFlW+ZdrF0A=",
           "dtype": "f8"
          },
          "sizemode": "area",
          "sizeref": 0.022419079162917833,
          "symbol": "circle"
         },
         "mode": "markers",
         "name": "keptn",
         "orientation": "v",
         "showlegend": true,
         "type": "scatter",
         "x": {
          "bdata": "LIuyvFcVIkA=",
          "dtype": "f8"
         },
         "xaxis": "x",
         "y": {
          "bdata": "LiSR5f5cIkA=",
          "dtype": "f8"
         },
         "yaxis": "y"
        },
        {
         "customdata": [
          [
           "keycloak"
          ]
         ],
         "hovertemplate": "repo_name=%{customdata[0]}<br>log_num_commits=%{x}<br>log_prs_open+issues_open=%{y}<br>log_num_contrib=%{marker.size}<extra></extra>",
         "legendgroup": "keycloak",
         "marker": {
          "color": "#ab63fa",
          "size": {
           "bdata": "6JpGxuSLIUA=",
           "dtype": "f8"
          },
          "sizemode": "area",
          "sizeref": 0.022419079162917833,
          "symbol": "circle"
         },
         "mode": "markers",
         "name": "keycloak",
         "orientation": "v",
         "showlegend": true,
         "type": "scatter",
         "x": {
          "bdata": "AAAAAAAA+H8=",
          "dtype": "f8"
         },
         "xaxis": "x",
         "y": {
          "bdata": "fsS/CLjqJEA=",
          "dtype": "f8"
         },
         "yaxis": "y"
        },
        {
         "customdata": [
          [
           "kruise"
          ]
         ],
         "hovertemplate": "repo_name=%{customdata[0]}<br>log_num_commits=%{x}<br>log_prs_open+issues_open=%{y}<br>log_num_contrib=%{marker.size}<extra></extra>",
         "legendgroup": "kruise",
         "marker": {
          "color": "#FFA15A",
          "size": {
           "bdata": "SbtvF/MBGUA=",
           "dtype": "f8"
          },
          "sizemode": "area",
          "sizeref": 0.022419079162917833,
          "symbol": "circle"
         },
         "mode": "markers",
         "name": "kruise",
         "orientation": "v",
         "showlegend": true,
         "type": "scatter",
         "x": {
          "bdata": "LecbgAoEFEA=",
          "dtype": "f8"
         },
         "xaxis": "x",
         "y": {
          "bdata": "mjnKcr+8HkA=",
          "dtype": "f8"
         },
         "yaxis": "y"
        },
        {
         "customdata": [
          [
           "kubeedge"
          ]
         ],
         "hovertemplate": "repo_name=%{customdata[0]}<br>log_num_commits=%{x}<br>log_prs_open+issues_open=%{y}<br>log_num_contrib=%{marker.size}<extra></extra>",
         "legendgroup": "kubeedge",
         "marker": {
          "color": "#19d3f3",
          "size": {
           "bdata": "LwXQ0yCKHEA=",
           "dtype": "f8"
          },
          "sizemode": "area",
          "sizeref": 0.022419079162917833,
          "symbol": "circle"
         },
         "mode": "markers",
         "name": "kubeedge",
         "orientation": "v",
         "showlegend": true,
         "type": "scatter",
         "x": {
          "bdata": "AAAAAAAA+H8=",
          "dtype": "f8"
         },
         "xaxis": "x",
         "y": {
          "bdata": "RIB4/TGHIUA=",
          "dtype": "f8"
         },
         "yaxis": "y"
        },
        {
         "customdata": [
          [
           "kubevela"
          ]
         ],
         "hovertemplate": "repo_name=%{customdata[0]}<br>log_num_commits=%{x}<br>log_prs_open+issues_open=%{y}<br>log_num_contrib=%{marker.size}<extra></extra>",
         "legendgroup": "kubevela",
         "marker": {
          "color": "#FF6692",
          "size": {
           "bdata": "w3iWfp8WGkA=",
           "dtype": "f8"
          },
          "sizemode": "area",
          "sizeref": 0.022419079162917833,
          "symbol": "circle"
         },
         "mode": "markers",
         "name": "kubevela",
         "orientation": "v",
         "showlegend": true,
         "type": "scatter",
         "x": {
          "bdata": "xfMPU1pxDEA=",
          "dtype": "f8"
         },
         "xaxis": "x",
         "y": {
          "bdata": "KUkoWbycIUA=",
          "dtype": "f8"
         },
         "yaxis": "y"
        },
        {
         "customdata": [
          [
           "kubevirt"
          ]
         ],
         "hovertemplate": "repo_name=%{customdata[0]}<br>log_num_commits=%{x}<br>log_prs_open+issues_open=%{y}<br>log_num_contrib=%{marker.size}<extra></extra>",
         "legendgroup": "kubevirt",
         "marker": {
          "color": "#B6E880",
          "size": {
           "bdata": "faJGs4+JHkA=",
           "dtype": "f8"
          },
          "sizemode": "area",
          "sizeref": 0.022419079162917833,
          "symbol": "circle"
         },
         "mode": "markers",
         "name": "kubevirt",
         "orientation": "v",
         "showlegend": true,
         "type": "scatter",
         "x": {
          "bdata": "TbFtQHoWJEA=",
          "dtype": "f8"
         },
         "xaxis": "x",
         "y": {
          "bdata": "jC/07HpZI0A=",
          "dtype": "f8"
         },
         "yaxis": "y"
        },
        {
         "customdata": [
          [
           "kyverno"
          ]
         ],
         "hovertemplate": "repo_name=%{customdata[0]}<br>log_num_commits=%{x}<br>log_prs_open+issues_open=%{y}<br>log_num_contrib=%{marker.size}<extra></extra>",
         "legendgroup": "kyverno",
         "marker": {
          "color": "#FF97FF",
          "size": {
           "bdata": "ZR34mbBZHUA=",
           "dtype": "f8"
          },
          "sizemode": "area",
          "sizeref": 0.022419079162917833,
          "symbol": "circle"
         },
         "mode": "markers",
         "name": "kyverno",
         "orientation": "v",
         "showlegend": true,
         "type": "scatter",
         "x": {
          "bdata": "AAAAAAAA+H8=",
          "dtype": "f8"
         },
         "xaxis": "x",
         "y": {
          "bdata": "uNRquej1IkA=",
          "dtype": "f8"
         },
         "yaxis": "y"
        },
        {
         "customdata": [
          [
           "litmus"
          ]
         ],
         "hovertemplate": "repo_name=%{customdata[0]}<br>log_num_commits=%{x}<br>log_prs_open+issues_open=%{y}<br>log_num_contrib=%{marker.size}<extra></extra>",
         "legendgroup": "litmus",
         "marker": {
          "color": "#FECB52",
          "size": {
           "bdata": "B9nPZNsCGkA=",
           "dtype": "f8"
          },
          "sizemode": "area",
          "sizeref": 0.022419079162917833,
          "symbol": "circle"
         },
         "mode": "markers",
         "name": "litmus",
         "orientation": "v",
         "showlegend": true,
         "type": "scatter",
         "x": {
          "bdata": "AAAAAAAA+H8=",
          "dtype": "f8"
         },
         "xaxis": "x",
         "y": {
          "bdata": "pxINhAsUIUA=",
          "dtype": "f8"
         },
         "yaxis": "y"
        },
        {
         "customdata": [
          [
           "longhorn"
          ]
         ],
         "hovertemplate": "repo_name=%{customdata[0]}<br>log_num_commits=%{x}<br>log_prs_open+issues_open=%{y}<br>log_num_contrib=%{marker.size}<extra></extra>",
         "legendgroup": "longhorn",
         "marker": {
          "color": "#636efa",
          "size": {
           "bdata": "bu4WnesMHkA=",
           "dtype": "f8"
          },
          "sizemode": "area",
          "sizeref": 0.022419079162917833,
          "symbol": "circle"
         },
         "mode": "markers",
         "name": "longhorn",
         "orientation": "v",
         "showlegend": true,
         "type": "scatter",
         "x": {
          "bdata": "WEiPEOK/FEA=",
          "dtype": "f8"
         },
         "xaxis": "x",
         "y": {
          "bdata": "ttLJ/ZSrIkA=",
          "dtype": "f8"
         },
         "yaxis": "y"
        },
        {
         "customdata": [
          [
           "spec"
          ]
         ],
         "hovertemplate": "repo_name=%{customdata[0]}<br>log_num_commits=%{x}<br>log_prs_open+issues_open=%{y}<br>log_num_contrib=%{marker.size}<extra></extra>",
         "legendgroup": "spec",
         "marker": {
          "color": "#EF553B",
          "size": {
           "bdata": "dfonr8nKF0A=",
           "dtype": "f8"
          },
          "sizemode": "area",
          "sizeref": 0.022419079162917833,
          "symbol": "circle"
         },
         "mode": "markers",
         "name": "spec",
         "orientation": "v",
         "showlegend": true,
         "type": "scatter",
         "x": {
          "bdata": "8/66WYIHEEA=",
          "dtype": "f8"
         },
         "xaxis": "x",
         "y": {
          "bdata": "C2LPSl3WHEA=",
          "dtype": "f8"
         },
         "yaxis": "y"
        },
        {
         "customdata": [
          [
           "volcano"
          ]
         ],
         "hovertemplate": "repo_name=%{customdata[0]}<br>log_num_commits=%{x}<br>log_prs_open+issues_open=%{y}<br>log_num_contrib=%{marker.size}<extra></extra>",
         "legendgroup": "volcano",
         "marker": {
          "color": "#00cc96",
          "size": {
           "bdata": "0WfESBkHG0A=",
           "dtype": "f8"
          },
          "sizemode": "area",
          "sizeref": 0.022419079162917833,
          "symbol": "circle"
         },
         "mode": "markers",
         "name": "volcano",
         "orientation": "v",
         "showlegend": true,
         "type": "scatter",
         "x": {
          "bdata": "AAAAAAAA+H8=",
          "dtype": "f8"
         },
         "xaxis": "x",
         "y": {
          "bdata": "OH03Z5jnIEA=",
          "dtype": "f8"
         },
         "yaxis": "y"
        }
       ],
       "layout": {
        "legend": {
         "itemsizing": "constant",
         "title": {
          "text": "repo_name"
         },
         "tracegroupgap": 0
        },
        "template": {
         "data": {
          "bar": [
           {
            "error_x": {
             "color": "#2a3f5f"
            },
            "error_y": {
             "color": "#2a3f5f"
            },
            "marker": {
             "line": {
              "color": "#E5ECF6",
              "width": 0.5
             },
             "pattern": {
              "fillmode": "overlay",
              "size": 10,
              "solidity": 0.2
             }
            },
            "type": "bar"
           }
          ],
          "barpolar": [
           {
            "marker": {
             "line": {
              "color": "#E5ECF6",
              "width": 0.5
             },
             "pattern": {
              "fillmode": "overlay",
              "size": 10,
              "solidity": 0.2
             }
            },
            "type": "barpolar"
           }
          ],
          "carpet": [
           {
            "aaxis": {
             "endlinecolor": "#2a3f5f",
             "gridcolor": "white",
             "linecolor": "white",
             "minorgridcolor": "white",
             "startlinecolor": "#2a3f5f"
            },
            "baxis": {
             "endlinecolor": "#2a3f5f",
             "gridcolor": "white",
             "linecolor": "white",
             "minorgridcolor": "white",
             "startlinecolor": "#2a3f5f"
            },
            "type": "carpet"
           }
          ],
          "choropleth": [
           {
            "colorbar": {
             "outlinewidth": 0,
             "ticks": ""
            },
            "type": "choropleth"
           }
          ],
          "contour": [
           {
            "colorbar": {
             "outlinewidth": 0,
             "ticks": ""
            },
            "colorscale": [
             [
              0,
              "#0d0887"
             ],
             [
              0.1111111111111111,
              "#46039f"
             ],
             [
              0.2222222222222222,
              "#7201a8"
             ],
             [
              0.3333333333333333,
              "#9c179e"
             ],
             [
              0.4444444444444444,
              "#bd3786"
             ],
             [
              0.5555555555555556,
              "#d8576b"
             ],
             [
              0.6666666666666666,
              "#ed7953"
             ],
             [
              0.7777777777777778,
              "#fb9f3a"
             ],
             [
              0.8888888888888888,
              "#fdca26"
             ],
             [
              1,
              "#f0f921"
             ]
            ],
            "type": "contour"
           }
          ],
          "contourcarpet": [
           {
            "colorbar": {
             "outlinewidth": 0,
             "ticks": ""
            },
            "type": "contourcarpet"
           }
          ],
          "heatmap": [
           {
            "colorbar": {
             "outlinewidth": 0,
             "ticks": ""
            },
            "colorscale": [
             [
              0,
              "#0d0887"
             ],
             [
              0.1111111111111111,
              "#46039f"
             ],
             [
              0.2222222222222222,
              "#7201a8"
             ],
             [
              0.3333333333333333,
              "#9c179e"
             ],
             [
              0.4444444444444444,
              "#bd3786"
             ],
             [
              0.5555555555555556,
              "#d8576b"
             ],
             [
              0.6666666666666666,
              "#ed7953"
             ],
             [
              0.7777777777777778,
              "#fb9f3a"
             ],
             [
              0.8888888888888888,
              "#fdca26"
             ],
             [
              1,
              "#f0f921"
             ]
            ],
            "type": "heatmap"
           }
          ],
          "histogram": [
           {
            "marker": {
             "pattern": {
              "fillmode": "overlay",
              "size": 10,
              "solidity": 0.2
             }
            },
            "type": "histogram"
           }
          ],
          "histogram2d": [
           {
            "colorbar": {
             "outlinewidth": 0,
             "ticks": ""
            },
            "colorscale": [
             [
              0,
              "#0d0887"
             ],
             [
              0.1111111111111111,
              "#46039f"
             ],
             [
              0.2222222222222222,
              "#7201a8"
             ],
             [
              0.3333333333333333,
              "#9c179e"
             ],
             [
              0.4444444444444444,
              "#bd3786"
             ],
             [
              0.5555555555555556,
              "#d8576b"
             ],
             [
              0.6666666666666666,
              "#ed7953"
             ],
             [
              0.7777777777777778,
              "#fb9f3a"
             ],
             [
              0.8888888888888888,
              "#fdca26"
             ],
             [
              1,
              "#f0f921"
             ]
            ],
            "type": "histogram2d"
           }
          ],
          "histogram2dcontour": [
           {
            "colorbar": {
             "outlinewidth": 0,
             "ticks": ""
            },
            "colorscale": [
             [
              0,
              "#0d0887"
             ],
             [
              0.1111111111111111,
              "#46039f"
             ],
             [
              0.2222222222222222,
              "#7201a8"
             ],
             [
              0.3333333333333333,
              "#9c179e"
             ],
             [
              0.4444444444444444,
              "#bd3786"
             ],
             [
              0.5555555555555556,
              "#d8576b"
             ],
             [
              0.6666666666666666,
              "#ed7953"
             ],
             [
              0.7777777777777778,
              "#fb9f3a"
             ],
             [
              0.8888888888888888,
              "#fdca26"
             ],
             [
              1,
              "#f0f921"
             ]
            ],
            "type": "histogram2dcontour"
           }
          ],
          "mesh3d": [
           {
            "colorbar": {
             "outlinewidth": 0,
             "ticks": ""
            },
            "type": "mesh3d"
           }
          ],
          "parcoords": [
           {
            "line": {
             "colorbar": {
              "outlinewidth": 0,
              "ticks": ""
             }
            },
            "type": "parcoords"
           }
          ],
          "pie": [
           {
            "automargin": true,
            "type": "pie"
           }
          ],
          "scatter": [
           {
            "fillpattern": {
             "fillmode": "overlay",
             "size": 10,
             "solidity": 0.2
            },
            "type": "scatter"
           }
          ],
          "scatter3d": [
           {
            "line": {
             "colorbar": {
              "outlinewidth": 0,
              "ticks": ""
             }
            },
            "marker": {
             "colorbar": {
              "outlinewidth": 0,
              "ticks": ""
             }
            },
            "type": "scatter3d"
           }
          ],
          "scattercarpet": [
           {
            "marker": {
             "colorbar": {
              "outlinewidth": 0,
              "ticks": ""
             }
            },
            "type": "scattercarpet"
           }
          ],
          "scattergeo": [
           {
            "marker": {
             "colorbar": {
              "outlinewidth": 0,
              "ticks": ""
             }
            },
            "type": "scattergeo"
           }
          ],
          "scattergl": [
           {
            "marker": {
             "colorbar": {
              "outlinewidth": 0,
              "ticks": ""
             }
            },
            "type": "scattergl"
           }
          ],
          "scattermap": [
           {
            "marker": {
             "colorbar": {
              "outlinewidth": 0,
              "ticks": ""
             }
            },
            "type": "scattermap"
           }
          ],
          "scattermapbox": [
           {
            "marker": {
             "colorbar": {
              "outlinewidth": 0,
              "ticks": ""
             }
            },
            "type": "scattermapbox"
           }
          ],
          "scatterpolar": [
           {
            "marker": {
             "colorbar": {
              "outlinewidth": 0,
              "ticks": ""
             }
            },
            "type": "scatterpolar"
           }
          ],
          "scatterpolargl": [
           {
            "marker": {
             "colorbar": {
              "outlinewidth": 0,
              "ticks": ""
             }
            },
            "type": "scatterpolargl"
           }
          ],
          "scatterternary": [
           {
            "marker": {
             "colorbar": {
              "outlinewidth": 0,
              "ticks": ""
             }
            },
            "type": "scatterternary"
           }
          ],
          "surface": [
           {
            "colorbar": {
             "outlinewidth": 0,
             "ticks": ""
            },
            "colorscale": [
             [
              0,
              "#0d0887"
             ],
             [
              0.1111111111111111,
              "#46039f"
             ],
             [
              0.2222222222222222,
              "#7201a8"
             ],
             [
              0.3333333333333333,
              "#9c179e"
             ],
             [
              0.4444444444444444,
              "#bd3786"
             ],
             [
              0.5555555555555556,
              "#d8576b"
             ],
             [
              0.6666666666666666,
              "#ed7953"
             ],
             [
              0.7777777777777778,
              "#fb9f3a"
             ],
             [
              0.8888888888888888,
              "#fdca26"
             ],
             [
              1,
              "#f0f921"
             ]
            ],
            "type": "surface"
           }
          ],
          "table": [
           {
            "cells": {
             "fill": {
              "color": "#EBF0F8"
             },
             "line": {
              "color": "white"
             }
            },
            "header": {
             "fill": {
              "color": "#C8D4E3"
             },
             "line": {
              "color": "white"
             }
            },
            "type": "table"
           }
          ]
         },
         "layout": {
          "annotationdefaults": {
           "arrowcolor": "#2a3f5f",
           "arrowhead": 0,
           "arrowwidth": 1
          },
          "autotypenumbers": "strict",
          "coloraxis": {
           "colorbar": {
            "outlinewidth": 0,
            "ticks": ""
           }
          },
          "colorscale": {
           "diverging": [
            [
             0,
             "#8e0152"
            ],
            [
             0.1,
             "#c51b7d"
            ],
            [
             0.2,
             "#de77ae"
            ],
            [
             0.3,
             "#f1b6da"
            ],
            [
             0.4,
             "#fde0ef"
            ],
            [
             0.5,
             "#f7f7f7"
            ],
            [
             0.6,
             "#e6f5d0"
            ],
            [
             0.7,
             "#b8e186"
            ],
            [
             0.8,
             "#7fbc41"
            ],
            [
             0.9,
             "#4d9221"
            ],
            [
             1,
             "#276419"
            ]
           ],
           "sequential": [
            [
             0,
             "#0d0887"
            ],
            [
             0.1111111111111111,
             "#46039f"
            ],
            [
             0.2222222222222222,
             "#7201a8"
            ],
            [
             0.3333333333333333,
             "#9c179e"
            ],
            [
             0.4444444444444444,
             "#bd3786"
            ],
            [
             0.5555555555555556,
             "#d8576b"
            ],
            [
             0.6666666666666666,
             "#ed7953"
            ],
            [
             0.7777777777777778,
             "#fb9f3a"
            ],
            [
             0.8888888888888888,
             "#fdca26"
            ],
            [
             1,
             "#f0f921"
            ]
           ],
           "sequentialminus": [
            [
             0,
             "#0d0887"
            ],
            [
             0.1111111111111111,
             "#46039f"
            ],
            [
             0.2222222222222222,
             "#7201a8"
            ],
            [
             0.3333333333333333,
             "#9c179e"
            ],
            [
             0.4444444444444444,
             "#bd3786"
            ],
            [
             0.5555555555555556,
             "#d8576b"
            ],
            [
             0.6666666666666666,
             "#ed7953"
            ],
            [
             0.7777777777777778,
             "#fb9f3a"
            ],
            [
             0.8888888888888888,
             "#fdca26"
            ],
            [
             1,
             "#f0f921"
            ]
           ]
          },
          "colorway": [
           "#636efa",
           "#EF553B",
           "#00cc96",
           "#ab63fa",
           "#FFA15A",
           "#19d3f3",
           "#FF6692",
           "#B6E880",
           "#FF97FF",
           "#FECB52"
          ],
          "font": {
           "color": "#2a3f5f"
          },
          "geo": {
           "bgcolor": "white",
           "lakecolor": "white",
           "landcolor": "#E5ECF6",
           "showlakes": true,
           "showland": true,
           "subunitcolor": "white"
          },
          "hoverlabel": {
           "align": "left"
          },
          "hovermode": "closest",
          "mapbox": {
           "style": "light"
          },
          "paper_bgcolor": "white",
          "plot_bgcolor": "#E5ECF6",
          "polar": {
           "angularaxis": {
            "gridcolor": "white",
            "linecolor": "white",
            "ticks": ""
           },
           "bgcolor": "#E5ECF6",
           "radialaxis": {
            "gridcolor": "white",
            "linecolor": "white",
            "ticks": ""
           }
          },
          "scene": {
           "xaxis": {
            "backgroundcolor": "#E5ECF6",
            "gridcolor": "white",
            "gridwidth": 2,
            "linecolor": "white",
            "showbackground": true,
            "ticks": "",
            "zerolinecolor": "white"
           },
           "yaxis": {
            "backgroundcolor": "#E5ECF6",
            "gridcolor": "white",
            "gridwidth": 2,
            "linecolor": "white",
            "showbackground": true,
            "ticks": "",
            "zerolinecolor": "white"
           },
           "zaxis": {
            "backgroundcolor": "#E5ECF6",
            "gridcolor": "white",
            "gridwidth": 2,
            "linecolor": "white",
            "showbackground": true,
            "ticks": "",
            "zerolinecolor": "white"
           }
          },
          "shapedefaults": {
           "line": {
            "color": "#2a3f5f"
           }
          },
          "ternary": {
           "aaxis": {
            "gridcolor": "white",
            "linecolor": "white",
            "ticks": ""
           },
           "baxis": {
            "gridcolor": "white",
            "linecolor": "white",
            "ticks": ""
           },
           "bgcolor": "#E5ECF6",
           "caxis": {
            "gridcolor": "white",
            "linecolor": "white",
            "ticks": ""
           }
          },
          "title": {
           "x": 0.05
          },
          "xaxis": {
           "automargin": true,
           "gridcolor": "white",
           "linecolor": "white",
           "ticks": "",
           "title": {
            "standoff": 15
           },
           "zerolinecolor": "white",
           "zerolinewidth": 2
          },
          "yaxis": {
           "automargin": true,
           "gridcolor": "white",
           "linecolor": "white",
           "ticks": "",
           "title": {
            "standoff": 15
           },
           "zerolinecolor": "white",
           "zerolinewidth": 2
          }
         }
        },
        "title": {
         "text": "Project Velocity"
        },
        "xaxis": {
         "anchor": "y",
         "domain": [
          0,
          1
         ],
         "title": {
          "text": "log_num_commits"
         }
        },
        "yaxis": {
         "anchor": "x",
         "domain": [
          0,
          1
         ],
         "title": {
          "text": "log_prs_open+issues_open"
         }
        }
       }
      }
     },
     "metadata": {},
     "output_type": "display_data"
    }
   ],
   "source": [
    "fig.show()"
   ]
  },
  {
   "cell_type": "markdown",
   "id": "56e73dbf-4a4f-41d3-86a3-037839a28df6",
   "metadata": {},
   "source": [
    "Visualization of raw values for y axis"
   ]
  },
  {
   "cell_type": "code",
   "execution_count": 19,
   "id": "b047f0f2-05e3-45c3-9f9d-6cf6f0d6b637",
   "metadata": {
    "tags": []
   },
   "outputs": [],
   "source": [
    "fig = px.scatter(df_consolidated, \n",
    "                 x=\"log_num_commits\", \n",
    "                 y=\"prs_open_plus_issues_open\", \n",
    "                 color=\"repo_name\",\n",
    "                 size='log_num_contrib', \n",
    "                 hover_data=['repo_name'],\n",
    "                 title=\"Project Velocity\")"
   ]
  },
  {
   "cell_type": "code",
   "execution_count": 20,
   "id": "cea2fe17-6212-4533-a574-50cc58ff4b2f",
   "metadata": {
    "tags": []
   },
   "outputs": [
    {
     "data": {
      "application/vnd.plotly.v1+json": {
       "config": {
        "plotlyServerURL": "https://plot.ly"
       },
       "data": [
        {
         "customdata": [
          [
           "backstage"
          ]
         ],
         "hovertemplate": "repo_name=%{customdata[0]}<br>log_num_commits=%{x}<br>prs_open_plus_issues_open=%{y}<br>log_num_contrib=%{marker.size}<extra></extra>",
         "legendgroup": "backstage",
         "marker": {
          "color": "#636efa",
          "size": {
           "bdata": "ZBztrTCgIEA=",
           "dtype": "f8"
          },
          "sizemode": "area",
          "sizeref": 0.022419079162917833,
          "symbol": "circle"
         },
         "mode": "markers",
         "name": "backstage",
         "orientation": "v",
         "showlegend": true,
         "type": "scatter",
         "x": {
          "bdata": "AAAAAAAA+H8=",
          "dtype": "f8"
         },
         "xaxis": "x",
         "y": {
          "bdata": "AAAAAMBp3EA=",
          "dtype": "f8"
         },
         "yaxis": "y"
        },
        {
         "customdata": [
          [
           "chaos-mesh"
          ]
         ],
         "hovertemplate": "repo_name=%{customdata[0]}<br>log_num_commits=%{x}<br>prs_open_plus_issues_open=%{y}<br>log_num_contrib=%{marker.size}<extra></extra>",
         "legendgroup": "chaos-mesh",
         "marker": {
          "color": "#EF553B",
          "size": {
           "bdata": "PbJC6JCtGkA=",
           "dtype": "f8"
          },
          "sizemode": "area",
          "sizeref": 0.022419079162917833,
          "symbol": "circle"
         },
         "mode": "markers",
         "name": "chaos-mesh",
         "orientation": "v",
         "showlegend": true,
         "type": "scatter",
         "x": {
          "bdata": "1g2IaPlODUA=",
          "dtype": "f8"
         },
         "xaxis": "x",
         "y": {
          "bdata": "AAAAAABasUA=",
          "dtype": "f8"
         },
         "yaxis": "y"
        },
        {
         "customdata": [
          [
           "cilium"
          ]
         ],
         "hovertemplate": "repo_name=%{customdata[0]}<br>log_num_commits=%{x}<br>prs_open_plus_issues_open=%{y}<br>log_num_contrib=%{marker.size}<extra></extra>",
         "legendgroup": "cilium",
         "marker": {
          "color": "#00cc96",
          "size": {
           "bdata": "TJa/zI6uIEA=",
           "dtype": "f8"
          },
          "sizemode": "area",
          "sizeref": 0.022419079162917833,
          "symbol": "circle"
         },
         "mode": "markers",
         "name": "cilium",
         "orientation": "v",
         "showlegend": true,
         "type": "scatter",
         "x": {
          "bdata": "bcv4j4sSJUA=",
          "dtype": "f8"
         },
         "xaxis": "x",
         "y": {
          "bdata": "AAAAAMB040A=",
          "dtype": "f8"
         },
         "yaxis": "y"
        },
        {
         "customdata": [
          [
           "cloud-custodian"
          ]
         ],
         "hovertemplate": "repo_name=%{customdata[0]}<br>log_num_commits=%{x}<br>prs_open_plus_issues_open=%{y}<br>log_num_contrib=%{marker.size}<extra></extra>",
         "legendgroup": "cloud-custodian",
         "marker": {
          "color": "#ab63fa",
          "size": {
           "bdata": "SLbE4keOHUA=",
           "dtype": "f8"
          },
          "sizemode": "area",
          "sizeref": 0.022419079162917833,
          "symbol": "circle"
         },
         "mode": "markers",
         "name": "cloud-custodian",
         "orientation": "v",
         "showlegend": true,
         "type": "scatter",
         "x": {
          "bdata": "i42lJa0DE0A=",
          "dtype": "f8"
         },
         "xaxis": "x",
         "y": {
          "bdata": "AAAAAABzw0A=",
          "dtype": "f8"
         },
         "yaxis": "y"
        },
        {
         "customdata": [
          [
           "community"
          ]
         ],
         "hovertemplate": "repo_name=%{customdata[0]}<br>log_num_commits=%{x}<br>prs_open_plus_issues_open=%{y}<br>log_num_contrib=%{marker.size}<extra></extra>",
         "legendgroup": "community",
         "marker": {
          "color": "#FFA15A",
          "size": {
           "bdata": "kYgJqu+BHEA=",
           "dtype": "f8"
          },
          "sizemode": "area",
          "sizeref": 0.022419079162917833,
          "symbol": "circle"
         },
         "mode": "markers",
         "name": "community",
         "orientation": "v",
         "showlegend": true,
         "type": "scatter",
         "x": {
          "bdata": "Oiaw2KyNFkA=",
          "dtype": "f8"
         },
         "xaxis": "x",
         "y": {
          "bdata": "AAAAAADysUA=",
          "dtype": "f8"
         },
         "yaxis": "y"
        },
        {
         "customdata": [
          [
           "cortex"
          ]
         ],
         "hovertemplate": "repo_name=%{customdata[0]}<br>log_num_commits=%{x}<br>prs_open_plus_issues_open=%{y}<br>log_num_contrib=%{marker.size}<extra></extra>",
         "legendgroup": "cortex",
         "marker": {
          "color": "#19d3f3",
          "size": {
           "bdata": "nu8sqRT1GkA=",
           "dtype": "f8"
          },
          "sizemode": "area",
          "sizeref": 0.022419079162917833,
          "symbol": "circle"
         },
         "mode": "markers",
         "name": "cortex",
         "orientation": "v",
         "showlegend": true,
         "type": "scatter",
         "x": {
          "bdata": "P9htH+VQIUA=",
          "dtype": "f8"
         },
         "xaxis": "x",
         "y": {
          "bdata": "AAAAAAAiu0A=",
          "dtype": "f8"
         },
         "yaxis": "y"
        },
        {
         "customdata": [
          [
           "dapr"
          ]
         ],
         "hovertemplate": "repo_name=%{customdata[0]}<br>log_num_commits=%{x}<br>prs_open_plus_issues_open=%{y}<br>log_num_contrib=%{marker.size}<extra></extra>",
         "legendgroup": "dapr",
         "marker": {
          "color": "#FF6692",
          "size": {
           "bdata": "LhsbIKtfHUA=",
           "dtype": "f8"
          },
          "sizemode": "area",
          "sizeref": 0.022419079162917833,
          "symbol": "circle"
         },
         "mode": "markers",
         "name": "dapr",
         "orientation": "v",
         "showlegend": true,
         "type": "scatter",
         "x": {
          "bdata": "dSmUk5KyEEA=",
          "dtype": "f8"
         },
         "xaxis": "x",
         "y": {
          "bdata": "AAAAAABQwUA=",
          "dtype": "f8"
         },
         "yaxis": "y"
        },
        {
         "customdata": [
          [
           "falco"
          ]
         ],
         "hovertemplate": "repo_name=%{customdata[0]}<br>log_num_commits=%{x}<br>prs_open_plus_issues_open=%{y}<br>log_num_contrib=%{marker.size}<extra></extra>",
         "legendgroup": "falco",
         "marker": {
          "color": "#B6E880",
          "size": {
           "bdata": "fSZeu9kLG0A=",
           "dtype": "f8"
          },
          "sizemode": "area",
          "sizeref": 0.022419079162917833,
          "symbol": "circle"
         },
         "mode": "markers",
         "name": "falco",
         "orientation": "v",
         "showlegend": true,
         "type": "scatter",
         "x": {
          "bdata": "OMV/e566F0A=",
          "dtype": "f8"
         },
         "xaxis": "x",
         "y": {
          "bdata": "AAAAAAAerEA=",
          "dtype": "f8"
         },
         "yaxis": "y"
        },
        {
         "customdata": [
          [
           "grpc"
          ]
         ],
         "hovertemplate": "repo_name=%{customdata[0]}<br>log_num_commits=%{x}<br>prs_open_plus_issues_open=%{y}<br>log_num_contrib=%{marker.size}<extra></extra>",
         "legendgroup": "grpc",
         "marker": {
          "color": "#FF97FF",
          "size": {
           "bdata": "mfiNuUWZIUA=",
           "dtype": "f8"
          },
          "sizemode": "area",
          "sizeref": 0.022419079162917833,
          "symbol": "circle"
         },
         "mode": "markers",
         "name": "grpc",
         "orientation": "v",
         "showlegend": true,
         "type": "scatter",
         "x": {
          "bdata": "m9YL+aY1C0A=",
          "dtype": "f8"
         },
         "xaxis": "x",
         "y": {
          "bdata": "AAAAAMBU40A=",
          "dtype": "f8"
         },
         "yaxis": "y"
        },
        {
         "customdata": [
          [
           "in-toto"
          ]
         ],
         "hovertemplate": "repo_name=%{customdata[0]}<br>log_num_commits=%{x}<br>prs_open_plus_issues_open=%{y}<br>log_num_contrib=%{marker.size}<extra></extra>",
         "legendgroup": "in-toto",
         "marker": {
          "color": "#FECB52",
          "size": {
           "bdata": "vceH3/h/EkA=",
           "dtype": "f8"
          },
          "sizemode": "area",
          "sizeref": 0.022419079162917833,
          "symbol": "circle"
         },
         "mode": "markers",
         "name": "in-toto",
         "orientation": "v",
         "showlegend": true,
         "type": "scatter",
         "x": {
          "bdata": "sfIan3poE0A=",
          "dtype": "f8"
         },
         "xaxis": "x",
         "y": {
          "bdata": "AAAAAADQi0A=",
          "dtype": "f8"
         },
         "yaxis": "y"
        },
        {
         "customdata": [
          [
           "istio"
          ]
         ],
         "hovertemplate": "repo_name=%{customdata[0]}<br>log_num_commits=%{x}<br>prs_open_plus_issues_open=%{y}<br>log_num_contrib=%{marker.size}<extra></extra>",
         "legendgroup": "istio",
         "marker": {
          "color": "#636efa",
          "size": {
           "bdata": "CO/oam3vIUA=",
           "dtype": "f8"
          },
          "sizemode": "area",
          "sizeref": 0.022419079162917833,
          "symbol": "circle"
         },
         "mode": "markers",
         "name": "istio",
         "orientation": "v",
         "showlegend": true,
         "type": "scatter",
         "x": {
          "bdata": "AAAAAAAA+H8=",
          "dtype": "f8"
         },
         "xaxis": "x",
         "y": {
          "bdata": "AAAAAEAp60A=",
          "dtype": "f8"
         },
         "yaxis": "y"
        },
        {
         "customdata": [
          [
           "keda"
          ]
         ],
         "hovertemplate": "repo_name=%{customdata[0]}<br>log_num_commits=%{x}<br>prs_open_plus_issues_open=%{y}<br>log_num_contrib=%{marker.size}<extra></extra>",
         "legendgroup": "keda",
         "marker": {
          "color": "#EF553B",
          "size": {
           "bdata": "jBbyC7ycHUA=",
           "dtype": "f8"
          },
          "sizemode": "area",
          "sizeref": 0.022419079162917833,
          "symbol": "circle"
         },
         "mode": "markers",
         "name": "keda",
         "orientation": "v",
         "showlegend": true,
         "type": "scatter",
         "x": {
          "bdata": "AAAAAAAA+H8=",
          "dtype": "f8"
         },
         "xaxis": "x",
         "y": {
          "bdata": "AAAAAADPtkA=",
          "dtype": "f8"
         },
         "yaxis": "y"
        },
        {
         "customdata": [
          [
           "keptn"
          ]
         ],
         "hovertemplate": "repo_name=%{customdata[0]}<br>log_num_commits=%{x}<br>prs_open_plus_issues_open=%{y}<br>log_num_contrib=%{marker.size}<extra></extra>",
         "legendgroup": "keptn",
         "marker": {
          "color": "#00cc96",
          "size": {
           "bdata": "YFlW+ZdrF0A=",
           "dtype": "f8"
          },
          "sizemode": "area",
          "sizeref": 0.022419079162917833,
          "symbol": "circle"
         },
         "mode": "markers",
         "name": "keptn",
         "orientation": "v",
         "showlegend": true,
         "type": "scatter",
         "x": {
          "bdata": "LIuyvFcVIkA=",
          "dtype": "f8"
         },
         "xaxis": "x",
         "y": {
          "bdata": "AAAAAID6wkA=",
          "dtype": "f8"
         },
         "yaxis": "y"
        },
        {
         "customdata": [
          [
           "keycloak"
          ]
         ],
         "hovertemplate": "repo_name=%{customdata[0]}<br>log_num_commits=%{x}<br>prs_open_plus_issues_open=%{y}<br>log_num_contrib=%{marker.size}<extra></extra>",
         "legendgroup": "keycloak",
         "marker": {
          "color": "#ab63fa",
          "size": {
           "bdata": "6JpGxuSLIUA=",
           "dtype": "f8"
          },
          "sizemode": "area",
          "sizeref": 0.022419079162917833,
          "symbol": "circle"
         },
         "mode": "markers",
         "name": "keycloak",
         "orientation": "v",
         "showlegend": true,
         "type": "scatter",
         "x": {
          "bdata": "AAAAAAAA+H8=",
          "dtype": "f8"
         },
         "xaxis": "x",
         "y": {
          "bdata": "AAAAAKAC4UA=",
          "dtype": "f8"
         },
         "yaxis": "y"
        },
        {
         "customdata": [
          [
           "kruise"
          ]
         ],
         "hovertemplate": "repo_name=%{customdata[0]}<br>log_num_commits=%{x}<br>prs_open_plus_issues_open=%{y}<br>log_num_contrib=%{marker.size}<extra></extra>",
         "legendgroup": "kruise",
         "marker": {
          "color": "#FFA15A",
          "size": {
           "bdata": "SbtvF/MBGUA=",
           "dtype": "f8"
          },
          "sizemode": "area",
          "sizeref": 0.022419079162917833,
          "symbol": "circle"
         },
         "mode": "markers",
         "name": "kruise",
         "orientation": "v",
         "showlegend": true,
         "type": "scatter",
         "x": {
          "bdata": "LecbgAoEFEA=",
          "dtype": "f8"
         },
         "xaxis": "x",
         "y": {
          "bdata": "AAAAAAD8oEA=",
          "dtype": "f8"
         },
         "yaxis": "y"
        },
        {
         "customdata": [
          [
           "kubeedge"
          ]
         ],
         "hovertemplate": "repo_name=%{customdata[0]}<br>log_num_commits=%{x}<br>prs_open_plus_issues_open=%{y}<br>log_num_contrib=%{marker.size}<extra></extra>",
         "legendgroup": "kubeedge",
         "marker": {
          "color": "#19d3f3",
          "size": {
           "bdata": "LwXQ0yCKHEA=",
           "dtype": "f8"
          },
          "sizemode": "area",
          "sizeref": 0.022419079162917833,
          "symbol": "circle"
         },
         "mode": "markers",
         "name": "kubeedge",
         "orientation": "v",
         "showlegend": true,
         "type": "scatter",
         "x": {
          "bdata": "AAAAAAAA+H8=",
          "dtype": "f8"
         },
         "xaxis": "x",
         "y": {
          "bdata": "AAAAAAAAuUA=",
          "dtype": "f8"
         },
         "yaxis": "y"
        },
        {
         "customdata": [
          [
           "kubevela"
          ]
         ],
         "hovertemplate": "repo_name=%{customdata[0]}<br>log_num_commits=%{x}<br>prs_open_plus_issues_open=%{y}<br>log_num_contrib=%{marker.size}<extra></extra>",
         "legendgroup": "kubevela",
         "marker": {
          "color": "#FF6692",
          "size": {
           "bdata": "w3iWfp8WGkA=",
           "dtype": "f8"
          },
          "sizemode": "area",
          "sizeref": 0.022419079162917833,
          "symbol": "circle"
         },
         "mode": "markers",
         "name": "kubevela",
         "orientation": "v",
         "showlegend": true,
         "type": "scatter",
         "x": {
          "bdata": "xfMPU1pxDEA=",
          "dtype": "f8"
         },
         "xaxis": "x",
         "y": {
          "bdata": "AAAAAAATukA=",
          "dtype": "f8"
         },
         "yaxis": "y"
        },
        {
         "customdata": [
          [
           "kubevirt"
          ]
         ],
         "hovertemplate": "repo_name=%{customdata[0]}<br>log_num_commits=%{x}<br>prs_open_plus_issues_open=%{y}<br>log_num_contrib=%{marker.size}<extra></extra>",
         "legendgroup": "kubevirt",
         "marker": {
          "color": "#B6E880",
          "size": {
           "bdata": "faJGs4+JHkA=",
           "dtype": "f8"
          },
          "sizemode": "area",
          "sizeref": 0.022419079162917833,
          "symbol": "circle"
         },
         "mode": "markers",
         "name": "kubevirt",
         "orientation": "v",
         "showlegend": true,
         "type": "scatter",
         "x": {
          "bdata": "TbFtQHoWJEA=",
          "dtype": "f8"
         },
         "xaxis": "x",
         "y": {
          "bdata": "AAAAAIATz0A=",
          "dtype": "f8"
         },
         "yaxis": "y"
        },
        {
         "customdata": [
          [
           "kyverno"
          ]
         ],
         "hovertemplate": "repo_name=%{customdata[0]}<br>log_num_commits=%{x}<br>prs_open_plus_issues_open=%{y}<br>log_num_contrib=%{marker.size}<extra></extra>",
         "legendgroup": "kyverno",
         "marker": {
          "color": "#FF97FF",
          "size": {
           "bdata": "ZR34mbBZHUA=",
           "dtype": "f8"
          },
          "sizemode": "area",
          "sizeref": 0.022419079162917833,
          "symbol": "circle"
         },
         "mode": "markers",
         "name": "kyverno",
         "orientation": "v",
         "showlegend": true,
         "type": "scatter",
         "x": {
          "bdata": "AAAAAAAA+H8=",
          "dtype": "f8"
         },
         "xaxis": "x",
         "y": {
          "bdata": "AAAAAICVyUA=",
          "dtype": "f8"
         },
         "yaxis": "y"
        },
        {
         "customdata": [
          [
           "litmus"
          ]
         ],
         "hovertemplate": "repo_name=%{customdata[0]}<br>log_num_commits=%{x}<br>prs_open_plus_issues_open=%{y}<br>log_num_contrib=%{marker.size}<extra></extra>",
         "legendgroup": "litmus",
         "marker": {
          "color": "#FECB52",
          "size": {
           "bdata": "B9nPZNsCGkA=",
           "dtype": "f8"
          },
          "sizemode": "area",
          "sizeref": 0.022419079162917833,
          "symbol": "circle"
         },
         "mode": "markers",
         "name": "litmus",
         "orientation": "v",
         "showlegend": true,
         "type": "scatter",
         "x": {
          "bdata": "AAAAAAAA+H8=",
          "dtype": "f8"
         },
         "xaxis": "x",
         "y": {
          "bdata": "AAAAAAD3s0A=",
          "dtype": "f8"
         },
         "yaxis": "y"
        },
        {
         "customdata": [
          [
           "longhorn"
          ]
         ],
         "hovertemplate": "repo_name=%{customdata[0]}<br>log_num_commits=%{x}<br>prs_open_plus_issues_open=%{y}<br>log_num_contrib=%{marker.size}<extra></extra>",
         "legendgroup": "longhorn",
         "marker": {
          "color": "#636efa",
          "size": {
           "bdata": "bu4WnesMHkA=",
           "dtype": "f8"
          },
          "sizemode": "area",
          "sizeref": 0.022419079162917833,
          "symbol": "circle"
         },
         "mode": "markers",
         "name": "longhorn",
         "orientation": "v",
         "showlegend": true,
         "type": "scatter",
         "x": {
          "bdata": "WEiPEOK/FEA=",
          "dtype": "f8"
         },
         "xaxis": "x",
         "y": {
          "bdata": "AAAAAIAgxkA=",
          "dtype": "f8"
         },
         "yaxis": "y"
        },
        {
         "customdata": [
          [
           "spec"
          ]
         ],
         "hovertemplate": "repo_name=%{customdata[0]}<br>log_num_commits=%{x}<br>prs_open_plus_issues_open=%{y}<br>log_num_contrib=%{marker.size}<extra></extra>",
         "legendgroup": "spec",
         "marker": {
          "color": "#EF553B",
          "size": {
           "bdata": "dfonr8nKF0A=",
           "dtype": "f8"
          },
          "sizemode": "area",
          "sizeref": 0.022419079162917833,
          "symbol": "circle"
         },
         "mode": "markers",
         "name": "spec",
         "orientation": "v",
         "showlegend": true,
         "type": "scatter",
         "x": {
          "bdata": "8/66WYIHEEA=",
          "dtype": "f8"
         },
         "xaxis": "x",
         "y": {
          "bdata": "AAAAAAAglUA=",
          "dtype": "f8"
         },
         "yaxis": "y"
        },
        {
         "customdata": [
          [
           "volcano"
          ]
         ],
         "hovertemplate": "repo_name=%{customdata[0]}<br>log_num_commits=%{x}<br>prs_open_plus_issues_open=%{y}<br>log_num_contrib=%{marker.size}<extra></extra>",
         "legendgroup": "volcano",
         "marker": {
          "color": "#00cc96",
          "size": {
           "bdata": "0WfESBkHG0A=",
           "dtype": "f8"
          },
          "sizemode": "area",
          "sizeref": 0.022419079162917833,
          "symbol": "circle"
         },
         "mode": "markers",
         "name": "volcano",
         "orientation": "v",
         "showlegend": true,
         "type": "scatter",
         "x": {
          "bdata": "AAAAAAAA+H8=",
          "dtype": "f8"
         },
         "xaxis": "x",
         "y": {
          "bdata": "AAAAAABOskA=",
          "dtype": "f8"
         },
         "yaxis": "y"
        }
       ],
       "layout": {
        "legend": {
         "itemsizing": "constant",
         "title": {
          "text": "repo_name"
         },
         "tracegroupgap": 0
        },
        "template": {
         "data": {
          "bar": [
           {
            "error_x": {
             "color": "#2a3f5f"
            },
            "error_y": {
             "color": "#2a3f5f"
            },
            "marker": {
             "line": {
              "color": "#E5ECF6",
              "width": 0.5
             },
             "pattern": {
              "fillmode": "overlay",
              "size": 10,
              "solidity": 0.2
             }
            },
            "type": "bar"
           }
          ],
          "barpolar": [
           {
            "marker": {
             "line": {
              "color": "#E5ECF6",
              "width": 0.5
             },
             "pattern": {
              "fillmode": "overlay",
              "size": 10,
              "solidity": 0.2
             }
            },
            "type": "barpolar"
           }
          ],
          "carpet": [
           {
            "aaxis": {
             "endlinecolor": "#2a3f5f",
             "gridcolor": "white",
             "linecolor": "white",
             "minorgridcolor": "white",
             "startlinecolor": "#2a3f5f"
            },
            "baxis": {
             "endlinecolor": "#2a3f5f",
             "gridcolor": "white",
             "linecolor": "white",
             "minorgridcolor": "white",
             "startlinecolor": "#2a3f5f"
            },
            "type": "carpet"
           }
          ],
          "choropleth": [
           {
            "colorbar": {
             "outlinewidth": 0,
             "ticks": ""
            },
            "type": "choropleth"
           }
          ],
          "contour": [
           {
            "colorbar": {
             "outlinewidth": 0,
             "ticks": ""
            },
            "colorscale": [
             [
              0,
              "#0d0887"
             ],
             [
              0.1111111111111111,
              "#46039f"
             ],
             [
              0.2222222222222222,
              "#7201a8"
             ],
             [
              0.3333333333333333,
              "#9c179e"
             ],
             [
              0.4444444444444444,
              "#bd3786"
             ],
             [
              0.5555555555555556,
              "#d8576b"
             ],
             [
              0.6666666666666666,
              "#ed7953"
             ],
             [
              0.7777777777777778,
              "#fb9f3a"
             ],
             [
              0.8888888888888888,
              "#fdca26"
             ],
             [
              1,
              "#f0f921"
             ]
            ],
            "type": "contour"
           }
          ],
          "contourcarpet": [
           {
            "colorbar": {
             "outlinewidth": 0,
             "ticks": ""
            },
            "type": "contourcarpet"
           }
          ],
          "heatmap": [
           {
            "colorbar": {
             "outlinewidth": 0,
             "ticks": ""
            },
            "colorscale": [
             [
              0,
              "#0d0887"
             ],
             [
              0.1111111111111111,
              "#46039f"
             ],
             [
              0.2222222222222222,
              "#7201a8"
             ],
             [
              0.3333333333333333,
              "#9c179e"
             ],
             [
              0.4444444444444444,
              "#bd3786"
             ],
             [
              0.5555555555555556,
              "#d8576b"
             ],
             [
              0.6666666666666666,
              "#ed7953"
             ],
             [
              0.7777777777777778,
              "#fb9f3a"
             ],
             [
              0.8888888888888888,
              "#fdca26"
             ],
             [
              1,
              "#f0f921"
             ]
            ],
            "type": "heatmap"
           }
          ],
          "histogram": [
           {
            "marker": {
             "pattern": {
              "fillmode": "overlay",
              "size": 10,
              "solidity": 0.2
             }
            },
            "type": "histogram"
           }
          ],
          "histogram2d": [
           {
            "colorbar": {
             "outlinewidth": 0,
             "ticks": ""
            },
            "colorscale": [
             [
              0,
              "#0d0887"
             ],
             [
              0.1111111111111111,
              "#46039f"
             ],
             [
              0.2222222222222222,
              "#7201a8"
             ],
             [
              0.3333333333333333,
              "#9c179e"
             ],
             [
              0.4444444444444444,
              "#bd3786"
             ],
             [
              0.5555555555555556,
              "#d8576b"
             ],
             [
              0.6666666666666666,
              "#ed7953"
             ],
             [
              0.7777777777777778,
              "#fb9f3a"
             ],
             [
              0.8888888888888888,
              "#fdca26"
             ],
             [
              1,
              "#f0f921"
             ]
            ],
            "type": "histogram2d"
           }
          ],
          "histogram2dcontour": [
           {
            "colorbar": {
             "outlinewidth": 0,
             "ticks": ""
            },
            "colorscale": [
             [
              0,
              "#0d0887"
             ],
             [
              0.1111111111111111,
              "#46039f"
             ],
             [
              0.2222222222222222,
              "#7201a8"
             ],
             [
              0.3333333333333333,
              "#9c179e"
             ],
             [
              0.4444444444444444,
              "#bd3786"
             ],
             [
              0.5555555555555556,
              "#d8576b"
             ],
             [
              0.6666666666666666,
              "#ed7953"
             ],
             [
              0.7777777777777778,
              "#fb9f3a"
             ],
             [
              0.8888888888888888,
              "#fdca26"
             ],
             [
              1,
              "#f0f921"
             ]
            ],
            "type": "histogram2dcontour"
           }
          ],
          "mesh3d": [
           {
            "colorbar": {
             "outlinewidth": 0,
             "ticks": ""
            },
            "type": "mesh3d"
           }
          ],
          "parcoords": [
           {
            "line": {
             "colorbar": {
              "outlinewidth": 0,
              "ticks": ""
             }
            },
            "type": "parcoords"
           }
          ],
          "pie": [
           {
            "automargin": true,
            "type": "pie"
           }
          ],
          "scatter": [
           {
            "fillpattern": {
             "fillmode": "overlay",
             "size": 10,
             "solidity": 0.2
            },
            "type": "scatter"
           }
          ],
          "scatter3d": [
           {
            "line": {
             "colorbar": {
              "outlinewidth": 0,
              "ticks": ""
             }
            },
            "marker": {
             "colorbar": {
              "outlinewidth": 0,
              "ticks": ""
             }
            },
            "type": "scatter3d"
           }
          ],
          "scattercarpet": [
           {
            "marker": {
             "colorbar": {
              "outlinewidth": 0,
              "ticks": ""
             }
            },
            "type": "scattercarpet"
           }
          ],
          "scattergeo": [
           {
            "marker": {
             "colorbar": {
              "outlinewidth": 0,
              "ticks": ""
             }
            },
            "type": "scattergeo"
           }
          ],
          "scattergl": [
           {
            "marker": {
             "colorbar": {
              "outlinewidth": 0,
              "ticks": ""
             }
            },
            "type": "scattergl"
           }
          ],
          "scattermap": [
           {
            "marker": {
             "colorbar": {
              "outlinewidth": 0,
              "ticks": ""
             }
            },
            "type": "scattermap"
           }
          ],
          "scattermapbox": [
           {
            "marker": {
             "colorbar": {
              "outlinewidth": 0,
              "ticks": ""
             }
            },
            "type": "scattermapbox"
           }
          ],
          "scatterpolar": [
           {
            "marker": {
             "colorbar": {
              "outlinewidth": 0,
              "ticks": ""
             }
            },
            "type": "scatterpolar"
           }
          ],
          "scatterpolargl": [
           {
            "marker": {
             "colorbar": {
              "outlinewidth": 0,
              "ticks": ""
             }
            },
            "type": "scatterpolargl"
           }
          ],
          "scatterternary": [
           {
            "marker": {
             "colorbar": {
              "outlinewidth": 0,
              "ticks": ""
             }
            },
            "type": "scatterternary"
           }
          ],
          "surface": [
           {
            "colorbar": {
             "outlinewidth": 0,
             "ticks": ""
            },
            "colorscale": [
             [
              0,
              "#0d0887"
             ],
             [
              0.1111111111111111,
              "#46039f"
             ],
             [
              0.2222222222222222,
              "#7201a8"
             ],
             [
              0.3333333333333333,
              "#9c179e"
             ],
             [
              0.4444444444444444,
              "#bd3786"
             ],
             [
              0.5555555555555556,
              "#d8576b"
             ],
             [
              0.6666666666666666,
              "#ed7953"
             ],
             [
              0.7777777777777778,
              "#fb9f3a"
             ],
             [
              0.8888888888888888,
              "#fdca26"
             ],
             [
              1,
              "#f0f921"
             ]
            ],
            "type": "surface"
           }
          ],
          "table": [
           {
            "cells": {
             "fill": {
              "color": "#EBF0F8"
             },
             "line": {
              "color": "white"
             }
            },
            "header": {
             "fill": {
              "color": "#C8D4E3"
             },
             "line": {
              "color": "white"
             }
            },
            "type": "table"
           }
          ]
         },
         "layout": {
          "annotationdefaults": {
           "arrowcolor": "#2a3f5f",
           "arrowhead": 0,
           "arrowwidth": 1
          },
          "autotypenumbers": "strict",
          "coloraxis": {
           "colorbar": {
            "outlinewidth": 0,
            "ticks": ""
           }
          },
          "colorscale": {
           "diverging": [
            [
             0,
             "#8e0152"
            ],
            [
             0.1,
             "#c51b7d"
            ],
            [
             0.2,
             "#de77ae"
            ],
            [
             0.3,
             "#f1b6da"
            ],
            [
             0.4,
             "#fde0ef"
            ],
            [
             0.5,
             "#f7f7f7"
            ],
            [
             0.6,
             "#e6f5d0"
            ],
            [
             0.7,
             "#b8e186"
            ],
            [
             0.8,
             "#7fbc41"
            ],
            [
             0.9,
             "#4d9221"
            ],
            [
             1,
             "#276419"
            ]
           ],
           "sequential": [
            [
             0,
             "#0d0887"
            ],
            [
             0.1111111111111111,
             "#46039f"
            ],
            [
             0.2222222222222222,
             "#7201a8"
            ],
            [
             0.3333333333333333,
             "#9c179e"
            ],
            [
             0.4444444444444444,
             "#bd3786"
            ],
            [
             0.5555555555555556,
             "#d8576b"
            ],
            [
             0.6666666666666666,
             "#ed7953"
            ],
            [
             0.7777777777777778,
             "#fb9f3a"
            ],
            [
             0.8888888888888888,
             "#fdca26"
            ],
            [
             1,
             "#f0f921"
            ]
           ],
           "sequentialminus": [
            [
             0,
             "#0d0887"
            ],
            [
             0.1111111111111111,
             "#46039f"
            ],
            [
             0.2222222222222222,
             "#7201a8"
            ],
            [
             0.3333333333333333,
             "#9c179e"
            ],
            [
             0.4444444444444444,
             "#bd3786"
            ],
            [
             0.5555555555555556,
             "#d8576b"
            ],
            [
             0.6666666666666666,
             "#ed7953"
            ],
            [
             0.7777777777777778,
             "#fb9f3a"
            ],
            [
             0.8888888888888888,
             "#fdca26"
            ],
            [
             1,
             "#f0f921"
            ]
           ]
          },
          "colorway": [
           "#636efa",
           "#EF553B",
           "#00cc96",
           "#ab63fa",
           "#FFA15A",
           "#19d3f3",
           "#FF6692",
           "#B6E880",
           "#FF97FF",
           "#FECB52"
          ],
          "font": {
           "color": "#2a3f5f"
          },
          "geo": {
           "bgcolor": "white",
           "lakecolor": "white",
           "landcolor": "#E5ECF6",
           "showlakes": true,
           "showland": true,
           "subunitcolor": "white"
          },
          "hoverlabel": {
           "align": "left"
          },
          "hovermode": "closest",
          "mapbox": {
           "style": "light"
          },
          "paper_bgcolor": "white",
          "plot_bgcolor": "#E5ECF6",
          "polar": {
           "angularaxis": {
            "gridcolor": "white",
            "linecolor": "white",
            "ticks": ""
           },
           "bgcolor": "#E5ECF6",
           "radialaxis": {
            "gridcolor": "white",
            "linecolor": "white",
            "ticks": ""
           }
          },
          "scene": {
           "xaxis": {
            "backgroundcolor": "#E5ECF6",
            "gridcolor": "white",
            "gridwidth": 2,
            "linecolor": "white",
            "showbackground": true,
            "ticks": "",
            "zerolinecolor": "white"
           },
           "yaxis": {
            "backgroundcolor": "#E5ECF6",
            "gridcolor": "white",
            "gridwidth": 2,
            "linecolor": "white",
            "showbackground": true,
            "ticks": "",
            "zerolinecolor": "white"
           },
           "zaxis": {
            "backgroundcolor": "#E5ECF6",
            "gridcolor": "white",
            "gridwidth": 2,
            "linecolor": "white",
            "showbackground": true,
            "ticks": "",
            "zerolinecolor": "white"
           }
          },
          "shapedefaults": {
           "line": {
            "color": "#2a3f5f"
           }
          },
          "ternary": {
           "aaxis": {
            "gridcolor": "white",
            "linecolor": "white",
            "ticks": ""
           },
           "baxis": {
            "gridcolor": "white",
            "linecolor": "white",
            "ticks": ""
           },
           "bgcolor": "#E5ECF6",
           "caxis": {
            "gridcolor": "white",
            "linecolor": "white",
            "ticks": ""
           }
          },
          "title": {
           "x": 0.05
          },
          "xaxis": {
           "automargin": true,
           "gridcolor": "white",
           "linecolor": "white",
           "ticks": "",
           "title": {
            "standoff": 15
           },
           "zerolinecolor": "white",
           "zerolinewidth": 2
          },
          "yaxis": {
           "automargin": true,
           "gridcolor": "white",
           "linecolor": "white",
           "ticks": "",
           "title": {
            "standoff": 15
           },
           "zerolinecolor": "white",
           "zerolinewidth": 2
          }
         }
        },
        "title": {
         "text": "Project Velocity"
        },
        "xaxis": {
         "anchor": "y",
         "domain": [
          0,
          1
         ],
         "title": {
          "text": "log_num_commits"
         }
        },
        "yaxis": {
         "anchor": "x",
         "domain": [
          0,
          1
         ],
         "title": {
          "text": "prs_open_plus_issues_open"
         }
        }
       }
      }
     },
     "metadata": {},
     "output_type": "display_data"
    }
   ],
   "source": [
    "fig.show()"
   ]
  },
  {
   "cell_type": "markdown",
   "id": "9c791393-0426-41ff-8a75-e6473b6078ca",
   "metadata": {},
   "source": [
    "### 2: PR and issue actions\n",
    "\n",
    "PR: open, closed, merged <br>\n",
    "Issues: open , closed"
   ]
  },
  {
   "cell_type": "code",
   "execution_count": 21,
   "id": "71d166b4-00b8-44be-9049-b7a178bd1b7f",
   "metadata": {},
   "outputs": [],
   "source": [
    "df_consolidated[\"prs_issues_actions\"] = (df_consolidated[\"issue_opened\"] + \n",
    "df_consolidated[\"issue_closed\"] + df_consolidated[\"pull_request_open\"] + df_consolidated[\"pull_request_merged\"] + \n",
    "df_consolidated[\"pull_request_closed\"])\n",
    "df_consolidated[\"log_prs_issues_actions\"] = df_consolidated[\"prs_issues_actions\"].apply(math.log)"
   ]
  },
  {
   "cell_type": "code",
   "execution_count": 22,
   "id": "b1b6243f-6a06-4da7-906a-f50e52c5ede1",
   "metadata": {},
   "outputs": [],
   "source": [
    "fig = px.scatter(df_consolidated, \n",
    "                 x=\"log_num_commits\", \n",
    "                 y=\"log_prs_issues_actions\", \n",
    "                 color=\"repo_name\",\n",
    "                 size='log_num_contrib', \n",
    "                 hover_data=['repo_name'],\n",
    "                 title=\"Project Velocity\")"
   ]
  },
  {
   "cell_type": "code",
   "execution_count": 23,
   "id": "f851a8a7-55b9-412c-a6e8-1f05a1140b60",
   "metadata": {},
   "outputs": [
    {
     "data": {
      "application/vnd.plotly.v1+json": {
       "config": {
        "plotlyServerURL": "https://plot.ly"
       },
       "data": [
        {
         "customdata": [
          [
           "backstage"
          ]
         ],
         "hovertemplate": "repo_name=%{customdata[0]}<br>log_num_commits=%{x}<br>log_prs_issues_actions=%{y}<br>log_num_contrib=%{marker.size}<extra></extra>",
         "legendgroup": "backstage",
         "marker": {
          "color": "#636efa",
          "size": {
           "bdata": "ZBztrTCgIEA=",
           "dtype": "f8"
          },
          "sizemode": "area",
          "sizeref": 0.022419079162917833,
          "symbol": "circle"
         },
         "mode": "markers",
         "name": "backstage",
         "orientation": "v",
         "showlegend": true,
         "type": "scatter",
         "x": {
          "bdata": "AAAAAAAA+H8=",
          "dtype": "f8"
         },
         "xaxis": "x",
         "y": {
          "bdata": "JePs7+bxJUA=",
          "dtype": "f8"
         },
         "yaxis": "y"
        },
        {
         "customdata": [
          [
           "chaos-mesh"
          ]
         ],
         "hovertemplate": "repo_name=%{customdata[0]}<br>log_num_commits=%{x}<br>log_prs_issues_actions=%{y}<br>log_num_contrib=%{marker.size}<extra></extra>",
         "legendgroup": "chaos-mesh",
         "marker": {
          "color": "#EF553B",
          "size": {
           "bdata": "PbJC6JCtGkA=",
           "dtype": "f8"
          },
          "sizemode": "area",
          "sizeref": 0.022419079162917833,
          "symbol": "circle"
         },
         "mode": "markers",
         "name": "chaos-mesh",
         "orientation": "v",
         "showlegend": true,
         "type": "scatter",
         "x": {
          "bdata": "1g2IaPlODUA=",
          "dtype": "f8"
         },
         "xaxis": "x",
         "y": {
          "bdata": "w8DkEBAYIkA=",
          "dtype": "f8"
         },
         "yaxis": "y"
        },
        {
         "customdata": [
          [
           "cilium"
          ]
         ],
         "hovertemplate": "repo_name=%{customdata[0]}<br>log_num_commits=%{x}<br>log_prs_issues_actions=%{y}<br>log_num_contrib=%{marker.size}<extra></extra>",
         "legendgroup": "cilium",
         "marker": {
          "color": "#00cc96",
          "size": {
           "bdata": "TJa/zI6uIEA=",
           "dtype": "f8"
          },
          "sizemode": "area",
          "sizeref": 0.022419079162917833,
          "symbol": "circle"
         },
         "mode": "markers",
         "name": "cilium",
         "orientation": "v",
         "showlegend": true,
         "type": "scatter",
         "x": {
          "bdata": "bcv4j4sSJUA=",
          "dtype": "f8"
         },
         "xaxis": "x",
         "y": {
          "bdata": "J2B8ckqlJUA=",
          "dtype": "f8"
         },
         "yaxis": "y"
        },
        {
         "customdata": [
          [
           "cloud-custodian"
          ]
         ],
         "hovertemplate": "repo_name=%{customdata[0]}<br>log_num_commits=%{x}<br>log_prs_issues_actions=%{y}<br>log_num_contrib=%{marker.size}<extra></extra>",
         "legendgroup": "cloud-custodian",
         "marker": {
          "color": "#ab63fa",
          "size": {
           "bdata": "SLbE4keOHUA=",
           "dtype": "f8"
          },
          "sizemode": "area",
          "sizeref": 0.022419079162917833,
          "symbol": "circle"
         },
         "mode": "markers",
         "name": "cloud-custodian",
         "orientation": "v",
         "showlegend": true,
         "type": "scatter",
         "x": {
          "bdata": "i42lJa0DE0A=",
          "dtype": "f8"
         },
         "xaxis": "x",
         "y": {
          "bdata": "QKo5SDehI0A=",
          "dtype": "f8"
         },
         "yaxis": "y"
        },
        {
         "customdata": [
          [
           "community"
          ]
         ],
         "hovertemplate": "repo_name=%{customdata[0]}<br>log_num_commits=%{x}<br>log_prs_issues_actions=%{y}<br>log_num_contrib=%{marker.size}<extra></extra>",
         "legendgroup": "community",
         "marker": {
          "color": "#FFA15A",
          "size": {
           "bdata": "kYgJqu+BHEA=",
           "dtype": "f8"
          },
          "sizemode": "area",
          "sizeref": 0.022419079162917833,
          "symbol": "circle"
         },
         "mode": "markers",
         "name": "community",
         "orientation": "v",
         "showlegend": true,
         "type": "scatter",
         "x": {
          "bdata": "Oiaw2KyNFkA=",
          "dtype": "f8"
         },
         "xaxis": "x",
         "y": {
          "bdata": "g302fJQrIkA=",
          "dtype": "f8"
         },
         "yaxis": "y"
        },
        {
         "customdata": [
          [
           "cortex"
          ]
         ],
         "hovertemplate": "repo_name=%{customdata[0]}<br>log_num_commits=%{x}<br>log_prs_issues_actions=%{y}<br>log_num_contrib=%{marker.size}<extra></extra>",
         "legendgroup": "cortex",
         "marker": {
          "color": "#19d3f3",
          "size": {
           "bdata": "nu8sqRT1GkA=",
           "dtype": "f8"
          },
          "sizemode": "area",
          "sizeref": 0.022419079162917833,
          "symbol": "circle"
         },
         "mode": "markers",
         "name": "cortex",
         "orientation": "v",
         "showlegend": true,
         "type": "scatter",
         "x": {
          "bdata": "P9htH+VQIUA=",
          "dtype": "f8"
         },
         "xaxis": "x",
         "y": {
          "bdata": "AA4/a6wGI0A=",
          "dtype": "f8"
         },
         "yaxis": "y"
        },
        {
         "customdata": [
          [
           "dapr"
          ]
         ],
         "hovertemplate": "repo_name=%{customdata[0]}<br>log_num_commits=%{x}<br>log_prs_issues_actions=%{y}<br>log_num_contrib=%{marker.size}<extra></extra>",
         "legendgroup": "dapr",
         "marker": {
          "color": "#FF6692",
          "size": {
           "bdata": "LhsbIKtfHUA=",
           "dtype": "f8"
          },
          "sizemode": "area",
          "sizeref": 0.022419079162917833,
          "symbol": "circle"
         },
         "mode": "markers",
         "name": "dapr",
         "orientation": "v",
         "showlegend": true,
         "type": "scatter",
         "x": {
          "bdata": "dSmUk5KyEEA=",
          "dtype": "f8"
         },
         "xaxis": "x",
         "y": {
          "bdata": "EK7v8WKLI0A=",
          "dtype": "f8"
         },
         "yaxis": "y"
        },
        {
         "customdata": [
          [
           "falco"
          ]
         ],
         "hovertemplate": "repo_name=%{customdata[0]}<br>log_num_commits=%{x}<br>log_prs_issues_actions=%{y}<br>log_num_contrib=%{marker.size}<extra></extra>",
         "legendgroup": "falco",
         "marker": {
          "color": "#B6E880",
          "size": {
           "bdata": "fSZeu9kLG0A=",
           "dtype": "f8"
          },
          "sizemode": "area",
          "sizeref": 0.022419079162917833,
          "symbol": "circle"
         },
         "mode": "markers",
         "name": "falco",
         "orientation": "v",
         "showlegend": true,
         "type": "scatter",
         "x": {
          "bdata": "OMV/e566F0A=",
          "dtype": "f8"
         },
         "xaxis": "x",
         "y": {
          "bdata": "AoirWpTJIUA=",
          "dtype": "f8"
         },
         "yaxis": "y"
        },
        {
         "customdata": [
          [
           "grpc"
          ]
         ],
         "hovertemplate": "repo_name=%{customdata[0]}<br>log_num_commits=%{x}<br>log_prs_issues_actions=%{y}<br>log_num_contrib=%{marker.size}<extra></extra>",
         "legendgroup": "grpc",
         "marker": {
          "color": "#FF97FF",
          "size": {
           "bdata": "mfiNuUWZIUA=",
           "dtype": "f8"
          },
          "sizemode": "area",
          "sizeref": 0.022419079162917833,
          "symbol": "circle"
         },
         "mode": "markers",
         "name": "grpc",
         "orientation": "v",
         "showlegend": true,
         "type": "scatter",
         "x": {
          "bdata": "m9YL+aY1C0A=",
          "dtype": "f8"
         },
         "xaxis": "x",
         "y": {
          "bdata": "LdGnT9l2JUA=",
          "dtype": "f8"
         },
         "yaxis": "y"
        },
        {
         "customdata": [
          [
           "in-toto"
          ]
         ],
         "hovertemplate": "repo_name=%{customdata[0]}<br>log_num_commits=%{x}<br>log_prs_issues_actions=%{y}<br>log_num_contrib=%{marker.size}<extra></extra>",
         "legendgroup": "in-toto",
         "marker": {
          "color": "#FECB52",
          "size": {
           "bdata": "vceH3/h/EkA=",
           "dtype": "f8"
          },
          "sizemode": "area",
          "sizeref": 0.022419079162917833,
          "symbol": "circle"
         },
         "mode": "markers",
         "name": "in-toto",
         "orientation": "v",
         "showlegend": true,
         "type": "scatter",
         "x": {
          "bdata": "sfIan3poE0A=",
          "dtype": "f8"
         },
         "xaxis": "x",
         "y": {
          "bdata": "egeFwC7VHUA=",
          "dtype": "f8"
         },
         "yaxis": "y"
        },
        {
         "customdata": [
          [
           "istio"
          ]
         ],
         "hovertemplate": "repo_name=%{customdata[0]}<br>log_num_commits=%{x}<br>log_prs_issues_actions=%{y}<br>log_num_contrib=%{marker.size}<extra></extra>",
         "legendgroup": "istio",
         "marker": {
          "color": "#636efa",
          "size": {
           "bdata": "CO/oam3vIUA=",
           "dtype": "f8"
          },
          "sizemode": "area",
          "sizeref": 0.022419079162917833,
          "symbol": "circle"
         },
         "mode": "markers",
         "name": "istio",
         "orientation": "v",
         "showlegend": true,
         "type": "scatter",
         "x": {
          "bdata": "AAAAAAAA+H8=",
          "dtype": "f8"
         },
         "xaxis": "x",
         "y": {
          "bdata": "gK42fG1DJ0A=",
          "dtype": "f8"
         },
         "yaxis": "y"
        },
        {
         "customdata": [
          [
           "keda"
          ]
         ],
         "hovertemplate": "repo_name=%{customdata[0]}<br>log_num_commits=%{x}<br>log_prs_issues_actions=%{y}<br>log_num_contrib=%{marker.size}<extra></extra>",
         "legendgroup": "keda",
         "marker": {
          "color": "#EF553B",
          "size": {
           "bdata": "jBbyC7ycHUA=",
           "dtype": "f8"
          },
          "sizemode": "area",
          "sizeref": 0.022419079162917833,
          "symbol": "circle"
         },
         "mode": "markers",
         "name": "keda",
         "orientation": "v",
         "showlegend": true,
         "type": "scatter",
         "x": {
          "bdata": "AAAAAAAA+H8=",
          "dtype": "f8"
         },
         "xaxis": "x",
         "y": {
          "bdata": "oeRNDym7IkA=",
          "dtype": "f8"
         },
         "yaxis": "y"
        },
        {
         "customdata": [
          [
           "keptn"
          ]
         ],
         "hovertemplate": "repo_name=%{customdata[0]}<br>log_num_commits=%{x}<br>log_prs_issues_actions=%{y}<br>log_num_contrib=%{marker.size}<extra></extra>",
         "legendgroup": "keptn",
         "marker": {
          "color": "#00cc96",
          "size": {
           "bdata": "YFlW+ZdrF0A=",
           "dtype": "f8"
          },
          "sizemode": "area",
          "sizeref": 0.022419079162917833,
          "symbol": "circle"
         },
         "mode": "markers",
         "name": "keptn",
         "orientation": "v",
         "showlegend": true,
         "type": "scatter",
         "x": {
          "bdata": "LIuyvFcVIkA=",
          "dtype": "f8"
         },
         "xaxis": "x",
         "y": {
          "bdata": "sAKJ5+zGI0A=",
          "dtype": "f8"
         },
         "yaxis": "y"
        },
        {
         "customdata": [
          [
           "keycloak"
          ]
         ],
         "hovertemplate": "repo_name=%{customdata[0]}<br>log_num_commits=%{x}<br>log_prs_issues_actions=%{y}<br>log_num_contrib=%{marker.size}<extra></extra>",
         "legendgroup": "keycloak",
         "marker": {
          "color": "#ab63fa",
          "size": {
           "bdata": "6JpGxuSLIUA=",
           "dtype": "f8"
          },
          "sizemode": "area",
          "sizeref": 0.022419079162917833,
          "symbol": "circle"
         },
         "mode": "markers",
         "name": "keycloak",
         "orientation": "v",
         "showlegend": true,
         "type": "scatter",
         "x": {
          "bdata": "AAAAAAAA+H8=",
          "dtype": "f8"
         },
         "xaxis": "x",
         "y": {
          "bdata": "hGPCV9aWJUA=",
          "dtype": "f8"
         },
         "yaxis": "y"
        },
        {
         "customdata": [
          [
           "kruise"
          ]
         ],
         "hovertemplate": "repo_name=%{customdata[0]}<br>log_num_commits=%{x}<br>log_prs_issues_actions=%{y}<br>log_num_contrib=%{marker.size}<extra></extra>",
         "legendgroup": "kruise",
         "marker": {
          "color": "#FFA15A",
          "size": {
           "bdata": "SbtvF/MBGUA=",
           "dtype": "f8"
          },
          "sizemode": "area",
          "sizeref": 0.022419079162917833,
          "symbol": "circle"
         },
         "mode": "markers",
         "name": "kruise",
         "orientation": "v",
         "showlegend": true,
         "type": "scatter",
         "x": {
          "bdata": "LecbgAoEFEA=",
          "dtype": "f8"
         },
         "xaxis": "x",
         "y": {
          "bdata": "DO/ib9nDIEA=",
          "dtype": "f8"
         },
         "yaxis": "y"
        },
        {
         "customdata": [
          [
           "kubeedge"
          ]
         ],
         "hovertemplate": "repo_name=%{customdata[0]}<br>log_num_commits=%{x}<br>log_prs_issues_actions=%{y}<br>log_num_contrib=%{marker.size}<extra></extra>",
         "legendgroup": "kubeedge",
         "marker": {
          "color": "#19d3f3",
          "size": {
           "bdata": "LwXQ0yCKHEA=",
           "dtype": "f8"
          },
          "sizemode": "area",
          "sizeref": 0.022419079162917833,
          "symbol": "circle"
         },
         "mode": "markers",
         "name": "kubeedge",
         "orientation": "v",
         "showlegend": true,
         "type": "scatter",
         "x": {
          "bdata": "AAAAAAAA+H8=",
          "dtype": "f8"
         },
         "xaxis": "x",
         "y": {
          "bdata": "P5XoWCnaIkA=",
          "dtype": "f8"
         },
         "yaxis": "y"
        },
        {
         "customdata": [
          [
           "kubevela"
          ]
         ],
         "hovertemplate": "repo_name=%{customdata[0]}<br>log_num_commits=%{x}<br>log_prs_issues_actions=%{y}<br>log_num_contrib=%{marker.size}<extra></extra>",
         "legendgroup": "kubevela",
         "marker": {
          "color": "#FF6692",
          "size": {
           "bdata": "w3iWfp8WGkA=",
           "dtype": "f8"
          },
          "sizemode": "area",
          "sizeref": 0.022419079162917833,
          "symbol": "circle"
         },
         "mode": "markers",
         "name": "kubevela",
         "orientation": "v",
         "showlegend": true,
         "type": "scatter",
         "x": {
          "bdata": "xfMPU1pxDEA=",
          "dtype": "f8"
         },
         "xaxis": "x",
         "y": {
          "bdata": "kkpLFs7oIkA=",
          "dtype": "f8"
         },
         "yaxis": "y"
        },
        {
         "customdata": [
          [
           "kubevirt"
          ]
         ],
         "hovertemplate": "repo_name=%{customdata[0]}<br>log_num_commits=%{x}<br>log_prs_issues_actions=%{y}<br>log_num_contrib=%{marker.size}<extra></extra>",
         "legendgroup": "kubevirt",
         "marker": {
          "color": "#B6E880",
          "size": {
           "bdata": "faJGs4+JHkA=",
           "dtype": "f8"
          },
          "sizemode": "area",
          "sizeref": 0.022419079162917833,
          "symbol": "circle"
         },
         "mode": "markers",
         "name": "kubevirt",
         "orientation": "v",
         "showlegend": true,
         "type": "scatter",
         "x": {
          "bdata": "TbFtQHoWJEA=",
          "dtype": "f8"
         },
         "xaxis": "x",
         "y": {
          "bdata": "vijD+RWtJEA=",
          "dtype": "f8"
         },
         "yaxis": "y"
        },
        {
         "customdata": [
          [
           "kyverno"
          ]
         ],
         "hovertemplate": "repo_name=%{customdata[0]}<br>log_num_commits=%{x}<br>log_prs_issues_actions=%{y}<br>log_num_contrib=%{marker.size}<extra></extra>",
         "legendgroup": "kyverno",
         "marker": {
          "color": "#FF97FF",
          "size": {
           "bdata": "ZR34mbBZHUA=",
           "dtype": "f8"
          },
          "sizemode": "area",
          "sizeref": 0.022419079162917833,
          "symbol": "circle"
         },
         "mode": "markers",
         "name": "kyverno",
         "orientation": "v",
         "showlegend": true,
         "type": "scatter",
         "x": {
          "bdata": "AAAAAAAA+H8=",
          "dtype": "f8"
         },
         "xaxis": "x",
         "y": {
          "bdata": "FWwbR0pVJEA=",
          "dtype": "f8"
         },
         "yaxis": "y"
        },
        {
         "customdata": [
          [
           "litmus"
          ]
         ],
         "hovertemplate": "repo_name=%{customdata[0]}<br>log_num_commits=%{x}<br>log_prs_issues_actions=%{y}<br>log_num_contrib=%{marker.size}<extra></extra>",
         "legendgroup": "litmus",
         "marker": {
          "color": "#FECB52",
          "size": {
           "bdata": "B9nPZNsCGkA=",
           "dtype": "f8"
          },
          "sizemode": "area",
          "sizeref": 0.022419079162917833,
          "symbol": "circle"
         },
         "mode": "markers",
         "name": "litmus",
         "orientation": "v",
         "showlegend": true,
         "type": "scatter",
         "x": {
          "bdata": "AAAAAAAA+H8=",
          "dtype": "f8"
         },
         "xaxis": "x",
         "y": {
          "bdata": "AN3iS+FgIkA=",
          "dtype": "f8"
         },
         "yaxis": "y"
        },
        {
         "customdata": [
          [
           "longhorn"
          ]
         ],
         "hovertemplate": "repo_name=%{customdata[0]}<br>log_num_commits=%{x}<br>log_prs_issues_actions=%{y}<br>log_num_contrib=%{marker.size}<extra></extra>",
         "legendgroup": "longhorn",
         "marker": {
          "color": "#636efa",
          "size": {
           "bdata": "bu4WnesMHkA=",
           "dtype": "f8"
          },
          "sizemode": "area",
          "sizeref": 0.022419079162917833,
          "symbol": "circle"
         },
         "mode": "markers",
         "name": "longhorn",
         "orientation": "v",
         "showlegend": true,
         "type": "scatter",
         "x": {
          "bdata": "WEiPEOK/FEA=",
          "dtype": "f8"
         },
         "xaxis": "x",
         "y": {
          "bdata": "oQIg+kLhI0A=",
          "dtype": "f8"
         },
         "yaxis": "y"
        },
        {
         "customdata": [
          [
           "spec"
          ]
         ],
         "hovertemplate": "repo_name=%{customdata[0]}<br>log_num_commits=%{x}<br>log_prs_issues_actions=%{y}<br>log_num_contrib=%{marker.size}<extra></extra>",
         "legendgroup": "spec",
         "marker": {
          "color": "#EF553B",
          "size": {
           "bdata": "dfonr8nKF0A=",
           "dtype": "f8"
          },
          "sizemode": "area",
          "sizeref": 0.022419079162917833,
          "symbol": "circle"
         },
         "mode": "markers",
         "name": "spec",
         "orientation": "v",
         "showlegend": true,
         "type": "scatter",
         "x": {
          "bdata": "8/66WYIHEEA=",
          "dtype": "f8"
         },
         "xaxis": "x",
         "y": {
          "bdata": "Qnby4tSWH0A=",
          "dtype": "f8"
         },
         "yaxis": "y"
        },
        {
         "customdata": [
          [
           "volcano"
          ]
         ],
         "hovertemplate": "repo_name=%{customdata[0]}<br>log_num_commits=%{x}<br>log_prs_issues_actions=%{y}<br>log_num_contrib=%{marker.size}<extra></extra>",
         "legendgroup": "volcano",
         "marker": {
          "color": "#00cc96",
          "size": {
           "bdata": "0WfESBkHG0A=",
           "dtype": "f8"
          },
          "sizemode": "area",
          "sizeref": 0.022419079162917833,
          "symbol": "circle"
         },
         "mode": "markers",
         "name": "volcano",
         "orientation": "v",
         "showlegend": true,
         "type": "scatter",
         "x": {
          "bdata": "AAAAAAAA+H8=",
          "dtype": "f8"
         },
         "xaxis": "x",
         "y": {
          "bdata": "Zefs14BCIkA=",
          "dtype": "f8"
         },
         "yaxis": "y"
        }
       ],
       "layout": {
        "legend": {
         "itemsizing": "constant",
         "title": {
          "text": "repo_name"
         },
         "tracegroupgap": 0
        },
        "template": {
         "data": {
          "bar": [
           {
            "error_x": {
             "color": "#2a3f5f"
            },
            "error_y": {
             "color": "#2a3f5f"
            },
            "marker": {
             "line": {
              "color": "#E5ECF6",
              "width": 0.5
             },
             "pattern": {
              "fillmode": "overlay",
              "size": 10,
              "solidity": 0.2
             }
            },
            "type": "bar"
           }
          ],
          "barpolar": [
           {
            "marker": {
             "line": {
              "color": "#E5ECF6",
              "width": 0.5
             },
             "pattern": {
              "fillmode": "overlay",
              "size": 10,
              "solidity": 0.2
             }
            },
            "type": "barpolar"
           }
          ],
          "carpet": [
           {
            "aaxis": {
             "endlinecolor": "#2a3f5f",
             "gridcolor": "white",
             "linecolor": "white",
             "minorgridcolor": "white",
             "startlinecolor": "#2a3f5f"
            },
            "baxis": {
             "endlinecolor": "#2a3f5f",
             "gridcolor": "white",
             "linecolor": "white",
             "minorgridcolor": "white",
             "startlinecolor": "#2a3f5f"
            },
            "type": "carpet"
           }
          ],
          "choropleth": [
           {
            "colorbar": {
             "outlinewidth": 0,
             "ticks": ""
            },
            "type": "choropleth"
           }
          ],
          "contour": [
           {
            "colorbar": {
             "outlinewidth": 0,
             "ticks": ""
            },
            "colorscale": [
             [
              0,
              "#0d0887"
             ],
             [
              0.1111111111111111,
              "#46039f"
             ],
             [
              0.2222222222222222,
              "#7201a8"
             ],
             [
              0.3333333333333333,
              "#9c179e"
             ],
             [
              0.4444444444444444,
              "#bd3786"
             ],
             [
              0.5555555555555556,
              "#d8576b"
             ],
             [
              0.6666666666666666,
              "#ed7953"
             ],
             [
              0.7777777777777778,
              "#fb9f3a"
             ],
             [
              0.8888888888888888,
              "#fdca26"
             ],
             [
              1,
              "#f0f921"
             ]
            ],
            "type": "contour"
           }
          ],
          "contourcarpet": [
           {
            "colorbar": {
             "outlinewidth": 0,
             "ticks": ""
            },
            "type": "contourcarpet"
           }
          ],
          "heatmap": [
           {
            "colorbar": {
             "outlinewidth": 0,
             "ticks": ""
            },
            "colorscale": [
             [
              0,
              "#0d0887"
             ],
             [
              0.1111111111111111,
              "#46039f"
             ],
             [
              0.2222222222222222,
              "#7201a8"
             ],
             [
              0.3333333333333333,
              "#9c179e"
             ],
             [
              0.4444444444444444,
              "#bd3786"
             ],
             [
              0.5555555555555556,
              "#d8576b"
             ],
             [
              0.6666666666666666,
              "#ed7953"
             ],
             [
              0.7777777777777778,
              "#fb9f3a"
             ],
             [
              0.8888888888888888,
              "#fdca26"
             ],
             [
              1,
              "#f0f921"
             ]
            ],
            "type": "heatmap"
           }
          ],
          "histogram": [
           {
            "marker": {
             "pattern": {
              "fillmode": "overlay",
              "size": 10,
              "solidity": 0.2
             }
            },
            "type": "histogram"
           }
          ],
          "histogram2d": [
           {
            "colorbar": {
             "outlinewidth": 0,
             "ticks": ""
            },
            "colorscale": [
             [
              0,
              "#0d0887"
             ],
             [
              0.1111111111111111,
              "#46039f"
             ],
             [
              0.2222222222222222,
              "#7201a8"
             ],
             [
              0.3333333333333333,
              "#9c179e"
             ],
             [
              0.4444444444444444,
              "#bd3786"
             ],
             [
              0.5555555555555556,
              "#d8576b"
             ],
             [
              0.6666666666666666,
              "#ed7953"
             ],
             [
              0.7777777777777778,
              "#fb9f3a"
             ],
             [
              0.8888888888888888,
              "#fdca26"
             ],
             [
              1,
              "#f0f921"
             ]
            ],
            "type": "histogram2d"
           }
          ],
          "histogram2dcontour": [
           {
            "colorbar": {
             "outlinewidth": 0,
             "ticks": ""
            },
            "colorscale": [
             [
              0,
              "#0d0887"
             ],
             [
              0.1111111111111111,
              "#46039f"
             ],
             [
              0.2222222222222222,
              "#7201a8"
             ],
             [
              0.3333333333333333,
              "#9c179e"
             ],
             [
              0.4444444444444444,
              "#bd3786"
             ],
             [
              0.5555555555555556,
              "#d8576b"
             ],
             [
              0.6666666666666666,
              "#ed7953"
             ],
             [
              0.7777777777777778,
              "#fb9f3a"
             ],
             [
              0.8888888888888888,
              "#fdca26"
             ],
             [
              1,
              "#f0f921"
             ]
            ],
            "type": "histogram2dcontour"
           }
          ],
          "mesh3d": [
           {
            "colorbar": {
             "outlinewidth": 0,
             "ticks": ""
            },
            "type": "mesh3d"
           }
          ],
          "parcoords": [
           {
            "line": {
             "colorbar": {
              "outlinewidth": 0,
              "ticks": ""
             }
            },
            "type": "parcoords"
           }
          ],
          "pie": [
           {
            "automargin": true,
            "type": "pie"
           }
          ],
          "scatter": [
           {
            "fillpattern": {
             "fillmode": "overlay",
             "size": 10,
             "solidity": 0.2
            },
            "type": "scatter"
           }
          ],
          "scatter3d": [
           {
            "line": {
             "colorbar": {
              "outlinewidth": 0,
              "ticks": ""
             }
            },
            "marker": {
             "colorbar": {
              "outlinewidth": 0,
              "ticks": ""
             }
            },
            "type": "scatter3d"
           }
          ],
          "scattercarpet": [
           {
            "marker": {
             "colorbar": {
              "outlinewidth": 0,
              "ticks": ""
             }
            },
            "type": "scattercarpet"
           }
          ],
          "scattergeo": [
           {
            "marker": {
             "colorbar": {
              "outlinewidth": 0,
              "ticks": ""
             }
            },
            "type": "scattergeo"
           }
          ],
          "scattergl": [
           {
            "marker": {
             "colorbar": {
              "outlinewidth": 0,
              "ticks": ""
             }
            },
            "type": "scattergl"
           }
          ],
          "scattermap": [
           {
            "marker": {
             "colorbar": {
              "outlinewidth": 0,
              "ticks": ""
             }
            },
            "type": "scattermap"
           }
          ],
          "scattermapbox": [
           {
            "marker": {
             "colorbar": {
              "outlinewidth": 0,
              "ticks": ""
             }
            },
            "type": "scattermapbox"
           }
          ],
          "scatterpolar": [
           {
            "marker": {
             "colorbar": {
              "outlinewidth": 0,
              "ticks": ""
             }
            },
            "type": "scatterpolar"
           }
          ],
          "scatterpolargl": [
           {
            "marker": {
             "colorbar": {
              "outlinewidth": 0,
              "ticks": ""
             }
            },
            "type": "scatterpolargl"
           }
          ],
          "scatterternary": [
           {
            "marker": {
             "colorbar": {
              "outlinewidth": 0,
              "ticks": ""
             }
            },
            "type": "scatterternary"
           }
          ],
          "surface": [
           {
            "colorbar": {
             "outlinewidth": 0,
             "ticks": ""
            },
            "colorscale": [
             [
              0,
              "#0d0887"
             ],
             [
              0.1111111111111111,
              "#46039f"
             ],
             [
              0.2222222222222222,
              "#7201a8"
             ],
             [
              0.3333333333333333,
              "#9c179e"
             ],
             [
              0.4444444444444444,
              "#bd3786"
             ],
             [
              0.5555555555555556,
              "#d8576b"
             ],
             [
              0.6666666666666666,
              "#ed7953"
             ],
             [
              0.7777777777777778,
              "#fb9f3a"
             ],
             [
              0.8888888888888888,
              "#fdca26"
             ],
             [
              1,
              "#f0f921"
             ]
            ],
            "type": "surface"
           }
          ],
          "table": [
           {
            "cells": {
             "fill": {
              "color": "#EBF0F8"
             },
             "line": {
              "color": "white"
             }
            },
            "header": {
             "fill": {
              "color": "#C8D4E3"
             },
             "line": {
              "color": "white"
             }
            },
            "type": "table"
           }
          ]
         },
         "layout": {
          "annotationdefaults": {
           "arrowcolor": "#2a3f5f",
           "arrowhead": 0,
           "arrowwidth": 1
          },
          "autotypenumbers": "strict",
          "coloraxis": {
           "colorbar": {
            "outlinewidth": 0,
            "ticks": ""
           }
          },
          "colorscale": {
           "diverging": [
            [
             0,
             "#8e0152"
            ],
            [
             0.1,
             "#c51b7d"
            ],
            [
             0.2,
             "#de77ae"
            ],
            [
             0.3,
             "#f1b6da"
            ],
            [
             0.4,
             "#fde0ef"
            ],
            [
             0.5,
             "#f7f7f7"
            ],
            [
             0.6,
             "#e6f5d0"
            ],
            [
             0.7,
             "#b8e186"
            ],
            [
             0.8,
             "#7fbc41"
            ],
            [
             0.9,
             "#4d9221"
            ],
            [
             1,
             "#276419"
            ]
           ],
           "sequential": [
            [
             0,
             "#0d0887"
            ],
            [
             0.1111111111111111,
             "#46039f"
            ],
            [
             0.2222222222222222,
             "#7201a8"
            ],
            [
             0.3333333333333333,
             "#9c179e"
            ],
            [
             0.4444444444444444,
             "#bd3786"
            ],
            [
             0.5555555555555556,
             "#d8576b"
            ],
            [
             0.6666666666666666,
             "#ed7953"
            ],
            [
             0.7777777777777778,
             "#fb9f3a"
            ],
            [
             0.8888888888888888,
             "#fdca26"
            ],
            [
             1,
             "#f0f921"
            ]
           ],
           "sequentialminus": [
            [
             0,
             "#0d0887"
            ],
            [
             0.1111111111111111,
             "#46039f"
            ],
            [
             0.2222222222222222,
             "#7201a8"
            ],
            [
             0.3333333333333333,
             "#9c179e"
            ],
            [
             0.4444444444444444,
             "#bd3786"
            ],
            [
             0.5555555555555556,
             "#d8576b"
            ],
            [
             0.6666666666666666,
             "#ed7953"
            ],
            [
             0.7777777777777778,
             "#fb9f3a"
            ],
            [
             0.8888888888888888,
             "#fdca26"
            ],
            [
             1,
             "#f0f921"
            ]
           ]
          },
          "colorway": [
           "#636efa",
           "#EF553B",
           "#00cc96",
           "#ab63fa",
           "#FFA15A",
           "#19d3f3",
           "#FF6692",
           "#B6E880",
           "#FF97FF",
           "#FECB52"
          ],
          "font": {
           "color": "#2a3f5f"
          },
          "geo": {
           "bgcolor": "white",
           "lakecolor": "white",
           "landcolor": "#E5ECF6",
           "showlakes": true,
           "showland": true,
           "subunitcolor": "white"
          },
          "hoverlabel": {
           "align": "left"
          },
          "hovermode": "closest",
          "mapbox": {
           "style": "light"
          },
          "paper_bgcolor": "white",
          "plot_bgcolor": "#E5ECF6",
          "polar": {
           "angularaxis": {
            "gridcolor": "white",
            "linecolor": "white",
            "ticks": ""
           },
           "bgcolor": "#E5ECF6",
           "radialaxis": {
            "gridcolor": "white",
            "linecolor": "white",
            "ticks": ""
           }
          },
          "scene": {
           "xaxis": {
            "backgroundcolor": "#E5ECF6",
            "gridcolor": "white",
            "gridwidth": 2,
            "linecolor": "white",
            "showbackground": true,
            "ticks": "",
            "zerolinecolor": "white"
           },
           "yaxis": {
            "backgroundcolor": "#E5ECF6",
            "gridcolor": "white",
            "gridwidth": 2,
            "linecolor": "white",
            "showbackground": true,
            "ticks": "",
            "zerolinecolor": "white"
           },
           "zaxis": {
            "backgroundcolor": "#E5ECF6",
            "gridcolor": "white",
            "gridwidth": 2,
            "linecolor": "white",
            "showbackground": true,
            "ticks": "",
            "zerolinecolor": "white"
           }
          },
          "shapedefaults": {
           "line": {
            "color": "#2a3f5f"
           }
          },
          "ternary": {
           "aaxis": {
            "gridcolor": "white",
            "linecolor": "white",
            "ticks": ""
           },
           "baxis": {
            "gridcolor": "white",
            "linecolor": "white",
            "ticks": ""
           },
           "bgcolor": "#E5ECF6",
           "caxis": {
            "gridcolor": "white",
            "linecolor": "white",
            "ticks": ""
           }
          },
          "title": {
           "x": 0.05
          },
          "xaxis": {
           "automargin": true,
           "gridcolor": "white",
           "linecolor": "white",
           "ticks": "",
           "title": {
            "standoff": 15
           },
           "zerolinecolor": "white",
           "zerolinewidth": 2
          },
          "yaxis": {
           "automargin": true,
           "gridcolor": "white",
           "linecolor": "white",
           "ticks": "",
           "title": {
            "standoff": 15
           },
           "zerolinecolor": "white",
           "zerolinewidth": 2
          }
         }
        },
        "title": {
         "text": "Project Velocity"
        },
        "xaxis": {
         "anchor": "y",
         "domain": [
          0,
          1
         ],
         "title": {
          "text": "log_num_commits"
         }
        },
        "yaxis": {
         "anchor": "x",
         "domain": [
          0,
          1
         ],
         "title": {
          "text": "log_prs_issues_actions"
         }
        }
       }
      }
     },
     "metadata": {},
     "output_type": "display_data"
    }
   ],
   "source": [
    "fig.show()"
   ]
  },
  {
   "cell_type": "markdown",
   "id": "8fc85ca5-c7e8-4a6d-a46e-e7c1f75db452",
   "metadata": {},
   "source": [
    "Visualization of raw values for y axis"
   ]
  },
  {
   "cell_type": "code",
   "execution_count": 24,
   "id": "164ac34f-9f1b-4926-a48b-62a512182be8",
   "metadata": {
    "tags": []
   },
   "outputs": [],
   "source": [
    "fig = px.scatter(df_consolidated, \n",
    "                 x=\"log_num_commits\", \n",
    "                 y=\"prs_issues_actions\", \n",
    "                 color=\"repo_name\",\n",
    "                 size='log_num_contrib', \n",
    "                 hover_data=['repo_name'],\n",
    "                 title=\"Project Velocity\")"
   ]
  },
  {
   "cell_type": "code",
   "execution_count": 25,
   "id": "2b7432e4-3ecd-4606-b530-f60be146a015",
   "metadata": {
    "tags": []
   },
   "outputs": [
    {
     "data": {
      "application/vnd.plotly.v1+json": {
       "config": {
        "plotlyServerURL": "https://plot.ly"
       },
       "data": [
        {
         "customdata": [
          [
           "backstage"
          ]
         ],
         "hovertemplate": "repo_name=%{customdata[0]}<br>log_num_commits=%{x}<br>prs_issues_actions=%{y}<br>log_num_contrib=%{marker.size}<extra></extra>",
         "legendgroup": "backstage",
         "marker": {
          "color": "#636efa",
          "size": {
           "bdata": "ZBztrTCgIEA=",
           "dtype": "f8"
          },
          "sizemode": "area",
          "sizeref": 0.022419079162917833,
          "symbol": "circle"
         },
         "mode": "markers",
         "name": "backstage",
         "orientation": "v",
         "showlegend": true,
         "type": "scatter",
         "x": {
          "bdata": "AAAAAAAA+H8=",
          "dtype": "f8"
         },
         "xaxis": "x",
         "y": {
          "bdata": "AAAAAABx7EA=",
          "dtype": "f8"
         },
         "yaxis": "y"
        },
        {
         "customdata": [
          [
           "chaos-mesh"
          ]
         ],
         "hovertemplate": "repo_name=%{customdata[0]}<br>log_num_commits=%{x}<br>prs_issues_actions=%{y}<br>log_num_contrib=%{marker.size}<extra></extra>",
         "legendgroup": "chaos-mesh",
         "marker": {
          "color": "#EF553B",
          "size": {
           "bdata": "PbJC6JCtGkA=",
           "dtype": "f8"
          },
          "sizemode": "area",
          "sizeref": 0.022419079162917833,
          "symbol": "circle"
         },
         "mode": "markers",
         "name": "chaos-mesh",
         "orientation": "v",
         "showlegend": true,
         "type": "scatter",
         "x": {
          "bdata": "1g2IaPlODUA=",
          "dtype": "f8"
         },
         "xaxis": "x",
         "y": {
          "bdata": "AAAAAICWwEA=",
          "dtype": "f8"
         },
         "yaxis": "y"
        },
        {
         "customdata": [
          [
           "cilium"
          ]
         ],
         "hovertemplate": "repo_name=%{customdata[0]}<br>log_num_commits=%{x}<br>prs_issues_actions=%{y}<br>log_num_contrib=%{marker.size}<extra></extra>",
         "legendgroup": "cilium",
         "marker": {
          "color": "#00cc96",
          "size": {
           "bdata": "TJa/zI6uIEA=",
           "dtype": "f8"
          },
          "sizemode": "area",
          "sizeref": 0.022419079162917833,
          "symbol": "circle"
         },
         "mode": "markers",
         "name": "cilium",
         "orientation": "v",
         "showlegend": true,
         "type": "scatter",
         "x": {
          "bdata": "bcv4j4sSJUA=",
          "dtype": "f8"
         },
         "xaxis": "x",
         "y": {
          "bdata": "AAAAACB96EA=",
          "dtype": "f8"
         },
         "yaxis": "y"
        },
        {
         "customdata": [
          [
           "cloud-custodian"
          ]
         ],
         "hovertemplate": "repo_name=%{customdata[0]}<br>log_num_commits=%{x}<br>prs_issues_actions=%{y}<br>log_num_contrib=%{marker.size}<extra></extra>",
         "legendgroup": "cloud-custodian",
         "marker": {
          "color": "#ab63fa",
          "size": {
           "bdata": "SLbE4keOHUA=",
           "dtype": "f8"
          },
          "sizemode": "area",
          "sizeref": 0.022419079162917833,
          "symbol": "circle"
         },
         "mode": "markers",
         "name": "cloud-custodian",
         "orientation": "v",
         "showlegend": true,
         "type": "scatter",
         "x": {
          "bdata": "i42lJa0DE0A=",
          "dtype": "f8"
         },
         "xaxis": "x",
         "y": {
          "bdata": "AAAAAADg0UA=",
          "dtype": "f8"
         },
         "yaxis": "y"
        },
        {
         "customdata": [
          [
           "community"
          ]
         ],
         "hovertemplate": "repo_name=%{customdata[0]}<br>log_num_commits=%{x}<br>prs_issues_actions=%{y}<br>log_num_contrib=%{marker.size}<extra></extra>",
         "legendgroup": "community",
         "marker": {
          "color": "#FFA15A",
          "size": {
           "bdata": "kYgJqu+BHEA=",
           "dtype": "f8"
          },
          "sizemode": "area",
          "sizeref": 0.022419079162917833,
          "symbol": "circle"
         },
         "mode": "markers",
         "name": "community",
         "orientation": "v",
         "showlegend": true,
         "type": "scatter",
         "x": {
          "bdata": "Oiaw2KyNFkA=",
          "dtype": "f8"
         },
         "xaxis": "x",
         "y": {
          "bdata": "AAAAAIA7wUA=",
          "dtype": "f8"
         },
         "yaxis": "y"
        },
        {
         "customdata": [
          [
           "cortex"
          ]
         ],
         "hovertemplate": "repo_name=%{customdata[0]}<br>log_num_commits=%{x}<br>prs_issues_actions=%{y}<br>log_num_contrib=%{marker.size}<extra></extra>",
         "legendgroup": "cortex",
         "marker": {
          "color": "#19d3f3",
          "size": {
           "bdata": "nu8sqRT1GkA=",
           "dtype": "f8"
          },
          "sizemode": "area",
          "sizeref": 0.022419079162917833,
          "symbol": "circle"
         },
         "mode": "markers",
         "name": "cortex",
         "orientation": "v",
         "showlegend": true,
         "type": "scatter",
         "x": {
          "bdata": "P9htH+VQIUA=",
          "dtype": "f8"
         },
         "xaxis": "x",
         "y": {
          "bdata": "AAAAAIBvykA=",
          "dtype": "f8"
         },
         "yaxis": "y"
        },
        {
         "customdata": [
          [
           "dapr"
          ]
         ],
         "hovertemplate": "repo_name=%{customdata[0]}<br>log_num_commits=%{x}<br>prs_issues_actions=%{y}<br>log_num_contrib=%{marker.size}<extra></extra>",
         "legendgroup": "dapr",
         "marker": {
          "color": "#FF6692",
          "size": {
           "bdata": "LhsbIKtfHUA=",
           "dtype": "f8"
          },
          "sizemode": "area",
          "sizeref": 0.022419079162917833,
          "symbol": "circle"
         },
         "mode": "markers",
         "name": "dapr",
         "orientation": "v",
         "showlegend": true,
         "type": "scatter",
         "x": {
          "bdata": "dSmUk5KyEEA=",
          "dtype": "f8"
         },
         "xaxis": "x",
         "y": {
          "bdata": "AAAAAAAh0UA=",
          "dtype": "f8"
         },
         "yaxis": "y"
        },
        {
         "customdata": [
          [
           "falco"
          ]
         ],
         "hovertemplate": "repo_name=%{customdata[0]}<br>log_num_commits=%{x}<br>prs_issues_actions=%{y}<br>log_num_contrib=%{marker.size}<extra></extra>",
         "legendgroup": "falco",
         "marker": {
          "color": "#B6E880",
          "size": {
           "bdata": "fSZeu9kLG0A=",
           "dtype": "f8"
          },
          "sizemode": "area",
          "sizeref": 0.022419079162917833,
          "symbol": "circle"
         },
         "mode": "markers",
         "name": "falco",
         "orientation": "v",
         "showlegend": true,
         "type": "scatter",
         "x": {
          "bdata": "OMV/e566F0A=",
          "dtype": "f8"
         },
         "xaxis": "x",
         "y": {
          "bdata": "AAAAAAB2vEA=",
          "dtype": "f8"
         },
         "yaxis": "y"
        },
        {
         "customdata": [
          [
           "grpc"
          ]
         ],
         "hovertemplate": "repo_name=%{customdata[0]}<br>log_num_commits=%{x}<br>prs_issues_actions=%{y}<br>log_num_contrib=%{marker.size}<extra></extra>",
         "legendgroup": "grpc",
         "marker": {
          "color": "#FF97FF",
          "size": {
           "bdata": "mfiNuUWZIUA=",
           "dtype": "f8"
          },
          "sizemode": "area",
          "sizeref": 0.022419079162917833,
          "symbol": "circle"
         },
         "mode": "markers",
         "name": "grpc",
         "orientation": "v",
         "showlegend": true,
         "type": "scatter",
         "x": {
          "bdata": "m9YL+aY1C0A=",
          "dtype": "f8"
         },
         "xaxis": "x",
         "y": {
          "bdata": "AAAAAIBd5kA=",
          "dtype": "f8"
         },
         "yaxis": "y"
        },
        {
         "customdata": [
          [
           "in-toto"
          ]
         ],
         "hovertemplate": "repo_name=%{customdata[0]}<br>log_num_commits=%{x}<br>prs_issues_actions=%{y}<br>log_num_contrib=%{marker.size}<extra></extra>",
         "legendgroup": "in-toto",
         "marker": {
          "color": "#FECB52",
          "size": {
           "bdata": "vceH3/h/EkA=",
           "dtype": "f8"
          },
          "sizemode": "area",
          "sizeref": 0.022419079162917833,
          "symbol": "circle"
         },
         "mode": "markers",
         "name": "in-toto",
         "orientation": "v",
         "showlegend": true,
         "type": "scatter",
         "x": {
          "bdata": "sfIan3poE0A=",
          "dtype": "f8"
         },
         "xaxis": "x",
         "y": {
          "bdata": "AAAAAAAYm0A=",
          "dtype": "f8"
         },
         "yaxis": "y"
        },
        {
         "customdata": [
          [
           "istio"
          ]
         ],
         "hovertemplate": "repo_name=%{customdata[0]}<br>log_num_commits=%{x}<br>prs_issues_actions=%{y}<br>log_num_contrib=%{marker.size}<extra></extra>",
         "legendgroup": "istio",
         "marker": {
          "color": "#636efa",
          "size": {
           "bdata": "CO/oam3vIUA=",
           "dtype": "f8"
          },
          "sizemode": "area",
          "sizeref": 0.022419079162917833,
          "symbol": "circle"
         },
         "mode": "markers",
         "name": "istio",
         "orientation": "v",
         "showlegend": true,
         "type": "scatter",
         "x": {
          "bdata": "AAAAAAAA+H8=",
          "dtype": "f8"
         },
         "xaxis": "x",
         "y": {
          "bdata": "AAAAADB++0A=",
          "dtype": "f8"
         },
         "yaxis": "y"
        },
        {
         "customdata": [
          [
           "keda"
          ]
         ],
         "hovertemplate": "repo_name=%{customdata[0]}<br>log_num_commits=%{x}<br>prs_issues_actions=%{y}<br>log_num_contrib=%{marker.size}<extra></extra>",
         "legendgroup": "keda",
         "marker": {
          "color": "#EF553B",
          "size": {
           "bdata": "jBbyC7ycHUA=",
           "dtype": "f8"
          },
          "sizemode": "area",
          "sizeref": 0.022419079162917833,
          "symbol": "circle"
         },
         "mode": "markers",
         "name": "keda",
         "orientation": "v",
         "showlegend": true,
         "type": "scatter",
         "x": {
          "bdata": "AAAAAAAA+H8=",
          "dtype": "f8"
         },
         "xaxis": "x",
         "y": {
          "bdata": "AAAAAIDPxkA=",
          "dtype": "f8"
         },
         "yaxis": "y"
        },
        {
         "customdata": [
          [
           "keptn"
          ]
         ],
         "hovertemplate": "repo_name=%{customdata[0]}<br>log_num_commits=%{x}<br>prs_issues_actions=%{y}<br>log_num_contrib=%{marker.size}<extra></extra>",
         "legendgroup": "keptn",
         "marker": {
          "color": "#00cc96",
          "size": {
           "bdata": "YFlW+ZdrF0A=",
           "dtype": "f8"
          },
          "sizemode": "area",
          "sizeref": 0.022419079162917833,
          "symbol": "circle"
         },
         "mode": "markers",
         "name": "keptn",
         "orientation": "v",
         "showlegend": true,
         "type": "scatter",
         "x": {
          "bdata": "LIuyvFcVIkA=",
          "dtype": "f8"
         },
         "xaxis": "x",
         "y": {
          "bdata": "AAAAAMA900A=",
          "dtype": "f8"
         },
         "yaxis": "y"
        },
        {
         "customdata": [
          [
           "keycloak"
          ]
         ],
         "hovertemplate": "repo_name=%{customdata[0]}<br>log_num_commits=%{x}<br>prs_issues_actions=%{y}<br>log_num_contrib=%{marker.size}<extra></extra>",
         "legendgroup": "keycloak",
         "marker": {
          "color": "#ab63fa",
          "size": {
           "bdata": "6JpGxuSLIUA=",
           "dtype": "f8"
          },
          "sizemode": "area",
          "sizeref": 0.022419079162917833,
          "symbol": "circle"
         },
         "mode": "markers",
         "name": "keycloak",
         "orientation": "v",
         "showlegend": true,
         "type": "scatter",
         "x": {
          "bdata": "AAAAAAAA+H8=",
          "dtype": "f8"
         },
         "xaxis": "x",
         "y": {
          "bdata": "AAAAAKDO50A=",
          "dtype": "f8"
         },
         "yaxis": "y"
        },
        {
         "customdata": [
          [
           "kruise"
          ]
         ],
         "hovertemplate": "repo_name=%{customdata[0]}<br>log_num_commits=%{x}<br>prs_issues_actions=%{y}<br>log_num_contrib=%{marker.size}<extra></extra>",
         "legendgroup": "kruise",
         "marker": {
          "color": "#FFA15A",
          "size": {
           "bdata": "SbtvF/MBGUA=",
           "dtype": "f8"
          },
          "sizemode": "area",
          "sizeref": 0.022419079162917833,
          "symbol": "circle"
         },
         "mode": "markers",
         "name": "kruise",
         "orientation": "v",
         "showlegend": true,
         "type": "scatter",
         "x": {
          "bdata": "LecbgAoEFEA=",
          "dtype": "f8"
         },
         "xaxis": "x",
         "y": {
          "bdata": "AAAAAAASsUA=",
          "dtype": "f8"
         },
         "yaxis": "y"
        },
        {
         "customdata": [
          [
           "kubeedge"
          ]
         ],
         "hovertemplate": "repo_name=%{customdata[0]}<br>log_num_commits=%{x}<br>prs_issues_actions=%{y}<br>log_num_contrib=%{marker.size}<extra></extra>",
         "legendgroup": "kubeedge",
         "marker": {
          "color": "#19d3f3",
          "size": {
           "bdata": "LwXQ0yCKHEA=",
           "dtype": "f8"
          },
          "sizemode": "area",
          "sizeref": 0.022419079162917833,
          "symbol": "circle"
         },
         "mode": "markers",
         "name": "kubeedge",
         "orientation": "v",
         "showlegend": true,
         "type": "scatter",
         "x": {
          "bdata": "AAAAAAAA+H8=",
          "dtype": "f8"
         },
         "xaxis": "x",
         "y": {
          "bdata": "AAAAAAA8yEA=",
          "dtype": "f8"
         },
         "yaxis": "y"
        },
        {
         "customdata": [
          [
           "kubevela"
          ]
         ],
         "hovertemplate": "repo_name=%{customdata[0]}<br>log_num_commits=%{x}<br>prs_issues_actions=%{y}<br>log_num_contrib=%{marker.size}<extra></extra>",
         "legendgroup": "kubevela",
         "marker": {
          "color": "#FF6692",
          "size": {
           "bdata": "w3iWfp8WGkA=",
           "dtype": "f8"
          },
          "sizemode": "area",
          "sizeref": 0.022419079162917833,
          "symbol": "circle"
         },
         "mode": "markers",
         "name": "kubevela",
         "orientation": "v",
         "showlegend": true,
         "type": "scatter",
         "x": {
          "bdata": "xfMPU1pxDEA=",
          "dtype": "f8"
         },
         "xaxis": "x",
         "y": {
          "bdata": "AAAAAADwyEA=",
          "dtype": "f8"
         },
         "yaxis": "y"
        },
        {
         "customdata": [
          [
           "kubevirt"
          ]
         ],
         "hovertemplate": "repo_name=%{customdata[0]}<br>log_num_commits=%{x}<br>prs_issues_actions=%{y}<br>log_num_contrib=%{marker.size}<extra></extra>",
         "legendgroup": "kubevirt",
         "marker": {
          "color": "#B6E880",
          "size": {
           "bdata": "faJGs4+JHkA=",
           "dtype": "f8"
          },
          "sizemode": "area",
          "sizeref": 0.022419079162917833,
          "symbol": "circle"
         },
         "mode": "markers",
         "name": "kubevirt",
         "orientation": "v",
         "showlegend": true,
         "type": "scatter",
         "x": {
          "bdata": "TbFtQHoWJEA=",
          "dtype": "f8"
         },
         "xaxis": "x",
         "y": {
          "bdata": "AAAAAIAp3kA=",
          "dtype": "f8"
         },
         "yaxis": "y"
        },
        {
         "customdata": [
          [
           "kyverno"
          ]
         ],
         "hovertemplate": "repo_name=%{customdata[0]}<br>log_num_commits=%{x}<br>prs_issues_actions=%{y}<br>log_num_contrib=%{marker.size}<extra></extra>",
         "legendgroup": "kyverno",
         "marker": {
          "color": "#FF97FF",
          "size": {
           "bdata": "ZR34mbBZHUA=",
           "dtype": "f8"
          },
          "sizemode": "area",
          "sizeref": 0.022419079162917833,
          "symbol": "circle"
         },
         "mode": "markers",
         "name": "kyverno",
         "orientation": "v",
         "showlegend": true,
         "type": "scatter",
         "x": {
          "bdata": "AAAAAAAA+H8=",
          "dtype": "f8"
         },
         "xaxis": "x",
         "y": {
          "bdata": "AAAAAMBo2UA=",
          "dtype": "f8"
         },
         "yaxis": "y"
        },
        {
         "customdata": [
          [
           "litmus"
          ]
         ],
         "hovertemplate": "repo_name=%{customdata[0]}<br>log_num_commits=%{x}<br>prs_issues_actions=%{y}<br>log_num_contrib=%{marker.size}<extra></extra>",
         "legendgroup": "litmus",
         "marker": {
          "color": "#FECB52",
          "size": {
           "bdata": "B9nPZNsCGkA=",
           "dtype": "f8"
          },
          "sizemode": "area",
          "sizeref": 0.022419079162917833,
          "symbol": "circle"
         },
         "mode": "markers",
         "name": "litmus",
         "orientation": "v",
         "showlegend": true,
         "type": "scatter",
         "x": {
          "bdata": "AAAAAAAA+H8=",
          "dtype": "f8"
         },
         "xaxis": "x",
         "y": {
          "bdata": "AAAAAIAfw0A=",
          "dtype": "f8"
         },
         "yaxis": "y"
        },
        {
         "customdata": [
          [
           "longhorn"
          ]
         ],
         "hovertemplate": "repo_name=%{customdata[0]}<br>log_num_commits=%{x}<br>prs_issues_actions=%{y}<br>log_num_contrib=%{marker.size}<extra></extra>",
         "legendgroup": "longhorn",
         "marker": {
          "color": "#636efa",
          "size": {
           "bdata": "bu4WnesMHkA=",
           "dtype": "f8"
          },
          "sizemode": "area",
          "sizeref": 0.022419079162917833,
          "symbol": "circle"
         },
         "mode": "markers",
         "name": "longhorn",
         "orientation": "v",
         "showlegend": true,
         "type": "scatter",
         "x": {
          "bdata": "WEiPEOK/FEA=",
          "dtype": "f8"
         },
         "xaxis": "x",
         "y": {
          "bdata": "AAAAAMBB1EA=",
          "dtype": "f8"
         },
         "yaxis": "y"
        },
        {
         "customdata": [
          [
           "spec"
          ]
         ],
         "hovertemplate": "repo_name=%{customdata[0]}<br>log_num_commits=%{x}<br>prs_issues_actions=%{y}<br>log_num_contrib=%{marker.size}<extra></extra>",
         "legendgroup": "spec",
         "marker": {
          "color": "#EF553B",
          "size": {
           "bdata": "dfonr8nKF0A=",
           "dtype": "f8"
          },
          "sizemode": "area",
          "sizeref": 0.022419079162917833,
          "symbol": "circle"
         },
         "mode": "markers",
         "name": "spec",
         "orientation": "v",
         "showlegend": true,
         "type": "scatter",
         "x": {
          "bdata": "8/66WYIHEEA=",
          "dtype": "f8"
         },
         "xaxis": "x",
         "y": {
          "bdata": "AAAAAAAEpUA=",
          "dtype": "f8"
         },
         "yaxis": "y"
        },
        {
         "customdata": [
          [
           "volcano"
          ]
         ],
         "hovertemplate": "repo_name=%{customdata[0]}<br>log_num_commits=%{x}<br>prs_issues_actions=%{y}<br>log_num_contrib=%{marker.size}<extra></extra>",
         "legendgroup": "volcano",
         "marker": {
          "color": "#00cc96",
          "size": {
           "bdata": "0WfESBkHG0A=",
           "dtype": "f8"
          },
          "sizemode": "area",
          "sizeref": 0.022419079162917833,
          "symbol": "circle"
         },
         "mode": "markers",
         "name": "volcano",
         "orientation": "v",
         "showlegend": true,
         "type": "scatter",
         "x": {
          "bdata": "AAAAAAAA+H8=",
          "dtype": "f8"
         },
         "xaxis": "x",
         "y": {
          "bdata": "AAAAAIAFwkA=",
          "dtype": "f8"
         },
         "yaxis": "y"
        }
       ],
       "layout": {
        "legend": {
         "itemsizing": "constant",
         "title": {
          "text": "repo_name"
         },
         "tracegroupgap": 0
        },
        "template": {
         "data": {
          "bar": [
           {
            "error_x": {
             "color": "#2a3f5f"
            },
            "error_y": {
             "color": "#2a3f5f"
            },
            "marker": {
             "line": {
              "color": "#E5ECF6",
              "width": 0.5
             },
             "pattern": {
              "fillmode": "overlay",
              "size": 10,
              "solidity": 0.2
             }
            },
            "type": "bar"
           }
          ],
          "barpolar": [
           {
            "marker": {
             "line": {
              "color": "#E5ECF6",
              "width": 0.5
             },
             "pattern": {
              "fillmode": "overlay",
              "size": 10,
              "solidity": 0.2
             }
            },
            "type": "barpolar"
           }
          ],
          "carpet": [
           {
            "aaxis": {
             "endlinecolor": "#2a3f5f",
             "gridcolor": "white",
             "linecolor": "white",
             "minorgridcolor": "white",
             "startlinecolor": "#2a3f5f"
            },
            "baxis": {
             "endlinecolor": "#2a3f5f",
             "gridcolor": "white",
             "linecolor": "white",
             "minorgridcolor": "white",
             "startlinecolor": "#2a3f5f"
            },
            "type": "carpet"
           }
          ],
          "choropleth": [
           {
            "colorbar": {
             "outlinewidth": 0,
             "ticks": ""
            },
            "type": "choropleth"
           }
          ],
          "contour": [
           {
            "colorbar": {
             "outlinewidth": 0,
             "ticks": ""
            },
            "colorscale": [
             [
              0,
              "#0d0887"
             ],
             [
              0.1111111111111111,
              "#46039f"
             ],
             [
              0.2222222222222222,
              "#7201a8"
             ],
             [
              0.3333333333333333,
              "#9c179e"
             ],
             [
              0.4444444444444444,
              "#bd3786"
             ],
             [
              0.5555555555555556,
              "#d8576b"
             ],
             [
              0.6666666666666666,
              "#ed7953"
             ],
             [
              0.7777777777777778,
              "#fb9f3a"
             ],
             [
              0.8888888888888888,
              "#fdca26"
             ],
             [
              1,
              "#f0f921"
             ]
            ],
            "type": "contour"
           }
          ],
          "contourcarpet": [
           {
            "colorbar": {
             "outlinewidth": 0,
             "ticks": ""
            },
            "type": "contourcarpet"
           }
          ],
          "heatmap": [
           {
            "colorbar": {
             "outlinewidth": 0,
             "ticks": ""
            },
            "colorscale": [
             [
              0,
              "#0d0887"
             ],
             [
              0.1111111111111111,
              "#46039f"
             ],
             [
              0.2222222222222222,
              "#7201a8"
             ],
             [
              0.3333333333333333,
              "#9c179e"
             ],
             [
              0.4444444444444444,
              "#bd3786"
             ],
             [
              0.5555555555555556,
              "#d8576b"
             ],
             [
              0.6666666666666666,
              "#ed7953"
             ],
             [
              0.7777777777777778,
              "#fb9f3a"
             ],
             [
              0.8888888888888888,
              "#fdca26"
             ],
             [
              1,
              "#f0f921"
             ]
            ],
            "type": "heatmap"
           }
          ],
          "histogram": [
           {
            "marker": {
             "pattern": {
              "fillmode": "overlay",
              "size": 10,
              "solidity": 0.2
             }
            },
            "type": "histogram"
           }
          ],
          "histogram2d": [
           {
            "colorbar": {
             "outlinewidth": 0,
             "ticks": ""
            },
            "colorscale": [
             [
              0,
              "#0d0887"
             ],
             [
              0.1111111111111111,
              "#46039f"
             ],
             [
              0.2222222222222222,
              "#7201a8"
             ],
             [
              0.3333333333333333,
              "#9c179e"
             ],
             [
              0.4444444444444444,
              "#bd3786"
             ],
             [
              0.5555555555555556,
              "#d8576b"
             ],
             [
              0.6666666666666666,
              "#ed7953"
             ],
             [
              0.7777777777777778,
              "#fb9f3a"
             ],
             [
              0.8888888888888888,
              "#fdca26"
             ],
             [
              1,
              "#f0f921"
             ]
            ],
            "type": "histogram2d"
           }
          ],
          "histogram2dcontour": [
           {
            "colorbar": {
             "outlinewidth": 0,
             "ticks": ""
            },
            "colorscale": [
             [
              0,
              "#0d0887"
             ],
             [
              0.1111111111111111,
              "#46039f"
             ],
             [
              0.2222222222222222,
              "#7201a8"
             ],
             [
              0.3333333333333333,
              "#9c179e"
             ],
             [
              0.4444444444444444,
              "#bd3786"
             ],
             [
              0.5555555555555556,
              "#d8576b"
             ],
             [
              0.6666666666666666,
              "#ed7953"
             ],
             [
              0.7777777777777778,
              "#fb9f3a"
             ],
             [
              0.8888888888888888,
              "#fdca26"
             ],
             [
              1,
              "#f0f921"
             ]
            ],
            "type": "histogram2dcontour"
           }
          ],
          "mesh3d": [
           {
            "colorbar": {
             "outlinewidth": 0,
             "ticks": ""
            },
            "type": "mesh3d"
           }
          ],
          "parcoords": [
           {
            "line": {
             "colorbar": {
              "outlinewidth": 0,
              "ticks": ""
             }
            },
            "type": "parcoords"
           }
          ],
          "pie": [
           {
            "automargin": true,
            "type": "pie"
           }
          ],
          "scatter": [
           {
            "fillpattern": {
             "fillmode": "overlay",
             "size": 10,
             "solidity": 0.2
            },
            "type": "scatter"
           }
          ],
          "scatter3d": [
           {
            "line": {
             "colorbar": {
              "outlinewidth": 0,
              "ticks": ""
             }
            },
            "marker": {
             "colorbar": {
              "outlinewidth": 0,
              "ticks": ""
             }
            },
            "type": "scatter3d"
           }
          ],
          "scattercarpet": [
           {
            "marker": {
             "colorbar": {
              "outlinewidth": 0,
              "ticks": ""
             }
            },
            "type": "scattercarpet"
           }
          ],
          "scattergeo": [
           {
            "marker": {
             "colorbar": {
              "outlinewidth": 0,
              "ticks": ""
             }
            },
            "type": "scattergeo"
           }
          ],
          "scattergl": [
           {
            "marker": {
             "colorbar": {
              "outlinewidth": 0,
              "ticks": ""
             }
            },
            "type": "scattergl"
           }
          ],
          "scattermap": [
           {
            "marker": {
             "colorbar": {
              "outlinewidth": 0,
              "ticks": ""
             }
            },
            "type": "scattermap"
           }
          ],
          "scattermapbox": [
           {
            "marker": {
             "colorbar": {
              "outlinewidth": 0,
              "ticks": ""
             }
            },
            "type": "scattermapbox"
           }
          ],
          "scatterpolar": [
           {
            "marker": {
             "colorbar": {
              "outlinewidth": 0,
              "ticks": ""
             }
            },
            "type": "scatterpolar"
           }
          ],
          "scatterpolargl": [
           {
            "marker": {
             "colorbar": {
              "outlinewidth": 0,
              "ticks": ""
             }
            },
            "type": "scatterpolargl"
           }
          ],
          "scatterternary": [
           {
            "marker": {
             "colorbar": {
              "outlinewidth": 0,
              "ticks": ""
             }
            },
            "type": "scatterternary"
           }
          ],
          "surface": [
           {
            "colorbar": {
             "outlinewidth": 0,
             "ticks": ""
            },
            "colorscale": [
             [
              0,
              "#0d0887"
             ],
             [
              0.1111111111111111,
              "#46039f"
             ],
             [
              0.2222222222222222,
              "#7201a8"
             ],
             [
              0.3333333333333333,
              "#9c179e"
             ],
             [
              0.4444444444444444,
              "#bd3786"
             ],
             [
              0.5555555555555556,
              "#d8576b"
             ],
             [
              0.6666666666666666,
              "#ed7953"
             ],
             [
              0.7777777777777778,
              "#fb9f3a"
             ],
             [
              0.8888888888888888,
              "#fdca26"
             ],
             [
              1,
              "#f0f921"
             ]
            ],
            "type": "surface"
           }
          ],
          "table": [
           {
            "cells": {
             "fill": {
              "color": "#EBF0F8"
             },
             "line": {
              "color": "white"
             }
            },
            "header": {
             "fill": {
              "color": "#C8D4E3"
             },
             "line": {
              "color": "white"
             }
            },
            "type": "table"
           }
          ]
         },
         "layout": {
          "annotationdefaults": {
           "arrowcolor": "#2a3f5f",
           "arrowhead": 0,
           "arrowwidth": 1
          },
          "autotypenumbers": "strict",
          "coloraxis": {
           "colorbar": {
            "outlinewidth": 0,
            "ticks": ""
           }
          },
          "colorscale": {
           "diverging": [
            [
             0,
             "#8e0152"
            ],
            [
             0.1,
             "#c51b7d"
            ],
            [
             0.2,
             "#de77ae"
            ],
            [
             0.3,
             "#f1b6da"
            ],
            [
             0.4,
             "#fde0ef"
            ],
            [
             0.5,
             "#f7f7f7"
            ],
            [
             0.6,
             "#e6f5d0"
            ],
            [
             0.7,
             "#b8e186"
            ],
            [
             0.8,
             "#7fbc41"
            ],
            [
             0.9,
             "#4d9221"
            ],
            [
             1,
             "#276419"
            ]
           ],
           "sequential": [
            [
             0,
             "#0d0887"
            ],
            [
             0.1111111111111111,
             "#46039f"
            ],
            [
             0.2222222222222222,
             "#7201a8"
            ],
            [
             0.3333333333333333,
             "#9c179e"
            ],
            [
             0.4444444444444444,
             "#bd3786"
            ],
            [
             0.5555555555555556,
             "#d8576b"
            ],
            [
             0.6666666666666666,
             "#ed7953"
            ],
            [
             0.7777777777777778,
             "#fb9f3a"
            ],
            [
             0.8888888888888888,
             "#fdca26"
            ],
            [
             1,
             "#f0f921"
            ]
           ],
           "sequentialminus": [
            [
             0,
             "#0d0887"
            ],
            [
             0.1111111111111111,
             "#46039f"
            ],
            [
             0.2222222222222222,
             "#7201a8"
            ],
            [
             0.3333333333333333,
             "#9c179e"
            ],
            [
             0.4444444444444444,
             "#bd3786"
            ],
            [
             0.5555555555555556,
             "#d8576b"
            ],
            [
             0.6666666666666666,
             "#ed7953"
            ],
            [
             0.7777777777777778,
             "#fb9f3a"
            ],
            [
             0.8888888888888888,
             "#fdca26"
            ],
            [
             1,
             "#f0f921"
            ]
           ]
          },
          "colorway": [
           "#636efa",
           "#EF553B",
           "#00cc96",
           "#ab63fa",
           "#FFA15A",
           "#19d3f3",
           "#FF6692",
           "#B6E880",
           "#FF97FF",
           "#FECB52"
          ],
          "font": {
           "color": "#2a3f5f"
          },
          "geo": {
           "bgcolor": "white",
           "lakecolor": "white",
           "landcolor": "#E5ECF6",
           "showlakes": true,
           "showland": true,
           "subunitcolor": "white"
          },
          "hoverlabel": {
           "align": "left"
          },
          "hovermode": "closest",
          "mapbox": {
           "style": "light"
          },
          "paper_bgcolor": "white",
          "plot_bgcolor": "#E5ECF6",
          "polar": {
           "angularaxis": {
            "gridcolor": "white",
            "linecolor": "white",
            "ticks": ""
           },
           "bgcolor": "#E5ECF6",
           "radialaxis": {
            "gridcolor": "white",
            "linecolor": "white",
            "ticks": ""
           }
          },
          "scene": {
           "xaxis": {
            "backgroundcolor": "#E5ECF6",
            "gridcolor": "white",
            "gridwidth": 2,
            "linecolor": "white",
            "showbackground": true,
            "ticks": "",
            "zerolinecolor": "white"
           },
           "yaxis": {
            "backgroundcolor": "#E5ECF6",
            "gridcolor": "white",
            "gridwidth": 2,
            "linecolor": "white",
            "showbackground": true,
            "ticks": "",
            "zerolinecolor": "white"
           },
           "zaxis": {
            "backgroundcolor": "#E5ECF6",
            "gridcolor": "white",
            "gridwidth": 2,
            "linecolor": "white",
            "showbackground": true,
            "ticks": "",
            "zerolinecolor": "white"
           }
          },
          "shapedefaults": {
           "line": {
            "color": "#2a3f5f"
           }
          },
          "ternary": {
           "aaxis": {
            "gridcolor": "white",
            "linecolor": "white",
            "ticks": ""
           },
           "baxis": {
            "gridcolor": "white",
            "linecolor": "white",
            "ticks": ""
           },
           "bgcolor": "#E5ECF6",
           "caxis": {
            "gridcolor": "white",
            "linecolor": "white",
            "ticks": ""
           }
          },
          "title": {
           "x": 0.05
          },
          "xaxis": {
           "automargin": true,
           "gridcolor": "white",
           "linecolor": "white",
           "ticks": "",
           "title": {
            "standoff": 15
           },
           "zerolinecolor": "white",
           "zerolinewidth": 2
          },
          "yaxis": {
           "automargin": true,
           "gridcolor": "white",
           "linecolor": "white",
           "ticks": "",
           "title": {
            "standoff": 15
           },
           "zerolinecolor": "white",
           "zerolinewidth": 2
          }
         }
        },
        "title": {
         "text": "Project Velocity"
        },
        "xaxis": {
         "anchor": "y",
         "domain": [
          0,
          1
         ],
         "title": {
          "text": "log_num_commits"
         }
        },
        "yaxis": {
         "anchor": "x",
         "domain": [
          0,
          1
         ],
         "title": {
          "text": "prs_issues_actions"
         }
        }
       }
      }
     },
     "metadata": {},
     "output_type": "display_data"
    }
   ],
   "source": [
    "fig.show()"
   ]
  },
  {
   "cell_type": "markdown",
   "id": "b503c9dd-68c4-426c-9cd3-2490e44f250c",
   "metadata": {},
   "source": [
    "### 3: PR and Issues actions with weights \n",
    "PR: open, closed, merged <br>\n",
    "Issues: open , closed\n",
    "\n",
    "Note: these weights to be workshoped if this stategy is choosen, the weights in relation to each other is most important "
   ]
  },
  {
   "cell_type": "code",
   "execution_count": 26,
   "id": "780a4365-d057-410e-a4d9-df315bf340d5",
   "metadata": {},
   "outputs": [],
   "source": [
    "i_o_weight = .3\n",
    "i_c_weight = .4\n",
    "pr_o_weight = .5\n",
    "pr_m_weight = .7\n",
    "pr_c_weight = .2"
   ]
  },
  {
   "cell_type": "code",
   "execution_count": 27,
   "id": "90c17e1e-f3bc-4a0f-bebc-381f4ce0cbf7",
   "metadata": {},
   "outputs": [],
   "source": [
    "df_consolidated[\"prs_issues_actions_weighted\"] = (df_consolidated[\"issue_opened\"]*i_o_weight + \n",
    "df_consolidated[\"issue_closed\"]*i_c_weight + df_consolidated[\"pull_request_open\"]*pr_o_weight\n",
    "+ df_consolidated[\"pull_request_merged\"]*pr_m_weight + df_consolidated[\"pull_request_closed\"]*pr_c_weight)\n",
    "df_consolidated[\"log_prs_issues_actions_weighted\"] = df_consolidated[\"prs_issues_actions_weighted\"].apply(math.log)"
   ]
  },
  {
   "cell_type": "markdown",
   "id": "cdc4b553-a45f-487c-b600-16711ecc7cf5",
   "metadata": {},
   "source": [
    "Visualization of log values for y axis "
   ]
  },
  {
   "cell_type": "code",
   "execution_count": 28,
   "id": "02a85dda-06c9-4083-b32f-c2a529282336",
   "metadata": {
    "tags": []
   },
   "outputs": [],
   "source": [
    "fig = px.scatter(df_consolidated, \n",
    "                 x=\"log_num_commits\", \n",
    "                 y=\"log_prs_issues_actions_weighted\", \n",
    "                 color=\"repo_name\",\n",
    "                 size='log_num_contrib', \n",
    "                 hover_data=['repo_name'],\n",
    "                 title=\"Project Velocity\")"
   ]
  },
  {
   "cell_type": "code",
   "execution_count": 29,
   "id": "1ca248b6-db08-4474-aa44-542bd3248de9",
   "metadata": {
    "tags": []
   },
   "outputs": [
    {
     "data": {
      "application/vnd.plotly.v1+json": {
       "config": {
        "plotlyServerURL": "https://plot.ly"
       },
       "data": [
        {
         "customdata": [
          [
           "backstage"
          ]
         ],
         "hovertemplate": "repo_name=%{customdata[0]}<br>log_num_commits=%{x}<br>log_prs_issues_actions_weighted=%{y}<br>log_num_contrib=%{marker.size}<extra></extra>",
         "legendgroup": "backstage",
         "marker": {
          "color": "#636efa",
          "size": {
           "bdata": "ZBztrTCgIEA=",
           "dtype": "f8"
          },
          "sizemode": "area",
          "sizeref": 0.022419079162917833,
          "symbol": "circle"
         },
         "mode": "markers",
         "name": "backstage",
         "orientation": "v",
         "showlegend": true,
         "type": "scatter",
         "x": {
          "bdata": "AAAAAAAA+H8=",
          "dtype": "f8"
         },
         "xaxis": "x",
         "y": {
          "bdata": "U1FxQ/iXJEA=",
          "dtype": "f8"
         },
         "yaxis": "y"
        },
        {
         "customdata": [
          [
           "chaos-mesh"
          ]
         ],
         "hovertemplate": "repo_name=%{customdata[0]}<br>log_num_commits=%{x}<br>log_prs_issues_actions_weighted=%{y}<br>log_num_contrib=%{marker.size}<extra></extra>",
         "legendgroup": "chaos-mesh",
         "marker": {
          "color": "#EF553B",
          "size": {
           "bdata": "PbJC6JCtGkA=",
           "dtype": "f8"
          },
          "sizemode": "area",
          "sizeref": 0.022419079162917833,
          "symbol": "circle"
         },
         "mode": "markers",
         "name": "chaos-mesh",
         "orientation": "v",
         "showlegend": true,
         "type": "scatter",
         "x": {
          "bdata": "1g2IaPlODUA=",
          "dtype": "f8"
         },
         "xaxis": "x",
         "y": {
          "bdata": "oPJbtBeqIEA=",
          "dtype": "f8"
         },
         "yaxis": "y"
        },
        {
         "customdata": [
          [
           "cilium"
          ]
         ],
         "hovertemplate": "repo_name=%{customdata[0]}<br>log_num_commits=%{x}<br>log_prs_issues_actions_weighted=%{y}<br>log_num_contrib=%{marker.size}<extra></extra>",
         "legendgroup": "cilium",
         "marker": {
          "color": "#00cc96",
          "size": {
           "bdata": "TJa/zI6uIEA=",
           "dtype": "f8"
          },
          "sizemode": "area",
          "sizeref": 0.022419079162917833,
          "symbol": "circle"
         },
         "mode": "markers",
         "name": "cilium",
         "orientation": "v",
         "showlegend": true,
         "type": "scatter",
         "x": {
          "bdata": "bcv4j4sSJUA=",
          "dtype": "f8"
         },
         "xaxis": "x",
         "y": {
          "bdata": "LEeGY04fJEA=",
          "dtype": "f8"
         },
         "yaxis": "y"
        },
        {
         "customdata": [
          [
           "cloud-custodian"
          ]
         ],
         "hovertemplate": "repo_name=%{customdata[0]}<br>log_num_commits=%{x}<br>log_prs_issues_actions_weighted=%{y}<br>log_num_contrib=%{marker.size}<extra></extra>",
         "legendgroup": "cloud-custodian",
         "marker": {
          "color": "#ab63fa",
          "size": {
           "bdata": "SLbE4keOHUA=",
           "dtype": "f8"
          },
          "sizemode": "area",
          "sizeref": 0.022419079162917833,
          "symbol": "circle"
         },
         "mode": "markers",
         "name": "cloud-custodian",
         "orientation": "v",
         "showlegend": true,
         "type": "scatter",
         "x": {
          "bdata": "i42lJa0DE0A=",
          "dtype": "f8"
         },
         "xaxis": "x",
         "y": {
          "bdata": "SBBz5vgaIkA=",
          "dtype": "f8"
         },
         "yaxis": "y"
        },
        {
         "customdata": [
          [
           "community"
          ]
         ],
         "hovertemplate": "repo_name=%{customdata[0]}<br>log_num_commits=%{x}<br>log_prs_issues_actions_weighted=%{y}<br>log_num_contrib=%{marker.size}<extra></extra>",
         "legendgroup": "community",
         "marker": {
          "color": "#FFA15A",
          "size": {
           "bdata": "kYgJqu+BHEA=",
           "dtype": "f8"
          },
          "sizemode": "area",
          "sizeref": 0.022419079162917833,
          "symbol": "circle"
         },
         "mode": "markers",
         "name": "community",
         "orientation": "v",
         "showlegend": true,
         "type": "scatter",
         "x": {
          "bdata": "Oiaw2KyNFkA=",
          "dtype": "f8"
         },
         "xaxis": "x",
         "y": {
          "bdata": "+1AiuzqpIEA=",
          "dtype": "f8"
         },
         "yaxis": "y"
        },
        {
         "customdata": [
          [
           "cortex"
          ]
         ],
         "hovertemplate": "repo_name=%{customdata[0]}<br>log_num_commits=%{x}<br>log_prs_issues_actions_weighted=%{y}<br>log_num_contrib=%{marker.size}<extra></extra>",
         "legendgroup": "cortex",
         "marker": {
          "color": "#19d3f3",
          "size": {
           "bdata": "nu8sqRT1GkA=",
           "dtype": "f8"
          },
          "sizemode": "area",
          "sizeref": 0.022419079162917833,
          "symbol": "circle"
         },
         "mode": "markers",
         "name": "cortex",
         "orientation": "v",
         "showlegend": true,
         "type": "scatter",
         "x": {
          "bdata": "P9htH+VQIUA=",
          "dtype": "f8"
         },
         "xaxis": "x",
         "y": {
          "bdata": "b7RRQommIUA=",
          "dtype": "f8"
         },
         "yaxis": "y"
        },
        {
         "customdata": [
          [
           "dapr"
          ]
         ],
         "hovertemplate": "repo_name=%{customdata[0]}<br>log_num_commits=%{x}<br>log_prs_issues_actions_weighted=%{y}<br>log_num_contrib=%{marker.size}<extra></extra>",
         "legendgroup": "dapr",
         "marker": {
          "color": "#FF6692",
          "size": {
           "bdata": "LhsbIKtfHUA=",
           "dtype": "f8"
          },
          "sizemode": "area",
          "sizeref": 0.022419079162917833,
          "symbol": "circle"
         },
         "mode": "markers",
         "name": "dapr",
         "orientation": "v",
         "showlegend": true,
         "type": "scatter",
         "x": {
          "bdata": "dSmUk5KyEEA=",
          "dtype": "f8"
         },
         "xaxis": "x",
         "y": {
          "bdata": "vm1O6gD9IUA=",
          "dtype": "f8"
         },
         "yaxis": "y"
        },
        {
         "customdata": [
          [
           "falco"
          ]
         ],
         "hovertemplate": "repo_name=%{customdata[0]}<br>log_num_commits=%{x}<br>log_prs_issues_actions_weighted=%{y}<br>log_num_contrib=%{marker.size}<extra></extra>",
         "legendgroup": "falco",
         "marker": {
          "color": "#B6E880",
          "size": {
           "bdata": "fSZeu9kLG0A=",
           "dtype": "f8"
          },
          "sizemode": "area",
          "sizeref": 0.022419079162917833,
          "symbol": "circle"
         },
         "mode": "markers",
         "name": "falco",
         "orientation": "v",
         "showlegend": true,
         "type": "scatter",
         "x": {
          "bdata": "OMV/e566F0A=",
          "dtype": "f8"
         },
         "xaxis": "x",
         "y": {
          "bdata": "2Qsi1A9WIEA=",
          "dtype": "f8"
         },
         "yaxis": "y"
        },
        {
         "customdata": [
          [
           "grpc"
          ]
         ],
         "hovertemplate": "repo_name=%{customdata[0]}<br>log_num_commits=%{x}<br>log_prs_issues_actions_weighted=%{y}<br>log_num_contrib=%{marker.size}<extra></extra>",
         "legendgroup": "grpc",
         "marker": {
          "color": "#FF97FF",
          "size": {
           "bdata": "mfiNuUWZIUA=",
           "dtype": "f8"
          },
          "sizemode": "area",
          "sizeref": 0.022419079162917833,
          "symbol": "circle"
         },
         "mode": "markers",
         "name": "grpc",
         "orientation": "v",
         "showlegend": true,
         "type": "scatter",
         "x": {
          "bdata": "m9YL+aY1C0A=",
          "dtype": "f8"
         },
         "xaxis": "x",
         "y": {
          "bdata": "vPeVVUvHI0A=",
          "dtype": "f8"
         },
         "yaxis": "y"
        },
        {
         "customdata": [
          [
           "in-toto"
          ]
         ],
         "hovertemplate": "repo_name=%{customdata[0]}<br>log_num_commits=%{x}<br>log_prs_issues_actions_weighted=%{y}<br>log_num_contrib=%{marker.size}<extra></extra>",
         "legendgroup": "in-toto",
         "marker": {
          "color": "#FECB52",
          "size": {
           "bdata": "vceH3/h/EkA=",
           "dtype": "f8"
          },
          "sizemode": "area",
          "sizeref": 0.022419079162917833,
          "symbol": "circle"
         },
         "mode": "markers",
         "name": "in-toto",
         "orientation": "v",
         "showlegend": true,
         "type": "scatter",
         "x": {
          "bdata": "sfIan3poE0A=",
          "dtype": "f8"
         },
         "xaxis": "x",
         "y": {
          "bdata": "aLX2u+8iG0A=",
          "dtype": "f8"
         },
         "yaxis": "y"
        },
        {
         "customdata": [
          [
           "istio"
          ]
         ],
         "hovertemplate": "repo_name=%{customdata[0]}<br>log_num_commits=%{x}<br>log_prs_issues_actions_weighted=%{y}<br>log_num_contrib=%{marker.size}<extra></extra>",
         "legendgroup": "istio",
         "marker": {
          "color": "#636efa",
          "size": {
           "bdata": "CO/oam3vIUA=",
           "dtype": "f8"
          },
          "sizemode": "area",
          "sizeref": 0.022419079162917833,
          "symbol": "circle"
         },
         "mode": "markers",
         "name": "istio",
         "orientation": "v",
         "showlegend": true,
         "type": "scatter",
         "x": {
          "bdata": "AAAAAAAA+H8=",
          "dtype": "f8"
         },
         "xaxis": "x",
         "y": {
          "bdata": "q6QCqKvFJUA=",
          "dtype": "f8"
         },
         "yaxis": "y"
        },
        {
         "customdata": [
          [
           "keda"
          ]
         ],
         "hovertemplate": "repo_name=%{customdata[0]}<br>log_num_commits=%{x}<br>log_prs_issues_actions_weighted=%{y}<br>log_num_contrib=%{marker.size}<extra></extra>",
         "legendgroup": "keda",
         "marker": {
          "color": "#EF553B",
          "size": {
           "bdata": "jBbyC7ycHUA=",
           "dtype": "f8"
          },
          "sizemode": "area",
          "sizeref": 0.022419079162917833,
          "symbol": "circle"
         },
         "mode": "markers",
         "name": "keda",
         "orientation": "v",
         "showlegend": true,
         "type": "scatter",
         "x": {
          "bdata": "AAAAAAAA+H8=",
          "dtype": "f8"
         },
         "xaxis": "x",
         "y": {
          "bdata": "9zAPKR4jIUA=",
          "dtype": "f8"
         },
         "yaxis": "y"
        },
        {
         "customdata": [
          [
           "keptn"
          ]
         ],
         "hovertemplate": "repo_name=%{customdata[0]}<br>log_num_commits=%{x}<br>log_prs_issues_actions_weighted=%{y}<br>log_num_contrib=%{marker.size}<extra></extra>",
         "legendgroup": "keptn",
         "marker": {
          "color": "#00cc96",
          "size": {
           "bdata": "YFlW+ZdrF0A=",
           "dtype": "f8"
          },
          "sizemode": "area",
          "sizeref": 0.022419079162917833,
          "symbol": "circle"
         },
         "mode": "markers",
         "name": "keptn",
         "orientation": "v",
         "showlegend": true,
         "type": "scatter",
         "x": {
          "bdata": "LIuyvFcVIkA=",
          "dtype": "f8"
         },
         "xaxis": "x",
         "y": {
          "bdata": "SUdkBBhHIkA=",
          "dtype": "f8"
         },
         "yaxis": "y"
        },
        {
         "customdata": [
          [
           "keycloak"
          ]
         ],
         "hovertemplate": "repo_name=%{customdata[0]}<br>log_num_commits=%{x}<br>log_prs_issues_actions_weighted=%{y}<br>log_num_contrib=%{marker.size}<extra></extra>",
         "legendgroup": "keycloak",
         "marker": {
          "color": "#ab63fa",
          "size": {
           "bdata": "6JpGxuSLIUA=",
           "dtype": "f8"
          },
          "sizemode": "area",
          "sizeref": 0.022419079162917833,
          "symbol": "circle"
         },
         "mode": "markers",
         "name": "keycloak",
         "orientation": "v",
         "showlegend": true,
         "type": "scatter",
         "x": {
          "bdata": "AAAAAAAA+H8=",
          "dtype": "f8"
         },
         "xaxis": "x",
         "y": {
          "bdata": "DC+DKjzzI0A=",
          "dtype": "f8"
         },
         "yaxis": "y"
        },
        {
         "customdata": [
          [
           "kruise"
          ]
         ],
         "hovertemplate": "repo_name=%{customdata[0]}<br>log_num_commits=%{x}<br>log_prs_issues_actions_weighted=%{y}<br>log_num_contrib=%{marker.size}<extra></extra>",
         "legendgroup": "kruise",
         "marker": {
          "color": "#FFA15A",
          "size": {
           "bdata": "SbtvF/MBGUA=",
           "dtype": "f8"
          },
          "sizemode": "area",
          "sizeref": 0.022419079162917833,
          "symbol": "circle"
         },
         "mode": "markers",
         "name": "kruise",
         "orientation": "v",
         "showlegend": true,
         "type": "scatter",
         "x": {
          "bdata": "LecbgAoEFEA=",
          "dtype": "f8"
         },
         "xaxis": "x",
         "y": {
          "bdata": "jvkSmpd5HkA=",
          "dtype": "f8"
         },
         "yaxis": "y"
        },
        {
         "customdata": [
          [
           "kubeedge"
          ]
         ],
         "hovertemplate": "repo_name=%{customdata[0]}<br>log_num_commits=%{x}<br>log_prs_issues_actions_weighted=%{y}<br>log_num_contrib=%{marker.size}<extra></extra>",
         "legendgroup": "kubeedge",
         "marker": {
          "color": "#19d3f3",
          "size": {
           "bdata": "LwXQ0yCKHEA=",
           "dtype": "f8"
          },
          "sizemode": "area",
          "sizeref": 0.022419079162917833,
          "symbol": "circle"
         },
         "mode": "markers",
         "name": "kubeedge",
         "orientation": "v",
         "showlegend": true,
         "type": "scatter",
         "x": {
          "bdata": "AAAAAAAA+H8=",
          "dtype": "f8"
         },
         "xaxis": "x",
         "y": {
          "bdata": "FFI6d0xQIUA=",
          "dtype": "f8"
         },
         "yaxis": "y"
        },
        {
         "customdata": [
          [
           "kubevela"
          ]
         ],
         "hovertemplate": "repo_name=%{customdata[0]}<br>log_num_commits=%{x}<br>log_prs_issues_actions_weighted=%{y}<br>log_num_contrib=%{marker.size}<extra></extra>",
         "legendgroup": "kubevela",
         "marker": {
          "color": "#FF6692",
          "size": {
           "bdata": "w3iWfp8WGkA=",
           "dtype": "f8"
          },
          "sizemode": "area",
          "sizeref": 0.022419079162917833,
          "symbol": "circle"
         },
         "mode": "markers",
         "name": "kubevela",
         "orientation": "v",
         "showlegend": true,
         "type": "scatter",
         "x": {
          "bdata": "xfMPU1pxDEA=",
          "dtype": "f8"
         },
         "xaxis": "x",
         "y": {
          "bdata": "kZD8RquEIUA=",
          "dtype": "f8"
         },
         "yaxis": "y"
        },
        {
         "customdata": [
          [
           "kubevirt"
          ]
         ],
         "hovertemplate": "repo_name=%{customdata[0]}<br>log_num_commits=%{x}<br>log_prs_issues_actions_weighted=%{y}<br>log_num_contrib=%{marker.size}<extra></extra>",
         "legendgroup": "kubevirt",
         "marker": {
          "color": "#B6E880",
          "size": {
           "bdata": "faJGs4+JHkA=",
           "dtype": "f8"
          },
          "sizemode": "area",
          "sizeref": 0.022419079162917833,
          "symbol": "circle"
         },
         "mode": "markers",
         "name": "kubevirt",
         "orientation": "v",
         "showlegend": true,
         "type": "scatter",
         "x": {
          "bdata": "TbFtQHoWJEA=",
          "dtype": "f8"
         },
         "xaxis": "x",
         "y": {
          "bdata": "RAKxDJ9GI0A=",
          "dtype": "f8"
         },
         "yaxis": "y"
        },
        {
         "customdata": [
          [
           "kyverno"
          ]
         ],
         "hovertemplate": "repo_name=%{customdata[0]}<br>log_num_commits=%{x}<br>log_prs_issues_actions_weighted=%{y}<br>log_num_contrib=%{marker.size}<extra></extra>",
         "legendgroup": "kyverno",
         "marker": {
          "color": "#FF97FF",
          "size": {
           "bdata": "ZR34mbBZHUA=",
           "dtype": "f8"
          },
          "sizemode": "area",
          "sizeref": 0.022419079162917833,
          "symbol": "circle"
         },
         "mode": "markers",
         "name": "kyverno",
         "orientation": "v",
         "showlegend": true,
         "type": "scatter",
         "x": {
          "bdata": "AAAAAAAA+H8=",
          "dtype": "f8"
         },
         "xaxis": "x",
         "y": {
          "bdata": "RMvCP1/tIkA=",
          "dtype": "f8"
         },
         "yaxis": "y"
        },
        {
         "customdata": [
          [
           "litmus"
          ]
         ],
         "hovertemplate": "repo_name=%{customdata[0]}<br>log_num_commits=%{x}<br>log_prs_issues_actions_weighted=%{y}<br>log_num_contrib=%{marker.size}<extra></extra>",
         "legendgroup": "litmus",
         "marker": {
          "color": "#FECB52",
          "size": {
           "bdata": "B9nPZNsCGkA=",
           "dtype": "f8"
          },
          "sizemode": "area",
          "sizeref": 0.022419079162917833,
          "symbol": "circle"
         },
         "mode": "markers",
         "name": "litmus",
         "orientation": "v",
         "showlegend": true,
         "type": "scatter",
         "x": {
          "bdata": "AAAAAAAA+H8=",
          "dtype": "f8"
         },
         "xaxis": "x",
         "y": {
          "bdata": "lL8/p3nzIEA=",
          "dtype": "f8"
         },
         "yaxis": "y"
        },
        {
         "customdata": [
          [
           "longhorn"
          ]
         ],
         "hovertemplate": "repo_name=%{customdata[0]}<br>log_num_commits=%{x}<br>log_prs_issues_actions_weighted=%{y}<br>log_num_contrib=%{marker.size}<extra></extra>",
         "legendgroup": "longhorn",
         "marker": {
          "color": "#636efa",
          "size": {
           "bdata": "bu4WnesMHkA=",
           "dtype": "f8"
          },
          "sizemode": "area",
          "sizeref": 0.022419079162917833,
          "symbol": "circle"
         },
         "mode": "markers",
         "name": "longhorn",
         "orientation": "v",
         "showlegend": true,
         "type": "scatter",
         "x": {
          "bdata": "WEiPEOK/FEA=",
          "dtype": "f8"
         },
         "xaxis": "x",
         "y": {
          "bdata": "VFbakpL3IUA=",
          "dtype": "f8"
         },
         "yaxis": "y"
        },
        {
         "customdata": [
          [
           "spec"
          ]
         ],
         "hovertemplate": "repo_name=%{customdata[0]}<br>log_num_commits=%{x}<br>log_prs_issues_actions_weighted=%{y}<br>log_num_contrib=%{marker.size}<extra></extra>",
         "legendgroup": "spec",
         "marker": {
          "color": "#EF553B",
          "size": {
           "bdata": "dfonr8nKF0A=",
           "dtype": "f8"
          },
          "sizemode": "area",
          "sizeref": 0.022419079162917833,
          "symbol": "circle"
         },
         "mode": "markers",
         "name": "spec",
         "orientation": "v",
         "showlegend": true,
         "type": "scatter",
         "x": {
          "bdata": "8/66WYIHEEA=",
          "dtype": "f8"
         },
         "xaxis": "x",
         "y": {
          "bdata": "NQN8HHKdHEA=",
          "dtype": "f8"
         },
         "yaxis": "y"
        },
        {
         "customdata": [
          [
           "volcano"
          ]
         ],
         "hovertemplate": "repo_name=%{customdata[0]}<br>log_num_commits=%{x}<br>log_prs_issues_actions_weighted=%{y}<br>log_num_contrib=%{marker.size}<extra></extra>",
         "legendgroup": "volcano",
         "marker": {
          "color": "#00cc96",
          "size": {
           "bdata": "0WfESBkHG0A=",
           "dtype": "f8"
          },
          "sizemode": "area",
          "sizeref": 0.022419079162917833,
          "symbol": "circle"
         },
         "mode": "markers",
         "name": "volcano",
         "orientation": "v",
         "showlegend": true,
         "type": "scatter",
         "x": {
          "bdata": "AAAAAAAA+H8=",
          "dtype": "f8"
         },
         "xaxis": "x",
         "y": {
          "bdata": "Dip0hMOwIEA=",
          "dtype": "f8"
         },
         "yaxis": "y"
        }
       ],
       "layout": {
        "legend": {
         "itemsizing": "constant",
         "title": {
          "text": "repo_name"
         },
         "tracegroupgap": 0
        },
        "template": {
         "data": {
          "bar": [
           {
            "error_x": {
             "color": "#2a3f5f"
            },
            "error_y": {
             "color": "#2a3f5f"
            },
            "marker": {
             "line": {
              "color": "#E5ECF6",
              "width": 0.5
             },
             "pattern": {
              "fillmode": "overlay",
              "size": 10,
              "solidity": 0.2
             }
            },
            "type": "bar"
           }
          ],
          "barpolar": [
           {
            "marker": {
             "line": {
              "color": "#E5ECF6",
              "width": 0.5
             },
             "pattern": {
              "fillmode": "overlay",
              "size": 10,
              "solidity": 0.2
             }
            },
            "type": "barpolar"
           }
          ],
          "carpet": [
           {
            "aaxis": {
             "endlinecolor": "#2a3f5f",
             "gridcolor": "white",
             "linecolor": "white",
             "minorgridcolor": "white",
             "startlinecolor": "#2a3f5f"
            },
            "baxis": {
             "endlinecolor": "#2a3f5f",
             "gridcolor": "white",
             "linecolor": "white",
             "minorgridcolor": "white",
             "startlinecolor": "#2a3f5f"
            },
            "type": "carpet"
           }
          ],
          "choropleth": [
           {
            "colorbar": {
             "outlinewidth": 0,
             "ticks": ""
            },
            "type": "choropleth"
           }
          ],
          "contour": [
           {
            "colorbar": {
             "outlinewidth": 0,
             "ticks": ""
            },
            "colorscale": [
             [
              0,
              "#0d0887"
             ],
             [
              0.1111111111111111,
              "#46039f"
             ],
             [
              0.2222222222222222,
              "#7201a8"
             ],
             [
              0.3333333333333333,
              "#9c179e"
             ],
             [
              0.4444444444444444,
              "#bd3786"
             ],
             [
              0.5555555555555556,
              "#d8576b"
             ],
             [
              0.6666666666666666,
              "#ed7953"
             ],
             [
              0.7777777777777778,
              "#fb9f3a"
             ],
             [
              0.8888888888888888,
              "#fdca26"
             ],
             [
              1,
              "#f0f921"
             ]
            ],
            "type": "contour"
           }
          ],
          "contourcarpet": [
           {
            "colorbar": {
             "outlinewidth": 0,
             "ticks": ""
            },
            "type": "contourcarpet"
           }
          ],
          "heatmap": [
           {
            "colorbar": {
             "outlinewidth": 0,
             "ticks": ""
            },
            "colorscale": [
             [
              0,
              "#0d0887"
             ],
             [
              0.1111111111111111,
              "#46039f"
             ],
             [
              0.2222222222222222,
              "#7201a8"
             ],
             [
              0.3333333333333333,
              "#9c179e"
             ],
             [
              0.4444444444444444,
              "#bd3786"
             ],
             [
              0.5555555555555556,
              "#d8576b"
             ],
             [
              0.6666666666666666,
              "#ed7953"
             ],
             [
              0.7777777777777778,
              "#fb9f3a"
             ],
             [
              0.8888888888888888,
              "#fdca26"
             ],
             [
              1,
              "#f0f921"
             ]
            ],
            "type": "heatmap"
           }
          ],
          "histogram": [
           {
            "marker": {
             "pattern": {
              "fillmode": "overlay",
              "size": 10,
              "solidity": 0.2
             }
            },
            "type": "histogram"
           }
          ],
          "histogram2d": [
           {
            "colorbar": {
             "outlinewidth": 0,
             "ticks": ""
            },
            "colorscale": [
             [
              0,
              "#0d0887"
             ],
             [
              0.1111111111111111,
              "#46039f"
             ],
             [
              0.2222222222222222,
              "#7201a8"
             ],
             [
              0.3333333333333333,
              "#9c179e"
             ],
             [
              0.4444444444444444,
              "#bd3786"
             ],
             [
              0.5555555555555556,
              "#d8576b"
             ],
             [
              0.6666666666666666,
              "#ed7953"
             ],
             [
              0.7777777777777778,
              "#fb9f3a"
             ],
             [
              0.8888888888888888,
              "#fdca26"
             ],
             [
              1,
              "#f0f921"
             ]
            ],
            "type": "histogram2d"
           }
          ],
          "histogram2dcontour": [
           {
            "colorbar": {
             "outlinewidth": 0,
             "ticks": ""
            },
            "colorscale": [
             [
              0,
              "#0d0887"
             ],
             [
              0.1111111111111111,
              "#46039f"
             ],
             [
              0.2222222222222222,
              "#7201a8"
             ],
             [
              0.3333333333333333,
              "#9c179e"
             ],
             [
              0.4444444444444444,
              "#bd3786"
             ],
             [
              0.5555555555555556,
              "#d8576b"
             ],
             [
              0.6666666666666666,
              "#ed7953"
             ],
             [
              0.7777777777777778,
              "#fb9f3a"
             ],
             [
              0.8888888888888888,
              "#fdca26"
             ],
             [
              1,
              "#f0f921"
             ]
            ],
            "type": "histogram2dcontour"
           }
          ],
          "mesh3d": [
           {
            "colorbar": {
             "outlinewidth": 0,
             "ticks": ""
            },
            "type": "mesh3d"
           }
          ],
          "parcoords": [
           {
            "line": {
             "colorbar": {
              "outlinewidth": 0,
              "ticks": ""
             }
            },
            "type": "parcoords"
           }
          ],
          "pie": [
           {
            "automargin": true,
            "type": "pie"
           }
          ],
          "scatter": [
           {
            "fillpattern": {
             "fillmode": "overlay",
             "size": 10,
             "solidity": 0.2
            },
            "type": "scatter"
           }
          ],
          "scatter3d": [
           {
            "line": {
             "colorbar": {
              "outlinewidth": 0,
              "ticks": ""
             }
            },
            "marker": {
             "colorbar": {
              "outlinewidth": 0,
              "ticks": ""
             }
            },
            "type": "scatter3d"
           }
          ],
          "scattercarpet": [
           {
            "marker": {
             "colorbar": {
              "outlinewidth": 0,
              "ticks": ""
             }
            },
            "type": "scattercarpet"
           }
          ],
          "scattergeo": [
           {
            "marker": {
             "colorbar": {
              "outlinewidth": 0,
              "ticks": ""
             }
            },
            "type": "scattergeo"
           }
          ],
          "scattergl": [
           {
            "marker": {
             "colorbar": {
              "outlinewidth": 0,
              "ticks": ""
             }
            },
            "type": "scattergl"
           }
          ],
          "scattermap": [
           {
            "marker": {
             "colorbar": {
              "outlinewidth": 0,
              "ticks": ""
             }
            },
            "type": "scattermap"
           }
          ],
          "scattermapbox": [
           {
            "marker": {
             "colorbar": {
              "outlinewidth": 0,
              "ticks": ""
             }
            },
            "type": "scattermapbox"
           }
          ],
          "scatterpolar": [
           {
            "marker": {
             "colorbar": {
              "outlinewidth": 0,
              "ticks": ""
             }
            },
            "type": "scatterpolar"
           }
          ],
          "scatterpolargl": [
           {
            "marker": {
             "colorbar": {
              "outlinewidth": 0,
              "ticks": ""
             }
            },
            "type": "scatterpolargl"
           }
          ],
          "scatterternary": [
           {
            "marker": {
             "colorbar": {
              "outlinewidth": 0,
              "ticks": ""
             }
            },
            "type": "scatterternary"
           }
          ],
          "surface": [
           {
            "colorbar": {
             "outlinewidth": 0,
             "ticks": ""
            },
            "colorscale": [
             [
              0,
              "#0d0887"
             ],
             [
              0.1111111111111111,
              "#46039f"
             ],
             [
              0.2222222222222222,
              "#7201a8"
             ],
             [
              0.3333333333333333,
              "#9c179e"
             ],
             [
              0.4444444444444444,
              "#bd3786"
             ],
             [
              0.5555555555555556,
              "#d8576b"
             ],
             [
              0.6666666666666666,
              "#ed7953"
             ],
             [
              0.7777777777777778,
              "#fb9f3a"
             ],
             [
              0.8888888888888888,
              "#fdca26"
             ],
             [
              1,
              "#f0f921"
             ]
            ],
            "type": "surface"
           }
          ],
          "table": [
           {
            "cells": {
             "fill": {
              "color": "#EBF0F8"
             },
             "line": {
              "color": "white"
             }
            },
            "header": {
             "fill": {
              "color": "#C8D4E3"
             },
             "line": {
              "color": "white"
             }
            },
            "type": "table"
           }
          ]
         },
         "layout": {
          "annotationdefaults": {
           "arrowcolor": "#2a3f5f",
           "arrowhead": 0,
           "arrowwidth": 1
          },
          "autotypenumbers": "strict",
          "coloraxis": {
           "colorbar": {
            "outlinewidth": 0,
            "ticks": ""
           }
          },
          "colorscale": {
           "diverging": [
            [
             0,
             "#8e0152"
            ],
            [
             0.1,
             "#c51b7d"
            ],
            [
             0.2,
             "#de77ae"
            ],
            [
             0.3,
             "#f1b6da"
            ],
            [
             0.4,
             "#fde0ef"
            ],
            [
             0.5,
             "#f7f7f7"
            ],
            [
             0.6,
             "#e6f5d0"
            ],
            [
             0.7,
             "#b8e186"
            ],
            [
             0.8,
             "#7fbc41"
            ],
            [
             0.9,
             "#4d9221"
            ],
            [
             1,
             "#276419"
            ]
           ],
           "sequential": [
            [
             0,
             "#0d0887"
            ],
            [
             0.1111111111111111,
             "#46039f"
            ],
            [
             0.2222222222222222,
             "#7201a8"
            ],
            [
             0.3333333333333333,
             "#9c179e"
            ],
            [
             0.4444444444444444,
             "#bd3786"
            ],
            [
             0.5555555555555556,
             "#d8576b"
            ],
            [
             0.6666666666666666,
             "#ed7953"
            ],
            [
             0.7777777777777778,
             "#fb9f3a"
            ],
            [
             0.8888888888888888,
             "#fdca26"
            ],
            [
             1,
             "#f0f921"
            ]
           ],
           "sequentialminus": [
            [
             0,
             "#0d0887"
            ],
            [
             0.1111111111111111,
             "#46039f"
            ],
            [
             0.2222222222222222,
             "#7201a8"
            ],
            [
             0.3333333333333333,
             "#9c179e"
            ],
            [
             0.4444444444444444,
             "#bd3786"
            ],
            [
             0.5555555555555556,
             "#d8576b"
            ],
            [
             0.6666666666666666,
             "#ed7953"
            ],
            [
             0.7777777777777778,
             "#fb9f3a"
            ],
            [
             0.8888888888888888,
             "#fdca26"
            ],
            [
             1,
             "#f0f921"
            ]
           ]
          },
          "colorway": [
           "#636efa",
           "#EF553B",
           "#00cc96",
           "#ab63fa",
           "#FFA15A",
           "#19d3f3",
           "#FF6692",
           "#B6E880",
           "#FF97FF",
           "#FECB52"
          ],
          "font": {
           "color": "#2a3f5f"
          },
          "geo": {
           "bgcolor": "white",
           "lakecolor": "white",
           "landcolor": "#E5ECF6",
           "showlakes": true,
           "showland": true,
           "subunitcolor": "white"
          },
          "hoverlabel": {
           "align": "left"
          },
          "hovermode": "closest",
          "mapbox": {
           "style": "light"
          },
          "paper_bgcolor": "white",
          "plot_bgcolor": "#E5ECF6",
          "polar": {
           "angularaxis": {
            "gridcolor": "white",
            "linecolor": "white",
            "ticks": ""
           },
           "bgcolor": "#E5ECF6",
           "radialaxis": {
            "gridcolor": "white",
            "linecolor": "white",
            "ticks": ""
           }
          },
          "scene": {
           "xaxis": {
            "backgroundcolor": "#E5ECF6",
            "gridcolor": "white",
            "gridwidth": 2,
            "linecolor": "white",
            "showbackground": true,
            "ticks": "",
            "zerolinecolor": "white"
           },
           "yaxis": {
            "backgroundcolor": "#E5ECF6",
            "gridcolor": "white",
            "gridwidth": 2,
            "linecolor": "white",
            "showbackground": true,
            "ticks": "",
            "zerolinecolor": "white"
           },
           "zaxis": {
            "backgroundcolor": "#E5ECF6",
            "gridcolor": "white",
            "gridwidth": 2,
            "linecolor": "white",
            "showbackground": true,
            "ticks": "",
            "zerolinecolor": "white"
           }
          },
          "shapedefaults": {
           "line": {
            "color": "#2a3f5f"
           }
          },
          "ternary": {
           "aaxis": {
            "gridcolor": "white",
            "linecolor": "white",
            "ticks": ""
           },
           "baxis": {
            "gridcolor": "white",
            "linecolor": "white",
            "ticks": ""
           },
           "bgcolor": "#E5ECF6",
           "caxis": {
            "gridcolor": "white",
            "linecolor": "white",
            "ticks": ""
           }
          },
          "title": {
           "x": 0.05
          },
          "xaxis": {
           "automargin": true,
           "gridcolor": "white",
           "linecolor": "white",
           "ticks": "",
           "title": {
            "standoff": 15
           },
           "zerolinecolor": "white",
           "zerolinewidth": 2
          },
          "yaxis": {
           "automargin": true,
           "gridcolor": "white",
           "linecolor": "white",
           "ticks": "",
           "title": {
            "standoff": 15
           },
           "zerolinecolor": "white",
           "zerolinewidth": 2
          }
         }
        },
        "title": {
         "text": "Project Velocity"
        },
        "xaxis": {
         "anchor": "y",
         "domain": [
          0,
          1
         ],
         "title": {
          "text": "log_num_commits"
         }
        },
        "yaxis": {
         "anchor": "x",
         "domain": [
          0,
          1
         ],
         "title": {
          "text": "log_prs_issues_actions_weighted"
         }
        }
       }
      }
     },
     "metadata": {},
     "output_type": "display_data"
    }
   ],
   "source": [
    "fig.show()"
   ]
  },
  {
   "cell_type": "markdown",
   "id": "66158c5b-ac0a-49a8-9ae8-3303e0bac968",
   "metadata": {},
   "source": [
    "Visualization of raw values"
   ]
  },
  {
   "cell_type": "code",
   "execution_count": 30,
   "id": "3c54770a-3d1b-47e5-a840-f431802b786c",
   "metadata": {
    "tags": []
   },
   "outputs": [],
   "source": [
    "fig = px.scatter(df_consolidated, \n",
    "                 x=\"log_num_commits\", \n",
    "                 y=\"prs_issues_actions_weighted\", \n",
    "                 color=\"repo_name\",\n",
    "                 size='log_num_contrib', \n",
    "                 hover_data=['repo_name'],\n",
    "                 title=\"Project Velocity\")"
   ]
  },
  {
   "cell_type": "code",
   "execution_count": 31,
   "id": "90ddac4a-5abd-4862-b47b-bec188ee06ea",
   "metadata": {
    "tags": []
   },
   "outputs": [
    {
     "data": {
      "application/vnd.plotly.v1+json": {
       "config": {
        "plotlyServerURL": "https://plot.ly"
       },
       "data": [
        {
         "customdata": [
          [
           "backstage"
          ]
         ],
         "hovertemplate": "repo_name=%{customdata[0]}<br>log_num_commits=%{x}<br>prs_issues_actions_weighted=%{y}<br>log_num_contrib=%{marker.size}<extra></extra>",
         "legendgroup": "backstage",
         "marker": {
          "color": "#636efa",
          "size": {
           "bdata": "ZBztrTCgIEA=",
           "dtype": "f8"
          },
          "sizemode": "area",
          "sizeref": 0.022419079162917833,
          "symbol": "circle"
         },
         "mode": "markers",
         "name": "backstage",
         "orientation": "v",
         "showlegend": true,
         "type": "scatter",
         "x": {
          "bdata": "AAAAAAAA+H8=",
          "dtype": "f8"
         },
         "xaxis": "x",
         "y": {
          "bdata": "ZmZmZobx3EA=",
          "dtype": "f8"
         },
         "yaxis": "y"
        },
        {
         "customdata": [
          [
           "chaos-mesh"
          ]
         ],
         "hovertemplate": "repo_name=%{customdata[0]}<br>log_num_commits=%{x}<br>prs_issues_actions_weighted=%{y}<br>log_num_contrib=%{marker.size}<extra></extra>",
         "legendgroup": "chaos-mesh",
         "marker": {
          "color": "#EF553B",
          "size": {
           "bdata": "PbJC6JCtGkA=",
           "dtype": "f8"
          },
          "sizemode": "area",
          "sizeref": 0.022419079162917833,
          "symbol": "circle"
         },
         "mode": "markers",
         "name": "chaos-mesh",
         "orientation": "v",
         "showlegend": true,
         "type": "scatter",
         "x": {
          "bdata": "1g2IaPlODUA=",
          "dtype": "f8"
         },
         "xaxis": "x",
         "y": {
          "bdata": "mZmZmZk7sEA=",
          "dtype": "f8"
         },
         "yaxis": "y"
        },
        {
         "customdata": [
          [
           "cilium"
          ]
         ],
         "hovertemplate": "repo_name=%{customdata[0]}<br>log_num_commits=%{x}<br>prs_issues_actions_weighted=%{y}<br>log_num_contrib=%{marker.size}<extra></extra>",
         "legendgroup": "cilium",
         "marker": {
          "color": "#00cc96",
          "size": {
           "bdata": "TJa/zI6uIEA=",
           "dtype": "f8"
          },
          "sizemode": "area",
          "sizeref": 0.022419079162917833,
          "symbol": "circle"
         },
         "mode": "markers",
         "name": "cilium",
         "orientation": "v",
         "showlegend": true,
         "type": "scatter",
         "x": {
          "bdata": "bcv4j4sSJUA=",
          "dtype": "f8"
         },
         "xaxis": "x",
         "y": {
          "bdata": "MzMzM9Pd1kA=",
          "dtype": "f8"
         },
         "yaxis": "y"
        },
        {
         "customdata": [
          [
           "cloud-custodian"
          ]
         ],
         "hovertemplate": "repo_name=%{customdata[0]}<br>log_num_commits=%{x}<br>prs_issues_actions_weighted=%{y}<br>log_num_contrib=%{marker.size}<extra></extra>",
         "legendgroup": "cloud-custodian",
         "marker": {
          "color": "#ab63fa",
          "size": {
           "bdata": "SLbE4keOHUA=",
           "dtype": "f8"
          },
          "sizemode": "area",
          "sizeref": 0.022419079162917833,
          "symbol": "circle"
         },
         "mode": "markers",
         "name": "cloud-custodian",
         "orientation": "v",
         "showlegend": true,
         "type": "scatter",
         "x": {
          "bdata": "i42lJa0DE0A=",
          "dtype": "f8"
         },
         "xaxis": "x",
         "y": {
          "bdata": "MzMzM7OuwEA=",
          "dtype": "f8"
         },
         "yaxis": "y"
        },
        {
         "customdata": [
          [
           "community"
          ]
         ],
         "hovertemplate": "repo_name=%{customdata[0]}<br>log_num_commits=%{x}<br>prs_issues_actions_weighted=%{y}<br>log_num_contrib=%{marker.size}<extra></extra>",
         "legendgroup": "community",
         "marker": {
          "color": "#FFA15A",
          "size": {
           "bdata": "kYgJqu+BHEA=",
           "dtype": "f8"
          },
          "sizemode": "area",
          "sizeref": 0.022419079162917833,
          "symbol": "circle"
         },
         "mode": "markers",
         "name": "community",
         "orientation": "v",
         "showlegend": true,
         "type": "scatter",
         "x": {
          "bdata": "Oiaw2KyNFkA=",
          "dtype": "f8"
         },
         "xaxis": "x",
         "y": {
          "bdata": "mpmZmZk0sEA=",
          "dtype": "f8"
         },
         "yaxis": "y"
        },
        {
         "customdata": [
          [
           "cortex"
          ]
         ],
         "hovertemplate": "repo_name=%{customdata[0]}<br>log_num_commits=%{x}<br>prs_issues_actions_weighted=%{y}<br>log_num_contrib=%{marker.size}<extra></extra>",
         "legendgroup": "cortex",
         "marker": {
          "color": "#19d3f3",
          "size": {
           "bdata": "nu8sqRT1GkA=",
           "dtype": "f8"
          },
          "sizemode": "area",
          "sizeref": 0.022419079162917833,
          "symbol": "circle"
         },
         "mode": "markers",
         "name": "cortex",
         "orientation": "v",
         "showlegend": true,
         "type": "scatter",
         "x": {
          "bdata": "P9htH+VQIUA=",
          "dtype": "f8"
         },
         "xaxis": "x",
         "y": {
          "bdata": "AAAAAACUukA=",
          "dtype": "f8"
         },
         "yaxis": "y"
        },
        {
         "customdata": [
          [
           "dapr"
          ]
         ],
         "hovertemplate": "repo_name=%{customdata[0]}<br>log_num_commits=%{x}<br>prs_issues_actions_weighted=%{y}<br>log_num_contrib=%{marker.size}<extra></extra>",
         "legendgroup": "dapr",
         "marker": {
          "color": "#FF6692",
          "size": {
           "bdata": "LhsbIKtfHUA=",
           "dtype": "f8"
          },
          "sizemode": "area",
          "sizeref": 0.022419079162917833,
          "symbol": "circle"
         },
         "mode": "markers",
         "name": "dapr",
         "orientation": "v",
         "showlegend": true,
         "type": "scatter",
         "x": {
          "bdata": "dSmUk5KyEEA=",
          "dtype": "f8"
         },
         "xaxis": "x",
         "y": {
          "bdata": "zczMzMx3v0A=",
          "dtype": "f8"
         },
         "yaxis": "y"
        },
        {
         "customdata": [
          [
           "falco"
          ]
         ],
         "hovertemplate": "repo_name=%{customdata[0]}<br>log_num_commits=%{x}<br>prs_issues_actions_weighted=%{y}<br>log_num_contrib=%{marker.size}<extra></extra>",
         "legendgroup": "falco",
         "marker": {
          "color": "#B6E880",
          "size": {
           "bdata": "fSZeu9kLG0A=",
           "dtype": "f8"
          },
          "sizemode": "area",
          "sizeref": 0.022419079162917833,
          "symbol": "circle"
         },
         "mode": "markers",
         "name": "falco",
         "orientation": "v",
         "showlegend": true,
         "type": "scatter",
         "x": {
          "bdata": "OMV/e566F0A=",
          "dtype": "f8"
         },
         "xaxis": "x",
         "y": {
          "bdata": "NDMzMzONq0A=",
          "dtype": "f8"
         },
         "yaxis": "y"
        },
        {
         "customdata": [
          [
           "grpc"
          ]
         ],
         "hovertemplate": "repo_name=%{customdata[0]}<br>log_num_commits=%{x}<br>prs_issues_actions_weighted=%{y}<br>log_num_contrib=%{marker.size}<extra></extra>",
         "legendgroup": "grpc",
         "marker": {
          "color": "#FF97FF",
          "size": {
           "bdata": "mfiNuUWZIUA=",
           "dtype": "f8"
          },
          "sizemode": "area",
          "sizeref": 0.022419079162917833,
          "symbol": "circle"
         },
         "mode": "markers",
         "name": "grpc",
         "orientation": "v",
         "showlegend": true,
         "type": "scatter",
         "x": {
          "bdata": "m9YL+aY1C0A=",
          "dtype": "f8"
         },
         "xaxis": "x",
         "y": {
          "bdata": "zczMzExB00A=",
          "dtype": "f8"
         },
         "yaxis": "y"
        },
        {
         "customdata": [
          [
           "in-toto"
          ]
         ],
         "hovertemplate": "repo_name=%{customdata[0]}<br>log_num_commits=%{x}<br>prs_issues_actions_weighted=%{y}<br>log_num_contrib=%{marker.size}<extra></extra>",
         "legendgroup": "in-toto",
         "marker": {
          "color": "#FECB52",
          "size": {
           "bdata": "vceH3/h/EkA=",
           "dtype": "f8"
          },
          "sizemode": "area",
          "sizeref": 0.022419079162917833,
          "symbol": "circle"
         },
         "mode": "markers",
         "name": "in-toto",
         "orientation": "v",
         "showlegend": true,
         "type": "scatter",
         "x": {
          "bdata": "sfIan3poE0A=",
          "dtype": "f8"
         },
         "xaxis": "x",
         "y": {
          "bdata": "mpmZmZmdi0A=",
          "dtype": "f8"
         },
         "yaxis": "y"
        },
        {
         "customdata": [
          [
           "istio"
          ]
         ],
         "hovertemplate": "repo_name=%{customdata[0]}<br>log_num_commits=%{x}<br>prs_issues_actions_weighted=%{y}<br>log_num_contrib=%{marker.size}<extra></extra>",
         "legendgroup": "istio",
         "marker": {
          "color": "#636efa",
          "size": {
           "bdata": "CO/oam3vIUA=",
           "dtype": "f8"
          },
          "sizemode": "area",
          "sizeref": 0.022419079162917833,
          "symbol": "circle"
         },
         "mode": "markers",
         "name": "istio",
         "orientation": "v",
         "showlegend": true,
         "type": "scatter",
         "x": {
          "bdata": "AAAAAAAA+H8=",
          "dtype": "f8"
         },
         "xaxis": "x",
         "y": {
          "bdata": "ZmZmZmYW6kA=",
          "dtype": "f8"
         },
         "yaxis": "y"
        },
        {
         "customdata": [
          [
           "keda"
          ]
         ],
         "hovertemplate": "repo_name=%{customdata[0]}<br>log_num_commits=%{x}<br>prs_issues_actions_weighted=%{y}<br>log_num_contrib=%{marker.size}<extra></extra>",
         "legendgroup": "keda",
         "marker": {
          "color": "#EF553B",
          "size": {
           "bdata": "jBbyC7ycHUA=",
           "dtype": "f8"
          },
          "sizemode": "area",
          "sizeref": 0.022419079162917833,
          "symbol": "circle"
         },
         "mode": "markers",
         "name": "keda",
         "orientation": "v",
         "showlegend": true,
         "type": "scatter",
         "x": {
          "bdata": "AAAAAAAA+H8=",
          "dtype": "f8"
         },
         "xaxis": "x",
         "y": {
          "bdata": "MzMzM7OPtEA=",
          "dtype": "f8"
         },
         "yaxis": "y"
        },
        {
         "customdata": [
          [
           "keptn"
          ]
         ],
         "hovertemplate": "repo_name=%{customdata[0]}<br>log_num_commits=%{x}<br>prs_issues_actions_weighted=%{y}<br>log_num_contrib=%{marker.size}<extra></extra>",
         "legendgroup": "keptn",
         "marker": {
          "color": "#00cc96",
          "size": {
           "bdata": "YFlW+ZdrF0A=",
           "dtype": "f8"
          },
          "sizemode": "area",
          "sizeref": 0.022419079162917833,
          "symbol": "circle"
         },
         "mode": "markers",
         "name": "keptn",
         "orientation": "v",
         "showlegend": true,
         "type": "scatter",
         "x": {
          "bdata": "LIuyvFcVIkA=",
          "dtype": "f8"
         },
         "xaxis": "x",
         "y": {
          "bdata": "zczMzAwvwkA=",
          "dtype": "f8"
         },
         "yaxis": "y"
        },
        {
         "customdata": [
          [
           "keycloak"
          ]
         ],
         "hovertemplate": "repo_name=%{customdata[0]}<br>log_num_commits=%{x}<br>prs_issues_actions_weighted=%{y}<br>log_num_contrib=%{marker.size}<extra></extra>",
         "legendgroup": "keycloak",
         "marker": {
          "color": "#ab63fa",
          "size": {
           "bdata": "6JpGxuSLIUA=",
           "dtype": "f8"
          },
          "sizemode": "area",
          "sizeref": 0.022419079162917833,
          "symbol": "circle"
         },
         "mode": "markers",
         "name": "keycloak",
         "orientation": "v",
         "showlegend": true,
         "type": "scatter",
         "x": {
          "bdata": "AAAAAAAA+H8=",
          "dtype": "f8"
         },
         "xaxis": "x",
         "y": {
          "bdata": "ZmZmZgb71EA=",
          "dtype": "f8"
         },
         "yaxis": "y"
        },
        {
         "customdata": [
          [
           "kruise"
          ]
         ],
         "hovertemplate": "repo_name=%{customdata[0]}<br>log_num_commits=%{x}<br>prs_issues_actions_weighted=%{y}<br>log_num_contrib=%{marker.size}<extra></extra>",
         "legendgroup": "kruise",
         "marker": {
          "color": "#FFA15A",
          "size": {
           "bdata": "SbtvF/MBGUA=",
           "dtype": "f8"
          },
          "sizemode": "area",
          "sizeref": 0.022419079162917833,
          "symbol": "circle"
         },
         "mode": "markers",
         "name": "kruise",
         "orientation": "v",
         "showlegend": true,
         "type": "scatter",
         "x": {
          "bdata": "LecbgAoEFEA=",
          "dtype": "f8"
         },
         "xaxis": "x",
         "y": {
          "bdata": "AAAAAADQn0A=",
          "dtype": "f8"
         },
         "yaxis": "y"
        },
        {
         "customdata": [
          [
           "kubeedge"
          ]
         ],
         "hovertemplate": "repo_name=%{customdata[0]}<br>log_num_commits=%{x}<br>prs_issues_actions_weighted=%{y}<br>log_num_contrib=%{marker.size}<extra></extra>",
         "legendgroup": "kubeedge",
         "marker": {
          "color": "#19d3f3",
          "size": {
           "bdata": "LwXQ0yCKHEA=",
           "dtype": "f8"
          },
          "sizemode": "area",
          "sizeref": 0.022419079162917833,
          "symbol": "circle"
         },
         "mode": "markers",
         "name": "kubeedge",
         "orientation": "v",
         "showlegend": true,
         "type": "scatter",
         "x": {
          "bdata": "AAAAAAAA+H8=",
          "dtype": "f8"
         },
         "xaxis": "x",
         "y": {
          "bdata": "zczMzEx1tkA=",
          "dtype": "f8"
         },
         "yaxis": "y"
        },
        {
         "customdata": [
          [
           "kubevela"
          ]
         ],
         "hovertemplate": "repo_name=%{customdata[0]}<br>log_num_commits=%{x}<br>prs_issues_actions_weighted=%{y}<br>log_num_contrib=%{marker.size}<extra></extra>",
         "legendgroup": "kubevela",
         "marker": {
          "color": "#FF6692",
          "size": {
           "bdata": "w3iWfp8WGkA=",
           "dtype": "f8"
          },
          "sizemode": "area",
          "sizeref": 0.022419079162917833,
          "symbol": "circle"
         },
         "mode": "markers",
         "name": "kubevela",
         "orientation": "v",
         "showlegend": true,
         "type": "scatter",
         "x": {
          "bdata": "xfMPU1pxDEA=",
          "dtype": "f8"
         },
         "xaxis": "x",
         "y": {
          "bdata": "/////3/guEA=",
          "dtype": "f8"
         },
         "yaxis": "y"
        },
        {
         "customdata": [
          [
           "kubevirt"
          ]
         ],
         "hovertemplate": "repo_name=%{customdata[0]}<br>log_num_commits=%{x}<br>prs_issues_actions_weighted=%{y}<br>log_num_contrib=%{marker.size}<extra></extra>",
         "legendgroup": "kubevirt",
         "marker": {
          "color": "#B6E880",
          "size": {
           "bdata": "faJGs4+JHkA=",
           "dtype": "f8"
          },
          "sizemode": "area",
          "sizeref": 0.022419079162917833,
          "symbol": "circle"
         },
         "mode": "markers",
         "name": "kubevirt",
         "orientation": "v",
         "showlegend": true,
         "type": "scatter",
         "x": {
          "bdata": "TbFtQHoWJEA=",
          "dtype": "f8"
         },
         "xaxis": "x",
         "y": {
          "bdata": "zczMzMzzzUA=",
          "dtype": "f8"
         },
         "yaxis": "y"
        },
        {
         "customdata": [
          [
           "kyverno"
          ]
         ],
         "hovertemplate": "repo_name=%{customdata[0]}<br>log_num_commits=%{x}<br>prs_issues_actions_weighted=%{y}<br>log_num_contrib=%{marker.size}<extra></extra>",
         "legendgroup": "kyverno",
         "marker": {
          "color": "#FF97FF",
          "size": {
           "bdata": "ZR34mbBZHUA=",
           "dtype": "f8"
          },
          "sizemode": "area",
          "sizeref": 0.022419079162917833,
          "symbol": "circle"
         },
         "mode": "markers",
         "name": "kyverno",
         "orientation": "v",
         "showlegend": true,
         "type": "scatter",
         "x": {
          "bdata": "AAAAAAAA+H8=",
          "dtype": "f8"
         },
         "xaxis": "x",
         "y": {
          "bdata": "MjMzMzMpyUA=",
          "dtype": "f8"
         },
         "yaxis": "y"
        },
        {
         "customdata": [
          [
           "litmus"
          ]
         ],
         "hovertemplate": "repo_name=%{customdata[0]}<br>log_num_commits=%{x}<br>prs_issues_actions_weighted=%{y}<br>log_num_contrib=%{marker.size}<extra></extra>",
         "legendgroup": "litmus",
         "marker": {
          "color": "#FECB52",
          "size": {
           "bdata": "B9nPZNsCGkA=",
           "dtype": "f8"
          },
          "sizemode": "area",
          "sizeref": 0.022419079162917833,
          "symbol": "circle"
         },
         "mode": "markers",
         "name": "litmus",
         "orientation": "v",
         "showlegend": true,
         "type": "scatter",
         "x": {
          "bdata": "AAAAAAAA+H8=",
          "dtype": "f8"
         },
         "xaxis": "x",
         "y": {
          "bdata": "AAAAAAC8skA=",
          "dtype": "f8"
         },
         "yaxis": "y"
        },
        {
         "customdata": [
          [
           "longhorn"
          ]
         ],
         "hovertemplate": "repo_name=%{customdata[0]}<br>log_num_commits=%{x}<br>prs_issues_actions_weighted=%{y}<br>log_num_contrib=%{marker.size}<extra></extra>",
         "legendgroup": "longhorn",
         "marker": {
          "color": "#636efa",
          "size": {
           "bdata": "bu4WnesMHkA=",
           "dtype": "f8"
          },
          "sizemode": "area",
          "sizeref": 0.022419079162917833,
          "symbol": "circle"
         },
         "mode": "markers",
         "name": "longhorn",
         "orientation": "v",
         "showlegend": true,
         "type": "scatter",
         "x": {
          "bdata": "WEiPEOK/FEA=",
          "dtype": "f8"
         },
         "xaxis": "x",
         "y": {
          "bdata": "zczMzMwiv0A=",
          "dtype": "f8"
         },
         "yaxis": "y"
        },
        {
         "customdata": [
          [
           "spec"
          ]
         ],
         "hovertemplate": "repo_name=%{customdata[0]}<br>log_num_commits=%{x}<br>prs_issues_actions_weighted=%{y}<br>log_num_contrib=%{marker.size}<extra></extra>",
         "legendgroup": "spec",
         "marker": {
          "color": "#EF553B",
          "size": {
           "bdata": "dfonr8nKF0A=",
           "dtype": "f8"
          },
          "sizemode": "area",
          "sizeref": 0.022419079162917833,
          "symbol": "circle"
         },
         "mode": "markers",
         "name": "spec",
         "orientation": "v",
         "showlegend": true,
         "type": "scatter",
         "x": {
          "bdata": "8/66WYIHEEA=",
          "dtype": "f8"
         },
         "xaxis": "x",
         "y": {
          "bdata": "mZmZmZn7k0A=",
          "dtype": "f8"
         },
         "yaxis": "y"
        },
        {
         "customdata": [
          [
           "volcano"
          ]
         ],
         "hovertemplate": "repo_name=%{customdata[0]}<br>log_num_commits=%{x}<br>prs_issues_actions_weighted=%{y}<br>log_num_contrib=%{marker.size}<extra></extra>",
         "legendgroup": "volcano",
         "marker": {
          "color": "#00cc96",
          "size": {
           "bdata": "0WfESBkHG0A=",
           "dtype": "f8"
          },
          "sizemode": "area",
          "sizeref": 0.022419079162917833,
          "symbol": "circle"
         },
         "mode": "markers",
         "name": "volcano",
         "orientation": "v",
         "showlegend": true,
         "type": "scatter",
         "x": {
          "bdata": "AAAAAAAA+H8=",
          "dtype": "f8"
         },
         "xaxis": "x",
         "y": {
          "bdata": "mZmZmRlysEA=",
          "dtype": "f8"
         },
         "yaxis": "y"
        }
       ],
       "layout": {
        "legend": {
         "itemsizing": "constant",
         "title": {
          "text": "repo_name"
         },
         "tracegroupgap": 0
        },
        "template": {
         "data": {
          "bar": [
           {
            "error_x": {
             "color": "#2a3f5f"
            },
            "error_y": {
             "color": "#2a3f5f"
            },
            "marker": {
             "line": {
              "color": "#E5ECF6",
              "width": 0.5
             },
             "pattern": {
              "fillmode": "overlay",
              "size": 10,
              "solidity": 0.2
             }
            },
            "type": "bar"
           }
          ],
          "barpolar": [
           {
            "marker": {
             "line": {
              "color": "#E5ECF6",
              "width": 0.5
             },
             "pattern": {
              "fillmode": "overlay",
              "size": 10,
              "solidity": 0.2
             }
            },
            "type": "barpolar"
           }
          ],
          "carpet": [
           {
            "aaxis": {
             "endlinecolor": "#2a3f5f",
             "gridcolor": "white",
             "linecolor": "white",
             "minorgridcolor": "white",
             "startlinecolor": "#2a3f5f"
            },
            "baxis": {
             "endlinecolor": "#2a3f5f",
             "gridcolor": "white",
             "linecolor": "white",
             "minorgridcolor": "white",
             "startlinecolor": "#2a3f5f"
            },
            "type": "carpet"
           }
          ],
          "choropleth": [
           {
            "colorbar": {
             "outlinewidth": 0,
             "ticks": ""
            },
            "type": "choropleth"
           }
          ],
          "contour": [
           {
            "colorbar": {
             "outlinewidth": 0,
             "ticks": ""
            },
            "colorscale": [
             [
              0,
              "#0d0887"
             ],
             [
              0.1111111111111111,
              "#46039f"
             ],
             [
              0.2222222222222222,
              "#7201a8"
             ],
             [
              0.3333333333333333,
              "#9c179e"
             ],
             [
              0.4444444444444444,
              "#bd3786"
             ],
             [
              0.5555555555555556,
              "#d8576b"
             ],
             [
              0.6666666666666666,
              "#ed7953"
             ],
             [
              0.7777777777777778,
              "#fb9f3a"
             ],
             [
              0.8888888888888888,
              "#fdca26"
             ],
             [
              1,
              "#f0f921"
             ]
            ],
            "type": "contour"
           }
          ],
          "contourcarpet": [
           {
            "colorbar": {
             "outlinewidth": 0,
             "ticks": ""
            },
            "type": "contourcarpet"
           }
          ],
          "heatmap": [
           {
            "colorbar": {
             "outlinewidth": 0,
             "ticks": ""
            },
            "colorscale": [
             [
              0,
              "#0d0887"
             ],
             [
              0.1111111111111111,
              "#46039f"
             ],
             [
              0.2222222222222222,
              "#7201a8"
             ],
             [
              0.3333333333333333,
              "#9c179e"
             ],
             [
              0.4444444444444444,
              "#bd3786"
             ],
             [
              0.5555555555555556,
              "#d8576b"
             ],
             [
              0.6666666666666666,
              "#ed7953"
             ],
             [
              0.7777777777777778,
              "#fb9f3a"
             ],
             [
              0.8888888888888888,
              "#fdca26"
             ],
             [
              1,
              "#f0f921"
             ]
            ],
            "type": "heatmap"
           }
          ],
          "histogram": [
           {
            "marker": {
             "pattern": {
              "fillmode": "overlay",
              "size": 10,
              "solidity": 0.2
             }
            },
            "type": "histogram"
           }
          ],
          "histogram2d": [
           {
            "colorbar": {
             "outlinewidth": 0,
             "ticks": ""
            },
            "colorscale": [
             [
              0,
              "#0d0887"
             ],
             [
              0.1111111111111111,
              "#46039f"
             ],
             [
              0.2222222222222222,
              "#7201a8"
             ],
             [
              0.3333333333333333,
              "#9c179e"
             ],
             [
              0.4444444444444444,
              "#bd3786"
             ],
             [
              0.5555555555555556,
              "#d8576b"
             ],
             [
              0.6666666666666666,
              "#ed7953"
             ],
             [
              0.7777777777777778,
              "#fb9f3a"
             ],
             [
              0.8888888888888888,
              "#fdca26"
             ],
             [
              1,
              "#f0f921"
             ]
            ],
            "type": "histogram2d"
           }
          ],
          "histogram2dcontour": [
           {
            "colorbar": {
             "outlinewidth": 0,
             "ticks": ""
            },
            "colorscale": [
             [
              0,
              "#0d0887"
             ],
             [
              0.1111111111111111,
              "#46039f"
             ],
             [
              0.2222222222222222,
              "#7201a8"
             ],
             [
              0.3333333333333333,
              "#9c179e"
             ],
             [
              0.4444444444444444,
              "#bd3786"
             ],
             [
              0.5555555555555556,
              "#d8576b"
             ],
             [
              0.6666666666666666,
              "#ed7953"
             ],
             [
              0.7777777777777778,
              "#fb9f3a"
             ],
             [
              0.8888888888888888,
              "#fdca26"
             ],
             [
              1,
              "#f0f921"
             ]
            ],
            "type": "histogram2dcontour"
           }
          ],
          "mesh3d": [
           {
            "colorbar": {
             "outlinewidth": 0,
             "ticks": ""
            },
            "type": "mesh3d"
           }
          ],
          "parcoords": [
           {
            "line": {
             "colorbar": {
              "outlinewidth": 0,
              "ticks": ""
             }
            },
            "type": "parcoords"
           }
          ],
          "pie": [
           {
            "automargin": true,
            "type": "pie"
           }
          ],
          "scatter": [
           {
            "fillpattern": {
             "fillmode": "overlay",
             "size": 10,
             "solidity": 0.2
            },
            "type": "scatter"
           }
          ],
          "scatter3d": [
           {
            "line": {
             "colorbar": {
              "outlinewidth": 0,
              "ticks": ""
             }
            },
            "marker": {
             "colorbar": {
              "outlinewidth": 0,
              "ticks": ""
             }
            },
            "type": "scatter3d"
           }
          ],
          "scattercarpet": [
           {
            "marker": {
             "colorbar": {
              "outlinewidth": 0,
              "ticks": ""
             }
            },
            "type": "scattercarpet"
           }
          ],
          "scattergeo": [
           {
            "marker": {
             "colorbar": {
              "outlinewidth": 0,
              "ticks": ""
             }
            },
            "type": "scattergeo"
           }
          ],
          "scattergl": [
           {
            "marker": {
             "colorbar": {
              "outlinewidth": 0,
              "ticks": ""
             }
            },
            "type": "scattergl"
           }
          ],
          "scattermap": [
           {
            "marker": {
             "colorbar": {
              "outlinewidth": 0,
              "ticks": ""
             }
            },
            "type": "scattermap"
           }
          ],
          "scattermapbox": [
           {
            "marker": {
             "colorbar": {
              "outlinewidth": 0,
              "ticks": ""
             }
            },
            "type": "scattermapbox"
           }
          ],
          "scatterpolar": [
           {
            "marker": {
             "colorbar": {
              "outlinewidth": 0,
              "ticks": ""
             }
            },
            "type": "scatterpolar"
           }
          ],
          "scatterpolargl": [
           {
            "marker": {
             "colorbar": {
              "outlinewidth": 0,
              "ticks": ""
             }
            },
            "type": "scatterpolargl"
           }
          ],
          "scatterternary": [
           {
            "marker": {
             "colorbar": {
              "outlinewidth": 0,
              "ticks": ""
             }
            },
            "type": "scatterternary"
           }
          ],
          "surface": [
           {
            "colorbar": {
             "outlinewidth": 0,
             "ticks": ""
            },
            "colorscale": [
             [
              0,
              "#0d0887"
             ],
             [
              0.1111111111111111,
              "#46039f"
             ],
             [
              0.2222222222222222,
              "#7201a8"
             ],
             [
              0.3333333333333333,
              "#9c179e"
             ],
             [
              0.4444444444444444,
              "#bd3786"
             ],
             [
              0.5555555555555556,
              "#d8576b"
             ],
             [
              0.6666666666666666,
              "#ed7953"
             ],
             [
              0.7777777777777778,
              "#fb9f3a"
             ],
             [
              0.8888888888888888,
              "#fdca26"
             ],
             [
              1,
              "#f0f921"
             ]
            ],
            "type": "surface"
           }
          ],
          "table": [
           {
            "cells": {
             "fill": {
              "color": "#EBF0F8"
             },
             "line": {
              "color": "white"
             }
            },
            "header": {
             "fill": {
              "color": "#C8D4E3"
             },
             "line": {
              "color": "white"
             }
            },
            "type": "table"
           }
          ]
         },
         "layout": {
          "annotationdefaults": {
           "arrowcolor": "#2a3f5f",
           "arrowhead": 0,
           "arrowwidth": 1
          },
          "autotypenumbers": "strict",
          "coloraxis": {
           "colorbar": {
            "outlinewidth": 0,
            "ticks": ""
           }
          },
          "colorscale": {
           "diverging": [
            [
             0,
             "#8e0152"
            ],
            [
             0.1,
             "#c51b7d"
            ],
            [
             0.2,
             "#de77ae"
            ],
            [
             0.3,
             "#f1b6da"
            ],
            [
             0.4,
             "#fde0ef"
            ],
            [
             0.5,
             "#f7f7f7"
            ],
            [
             0.6,
             "#e6f5d0"
            ],
            [
             0.7,
             "#b8e186"
            ],
            [
             0.8,
             "#7fbc41"
            ],
            [
             0.9,
             "#4d9221"
            ],
            [
             1,
             "#276419"
            ]
           ],
           "sequential": [
            [
             0,
             "#0d0887"
            ],
            [
             0.1111111111111111,
             "#46039f"
            ],
            [
             0.2222222222222222,
             "#7201a8"
            ],
            [
             0.3333333333333333,
             "#9c179e"
            ],
            [
             0.4444444444444444,
             "#bd3786"
            ],
            [
             0.5555555555555556,
             "#d8576b"
            ],
            [
             0.6666666666666666,
             "#ed7953"
            ],
            [
             0.7777777777777778,
             "#fb9f3a"
            ],
            [
             0.8888888888888888,
             "#fdca26"
            ],
            [
             1,
             "#f0f921"
            ]
           ],
           "sequentialminus": [
            [
             0,
             "#0d0887"
            ],
            [
             0.1111111111111111,
             "#46039f"
            ],
            [
             0.2222222222222222,
             "#7201a8"
            ],
            [
             0.3333333333333333,
             "#9c179e"
            ],
            [
             0.4444444444444444,
             "#bd3786"
            ],
            [
             0.5555555555555556,
             "#d8576b"
            ],
            [
             0.6666666666666666,
             "#ed7953"
            ],
            [
             0.7777777777777778,
             "#fb9f3a"
            ],
            [
             0.8888888888888888,
             "#fdca26"
            ],
            [
             1,
             "#f0f921"
            ]
           ]
          },
          "colorway": [
           "#636efa",
           "#EF553B",
           "#00cc96",
           "#ab63fa",
           "#FFA15A",
           "#19d3f3",
           "#FF6692",
           "#B6E880",
           "#FF97FF",
           "#FECB52"
          ],
          "font": {
           "color": "#2a3f5f"
          },
          "geo": {
           "bgcolor": "white",
           "lakecolor": "white",
           "landcolor": "#E5ECF6",
           "showlakes": true,
           "showland": true,
           "subunitcolor": "white"
          },
          "hoverlabel": {
           "align": "left"
          },
          "hovermode": "closest",
          "mapbox": {
           "style": "light"
          },
          "paper_bgcolor": "white",
          "plot_bgcolor": "#E5ECF6",
          "polar": {
           "angularaxis": {
            "gridcolor": "white",
            "linecolor": "white",
            "ticks": ""
           },
           "bgcolor": "#E5ECF6",
           "radialaxis": {
            "gridcolor": "white",
            "linecolor": "white",
            "ticks": ""
           }
          },
          "scene": {
           "xaxis": {
            "backgroundcolor": "#E5ECF6",
            "gridcolor": "white",
            "gridwidth": 2,
            "linecolor": "white",
            "showbackground": true,
            "ticks": "",
            "zerolinecolor": "white"
           },
           "yaxis": {
            "backgroundcolor": "#E5ECF6",
            "gridcolor": "white",
            "gridwidth": 2,
            "linecolor": "white",
            "showbackground": true,
            "ticks": "",
            "zerolinecolor": "white"
           },
           "zaxis": {
            "backgroundcolor": "#E5ECF6",
            "gridcolor": "white",
            "gridwidth": 2,
            "linecolor": "white",
            "showbackground": true,
            "ticks": "",
            "zerolinecolor": "white"
           }
          },
          "shapedefaults": {
           "line": {
            "color": "#2a3f5f"
           }
          },
          "ternary": {
           "aaxis": {
            "gridcolor": "white",
            "linecolor": "white",
            "ticks": ""
           },
           "baxis": {
            "gridcolor": "white",
            "linecolor": "white",
            "ticks": ""
           },
           "bgcolor": "#E5ECF6",
           "caxis": {
            "gridcolor": "white",
            "linecolor": "white",
            "ticks": ""
           }
          },
          "title": {
           "x": 0.05
          },
          "xaxis": {
           "automargin": true,
           "gridcolor": "white",
           "linecolor": "white",
           "ticks": "",
           "title": {
            "standoff": 15
           },
           "zerolinecolor": "white",
           "zerolinewidth": 2
          },
          "yaxis": {
           "automargin": true,
           "gridcolor": "white",
           "linecolor": "white",
           "ticks": "",
           "title": {
            "standoff": 15
           },
           "zerolinecolor": "white",
           "zerolinewidth": 2
          }
         }
        },
        "title": {
         "text": "Project Velocity"
        },
        "xaxis": {
         "anchor": "y",
         "domain": [
          0,
          1
         ],
         "title": {
          "text": "log_num_commits"
         }
        },
        "yaxis": {
         "anchor": "x",
         "domain": [
          0,
          1
         ],
         "title": {
          "text": "prs_issues_actions_weighted"
         }
        }
       }
      }
     },
     "metadata": {},
     "output_type": "display_data"
    }
   ],
   "source": [
    "fig.show()"
   ]
  },
  {
   "cell_type": "markdown",
   "id": "186722ae-5eed-41b7-9488-301fa2f4065b",
   "metadata": {},
   "source": [
    "## Conclusion "
   ]
  },
  {
   "cell_type": "markdown",
   "id": "bd46dcd7-1af6-4279-a420-d41fc6f82832",
   "metadata": {},
   "source": [
    "This strategy of developing more complex visualization in a notebook for discussion is something we will continue moving forward. The visualization in 8Knot is strategy #3 with the ability to toggle between the log or raw values, user inputted weights, and date range selector. "
   ]
  }
 ],
 "metadata": {
  "kernelspec": {
   "display_name": "Python 3 (ipykernel)",
   "language": "python",
   "name": "python3"
  },
  "language_info": {
   "codemirror_mode": {
    "name": "ipython",
    "version": 3
   },
   "file_extension": ".py",
   "mimetype": "text/x-python",
   "name": "python",
   "nbconvert_exporter": "python",
   "pygments_lexer": "ipython3",
   "version": "3.12.12"
  }
 },
 "nbformat": 4,
 "nbformat_minor": 5
}
