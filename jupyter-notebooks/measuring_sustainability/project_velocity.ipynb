{
 "cells": [
  {
   "cell_type": "markdown",
   "id": "0c171295-95e9-4807-a417-0bcca77fd6b1",
   "metadata": {
    "tags": []
   },
   "source": [
    "# Project Velocity Discussion Notebook\n"
   ]
  },
  {
   "cell_type": "markdown",
   "id": "d9cb5516-a84a-4541-8191-b486fbfaef85",
   "metadata": {},
   "source": [
    "Project Velocity is defined in chaoss here: https://chaoss.community/kb/metric-project-velocity/ \n",
    "\n",
    "Discussed in the context of CNCF: https://www.cncf.io/blog/2017/06/05/30-highest-velocity-open-source-projects/\n",
    "\n",
    "In the general case the graph axises are definied as: <br>\n",
    "- X-Axis: Logarithmic scale for Code Changes\n",
    "- Y-Axis: Logarithmic scale of Sum of Number of Issues and Number of Review\n",
    "- Dot-size: Committers (we are using distinct contributors)\n",
    "- Dots are project\n",
    "\n",
    "Hover values from CNCF viz: <br>\n",
    "- Project Name \n",
    "- Num of Commits \n",
    "- Project Commit Authors\n",
    "- Size (square root of authors)"
   ]
  },
  {
   "cell_type": "markdown",
   "id": "ab5bd000-d728-4991-b92f-f727c078575a",
   "metadata": {},
   "source": [
    "This notebook does all of the preprocessing down to the visualization for we can try different strategies before putting it into 8Knot"
   ]
  },
  {
   "cell_type": "code",
   "execution_count": null,
   "id": "92bae68a-53e5-47b6-93d1-7c93413517da",
   "metadata": {},
   "outputs": [],
   "source": [
    "import psycopg2\n",
    "import pandas as pd \n",
    "import sqlalchemy as salc\n",
    "import json\n",
    "import plotly.express as px\n",
    "import datetime as dt\n",
    "import plotly\n",
    "import math\n",
    "import os\n",
    "\n",
    "paths = [\"../../comm_cage.json\", \"comm_cage.json\", \"../../config.json\", \"../config.json\", \"config.json\", \"../../copy_cage-padres.json\"]\n",
    "\n",
    "for path in paths:\n",
    "    if os.path.exists(path):\n",
    "        with open(path) as config_file:\n",
    "            config = json.load(config_file)\n",
    "        break\n",
    "else:\n",
    "    raise FileNotFoundError(f\"None of the config files found: {paths}\")"
   ]
  },
  {
   "cell_type": "code",
   "execution_count": null,
   "id": "ad165b59-9469-497e-811a-852064523b89",
   "metadata": {},
   "outputs": [],
   "source": [
    "database_connection_string = 'postgresql+psycopg2://{}:{}@{}:{}/{}'.format(config['user'], config['password'], config['host'], config['port'], config['database'])\n",
    "\n",
    "dbschema='augur_data'\n",
    "engine = salc.create_engine(\n",
    "    database_connection_string,\n",
    "    connect_args={'options': '-csearch_path={}'.format(dbschema)})"
   ]
  },
  {
   "cell_type": "markdown",
   "id": "bff2021c-f33d-45ce-b75e-7694215fe6d3",
   "metadata": {},
   "source": [
    "CNCF incubating projects to demo these visualizations on"
   ]
  },
  {
   "cell_type": "code",
   "execution_count": null,
   "id": "816cc816-55b2-4e5c-a67b-690d16ba88d6",
   "metadata": {
    "tags": []
   },
   "outputs": [],
   "source": [
    "cncf_incubating = [\n",
    "    'https://github.com/cloud-custodian/cloud-custodian',\n",
    "    'https://github.com/kubeedge/kubeedge',\n",
    "    'https://github.com/dragonflyoss/Dragonfly2',\n",
    "    'https://github.com/cert-manager/cert-manager',\n",
    "    'https://github.com/falcosecurity/falco',\n",
    "    'https://github.com/in-toto/in-toto',\n",
    "    'https://github.com/kyverno/kyverno',\n",
    "    'https://github.com/notaryproject/notary',\n",
    "    'https://github.com/keycloak/keycloak',\n",
    "    'https://github.com/cubeFS/cubefs',\n",
    "    'https://github.com/longhorn/longhorn',\n",
    "    'https://github.com/cri-o/cri-o',\n",
    "    'https://github.com/cilium/cilium',\n",
    "    'https://github.com/containernetworking/cni',\n",
    "    'https://github.com/crossplane/crossplane',\n",
    "    'https://github.com/volcano-sh/volcano',\n",
    "    'https://github.com/grpc/grpc',\n",
    "    'https://github.com/projectcontour/contour',\n",
    "    'https://github.com/emissary-ingress/emissary',\n",
    "    'https://github.com/istio/istio',\n",
    "    'https://github.com/cloudevents/spec',\n",
    "    'https://github.com/nats-io/nats-server',\n",
    "    'https://github.com/backstage/backstage',\n",
    "    'https://github.com/buildpacks/pack',\n",
    "    'https://github.com/kubevela/kubevela',\n",
    "    'https://github.com/kubevirt/kubevirt',\n",
    "    'https://github.com/operator-framework/operator-sdk',\n",
    "    'https://github.com/keptn/keptn',\n",
    "    'https://github.com/openkruise/kruise',\n",
    "    'https://github.com/dapr/dapr',\n",
    "    'https://github.com/kedacore/keda',\n",
    "    'https://github.com/knative/community',\n",
    "    'https://github.com/cortexproject/cortex',\n",
    "    'https://github.com/OpenObservability/OpenMetrics',\n",
    "    'https://github.com/thanos-io/thanos',\n",
    "    'https://github.com/open-telemetry/community',\n",
    "    'https://github.com/chaos-mesh/chaos-mesh',\n",
    "    'https://github.com/litmuschaos/litmus'\n",
    "] "
   ]
  },
  {
   "cell_type": "markdown",
   "id": "9627cb1c-e411-4e4d-8f4b-12d58c6e22f9",
   "metadata": {},
   "source": [
    "Get repo_ids for augur data access "
   ]
  },
  {
   "cell_type": "code",
   "execution_count": null,
   "id": "dab93bdc-9526-472b-8c78-f59ec808f98d",
   "metadata": {},
   "outputs": [],
   "source": [
    "url_query = str(cncf_incubating)\n",
    "url_query = url_query[1:-1]\n",
    "\n",
    "repo_query = salc.sql.text(f\"\"\"\n",
    "        SET SCHEMA 'augur_data';\n",
    "        SELECT DISTINCT\n",
    "            r.repo_id,\n",
    "            r.repo_name\n",
    "        FROM\n",
    "            repo r\n",
    "        JOIN repo_groups rg \n",
    "        ON r.repo_group_id = rg.repo_group_id\n",
    "        WHERE\n",
    "            r.repo_git in({url_query})\n",
    "        \"\"\")\n",
    "\n",
    "\n",
    "\n",
    "engine = salc.create_engine(\n",
    "    database_connection_string,\n",
    "    connect_args={'options': '-csearch_path={}'.format(dbschema)})\n",
    "\n",
    "with engine.connect() as conn:\n",
    "    rows = conn.execute(repo_query)\n",
    "    \n",
    "# t = engine.execute(repo_query)\n",
    "results = rows.all()\n",
    "\n",
    "#t = engine.execute(repo_query)\n",
    "# results = t.all()\n",
    "repo_ids = [ row[0] for row in results]\n",
    "repo_names = [ row[1] for row in results]\n",
    "print(repo_ids)\n",
    "print(repo_names)"
   ]
  },
  {
   "cell_type": "markdown",
   "id": "f9ea0118-0e61-4a3f-9994-65d5a65a3006",
   "metadata": {},
   "source": [
    "Query for contributions with related contributor information. This query gets the following contributor actions: \n",
    "- Commits \n",
    "- Issues: open, close, comment \n",
    "- Pull Requests: open, close, merge, review, comment\n"
   ]
  },
  {
   "cell_type": "code",
   "execution_count": null,
   "id": "c7c59968-f7d0-4f9f-a469-93f7bd3bb828",
   "metadata": {},
   "outputs": [],
   "source": [
    "repo_statement = str(repo_ids)\n",
    "repo_statement = repo_statement[1:-1]\n",
    "print(repo_statement)\n",
    "\n",
    "contrib_query = salc.sql.text(f\"\"\"\n",
    "                SELECT\n",
    "                        repo_id as id,\n",
    "                        repo_name,\n",
    "                        cntrb_id,\n",
    "                        created_at,\n",
    "                        login,\n",
    "                        action,\n",
    "                        rank\n",
    "                    FROM\n",
    "                        augur_data.explorer_contributor_actions\n",
    "                    WHERE\n",
    "                        repo_id in({repo_statement})\n",
    "                \"\"\")\n",
    "df = pd.read_sql(contrib_query, con=engine)\n",
    "\n",
    "df = df.reset_index()\n",
    "df.drop(\"index\", axis=1, inplace=True)"
   ]
  },
  {
   "cell_type": "code",
   "execution_count": null,
   "id": "67970ad6-a7fc-4905-a7f4-34781c290be4",
   "metadata": {},
   "outputs": [],
   "source": [
    "df"
   ]
  },
  {
   "cell_type": "markdown",
   "id": "aec58711-92c0-4fad-9b19-22d71fc659b7",
   "metadata": {},
   "source": [
    "df_cntrbs holds values for number of unique contributors in each repo"
   ]
  },
  {
   "cell_type": "code",
   "execution_count": null,
   "id": "4f354ea9-766b-4bd9-a5ec-35073f4aa5ed",
   "metadata": {
    "tags": []
   },
   "outputs": [],
   "source": [
    "df_cntrbs = pd.DataFrame(df.groupby('repo_name')['cntrb_id'].nunique()).rename(columns={\"cntrb_id\": \"num_unique_contributors\"})\n",
    "df_cntrbs.head()"
   ]
  },
  {
   "cell_type": "markdown",
   "id": "ab10df59-ea0e-4f51-b654-44e7f9e1cff4",
   "metadata": {},
   "source": [
    "df_actions holds a transformed version of the df to have the actions as columns, repo_name as the index, and the row values as the corresponding counts "
   ]
  },
  {
   "cell_type": "code",
   "execution_count": null,
   "id": "39e0807b-8dc5-41ce-b40c-59b8bb9661fb",
   "metadata": {},
   "outputs": [],
   "source": [
    "# group actions and repos to get the counts of the actions by repo \n",
    "df_actions = pd.DataFrame(df.groupby('repo_name')['action'].value_counts())\n",
    "df_actions = df_actions.rename(columns={\"action\": \"count\"}).reset_index()\n",
    "# pivot df to reformat the actions to be columns and repo_id to be rows \n",
    "df_actions = df_actions.pivot(index=\"repo_name\", columns=\"action\", values=\"count\")"
   ]
  },
  {
   "cell_type": "code",
   "execution_count": null,
   "id": "6797704e-d642-4e09-98a5-116c68ebc0db",
   "metadata": {
    "tags": []
   },
   "outputs": [],
   "source": [
    "df_actions.head()"
   ]
  },
  {
   "cell_type": "markdown",
   "id": "06de4849-4ca2-4cc7-9658-fb68f07f832e",
   "metadata": {},
   "source": [
    "df_consolidated combines the actions and unique contributors and then specific columns for visualization use are added on "
   ]
  },
  {
   "cell_type": "code",
   "execution_count": null,
   "id": "225828e3-c49a-4486-8232-59784281638c",
   "metadata": {
    "tags": []
   },
   "outputs": [],
   "source": [
    "df_consolidated = pd.concat([df_actions, df_cntrbs], axis=1).reset_index()"
   ]
  },
  {
   "cell_type": "code",
   "execution_count": null,
   "id": "fe6ed034-93a7-4612-a4d1-a1752cdea0f6",
   "metadata": {},
   "outputs": [],
   "source": [
    "df_consolidated.head()"
   ]
  },
  {
   "cell_type": "markdown",
   "id": "b56f8c4e-0496-416e-85e7-a163e3201840",
   "metadata": {},
   "source": [
    "## Part where discussion is needed "
   ]
  },
  {
   "cell_type": "markdown",
   "id": "589b08a9-1c64-40cf-b9ee-c217449e1973",
   "metadata": {},
   "source": [
    "The x and y axis are the atributes that we need to decide on. Choass defines them as the following:\n",
    "- X-Axis: Logarithmic scale for Code Changes\n",
    "- Y-Axis: Logarithmic scale of Sum of Number of Issues and Number of Reviews\n",
    "\n",
    "With the data we have lets figure out what the best aplication is for the most informative visualization "
   ]
  },
  {
   "cell_type": "code",
   "execution_count": null,
   "id": "47e16045-f994-4661-9647-f636841fff2d",
   "metadata": {},
   "outputs": [],
   "source": [
    "df_consolidated[\"prs_opened+issues_closed\"] = df_consolidated[\"issue_closed\"] + df_consolidated[\"pull_request_open\"]\n",
    "df_consolidated[\"log_prs_o+issues_c\"] = df_consolidated[\"prs_opened+issues_closed\"].apply(math.log)\n",
    "df_consolidated[\"log_num_commits\"] = df_consolidated[\"commit\"].apply(math.log)\n",
    "df_consolidated[\"log_num_contrib\"] = df_consolidated[\"num_unique_contributors\"].apply(math.log)"
   ]
  },
  {
   "cell_type": "code",
   "execution_count": null,
   "id": "63472c58-2189-4daf-b033-2926f334eaf1",
   "metadata": {
    "tags": []
   },
   "outputs": [],
   "source": [
    "df_consolidated.head()"
   ]
  },
  {
   "cell_type": "markdown",
   "id": "fd0a174c-e51a-42a5-b80f-c45c3d79e2eb",
   "metadata": {},
   "source": [
    "Visualization, more specific styling will be applied on 8Knot when axises are choosen "
   ]
  },
  {
   "cell_type": "code",
   "execution_count": null,
   "id": "eb26e483-6a0c-4632-b3c8-69a432d280a3",
   "metadata": {},
   "outputs": [],
   "source": [
    "fig = px.scatter(df_consolidated, \n",
    "                 x=\"log_num_commits\", \n",
    "                 y=\"log_prs_o+issues_c\", \n",
    "                 color=\"repo_name\",\n",
    "                 size='log_num_contrib', \n",
    "                 hover_data=['repo_name'],\n",
    "                 title=\"Project Velocity\")"
   ]
  },
  {
   "cell_type": "code",
   "execution_count": null,
   "id": "d06a4ace-e628-4aa6-b774-97a0403c6b5e",
   "metadata": {},
   "outputs": [],
   "source": [
    "fig.show()"
   ]
  },
  {
   "cell_type": "markdown",
   "id": "aa779129-f1c8-4915-8ecb-ab47c6292f33",
   "metadata": {},
   "source": [
    "## Application of different strategies"
   ]
  },
  {
   "cell_type": "markdown",
   "id": "51303a53-57f8-4c2c-b9c2-f127c94a3c58",
   "metadata": {
    "tags": []
   },
   "source": [
    "Note: axis will be edited when implemented in dash as well as the ability to use a date range slider "
   ]
  },
  {
   "cell_type": "markdown",
   "id": "8e207ab7-e4fa-4143-8267-57f501a70b22",
   "metadata": {},
   "source": [
    "### 1: Y axis Total PR and Issues opened "
   ]
  },
  {
   "cell_type": "code",
   "execution_count": null,
   "id": "95ae689c-ae8e-47ee-8d43-9553c19c1eb2",
   "metadata": {},
   "outputs": [],
   "source": [
    "df_consolidated[\"prs_open_plus_issues_open\"] = df_consolidated[\"issue_opened\"] + df_consolidated[\"pull_request_open\"]\n",
    "df_consolidated[\"log_prs_open+issues_open\"] = df_consolidated[\"prs_open_plus_issues_open\"].apply(math.log)"
   ]
  },
  {
   "cell_type": "markdown",
   "id": "305a2f4a-e08d-45c4-9f4c-f7fcca83f6ae",
   "metadata": {},
   "source": [
    "Visualization with logs"
   ]
  },
  {
   "cell_type": "code",
   "execution_count": null,
   "id": "7db019c0-c705-464c-9613-7db5a76ea855",
   "metadata": {},
   "outputs": [],
   "source": [
    "fig = px.scatter(df_consolidated, \n",
    "                 x=\"log_num_commits\", \n",
    "                 y=\"log_prs_open+issues_open\", \n",
    "                 color=\"repo_name\",\n",
    "                 size='log_num_contrib', \n",
    "                 hover_data=['repo_name'],\n",
    "                 title=\"Project Velocity\")"
   ]
  },
  {
   "cell_type": "code",
   "execution_count": null,
   "id": "efd2d796-2c57-47d0-a10f-1ac91596fd3e",
   "metadata": {
    "tags": []
   },
   "outputs": [],
   "source": [
    "fig.show()"
   ]
  },
  {
   "cell_type": "markdown",
   "id": "56e73dbf-4a4f-41d3-86a3-037839a28df6",
   "metadata": {},
   "source": [
    "Visualization of raw values for y axis"
   ]
  },
  {
   "cell_type": "code",
   "execution_count": null,
   "id": "b047f0f2-05e3-45c3-9f9d-6cf6f0d6b637",
   "metadata": {
    "tags": []
   },
   "outputs": [],
   "source": [
    "fig = px.scatter(df_consolidated, \n",
    "                 x=\"log_num_commits\", \n",
    "                 y=\"prs_open_plus_issues_open\", \n",
    "                 color=\"repo_name\",\n",
    "                 size='log_num_contrib', \n",
    "                 hover_data=['repo_name'],\n",
    "                 title=\"Project Velocity\")"
   ]
  },
  {
   "cell_type": "code",
   "execution_count": null,
   "id": "cea2fe17-6212-4533-a574-50cc58ff4b2f",
   "metadata": {
    "tags": []
   },
   "outputs": [],
   "source": [
    "fig.show()"
   ]
  },
  {
   "cell_type": "markdown",
   "id": "9c791393-0426-41ff-8a75-e6473b6078ca",
   "metadata": {},
   "source": [
    "### 2: PR and issue actions\n",
    "\n",
    "PR: open, closed, merged <br>\n",
    "Issues: open , closed"
   ]
  },
  {
   "cell_type": "code",
   "execution_count": null,
   "id": "71d166b4-00b8-44be-9049-b7a178bd1b7f",
   "metadata": {},
   "outputs": [],
   "source": [
    "df_consolidated[\"prs_issues_actions\"] = (df_consolidated[\"issue_opened\"] + \n",
    "df_consolidated[\"issue_closed\"] + df_consolidated[\"pull_request_open\"] + df_consolidated[\"pull_request_merged\"] + \n",
    "df_consolidated[\"pull_request_closed\"])\n",
    "df_consolidated[\"log_prs_issues_actions\"] = df_consolidated[\"prs_issues_actions\"].apply(math.log)"
   ]
  },
  {
   "cell_type": "code",
   "execution_count": null,
   "id": "b1b6243f-6a06-4da7-906a-f50e52c5ede1",
   "metadata": {},
   "outputs": [],
   "source": [
    "fig = px.scatter(df_consolidated, \n",
    "                 x=\"log_num_commits\", \n",
    "                 y=\"log_prs_issues_actions\", \n",
    "                 color=\"repo_name\",\n",
    "                 size='log_num_contrib', \n",
    "                 hover_data=['repo_name'],\n",
    "                 title=\"Project Velocity\")"
   ]
  },
  {
   "cell_type": "code",
   "execution_count": null,
   "id": "f851a8a7-55b9-412c-a6e8-1f05a1140b60",
   "metadata": {},
   "outputs": [],
   "source": [
    "fig.show()"
   ]
  },
  {
   "cell_type": "markdown",
   "id": "8fc85ca5-c7e8-4a6d-a46e-e7c1f75db452",
   "metadata": {},
   "source": [
    "Visualization of raw values for y axis"
   ]
  },
  {
   "cell_type": "code",
   "execution_count": null,
   "id": "164ac34f-9f1b-4926-a48b-62a512182be8",
   "metadata": {
    "tags": []
   },
   "outputs": [],
   "source": [
    "fig = px.scatter(df_consolidated, \n",
    "                 x=\"log_num_commits\", \n",
    "                 y=\"prs_issues_actions\", \n",
    "                 color=\"repo_name\",\n",
    "                 size='log_num_contrib', \n",
    "                 hover_data=['repo_name'],\n",
    "                 title=\"Project Velocity\")"
   ]
  },
  {
   "cell_type": "code",
   "execution_count": null,
   "id": "2b7432e4-3ecd-4606-b530-f60be146a015",
   "metadata": {
    "tags": []
   },
   "outputs": [],
   "source": [
    "fig.show()"
   ]
  },
  {
   "cell_type": "markdown",
   "id": "b503c9dd-68c4-426c-9cd3-2490e44f250c",
   "metadata": {},
   "source": [
    "### 3: PR and Issues actions with weights \n",
    "PR: open, closed, merged <br>\n",
    "Issues: open , closed\n",
    "\n",
    "Note: these weights to be workshoped if this stategy is choosen, the weights in relation to each other is most important "
   ]
  },
  {
   "cell_type": "code",
   "execution_count": null,
   "id": "780a4365-d057-410e-a4d9-df315bf340d5",
   "metadata": {},
   "outputs": [],
   "source": [
    "i_o_weight = .3\n",
    "i_c_weight = .4\n",
    "pr_o_weight = .5\n",
    "pr_m_weight = .7\n",
    "pr_c_weight = .2"
   ]
  },
  {
   "cell_type": "code",
   "execution_count": null,
   "id": "90c17e1e-f3bc-4a0f-bebc-381f4ce0cbf7",
   "metadata": {},
   "outputs": [],
   "source": [
    "df_consolidated[\"prs_issues_actions_weighted\"] = (df_consolidated[\"issue_opened\"]*i_o_weight + \n",
    "df_consolidated[\"issue_closed\"]*i_c_weight + df_consolidated[\"pull_request_open\"]*pr_o_weight\n",
    "+ df_consolidated[\"pull_request_merged\"]*pr_m_weight + df_consolidated[\"pull_request_closed\"]*pr_c_weight)\n",
    "df_consolidated[\"log_prs_issues_actions_weighted\"] = df_consolidated[\"prs_issues_actions_weighted\"].apply(math.log)"
   ]
  },
  {
   "cell_type": "markdown",
   "id": "cdc4b553-a45f-487c-b600-16711ecc7cf5",
   "metadata": {},
   "source": [
    "Visualization of log values for y axis "
   ]
  },
  {
   "cell_type": "code",
   "execution_count": null,
   "id": "02a85dda-06c9-4083-b32f-c2a529282336",
   "metadata": {
    "tags": []
   },
   "outputs": [],
   "source": [
    "fig = px.scatter(df_consolidated, \n",
    "                 x=\"log_num_commits\", \n",
    "                 y=\"log_prs_issues_actions_weighted\", \n",
    "                 color=\"repo_name\",\n",
    "                 size='log_num_contrib', \n",
    "                 hover_data=['repo_name'],\n",
    "                 title=\"Project Velocity\")"
   ]
  },
  {
   "cell_type": "code",
   "execution_count": null,
   "id": "1ca248b6-db08-4474-aa44-542bd3248de9",
   "metadata": {
    "tags": []
   },
   "outputs": [],
   "source": [
    "fig.show()"
   ]
  },
  {
   "cell_type": "markdown",
   "id": "66158c5b-ac0a-49a8-9ae8-3303e0bac968",
   "metadata": {},
   "source": [
    "Visualization of raw values"
   ]
  },
  {
   "cell_type": "code",
   "execution_count": null,
   "id": "3c54770a-3d1b-47e5-a840-f431802b786c",
   "metadata": {
    "tags": []
   },
   "outputs": [],
   "source": [
    "fig = px.scatter(df_consolidated, \n",
    "                 x=\"log_num_commits\", \n",
    "                 y=\"prs_issues_actions_weighted\", \n",
    "                 color=\"repo_name\",\n",
    "                 size='log_num_contrib', \n",
    "                 hover_data=['repo_name'],\n",
    "                 title=\"Project Velocity\")"
   ]
  },
  {
   "cell_type": "code",
   "execution_count": null,
   "id": "90ddac4a-5abd-4862-b47b-bec188ee06ea",
   "metadata": {
    "tags": []
   },
   "outputs": [],
   "source": [
    "fig.show()"
   ]
  },
  {
   "cell_type": "markdown",
   "id": "186722ae-5eed-41b7-9488-301fa2f4065b",
   "metadata": {},
   "source": [
    "## Conclusion "
   ]
  },
  {
   "cell_type": "markdown",
   "id": "bd46dcd7-1af6-4279-a420-d41fc6f82832",
   "metadata": {},
   "source": [
    "This strategy of developing more complex visualization in a notebook for discussion is something we will continue moving forward. The visualization in 8Knot is strategy #3 with the ability to toggle between the log or raw values, user inputted weights, and date range selector. "
   ]
  }
 ],
 "metadata": {
  "kernelspec": {
   "display_name": "Python 3 (ipykernel)",
   "language": "python",
   "name": "python3"
  },
  "language_info": {
   "codemirror_mode": {
    "name": "ipython",
    "version": 3
   },
   "file_extension": ".py",
   "mimetype": "text/x-python",
   "name": "python",
   "nbconvert_exporter": "python",
   "pygments_lexer": "ipython3",
   "version": "3.12.12"
  }
 },
 "nbformat": 4,
 "nbformat_minor": 5
}
