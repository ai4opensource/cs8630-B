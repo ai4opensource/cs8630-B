{
 "cells": [
  {
   "cell_type": "markdown",
   "metadata": {},
   "source": [
    "# Building network of collaborators between projects in WASM ecosystem. \n",
    "\n",
    "Contributors in a repo interact with one another via:\n",
    "- co-committing\n",
    "- reviewing each other's PRs\n",
    "- messaging in the same PR thread\n",
    "- messaging in the same issue thread\n",
    "\n",
    "We have previously built and analyzed a graph representation of this and have\n",
    "identified those individuals who are highly connected to other contributors in the same repo.\n",
    "\n",
    "## Repo ecosystem collaboration network\n",
    "\n",
    "Contributors are often participants in more than one repository at once. Likewise, groups of contributors might collaborate with one another in more than one repo at a time. \n",
    "\n",
    "Identifying meta-communities of contributors beyond the scope of an individual repo has implications in studying knowledge retention, project preeminence, and linchpin contributorship, among other things.\n",
    "\n",
    "## Notebook premise\n",
    "\n",
    "In this notebook, we'll build and annotate the collaboration network representation of the following projects:\n",
    "\n",
    "- bytecodealliance/wasmtime\n",
    "- wasmedge/wasmedge\n",
    "- wasmerio/wasmer\n",
    "- wavm/wavm\n",
    "\n",
    "\n",
    "## Notebook Author\n",
    "James Kunstle (jkunstle@redhat.com)\n",
    "\n",
    "### Majority of utility + module code by: \n",
    "Maria Shevchuk (maria410@bu.edu)"
   ]
  },
  {
   "cell_type": "markdown",
   "metadata": {},
   "source": [
    "# Required packages"
   ]
  },
  {
   "cell_type": "code",
   "execution_count": null,
   "metadata": {},
   "outputs": [],
   "source": [
    "# These are the required packages. Giving a 'requirements.txt' can be insufficient for \n",
    "# ipynb kernels sometimes, so I'd recommend uncommenting and running the below line if\n",
    "# you don't have all dependencies.\n",
    "# The new version of requirements.txt has all the necessary imports. --- SPG 10/23/2025\n",
    "#%pip install sqlalchemy pandas psycopg2-binary networkx matplotlib scipy nbformat kaleido plotly"
   ]
  },
  {
   "cell_type": "markdown",
   "metadata": {},
   "source": [
    "## Imports"
   ]
  },
  {
   "cell_type": "code",
   "execution_count": null,
   "metadata": {},
   "outputs": [],
   "source": [
    "from data_utils.queries import fetch_data\n",
    "from graph_utils.graph_helper import build_graph, find_threshold, apply_pagerank, draw_network\n",
    "import networkx as nx\n",
    "import matplotlib.pyplot as plt\n",
    "import datetime as dt\n",
    "import numpy as np\n",
    "import pandas as pd\n",
    "import plotly.express as px\n",
    "import colorsys\n",
    "from IPython.display import Image\n",
    "import os\n",
    "\n",
    "# Backend dynamic rendering. Will need to be changed for Linux machines.\n",
    "plt.switch_backend('macosx')"
   ]
  },
  {
   "cell_type": "markdown",
   "metadata": {},
   "source": [
    "## Merge networks"
   ]
  },
  {
   "cell_type": "markdown",
   "metadata": {},
   "source": [
    "For each repo we're considering, we first build its own collaboration network. A collaboration network \n",
    "is a representation of inter-contributor interactions, modeled with contributors as 'nodes' and \n",
    "interactions as 'edges.' Edge weights are based on the kind of interactions two contributors have\n",
    "had. \n",
    "\n",
    "We merge that collaboration network of one repo with the other collaboration networks created for other repos.\n",
    "\n",
    "Some nodes will have the same identify between two repos- for these nodes, we re-ascribe a color from the\n",
    "average of the node's two origin repos. We also make a note that the node appeared in more than one repo\n",
    "previously, and take the union of all of it's existing edges in both networks.\n",
    "\n",
    "The end product is a network with unique nodes, and each node is connected to all of the other nodes they've \n",
    "collaborated with in the past across all of the studied repos."
   ]
  },
  {
   "cell_type": "code",
   "execution_count": null,
   "metadata": {},
   "outputs": [],
   "source": [
    "import math\n",
    "import colorsys\n",
    "import numpy as np\n",
    "import networkx as nx\n",
    "\n",
    "def _to_int_rgb(rgb_triplet):\n",
    "    \"\"\"Coerce (r,g,b) to ints in [0,255], tolerating numpy scalars and 0..1 floats.\"\"\"\n",
    "    r, g, b = [float(x) for x in rgb_triplet]\n",
    "    # If channels look like 0..1, scale to 0..255\n",
    "    if 0.0 <= max(r, g, b) <= 1.0:\n",
    "        r, g, b = r * 255.0, g * 255.0, b * 255.0\n",
    "    r = max(0, min(255, int(round(r))))\n",
    "    g = max(0, min(255, int(round(g))))\n",
    "    b = max(0, min(255, int(round(b))))\n",
    "    return (r, g, b)\n",
    "\n",
    "def _rms_avg_channel(c1, c2):\n",
    "    \"\"\"Root-mean-square average of two channel values, returned as int 0..255.\"\"\"\n",
    "    return max(0, min(255, int(round(math.sqrt(((float(c1)**2 + float(c2)**2) / 2.0))))))\n",
    "\n",
    "def build_ecosystem_graph(repos, start, end):\n",
    "    # color palette across repos in HSV, then to 0..255 RGB ints\n",
    "    valid_colors = [\n",
    "        _to_int_rgb(colorsys.hsv_to_rgb(hue, 1.0, 1.0))\n",
    "        for hue in np.linspace(start=0.05, stop=0.95, num=len(repos))\n",
    "    ]\n",
    "\n",
    "    ecosystem_g = None\n",
    "\n",
    "    for i, (repo, org) in enumerate(repos):\n",
    "        r_data = fetch_data(org, repo)\n",
    "        print(f\"got data for {repo}/{org}\")\n",
    "\n",
    "        r_g = build_graph(\n",
    "            r_data, start, end,\n",
    "            cmt_weight=1.0, ism_weight=0.1, pr_weight=2.0, prm_weight=0.2\n",
    "        )\n",
    "        print(f\"built graph for {repo}/{org}\")\n",
    "\n",
    "        # Set a single repo color for all nodes in this repo graph (normalized to ints)\n",
    "        nx.set_node_attributes(r_g, valid_colors[i], \"color\")\n",
    "        nx.set_node_attributes(r_g, f\"{org}/{repo}\", \"origin\")\n",
    "        print(f\"set attribute for {repo}/{org}\")\n",
    "\n",
    "        if ecosystem_g is None:\n",
    "            ecosystem_g = r_g\n",
    "        else:\n",
    "            combo_g = nx.compose(ecosystem_g, r_g)\n",
    "\n",
    "            # Average colors for nodes present in both graphs (RMS per channel)\n",
    "            shared = r_g.nodes & ecosystem_g.nodes\n",
    "            color_data = {}\n",
    "            for n in shared:\n",
    "                r1, g1, b1 = ecosystem_g.nodes[n]['color']\n",
    "                r2, g2, b2 = r_g.nodes[n]['color']\n",
    "                color_data[n] = (\n",
    "                    _rms_avg_channel(r1, r2),\n",
    "                    _rms_avg_channel(g1, g2),\n",
    "                    _rms_avg_channel(b1, b2),\n",
    "                )\n",
    "            if color_data:\n",
    "                nx.set_node_attributes(combo_g, color_data, 'color')\n",
    "\n",
    "            # Track combined origins for shared nodes\n",
    "            origin_data = {n: f\"{ecosystem_g.nodes[n]['origin']}, {r_g.nodes[n]['origin']}\" for n in shared}\n",
    "            if origin_data:\n",
    "                nx.set_node_attributes(combo_g, origin_data, 'origin')\n",
    "\n",
    "            ecosystem_g = combo_g\n",
    "\n",
    "    # FINAL: build Plotly-friendly color strings, guaranteeing ints\n",
    "    ecosystem_g_colors = []\n",
    "    for n in ecosystem_g.nodes:\n",
    "        r, g, b = _to_int_rgb(ecosystem_g.nodes[n]['color'])\n",
    "        ecosystem_g.nodes[n]['color'] = (r, g, b)  # keep graph clean for later use\n",
    "        ecosystem_g_colors.append(f\"rgb({r},{g},{b})\")\n",
    "\n",
    "    return ecosystem_g, ecosystem_g_colors"
   ]
  },
  {
   "cell_type": "markdown",
   "metadata": {},
   "source": [
    "## Explanation of above logic:\n",
    "\n",
    "The goal of the above function is to combine the collaboration networks of the input repos, creating an 'ecosystem' network, with node-colorings corresponding to the repos that a node was associated with. The overarching pseudo-code is the following:\n",
    "\n",
    "```\n",
    " // ecosystem network object\n",
    "G = None\n",
    "\n",
    "for repo in repolist:\n",
    "    \n",
    "    // network of repo\n",
    "    g = build_network(repo)\n",
    "    \n",
    "    if G is None:\n",
    "        G = g\n",
    "    else:\n",
    "        // merge the existing network with the \n",
    "        // new network\n",
    "        G = combine_networks(G, g)\n",
    "\n",
    "        // overlapping nodes\n",
    "        common_nodes = union(G.nodes, g.nodes)\n",
    "\n",
    "        for n in common_nodes:\n",
    "            // take the running average color of node\n",
    "            n.color = avg(G[n].color, g[n].color)\n",
    "\n",
    "return G\n",
    "```"
   ]
  },
  {
   "cell_type": "markdown",
   "metadata": {},
   "source": [
    "## Build the visualization of an ecosystem-level collaboration network."
   ]
  },
  {
   "cell_type": "markdown",
   "metadata": {},
   "source": [
    "Arbitrarily starting in January 2017 and ending in September 2023, create the collaboration network of the following four repos."
   ]
  },
  {
   "cell_type": "code",
   "execution_count": null,
   "metadata": {},
   "outputs": [],
   "source": [
    "# repo, org pairs\n",
    "repos = [\n",
    "    (\"wasmtime\", \"bytecodealliance\"),\n",
    "    (\"wasmedge\", \"wasmedge\"),\n",
    "    (\"wasmer\", \"wasmerio\"),\n",
    "    (\"wavm\", \"wavm\")\n",
    "    ]\n",
    "\n",
    "# start of analysis, end of analysis\n",
    "start = dt.datetime.strptime(\"1/2017\", \"%m/%Y\")\n",
    "end = dt.datetime.strptime(\"9/2023\", \"%m/%Y\")\n",
    "\n",
    "ecosystem_g, ecosystem_g_colors = build_ecosystem_graph(repos, start, end)"
   ]
  },
  {
   "cell_type": "markdown",
   "metadata": {},
   "source": [
    "Apply the 'pagerank' algorithm on the network to identify the nodes that are the most connected to one another.\n",
    "\n",
    "Score the nodes in consideration of importance and use that score to render more important nodes as physically larger."
   ]
  },
  {
   "cell_type": "code",
   "execution_count": null,
   "metadata": {},
   "outputs": [],
   "source": [
    "ecosystem_g_pr_scores, ecosystem_g_normscores = apply_pagerank(ecosystem_g)\n",
    "\n",
    "# for the purpose of the ecosystem drawing, we don't use the threshold value. \n",
    "# the threshold value is only used when we don't override the colors with our own values.\n",
    "ecosystem_g_thresh = find_threshold(np.array(list(ecosystem_g_normscores.values())), [\"percentage\", 10])\n",
    "ecosystem_g_figure = draw_network(ecosystem_g, start, end, ecosystem_g_pr_scores, ecosystem_g_normscores, ecosystem_g_thresh, color_override=ecosystem_g_colors)"
   ]
  },
  {
   "cell_type": "code",
   "execution_count": null,
   "metadata": {},
   "outputs": [],
   "source": [
    "ecosystem_g_figure"
   ]
  },
  {
   "cell_type": "code",
   "execution_count": null,
   "metadata": {},
   "outputs": [],
   "source": [
    "# write an image of the ecosystem for review. Above rendered figure doesn't appear in Github review.\n",
    "ecosystem_g_figure.write_image(\"wasm_ecosystem.png\")\n",
    "Image(filename=\"wasm_ecosystem.png\")"
   ]
  },
  {
   "cell_type": "markdown",
   "metadata": {},
   "source": [
    "## Network Interpretation:\n",
    "\n",
    "Each 'dot' in the network is a contributor. \n",
    "\n",
    "The size and location of each node is indicative of that contributor's pagerank-centrality in the overall collaboration network.\n",
    "\n",
    "The edges between nodes represent the existence of a relationship- two contributors that participated in the same issue message thread, reviewing each other's PRs, etc.\n",
    "\n",
    "Node color is indicative of the repositories that a given node has participated in. For instance, each individual repo is assigned its own distinct color. If a contributor participates in only one repo, their node color will be identical to the repo's color. If a contributor participates in more than one repo, the color of the contirbutor's node is the average of the colors of the repo they participate in."
   ]
  },
  {
   "cell_type": "markdown",
   "metadata": {},
   "source": [
    "Process the network, counting the number of nodes per repo overlap category to see where largest overlaps are.\n",
    "\n",
    "TODO: Colors for the histogram below should be inherited from network above, unsure why they're not."
   ]
  },
  {
   "cell_type": "code",
   "execution_count": null,
   "metadata": {},
   "outputs": [],
   "source": [
    "origin_colors = {}\n",
    "origin_counts = {}\n",
    "\n",
    "for node in ecosystem_g.nodes:\n",
    "\n",
    "    # tri-tuple of RGB\n",
    "    origin = ecosystem_g.nodes[node]['origin']\n",
    "    color = ecosystem_g.nodes[node]['color']\n",
    "\n",
    "    if origin not in origin_colors:\n",
    "        origin_colors[origin] = color\n",
    "    \n",
    "    if origin not in origin_counts:\n",
    "        origin_counts[origin] = 1\n",
    "    else:\n",
    "        origin_counts[origin] += 1\n",
    "\n",
    "# sort by size of overlap\n",
    "origin_counts = sorted([(key, val) for key, val in origin_counts.items()], key=lambda x: x[1])\n",
    "\n",
    "# reorder colors by origin value\n",
    "origin_colors = [origin_colors[origin_val[0]] for origin_val in origin_counts]\n",
    "df_overlap = pd.DataFrame(origin_counts, columns=[\"repos\", \"size_overlap\"])"
   ]
  },
  {
   "cell_type": "markdown",
   "metadata": {},
   "source": [
    "Draw histogram. Represents size of populations in respective collaboration overlap, e.g. at time of writing, 85 contributors had made contributions to wasmtime+wasmer. \n",
    "\n",
    "These counts don't consider contribution quality- a contributor could land in the 'wasmer+wasmtime' pile for a single issue they authored in 2017. This is an area of future work."
   ]
  },
  {
   "cell_type": "code",
   "execution_count": null,
   "metadata": {},
   "outputs": [],
   "source": [
    "px_overlap_frequency = px.bar(df_overlap, x='repos', y='size_overlap', color=origin_colors)\n",
    "px_overlap_frequency.update_layout(showlegend=False)\n",
    "px_overlap_frequency.write_image(\"wasm_histogram.png\")\n",
    "px_overlap_frequency"
   ]
  },
  {
   "cell_type": "code",
   "execution_count": null,
   "metadata": {},
   "outputs": [],
   "source": [
    "Image(filename=\"wasm_histogram.png\")"
   ]
  },
  {
   "cell_type": "markdown",
   "metadata": {},
   "source": [
    "## Summary of Findings:\n",
    "\n",
    "This notebook is not answering to a particular hypothesis- we are developing this technology as background for future work. However, the above results are good candidates for inspection because they summarize an intuitively sensible finding.\n",
    "\n",
    "The network being considered is a raw collaboration network between people across four communities. The histogram following highlights the populations of contributors conditioned on their historical contribution breadth- WHO has contributed WHERE, naively.\n",
    "\n",
    "We see that, for the majority of contributors, only one project receives attention. There are noticable linchpin contributors in the network that connect WASMTime+WASMEdge, or WASMTime, WASMer, and WAVM, but most contributors participate in only one project.\n",
    "\n",
    "Further study might answer the question of inter-project collaboration quality: for those people who participate in more than one project, are they doing so in the same way? Are those who are influential in one community more likely to be influential in another?\n",
    "\n",
    "## Key take-away:\n",
    "\n",
    "Among the projects studied, there are minor overlaps on contributorship with some noteable linchpins, but even considering collaboration back to 2017, the projects are relatively siloed.\n",
    "\n",
    "## Suggested questions for future work:\n",
    "\n",
    "1. Are the repos studied connected semantically by purpose? If they're in the WASM domain but aren't actually used together in practice (some being Browser WASM while others are serverside) then they'd obviously be fairly disconnected. Could be fertile ground for a project discovery phase- where are the contributors to the known projects also contributing? What does that 2nd round collaboration network reveal about collaboration densities between projects?\n",
    "\n",
    "2. How high-quality are the edges that connect two projects by the proxy of contributor collaboration? If the correspondence is mostly in issue threads, for instance, these lower-impact edges insinuate communication, but don't directly imply technical collaboration or idea sharing.\n",
    "\n",
    "    2.1. If we track this network over time, we could identify a new project that has a high existing-contributor migration signal. This new project, which is inheriting interest from existing contributors, could be very interesting in its ecosystem. We could identify this project by considering anomylous edge creation. \n",
    "\n",
    "\n",
    "3. How strong are project walls? e.g. to what extent do contributors, when clustered empirically, map to a single project versus a cluster that represents multiple projects? If an unsupervised 'n' clustering on the network of 'n' projects yields weak overlap, or significantly better clustering for 'n-m' clusters, this suggests that the collaboration space is in a higher-level embedding (to abuse the term) than repo-level."
   ]
  },
  {
   "cell_type": "code",
   "execution_count": null,
   "metadata": {},
   "outputs": [],
   "source": []
  }
 ],
 "metadata": {
  "kernelspec": {
   "display_name": "Python 3 (ipykernel)",
   "language": "python",
   "name": "python3"
  },
  "language_info": {
   "codemirror_mode": {
    "name": "ipython",
    "version": 3
   },
   "file_extension": ".py",
   "mimetype": "text/x-python",
   "name": "python",
   "nbconvert_exporter": "python",
   "pygments_lexer": "ipython3",
   "version": "3.12.12"
  }
 },
 "nbformat": 4,
 "nbformat_minor": 4
}
